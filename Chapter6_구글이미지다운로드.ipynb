{
 "cells": [
  {
   "cell_type": "markdown",
   "id": "d4fb3969",
   "metadata": {},
   "source": [
    "# 6-1 셀레니움 설치 및 드라이브 불러오기"
   ]
  },
  {
   "cell_type": "code",
   "execution_count": 2,
   "id": "2d750593",
   "metadata": {},
   "outputs": [],
   "source": [
    "# ! pip install selenium"
   ]
  },
  {
   "cell_type": "code",
   "execution_count": 3,
   "id": "711ebe53",
   "metadata": {},
   "outputs": [],
   "source": [
    "# ! pip install webdriver-manager"
   ]
  },
  {
   "cell_type": "code",
   "execution_count": 1,
   "id": "c0bd4555",
   "metadata": {},
   "outputs": [],
   "source": [
    "from selenium import webdriver\n",
    "from selenium.webdriver.chrome.service import Service\n",
    "from webdriver_manager.chrome import ChromeDriverManager\n",
    "from selenium.webdriver.common.by import By\n",
    "\n",
    "###################\n",
    "from bs4 import BeautifulSoup\n",
    "import urllib.request\n",
    "import pandas as pd\n",
    "####################\n",
    "\n",
    "import warnings\n",
    "warnings.filterwarnings(\"ignore\")"
   ]
  },
  {
   "cell_type": "code",
   "execution_count": 50,
   "id": "aaa513db",
   "metadata": {},
   "outputs": [
    {
     "name": "stderr",
     "output_type": "stream",
     "text": [
      "\n",
      "\n",
      "====== WebDriver manager ======\n",
      "Current google-chrome version is 99.0.4844\n",
      "Get LATEST chromedriver version for 99.0.4844 google-chrome\n",
      "Driver [C:\\Users\\han19\\.wdm\\drivers\\chromedriver\\win32\\99.0.4844.51\\chromedriver.exe] found in cache\n"
     ]
    }
   ],
   "source": [
    "# driver를 설치하여 열기\n",
    "driver = webdriver.Chrome(ChromeDriverManager().install())"
   ]
  },
  {
   "cell_type": "code",
   "execution_count": 53,
   "id": "45f06e56",
   "metadata": {},
   "outputs": [],
   "source": [
    "# 설치된 driver를 열기\n",
    "s = Service(\"driver/chromedriver.exe\")\n",
    "driver = webdriver.Chrome(service=s)"
   ]
  },
  {
   "cell_type": "markdown",
   "id": "5ad11ad0",
   "metadata": {},
   "source": [
    "# 6-2 셀레니움 사용법 익히기"
   ]
  },
  {
   "cell_type": "code",
   "execution_count": 10,
   "id": "f50591d9",
   "metadata": {},
   "outputs": [],
   "source": [
    "# Window 창을 최대화 \n",
    "driver.maximize_window()"
   ]
  },
  {
   "cell_type": "code",
   "execution_count": 54,
   "id": "8ba26920",
   "metadata": {},
   "outputs": [],
   "source": [
    "# Url 주소를 가져와 이동\n",
    "url = \"https://www.google.co.kr/imghp?hl=ko\"\n",
    "driver.get(url)"
   ]
  },
  {
   "cell_type": "markdown",
   "id": "c462e243",
   "metadata": {},
   "source": [
    "## 키보드 이벤트"
   ]
  },
  {
   "cell_type": "code",
   "execution_count": 40,
   "id": "fc3a3a63",
   "metadata": {},
   "outputs": [],
   "source": [
    "driver.find_element_by_xpath('//*[@id=\"sbtc\"]/div/div[2]/input').send_keys('서울')"
   ]
  },
  {
   "cell_type": "code",
   "execution_count": 16,
   "id": "b6976ec4",
   "metadata": {},
   "outputs": [],
   "source": [
    "driver.find_element_by_xpath('//*[@id=\"sbtc\"]/div/div[2]/input').send_keys('지하철')"
   ]
  },
  {
   "cell_type": "code",
   "execution_count": 17,
   "id": "83f41961",
   "metadata": {},
   "outputs": [],
   "source": [
    "driver.find_element_by_xpath('//*[@id=\"sbtc\"]/div/div[2]/input').send_keys('노선도')"
   ]
  },
  {
   "cell_type": "markdown",
   "id": "9f878ec3",
   "metadata": {},
   "source": [
    "## 마우스 이벤트"
   ]
  },
  {
   "cell_type": "code",
   "execution_count": 41,
   "id": "5a8319c5",
   "metadata": {},
   "outputs": [],
   "source": [
    "driver.find_element_by_xpath('//*[@id=\"sbtc\"]/button').click()"
   ]
  },
  {
   "cell_type": "markdown",
   "id": "cba8416a",
   "metadata": {},
   "source": [
    "## 스크롤 이벤트"
   ]
  },
  {
   "cell_type": "code",
   "execution_count": 42,
   "id": "ba885fdf",
   "metadata": {},
   "outputs": [
    {
     "data": {
      "text/plain": [
       "0"
      ]
     },
     "execution_count": 42,
     "metadata": {},
     "output_type": "execute_result"
    }
   ],
   "source": [
    "# 현재 스크롤 위치\n",
    "driver.execute_script(\"return window.pageYOffset\")"
   ]
  },
  {
   "cell_type": "code",
   "execution_count": 43,
   "id": "14c17a56",
   "metadata": {},
   "outputs": [
    {
     "data": {
      "text/plain": [
       "3257"
      ]
     },
     "execution_count": 43,
     "metadata": {},
     "output_type": "execute_result"
    }
   ],
   "source": [
    "# 가장 밑에 스크롤 위치\n",
    "driver.execute_script(\"return document.body.scrollHeight\")"
   ]
  },
  {
   "cell_type": "code",
   "execution_count": 27,
   "id": "bc52c15b",
   "metadata": {},
   "outputs": [],
   "source": [
    "# 0에서 3872 이동\n",
    "driver.execute_script(\"window.scrollTo(0,3872);\")"
   ]
  },
  {
   "cell_type": "code",
   "execution_count": 28,
   "id": "bb4302e3",
   "metadata": {},
   "outputs": [
    {
     "data": {
      "text/plain": [
       "3872"
      ]
     },
     "execution_count": 28,
     "metadata": {},
     "output_type": "execute_result"
    }
   ],
   "source": [
    "# 현재 스크롤 위치\n",
    "driver.execute_script(\"return window.pageYOffset\")"
   ]
  },
  {
   "cell_type": "markdown",
   "id": "ddd4ee6a",
   "metadata": {},
   "source": [
    "# 6-3 구글 이미지 스크롤 내리는 함수 만들기"
   ]
  },
  {
   "cell_type": "markdown",
   "id": "007f628f",
   "metadata": {},
   "source": [
    "## For문을 활용한 스크롤 내리기"
   ]
  },
  {
   "cell_type": "code",
   "execution_count": 45,
   "id": "ade304b0",
   "metadata": {},
   "outputs": [],
   "source": [
    "import time \n",
    "for i in range(6):\n",
    "    # 현재 스크롤 위치\n",
    "    initial_page = driver.execute_script(\"return window.pageYOffset\")\n",
    "    # 맨 마지막 스크롤 위치 \n",
    "    last_page = driver.execute_script(\"return document.body.scrollHeight\")\n",
    "    # 스크롤 이동 \n",
    "    driver.execute_script(\"window.scrollTo(\"+str(initial_page)+\",\"+str(last_page)+\");\")\n",
    "    time.sleep(2.0) # 2.0 휴식 -> 로딩타임을 위해서"
   ]
  },
  {
   "cell_type": "code",
   "execution_count": 44,
   "id": "c8083aec",
   "metadata": {},
   "outputs": [],
   "source": [
    "# 결과 더보기 클릭\n",
    "driver.find_element_by_xpath('//*[@id=\"islmp\"]/div/div/div/div[1]/div[2]/div[2]/input').click()"
   ]
  },
  {
   "cell_type": "code",
   "execution_count": 82,
   "id": "e21a8460",
   "metadata": {},
   "outputs": [],
   "source": [
    "def scroll_down():\n",
    "    for i in range(6):\n",
    "        # 현재 스크롤 위치\n",
    "        initial_page = driver.execute_script(\"return window.pageYOffset\")\n",
    "        # 맨 마지막 스크롤 위치 \n",
    "        last_page = driver.execute_script(\"return document.body.scrollHeight\")\n",
    "        # 스크롤 이동 \n",
    "        driver.execute_script(\"window.scrollTo(\"+str(initial_page)+\",\"+str(last_page)+\");\")\n",
    "        time.sleep(1.0) # 2.0 휴식 -> 로딩타임을 위해서"
   ]
  },
  {
   "cell_type": "markdown",
   "id": "5e90639b",
   "metadata": {},
   "source": [
    "# 6-4 이미지 소스 찾아서 저장하기"
   ]
  },
  {
   "cell_type": "code",
   "execution_count": 32,
   "id": "48eaac5e",
   "metadata": {},
   "outputs": [],
   "source": [
    "soup = BeautifulSoup(driver.page_source, \"html.parser\")"
   ]
  },
  {
   "cell_type": "code",
   "execution_count": 38,
   "id": "08f63749",
   "metadata": {},
   "outputs": [],
   "source": [
    "img = soup.find(\"div\",\"islrc\").find_all('img')[0]['src']"
   ]
  },
  {
   "cell_type": "code",
   "execution_count": 46,
   "id": "5404e935",
   "metadata": {},
   "outputs": [
    {
     "data": {
      "text/plain": [
       "('seoul01.jpg', <email.message.Message at 0x17e9ce9faf0>)"
      ]
     },
     "execution_count": 46,
     "metadata": {},
     "output_type": "execute_result"
    }
   ],
   "source": [
    "import urllib.request\n",
    "urllib.request.urlretrieve(img,'seoul01.jpg')"
   ]
  },
  {
   "cell_type": "code",
   "execution_count": 56,
   "id": "28e97f14",
   "metadata": {},
   "outputs": [],
   "source": [
    "import os \n",
    "os.makedirs('강아지')"
   ]
  },
  {
   "cell_type": "markdown",
   "id": "7b3fd682",
   "metadata": {},
   "source": [
    "# 6-5 하나의 함수로 묶어서 정리하기"
   ]
  },
  {
   "cell_type": "code",
   "execution_count": 86,
   "id": "34ffbab6",
   "metadata": {},
   "outputs": [],
   "source": [
    "def image_downloader():\n",
    "    # Url 주소를 가져와 이동\n",
    "    url = \"https://www.google.co.kr/imghp?hl=ko\"\n",
    "    driver.get(url)\n",
    "    keyword = input(\"다운받을 이미지 이름을 입력해주세요. \")\n",
    "    driver.find_element_by_xpath('//*[@id=\"sbtc\"]/div/div[2]/input').send_keys(keyword)\n",
    "    driver.find_element_by_xpath('//*[@id=\"sbtc\"]/button').click()\n",
    "    scroll_down()\n",
    "    # 결과 더보기\n",
    "#     driver.find_element_by_xpath('//*[@id=\"islmp\"]/div/div/div/div[1]/div[2]/div[2]/input').click()\n",
    "#     scroll_down()\n",
    "    soup = BeautifulSoup(driver.page_source, \"html.parser\")\n",
    "    img_list = []\n",
    "    for i in range(len(soup.find(\"div\",\"islrc\").find_all('img'))):\n",
    "        print(i)\n",
    "        img_list.append(soup.find(\"div\",\"islrc\").find_all('img')[i]['src'])\n",
    "    print(\"현재 이미지가 {}개 있습니다.\".format(len(img_list)))\n",
    "    num = int(input(\"다운받을 이미지 개수를 입력해주세요. \"))\n",
    "    os.makedirs(keyword)\n",
    "    for i in range(num):\n",
    "        url = img_list[i]\n",
    "        urllib.request.urlretrieve(url,keyword+'/'+keyword+str(i)+'.jpg')\n",
    "    print(\"다운이 완료되었습니다.\")"
   ]
  }
 ],
 "metadata": {
  "kernelspec": {
   "display_name": "Python 3 (ipykernel)",
   "language": "python",
   "name": "python3"
  },
  "language_info": {
   "codemirror_mode": {
    "name": "ipython",
    "version": 3
   },
   "file_extension": ".py",
   "mimetype": "text/x-python",
   "name": "python",
   "nbconvert_exporter": "python",
   "pygments_lexer": "ipython3",
   "version": "3.9.7"
  }
 },
 "nbformat": 4,
 "nbformat_minor": 5
}
