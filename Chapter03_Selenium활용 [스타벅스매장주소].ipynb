{
 "cells": [
  {
   "cell_type": "markdown",
   "id": "d8a1887d",
   "metadata": {},
   "source": [
    "# 셀레니움 활용하기"
   ]
  },
  {
   "cell_type": "code",
   "execution_count": 5,
   "id": "e61921be",
   "metadata": {},
   "outputs": [],
   "source": [
    "from bs4 import BeautifulSoup\n",
    "from selenium import webdriver\n",
    "import urllib.request\n",
    "import pandas as pd\n",
    "\n",
    "import warnings\n",
    "warnings.filterwarnings(\"ignore\")"
   ]
  },
  {
   "cell_type": "code",
   "execution_count": 11,
   "id": "a0039931",
   "metadata": {},
   "outputs": [],
   "source": [
    "# 웹드라이브로 크롬브라우즈 띄운다.\n",
    "driver_path = \"driver/chromedriver.exe\"\n",
    "driver = webdriver.Chrome(executable_path=driver_path)"
   ]
  },
  {
   "cell_type": "code",
   "execution_count": 12,
   "id": "c7981e88",
   "metadata": {},
   "outputs": [],
   "source": [
    "url_page = \"https://www.starbucks.co.kr/store/store_map.do\"\n",
    "driver.get(url_page)\n",
    "soup = BeautifulSoup(driver.page_source, \"html.parser\")"
   ]
  },
  {
   "cell_type": "markdown",
   "id": "1fbf0a42",
   "metadata": {},
   "source": [
    "# 스타벅스 매장명/매장주소 데이터화"
   ]
  },
  {
   "cell_type": "code",
   "execution_count": 13,
   "id": "66e0e302",
   "metadata": {},
   "outputs": [],
   "source": [
    "# 서울이라고 키보드 입력하기\n",
    "driver.find_element_by_xpath('//*[@id=\"quickSearchText\"]').send_keys(\"서울\")"
   ]
  },
  {
   "cell_type": "code",
   "execution_count": 14,
   "id": "856f65a7",
   "metadata": {},
   "outputs": [],
   "source": [
    "# 특정부분 마우스 클릭하기\n",
    "driver.find_element_by_xpath('//*[@id=\"container\"]/div/form/fieldset/div/section/article[1]/article/header[2]/h3/a').click()"
   ]
  },
  {
   "cell_type": "code",
   "execution_count": 15,
   "id": "efdf7177",
   "metadata": {},
   "outputs": [],
   "source": [
    "driver.find_element_by_xpath('//*[@id=\"container\"]/div/form/fieldset/div/section/ \\\n",
    "                             article[1]/article/article[2]/div[1]/div[2]/ul/li[1]/a').click()"
   ]
  },
  {
   "cell_type": "code",
   "execution_count": 16,
   "id": "5265d0bf",
   "metadata": {},
   "outputs": [],
   "source": [
    "driver.find_element_by_xpath('//*[@id=\"mCSB_2_container\"]/ul/li[1]/a').click()"
   ]
  },
  {
   "cell_type": "code",
   "execution_count": 17,
   "id": "814d63cd",
   "metadata": {},
   "outputs": [],
   "source": [
    "soup = BeautifulSoup(driver.page_source, \"html.parser\")"
   ]
  },
  {
   "cell_type": "code",
   "execution_count": 18,
   "id": "c295da5c",
   "metadata": {},
   "outputs": [
    {
     "data": {
      "text/plain": [
       "<li class=\"quickResultLstCon\" data-code=\"3979\" data-hlytag=\"null\" data-index=\"0\" data-lat=\"37.598934\" data-long=\"126.8924129\" data-name=\"고양향동\" data-storecd=\"1784\" style=\"background:#fff\"> <strong data-my_siren_order_store_yn=\"N\" data-name=\"고양향동\" data-store=\"1784\" data-yn=\"N\">고양향동  </strong> <p class=\"result_details\">경기도 고양시 덕양구 꽃마을로 4 (향동동)<br/>1522-3232</p> <i class=\"pin_general\">리저브 매장 2번</i></li>"
      ]
     },
     "execution_count": 18,
     "metadata": {},
     "output_type": "execute_result"
    }
   ],
   "source": [
    "# 정보가 담겨있는 태그 확인하기\n",
    "soup.find_all(\"li\",\"quickResultLstCon\")[0]"
   ]
  },
  {
   "cell_type": "code",
   "execution_count": 19,
   "id": "984fd86b",
   "metadata": {},
   "outputs": [
    {
     "data": {
      "text/plain": [
       "'고양향동  '"
      ]
     },
     "execution_count": 19,
     "metadata": {},
     "output_type": "execute_result"
    }
   ],
   "source": [
    "# 매장명 텍스트 가져오기\n",
    "soup.find_all(\"li\",\"quickResultLstCon\")[0].find(\"strong\").text"
   ]
  },
  {
   "cell_type": "code",
   "execution_count": 20,
   "id": "e16f7cd2",
   "metadata": {},
   "outputs": [
    {
     "data": {
      "text/plain": [
       "'경기도 고양시 덕양구 꽃마을로 4 (향동동)1522-3232'"
      ]
     },
     "execution_count": 20,
     "metadata": {},
     "output_type": "execute_result"
    }
   ],
   "source": [
    "# 주소 텍스트 가져오기\n",
    "soup.find_all(\"li\",\"quickResultLstCon\")[0].find(\"p\").text"
   ]
  },
  {
   "cell_type": "code",
   "execution_count": 21,
   "id": "5c2a5d2e",
   "metadata": {},
   "outputs": [],
   "source": [
    "# 매장명과 주소를 담을 빈 리스트 생성\n",
    "name_list = []\n",
    "address_list = []\n",
    "\n",
    "temp = soup.find_all(\"li\",\"quickResultLstCon\")\n",
    "\n",
    "for i in range(len(temp)):\n",
    "    name_list.append(temp[i].find(\"strong\").text)\n",
    "    address_list.append(temp[i].find(\"p\").text)"
   ]
  },
  {
   "cell_type": "code",
   "execution_count": 22,
   "id": "6dafb7c2",
   "metadata": {},
   "outputs": [
    {
     "data": {
      "text/html": [
       "<div>\n",
       "<style scoped>\n",
       "    .dataframe tbody tr th:only-of-type {\n",
       "        vertical-align: middle;\n",
       "    }\n",
       "\n",
       "    .dataframe tbody tr th {\n",
       "        vertical-align: top;\n",
       "    }\n",
       "\n",
       "    .dataframe thead th {\n",
       "        text-align: right;\n",
       "    }\n",
       "</style>\n",
       "<table border=\"1\" class=\"dataframe\">\n",
       "  <thead>\n",
       "    <tr style=\"text-align: right;\">\n",
       "      <th></th>\n",
       "      <th>매장명</th>\n",
       "      <th>주소</th>\n",
       "    </tr>\n",
       "  </thead>\n",
       "  <tbody>\n",
       "    <tr>\n",
       "      <th>0</th>\n",
       "      <td>고양향동</td>\n",
       "      <td>경기도 고양시 덕양구 꽃마을로 4 (향동동)1522-3232</td>\n",
       "    </tr>\n",
       "    <tr>\n",
       "      <th>1</th>\n",
       "      <td>상암MBC</td>\n",
       "      <td>서울특별시 마포구 성암로 267 (상암동)1522-3232</td>\n",
       "    </tr>\n",
       "    <tr>\n",
       "      <th>2</th>\n",
       "      <td>상암사보이시티</td>\n",
       "      <td>서울특별시 마포구 월드컵북로54길 17 (상암동)1522-3232</td>\n",
       "    </tr>\n",
       "    <tr>\n",
       "      <th>3</th>\n",
       "      <td>북가좌DT</td>\n",
       "      <td>서울특별시 서대문구 응암로 85 (북가좌동)1522-3232</td>\n",
       "    </tr>\n",
       "    <tr>\n",
       "      <th>4</th>\n",
       "      <td>상암YTN</td>\n",
       "      <td>서울특별시 마포구 상암산로 76 (상암동)1522-3232</td>\n",
       "    </tr>\n",
       "    <tr>\n",
       "      <th>...</th>\n",
       "      <td>...</td>\n",
       "      <td>...</td>\n",
       "    </tr>\n",
       "    <tr>\n",
       "      <th>575</th>\n",
       "      <td>사가정역</td>\n",
       "      <td>서울특별시 중랑구 면목로 3101522-3232</td>\n",
       "    </tr>\n",
       "    <tr>\n",
       "      <th>576</th>\n",
       "      <td>상봉역</td>\n",
       "      <td>서울특별시 중랑구 망우로 307 (상봉동)1522-3232</td>\n",
       "    </tr>\n",
       "    <tr>\n",
       "      <th>577</th>\n",
       "      <td>묵동이마트</td>\n",
       "      <td>서울특별시 중랑구 동일로 932 (묵동, 묵동자이아파트) (묵동이마트 B1층)152...</td>\n",
       "    </tr>\n",
       "    <tr>\n",
       "      <th>578</th>\n",
       "      <td>묵동</td>\n",
       "      <td>서울특별시 중랑구 동일로 952 (묵동, 로프트원 태릉입구역) 1층1522-3232</td>\n",
       "    </tr>\n",
       "    <tr>\n",
       "      <th>579</th>\n",
       "      <td>중화역</td>\n",
       "      <td>서울특별시 중랑구 봉화산로 35 1,2층1522-3232</td>\n",
       "    </tr>\n",
       "  </tbody>\n",
       "</table>\n",
       "<p>580 rows × 2 columns</p>\n",
       "</div>"
      ],
      "text/plain": [
       "           매장명                                                 주소\n",
       "0       고양향동                    경기도 고양시 덕양구 꽃마을로 4 (향동동)1522-3232\n",
       "1      상암MBC                     서울특별시 마포구 성암로 267 (상암동)1522-3232\n",
       "2    상암사보이시티                 서울특별시 마포구 월드컵북로54길 17 (상암동)1522-3232\n",
       "3      북가좌DT                    서울특별시 서대문구 응암로 85 (북가좌동)1522-3232\n",
       "4      상암YTN                     서울특별시 마포구 상암산로 76 (상암동)1522-3232\n",
       "..         ...                                                ...\n",
       "575     사가정역                           서울특별시 중랑구 면목로 3101522-3232\n",
       "576      상봉역                     서울특별시 중랑구 망우로 307 (상봉동)1522-3232\n",
       "577    묵동이마트    서울특별시 중랑구 동일로 932 (묵동, 묵동자이아파트) (묵동이마트 B1층)152...\n",
       "578       묵동       서울특별시 중랑구 동일로 952 (묵동, 로프트원 태릉입구역) 1층1522-3232\n",
       "579      중화역                      서울특별시 중랑구 봉화산로 35 1,2층1522-3232\n",
       "\n",
       "[580 rows x 2 columns]"
      ]
     },
     "execution_count": 22,
     "metadata": {},
     "output_type": "execute_result"
    }
   ],
   "source": [
    "df = pd.DataFrame({\"매장명\":name_list,\"주소\":address_list})\n",
    "df"
   ]
  },
  {
   "cell_type": "code",
   "execution_count": null,
   "id": "ca4646c8",
   "metadata": {},
   "outputs": [],
   "source": []
  }
 ],
 "metadata": {
  "kernelspec": {
   "display_name": "Python 3 (ipykernel)",
   "language": "python",
   "name": "python3"
  },
  "language_info": {
   "codemirror_mode": {
    "name": "ipython",
    "version": 3
   },
   "file_extension": ".py",
   "mimetype": "text/x-python",
   "name": "python",
   "nbconvert_exporter": "python",
   "pygments_lexer": "ipython3",
   "version": "3.9.7"
  }
 },
 "nbformat": 4,
 "nbformat_minor": 5
}
