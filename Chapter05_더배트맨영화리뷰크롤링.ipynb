{
 "cells": [
  {
   "cell_type": "markdown",
   "metadata": {},
   "source": [
    "# 5-1 HTML 태그 및 속성 값 이해를 위한 간단한 웹페이지 제작"
   ]
  },
  {
   "cell_type": "markdown",
   "metadata": {},
   "source": [
    "https://hanbi-kim.github.io/TextMining/web.html"
   ]
  },
  {
   "cell_type": "markdown",
   "metadata": {},
   "source": [
    "# 5-2 제작한 웹 페이지 크롤링하기"
   ]
  },
  {
   "cell_type": "code",
   "execution_count": 1,
   "metadata": {},
   "outputs": [],
   "source": [
    "# 라이브러리 불러오기\n",
    "from bs4 import BeautifulSoup \n",
    "import requests"
   ]
  },
  {
   "cell_type": "code",
   "execution_count": 2,
   "metadata": {},
   "outputs": [],
   "source": [
    "# url안에 html 가져오기\n",
    "r = requests.get('https://hanbi-kim.github.io/TextMining/web.html')"
   ]
  },
  {
   "cell_type": "code",
   "execution_count": 3,
   "metadata": {},
   "outputs": [],
   "source": [
    "# text를 html 포멧에 맞게 변경\n",
    "soup = BeautifulSoup(r.text, 'html.parser')"
   ]
  },
  {
   "cell_type": "code",
   "execution_count": 4,
   "metadata": {},
   "outputs": [
    {
     "data": {
      "text/plain": [
       "김한비님이 모두에게 07:30 PM\n",
       "<html>\n",
       "<head>\n",
       "<title>웹 프로그래밍</title>\n",
       "<style>\n",
       ".div01{\n",
       "border: 2px solid blue;\n",
       "width: 500px;\n",
       "height: 200px;\n",
       "}\n",
       "\n",
       "#id01{\n",
       "background-color: #ff0088;\n",
       "}\n",
       "</style>\n",
       "</head>\n",
       "<body>\n",
       "이것은 웹 프로그래밍 연습입니다. \n",
       "\n",
       "<h1>이것은 제목1 입니다.</h1>\n",
       "<h2>이것은 제목2 입니다.</h2>\n",
       "<h3>이것은 제목3 입니다.</h3>\n",
       "<h4>이것은 제목4 입니다.</h4>\n",
       "<p>이것은 문단입니다.</p>\n",
       "<a href=\"http://www.naver.com\">구글 링크</a> <br/>\n",
       "<img src=\"https://pds.joongang.co.kr/news/component/htmlphoto_mmdata/201901/20/28017477-0365-4a43-b546-008b603da621.jpg\"/>\n",
       "<br/><br/><br/><br/>\n",
       "<div style=\"border : 1px solid red; width:400px; height:150px; \">이것은 div 입니다.</div>\n",
       "<div style=\"border : 1px solid red; width:400px; height:150px; \">이것은 div 입니다.</div>\n",
       "<div class=\"div01\">이것은 div 입니다.</div>\n",
       "<div class=\"div01\">이것은 클래스가 지정된 div 입니다</div>\n",
       "<div id=\"id01\">이것은 아이디가 지정된 div 입니다</div>\n",
       "<br/><br/><br/><br/>\n",
       "</body>\n",
       "</html>"
      ]
     },
     "execution_count": 4,
     "metadata": {},
     "output_type": "execute_result"
    }
   ],
   "source": [
    "soup"
   ]
  },
  {
   "cell_type": "code",
   "execution_count": 6,
   "metadata": {},
   "outputs": [
    {
     "data": {
      "text/plain": [
       "'이것은 제목1 입니다.'"
      ]
     },
     "execution_count": 6,
     "metadata": {},
     "output_type": "execute_result"
    }
   ],
   "source": [
    "# h1 태그를 찾고 해당 태그의 텍스트값 가져오기\n",
    "soup.find(\"h1\").text"
   ]
  },
  {
   "cell_type": "code",
   "execution_count": 7,
   "metadata": {},
   "outputs": [
    {
     "data": {
      "text/plain": [
       "[<div style=\"border : 1px solid red; width:400px; height:150px; \">이것은 div 입니다.</div>,\n",
       " <div style=\"border : 1px solid red; width:400px; height:150px; \">이것은 div 입니다.</div>,\n",
       " <div class=\"div01\">이것은 div 입니다.</div>,\n",
       " <div class=\"div01\">이것은 클래스가 지정된 div 입니다</div>,\n",
       " <div id=\"id01\">이것은 아이디가 지정된 div 입니다</div>]"
      ]
     },
     "execution_count": 7,
     "metadata": {},
     "output_type": "execute_result"
    }
   ],
   "source": [
    "# 모든 div 태그 찾기\n",
    "soup.find_all(\"div\")"
   ]
  },
  {
   "cell_type": "code",
   "execution_count": 14,
   "metadata": {},
   "outputs": [
    {
     "data": {
      "text/plain": [
       "[<div class=\"div01\">이것은 div 입니다.</div>,\n",
       " <div class=\"div01\">이것은 클래스가 지정된 div 입니다</div>]"
      ]
     },
     "execution_count": 14,
     "metadata": {},
     "output_type": "execute_result"
    }
   ],
   "source": [
    "# div 태그를 class가 div01 인것을 모두 찾기\n",
    "soup.find_all(\"div\",'div01')"
   ]
  },
  {
   "cell_type": "code",
   "execution_count": 15,
   "metadata": {},
   "outputs": [
    {
     "data": {
      "text/plain": [
       "[<div id=\"id01\">이것은 아이디가 지정된 div 입니다</div>]"
      ]
     },
     "execution_count": 15,
     "metadata": {},
     "output_type": "execute_result"
    }
   ],
   "source": [
    "# div 태그중 id가 id01 인 것을 모두 찾기\n",
    "soup.find_all(\"div\",id='id01')"
   ]
  },
  {
   "cell_type": "code",
   "execution_count": 18,
   "metadata": {},
   "outputs": [
    {
     "data": {
      "text/plain": [
       "['div01']"
      ]
     },
     "execution_count": 18,
     "metadata": {},
     "output_type": "execute_result"
    }
   ],
   "source": [
    "# div를 모두 찾고, 세번쨰 div 태그의 class 값 가져오기\n",
    "soup.find_all(\"div\")[2]['class']"
   ]
  },
  {
   "cell_type": "markdown",
   "metadata": {},
   "source": [
    "# 네이버 영화 평점/리뷰 "
   ]
  },
  {
   "cell_type": "markdown",
   "metadata": {},
   "source": [
    "# 5-3. 더베트맨 영화 평점/리뷰 크롤링"
   ]
  },
  {
   "cell_type": "code",
   "execution_count": 2,
   "metadata": {},
   "outputs": [],
   "source": [
    "# url안에 html 가져오기\n",
    "r = requests.get('https://movie.naver.com/movie/point/af/list.naver?st=mcode&sword=154282&target=after&page=1')\n",
    "soup = BeautifulSoup(r.text, 'html.parser')"
   ]
  },
  {
   "cell_type": "code",
   "execution_count": 25,
   "metadata": {},
   "outputs": [],
   "source": [
    "# 영화 리뷰/평점 정보가 tbody 라는 태그안에 들어있음으로, 이를 table이란 변수에 저장\n",
    "table = soup.find(\"tbody\")"
   ]
  },
  {
   "cell_type": "code",
   "execution_count": 33,
   "metadata": {},
   "outputs": [
    {
     "data": {
      "text/plain": [
       "'10'"
      ]
     },
     "execution_count": 33,
     "metadata": {},
     "output_type": "execute_result"
    }
   ],
   "source": [
    "# 해당 테이블 변수의 tr에 각각의 정보가 들어있고, em 태그안에 평점 점수가 들어있음\n",
    "table.find_all(\"tr\")[0].find(\"em\").text"
   ]
  },
  {
   "cell_type": "code",
   "execution_count": 34,
   "metadata": {},
   "outputs": [
    {
     "name": "stdout",
     "output_type": "stream",
     "text": [
      "10\n",
      "10\n",
      "10\n",
      "8\n",
      "2\n",
      "10\n",
      "9\n",
      "8\n",
      "10\n",
      "10\n"
     ]
    }
   ],
   "source": [
    "# for문을 활용하여 모든 tr 개수에 맞게 평점 정보가 잘 들어있는지 확인하기\n",
    "for i in range(len(table.find_all(\"tr\"))):\n",
    "    print(int(table.find_all(\"tr\")[i].find(\"em\").text))"
   ]
  },
  {
   "cell_type": "code",
   "execution_count": 39,
   "metadata": {},
   "outputs": [],
   "source": [
    "# review_point라는 빈 리스트를 만들고 안에 리뷰 평점 점수를 담아줌\n",
    "review_point = []\n",
    "for i in range(len(table.find_all(\"tr\"))):\n",
    "    review_point.append(int(table.find_all(\"tr\")[i].find(\"em\").text))"
   ]
  },
  {
   "cell_type": "code",
   "execution_count": 40,
   "metadata": {},
   "outputs": [
    {
     "data": {
      "text/plain": [
       "[10, 10, 10, 8, 2, 10, 9, 8, 10, 10]"
      ]
     },
     "execution_count": 40,
     "metadata": {},
     "output_type": "execute_result"
    }
   ],
   "source": [
    "# 현재 페이지에 리뷰 평점 점수가 알맞게 담겨진 것을 확인\n",
    "review_point"
   ]
  },
  {
   "cell_type": "code",
   "execution_count": 46,
   "metadata": {},
   "outputs": [
    {
     "data": {
      "text/plain": [
       "<td class=\"title\">\n",
       "<a class=\"movie color_b\" href=\"/movie/bi/mi/basic.naver?code=154282\">더 배트맨</a>\n",
       "<div class=\"list_netizen_score\">\n",
       "<span class=\"st_off\"><span class=\"st_on\" style=\"width:100%\">별점 - 총 10점 중</span></span><em>10</em>\n",
       "</div>\n",
       "<br/>진정한 배트맨다운 영화 정말 좋았음!!! \n",
       "\t\t\t\n",
       "\t\t\t\n",
       "\t\t\t\n",
       "\t\t\t\t\n",
       "\t\t\t\t\n",
       "\t\t\t\t\n",
       "\t\t\t\t<a class=\"report\" href=\"#\" onclick=\"report('rick****', 'VDmAzQcVBGr6yLJHEChZ4alzOBT6yqFetA8OcundGKA=', '진정한 배트맨다운 영화 정말 좋았음!!!', '17993847', 'point_after');\" style=\"color:#8F8F8F\" title=\"새 창\">신고</a>\n",
       "</td>"
      ]
     },
     "execution_count": 46,
     "metadata": {},
     "output_type": "execute_result"
    }
   ],
   "source": [
    "# 리뷰를 가져오기 위해, tr 태그 안에 td태그의 class 명이 title 인것을 가져옴\n",
    "table.find_all(\"tr\")[0].find(\"td\",\"title\")"
   ]
  },
  {
   "cell_type": "code",
   "execution_count": 51,
   "metadata": {},
   "outputs": [
    {
     "data": {
      "text/plain": [
       "'진정한 배트맨다운 영화 정말 좋았음!!! '"
      ]
     },
     "execution_count": 51,
     "metadata": {},
     "output_type": "execute_result"
    }
   ],
   "source": [
    "# 텍스트만 추출하기 위해, \\t를 제거하고, \\n\\n을 기준으로 나눈 후, 세번째 아이템 선택\n",
    "table.find_all(\"tr\")[0].find(\"td\",\"title\").text.replace(\"\\t\",'').split(\"\\n\\n\")[2]"
   ]
  },
  {
   "cell_type": "code",
   "execution_count": 52,
   "metadata": {},
   "outputs": [
    {
     "name": "stdout",
     "output_type": "stream",
     "text": [
      "진정한 배트맨다운 영화 정말 좋았음!!! \n",
      "베트게이의 어두운 모습을 잘 보여줬다 샐각하고 팬들을 위한 서비스 같은 작품이 아닐까. \n",
      "1. 미쟝센2. 서사적 연출3. 설득력4. OST 그리고 긴장감을 터트려주는 딱 좋은 액션신다크나이트와 견줄수 있는 수작아니, 일정파트는 이미 다크나이트를 넘음. \n",
      "재밌음 \n",
      "내 28년인생에 영화관에서보다가 존적 딱 두번인데 이게두번째임. 너무 지루하고 기승전결이 일직선이다. 불면증환자에게 추천 \n",
      "배트맨 이상의 뭔가 추리소설 한 편 본 듯한 느낌. 어떤 분은 3시간이 길었다는 평도 있었지만 내겐 3시간이 된 줄도 몰랐다! \n",
      "정말 오랜만에 배트맨을 봤습니다. \n",
      "이전과는 다른 배트맨이지만 매력있다. ost는 진국임 \n",
      "지루하다길래 걱정했는데 1도 지루하지않았고 너무 재밌었음 한번 더 보고싶은정도 \n",
      "현실적 배트맨의 서사드라마틱 전개가 굿선 과 악의 경계를 생각하게 해줌 \n"
     ]
    }
   ],
   "source": [
    "# for 문을 활용하여 현재 페이지 리뷰 정보가 잘 들어있는지 확인\n",
    "for i in range(len(table.find_all(\"tr\"))):\n",
    "    print(table.find_all(\"tr\")[i].find(\"td\",\"title\").text.replace(\"\\t\",'').split(\"\\n\\n\")[2])"
   ]
  },
  {
   "cell_type": "code",
   "execution_count": 53,
   "metadata": {},
   "outputs": [],
   "source": [
    "# review_list라는 빈 리스트를 만들고 앞선 정보를 리스트에 저장\n",
    "review_list = []\n",
    "for i in range(len(table.find_all(\"tr\"))):\n",
    "    review_list.append(table.find_all(\"tr\")[i].find(\"td\",\"title\").text.replace(\"\\t\",'').split(\"\\n\\n\")[2])"
   ]
  },
  {
   "cell_type": "code",
   "execution_count": 54,
   "metadata": {},
   "outputs": [
    {
     "data": {
      "text/plain": [
       "['진정한 배트맨다운 영화 정말 좋았음!!! ',\n",
       " '베트게이의 어두운 모습을 잘 보여줬다 샐각하고 팬들을 위한 서비스 같은 작품이 아닐까. ',\n",
       " '1. 미쟝센2. 서사적 연출3. 설득력4. OST 그리고 긴장감을 터트려주는 딱 좋은 액션신다크나이트와 견줄수 있는 수작아니, 일정파트는 이미 다크나이트를 넘음. ',\n",
       " '재밌음 ',\n",
       " '내 28년인생에 영화관에서보다가 존적 딱 두번인데 이게두번째임. 너무 지루하고 기승전결이 일직선이다. 불면증환자에게 추천 ',\n",
       " '배트맨 이상의 뭔가 추리소설 한 편 본 듯한 느낌. 어떤 분은 3시간이 길었다는 평도 있었지만 내겐 3시간이 된 줄도 몰랐다! ',\n",
       " '정말 오랜만에 배트맨을 봤습니다. ',\n",
       " '이전과는 다른 배트맨이지만 매력있다. ost는 진국임 ',\n",
       " '지루하다길래 걱정했는데 1도 지루하지않았고 너무 재밌었음 한번 더 보고싶은정도 ',\n",
       " '현실적 배트맨의 서사드라마틱 전개가 굿선 과 악의 경계를 생각하게 해줌 ']"
      ]
     },
     "execution_count": 54,
     "metadata": {},
     "output_type": "execute_result"
    }
   ],
   "source": [
    "# review_list 확인해보기\n",
    "review_list"
   ]
  },
  {
   "cell_type": "code",
   "execution_count": 55,
   "metadata": {},
   "outputs": [],
   "source": [
    "# Pandas 불러오기\n",
    "import pandas as pd"
   ]
  },
  {
   "cell_type": "code",
   "execution_count": 56,
   "metadata": {},
   "outputs": [
    {
     "data": {
      "text/html": [
       "<div>\n",
       "<style scoped>\n",
       "    .dataframe tbody tr th:only-of-type {\n",
       "        vertical-align: middle;\n",
       "    }\n",
       "\n",
       "    .dataframe tbody tr th {\n",
       "        vertical-align: top;\n",
       "    }\n",
       "\n",
       "    .dataframe thead th {\n",
       "        text-align: right;\n",
       "    }\n",
       "</style>\n",
       "<table border=\"1\" class=\"dataframe\">\n",
       "  <thead>\n",
       "    <tr style=\"text-align: right;\">\n",
       "      <th></th>\n",
       "      <th>영화 제목</th>\n",
       "      <th>영화 평점</th>\n",
       "    </tr>\n",
       "  </thead>\n",
       "  <tbody>\n",
       "    <tr>\n",
       "      <th>0</th>\n",
       "      <td>진정한 배트맨다운 영화 정말 좋았음!!!</td>\n",
       "      <td>10</td>\n",
       "    </tr>\n",
       "    <tr>\n",
       "      <th>1</th>\n",
       "      <td>베트게이의 어두운 모습을 잘 보여줬다 샐각하고 팬들을 위한 서비스 같은 작품이 아닐까.</td>\n",
       "      <td>10</td>\n",
       "    </tr>\n",
       "    <tr>\n",
       "      <th>2</th>\n",
       "      <td>1. 미쟝센2. 서사적 연출3. 설득력4. OST 그리고 긴장감을 터트려주는 딱 좋...</td>\n",
       "      <td>10</td>\n",
       "    </tr>\n",
       "    <tr>\n",
       "      <th>3</th>\n",
       "      <td>재밌음</td>\n",
       "      <td>8</td>\n",
       "    </tr>\n",
       "    <tr>\n",
       "      <th>4</th>\n",
       "      <td>내 28년인생에 영화관에서보다가 존적 딱 두번인데 이게두번째임. 너무 지루하고 기승...</td>\n",
       "      <td>2</td>\n",
       "    </tr>\n",
       "    <tr>\n",
       "      <th>5</th>\n",
       "      <td>배트맨 이상의 뭔가 추리소설 한 편 본 듯한 느낌. 어떤 분은 3시간이 길었다는 평...</td>\n",
       "      <td>10</td>\n",
       "    </tr>\n",
       "    <tr>\n",
       "      <th>6</th>\n",
       "      <td>정말 오랜만에 배트맨을 봤습니다.</td>\n",
       "      <td>9</td>\n",
       "    </tr>\n",
       "    <tr>\n",
       "      <th>7</th>\n",
       "      <td>이전과는 다른 배트맨이지만 매력있다. ost는 진국임</td>\n",
       "      <td>8</td>\n",
       "    </tr>\n",
       "    <tr>\n",
       "      <th>8</th>\n",
       "      <td>지루하다길래 걱정했는데 1도 지루하지않았고 너무 재밌었음 한번 더 보고싶은정도</td>\n",
       "      <td>10</td>\n",
       "    </tr>\n",
       "    <tr>\n",
       "      <th>9</th>\n",
       "      <td>현실적 배트맨의 서사드라마틱 전개가 굿선 과 악의 경계를 생각하게 해줌</td>\n",
       "      <td>10</td>\n",
       "    </tr>\n",
       "  </tbody>\n",
       "</table>\n",
       "</div>"
      ],
      "text/plain": [
       "                                               영화 제목  영화 평점\n",
       "0                            진정한 배트맨다운 영화 정말 좋았음!!!      10\n",
       "1  베트게이의 어두운 모습을 잘 보여줬다 샐각하고 팬들을 위한 서비스 같은 작품이 아닐까.      10\n",
       "2  1. 미쟝센2. 서사적 연출3. 설득력4. OST 그리고 긴장감을 터트려주는 딱 좋...     10\n",
       "3                                               재밌음       8\n",
       "4  내 28년인생에 영화관에서보다가 존적 딱 두번인데 이게두번째임. 너무 지루하고 기승...      2\n",
       "5  배트맨 이상의 뭔가 추리소설 한 편 본 듯한 느낌. 어떤 분은 3시간이 길었다는 평...     10\n",
       "6                                정말 오랜만에 배트맨을 봤습니다.       9\n",
       "7                     이전과는 다른 배트맨이지만 매력있다. ost는 진국임       8\n",
       "8       지루하다길래 걱정했는데 1도 지루하지않았고 너무 재밌었음 한번 더 보고싶은정도      10\n",
       "9           현실적 배트맨의 서사드라마틱 전개가 굿선 과 악의 경계를 생각하게 해줌      10"
      ]
     },
     "execution_count": 56,
     "metadata": {},
     "output_type": "execute_result"
    }
   ],
   "source": [
    "# 앞선 영화 리뷰와 평점 점수를 데이터프레임으로 만들기\n",
    "pd.DataFrame({\"영화 제목\":review_list,\"영화 평점\":review_point})"
   ]
  },
  {
   "cell_type": "markdown",
   "metadata": {},
   "source": [
    "# 5-4. 더배트맨 영화 평점/리뷰 두번째 페이지 크롤링"
   ]
  },
  {
   "cell_type": "code",
   "execution_count": 57,
   "metadata": {},
   "outputs": [],
   "source": [
    "# url안에 html 가져오기\n",
    "\n",
    "r = requests.get('https://movie.naver.com/movie/point/af/list.naver?st=mcode&sword=154282&target=after&page=2') # 뒤에 페이지 숫자 변경\n",
    "soup = BeautifulSoup(r.text, 'html.parser')\n",
    "\n",
    "table = soup.find(\"tbody\")\n",
    "\n",
    "review_point = []\n",
    "review_list = []\n",
    "\n",
    "for i in range(len(table.find_all(\"tr\"))):\n",
    "    review_point.append(int(table.find_all(\"tr\")[i].find(\"em\").text))\n",
    "    review_list.append(table.find_all(\"tr\")[i].find(\"td\",\"title\").text.replace(\"\\t\",'').split(\"\\n\\n\")[2])"
   ]
  },
  {
   "cell_type": "code",
   "execution_count": 58,
   "metadata": {},
   "outputs": [
    {
     "data": {
      "text/html": [
       "<div>\n",
       "<style scoped>\n",
       "    .dataframe tbody tr th:only-of-type {\n",
       "        vertical-align: middle;\n",
       "    }\n",
       "\n",
       "    .dataframe tbody tr th {\n",
       "        vertical-align: top;\n",
       "    }\n",
       "\n",
       "    .dataframe thead th {\n",
       "        text-align: right;\n",
       "    }\n",
       "</style>\n",
       "<table border=\"1\" class=\"dataframe\">\n",
       "  <thead>\n",
       "    <tr style=\"text-align: right;\">\n",
       "      <th></th>\n",
       "      <th>영화 제목</th>\n",
       "      <th>영화 평점</th>\n",
       "    </tr>\n",
       "  </thead>\n",
       "  <tbody>\n",
       "    <tr>\n",
       "      <th>0</th>\n",
       "      <td>지루하다길래 걱정했는데 1도 지루하지않았고 너무 재밌었음 한번 더 보고싶은정도</td>\n",
       "      <td>10</td>\n",
       "    </tr>\n",
       "    <tr>\n",
       "      <th>1</th>\n",
       "      <td>현실적 배트맨의 서사드라마틱 전개가 굿선 과 악의 경계를 생각하게 해줌</td>\n",
       "      <td>10</td>\n",
       "    </tr>\n",
       "    <tr>\n",
       "      <th>2</th>\n",
       "      <td>러닝타임이 길었지만 그래도 눈을 뗄 수 없었다</td>\n",
       "      <td>8</td>\n",
       "    </tr>\n",
       "    <tr>\n",
       "      <th>3</th>\n",
       "      <td>진짜 어둠의 멋을 아는자의 위대한 첫발</td>\n",
       "      <td>8</td>\n",
       "    </tr>\n",
       "    <tr>\n",
       "      <th>4</th>\n",
       "      <td>1.캣우먼등장은 좋았지만 키스신이 좀 억지스러웠다. 그래도 결말부분 배트맨과 캣우먼...</td>\n",
       "      <td>8</td>\n",
       "    </tr>\n",
       "    <tr>\n",
       "      <th>5</th>\n",
       "      <td>솔직히 배트맨만의 다크함과 아우라가 마블의 가벼움보다는 훨 나았어요.OST 너무 좋...</td>\n",
       "      <td>10</td>\n",
       "    </tr>\n",
       "    <tr>\n",
       "      <th>6</th>\n",
       "      <td>역대급으로 밋밋한 배트맨입니다. 현실성을 추구하고 분위기를 중시한건 알겠는데 .. ...</td>\n",
       "      <td>2</td>\n",
       "    </tr>\n",
       "    <tr>\n",
       "      <th>7</th>\n",
       "      <td>\\n신고\\n</td>\n",
       "      <td>9</td>\n",
       "    </tr>\n",
       "    <tr>\n",
       "      <th>8</th>\n",
       "      <td>올해 최고의 블록버스터 영화</td>\n",
       "      <td>8</td>\n",
       "    </tr>\n",
       "    <tr>\n",
       "      <th>9</th>\n",
       "      <td>오래간만이다제대로된 DC 영화 본 것이오늘보다 내일이 더 기대되는 배트맨</td>\n",
       "      <td>8</td>\n",
       "    </tr>\n",
       "  </tbody>\n",
       "</table>\n",
       "</div>"
      ],
      "text/plain": [
       "                                               영화 제목  영화 평점\n",
       "0       지루하다길래 걱정했는데 1도 지루하지않았고 너무 재밌었음 한번 더 보고싶은정도      10\n",
       "1           현실적 배트맨의 서사드라마틱 전개가 굿선 과 악의 경계를 생각하게 해줌      10\n",
       "2                         러닝타임이 길었지만 그래도 눈을 뗄 수 없었다       8\n",
       "3                             진짜 어둠의 멋을 아는자의 위대한 첫발       8\n",
       "4  1.캣우먼등장은 좋았지만 키스신이 좀 억지스러웠다. 그래도 결말부분 배트맨과 캣우먼...      8\n",
       "5  솔직히 배트맨만의 다크함과 아우라가 마블의 가벼움보다는 훨 나았어요.OST 너무 좋...     10\n",
       "6  역대급으로 밋밋한 배트맨입니다. 현실성을 추구하고 분위기를 중시한건 알겠는데 .. ...      2\n",
       "7                                             \\n신고\\n      9\n",
       "8                                   올해 최고의 블록버스터 영화       8\n",
       "9          오래간만이다제대로된 DC 영화 본 것이오늘보다 내일이 더 기대되는 배트맨       8"
      ]
     },
     "execution_count": 58,
     "metadata": {},
     "output_type": "execute_result"
    }
   ],
   "source": [
    "pd.DataFrame({\"영화 제목\":review_list,\"영화 평점\":review_point})"
   ]
  },
  {
   "cell_type": "markdown",
   "metadata": {},
   "source": [
    "# 5-5. 더배트맨 영화 평점/리뷰 30페이지까지 크롤링"
   ]
  },
  {
   "cell_type": "code",
   "execution_count": 3,
   "metadata": {},
   "outputs": [],
   "source": [
    "# url안에 html 가져오기\n",
    "review_point = []\n",
    "review_list = []\n",
    "\n",
    "for page in range(1,300): #뒤에 숫자만 변경해주면 됨으로 for문을 통해 1페이지 부터 30페이지 까지 설정\n",
    "    r = requests.get('https://movie.naver.com/movie/point/af/list.naver?st=mcode&sword=154282&target=after&page='+str(page))\n",
    "    # 페이지는 문자열임으로 str()을 통해 casting을 진행하여 정수형인 page를 문자열 타임으로 변환 시킨 후 합쳐주기\n",
    "    soup = BeautifulSoup(r.text, 'html.parser')\n",
    "\n",
    "    table = soup.find(\"tbody\")\n",
    "\n",
    "    for i in range(len(table.find_all(\"tr\"))):\n",
    "        review_point.append(int(table.find_all(\"tr\")[i].find(\"em\").text))\n",
    "        review_list.append(table.find_all(\"tr\")[i].find(\"td\",\"title\").text.replace(\"\\t\",'').split(\"\\n\\n\")[2])"
   ]
  },
  {
   "cell_type": "code",
   "execution_count": 5,
   "metadata": {},
   "outputs": [],
   "source": [
    "import pandas as pd\n",
    "df = pd.DataFrame({\"영화 제목\":review_list,\"영화 평점\":review_point})"
   ]
  },
  {
   "cell_type": "code",
   "execution_count": 119,
   "metadata": {},
   "outputs": [],
   "source": [
    "df.to_excel(\"dataset/더배트맨영화리뷰.xlsx\", encoding='utf-8sig')"
   ]
  },
  {
   "cell_type": "code",
   "execution_count": 6,
   "metadata": {},
   "outputs": [
    {
     "data": {
      "text/html": [
       "<div>\n",
       "<style scoped>\n",
       "    .dataframe tbody tr th:only-of-type {\n",
       "        vertical-align: middle;\n",
       "    }\n",
       "\n",
       "    .dataframe tbody tr th {\n",
       "        vertical-align: top;\n",
       "    }\n",
       "\n",
       "    .dataframe thead th {\n",
       "        text-align: right;\n",
       "    }\n",
       "</style>\n",
       "<table border=\"1\" class=\"dataframe\">\n",
       "  <thead>\n",
       "    <tr style=\"text-align: right;\">\n",
       "      <th></th>\n",
       "      <th>영화 제목</th>\n",
       "      <th>영화 평점</th>\n",
       "    </tr>\n",
       "  </thead>\n",
       "  <tbody>\n",
       "    <tr>\n",
       "      <th>0</th>\n",
       "      <td>개인적으로 예전 다크나이트가 그리웠습니다.이전 다크나이트의 특유의 분위기와 카리스마...</td>\n",
       "      <td>7</td>\n",
       "    </tr>\n",
       "    <tr>\n",
       "      <th>1</th>\n",
       "      <td>저는 개인적으로 너무 재미없게 봤어요 ㅠㅠ 계속 지루…다크나이트는 길어도 재밌게봤는...</td>\n",
       "      <td>1</td>\n",
       "    </tr>\n",
       "    <tr>\n",
       "      <th>2</th>\n",
       "      <td>노잼은 아닌데 다크나이트처럼 엄청 재밌지는 않음</td>\n",
       "      <td>8</td>\n",
       "    </tr>\n",
       "    <tr>\n",
       "      <th>3</th>\n",
       "      <td>제발 좀 빨리빨리 움직여라 말도 좀 빨리빨리하고 아오 속 터진다 진짜</td>\n",
       "      <td>1</td>\n",
       "    </tr>\n",
       "    <tr>\n",
       "      <th>4</th>\n",
       "      <td>다른건 몰라도 영상미가 정말 뛰어나서 볼 맛이나는 영화였고 스토리도 나쁘지 않았음</td>\n",
       "      <td>10</td>\n",
       "    </tr>\n",
       "    <tr>\n",
       "      <th>...</th>\n",
       "      <td>...</td>\n",
       "      <td>...</td>\n",
       "    </tr>\n",
       "    <tr>\n",
       "      <th>2985</th>\n",
       "      <td>정말 많이 재미가 없네요</td>\n",
       "      <td>1</td>\n",
       "    </tr>\n",
       "    <tr>\n",
       "      <th>2986</th>\n",
       "      <td>철학을 드러내기 보단 도시의 야경, 엔진소리, 파열음, 어둠, 음습함 같은 감각을 ...</td>\n",
       "      <td>8</td>\n",
       "    </tr>\n",
       "    <tr>\n",
       "      <th>2987</th>\n",
       "      <td>역사상 가장 아름다운 배트맨</td>\n",
       "      <td>8</td>\n",
       "    </tr>\n",
       "    <tr>\n",
       "      <th>2988</th>\n",
       "      <td>진짜 다크나이트에 견줄정도로 굿굿 ㅋㅋㅋ 3시간금방감 ㅋㅋ</td>\n",
       "      <td>10</td>\n",
       "    </tr>\n",
       "    <tr>\n",
       "      <th>2989</th>\n",
       "      <td>아쉽다... 이렇게밖에 안되나...</td>\n",
       "      <td>6</td>\n",
       "    </tr>\n",
       "  </tbody>\n",
       "</table>\n",
       "<p>2990 rows × 2 columns</p>\n",
       "</div>"
      ],
      "text/plain": [
       "                                                  영화 제목  영화 평점\n",
       "0     개인적으로 예전 다크나이트가 그리웠습니다.이전 다크나이트의 특유의 분위기와 카리스마...      7\n",
       "1     저는 개인적으로 너무 재미없게 봤어요 ㅠㅠ 계속 지루…다크나이트는 길어도 재밌게봤는...      1\n",
       "2                           노잼은 아닌데 다크나이트처럼 엄청 재밌지는 않음       8\n",
       "3               제발 좀 빨리빨리 움직여라 말도 좀 빨리빨리하고 아오 속 터진다 진짜       1\n",
       "4        다른건 몰라도 영상미가 정말 뛰어나서 볼 맛이나는 영화였고 스토리도 나쁘지 않았음      10\n",
       "...                                                 ...    ...\n",
       "2985                                     정말 많이 재미가 없네요       1\n",
       "2986  철학을 드러내기 보단 도시의 야경, 엔진소리, 파열음, 어둠, 음습함 같은 감각을 ...      8\n",
       "2987                                   역사상 가장 아름다운 배트맨       8\n",
       "2988                  진짜 다크나이트에 견줄정도로 굿굿 ㅋㅋㅋ 3시간금방감 ㅋㅋ      10\n",
       "2989                               아쉽다... 이렇게밖에 안되나...       6\n",
       "\n",
       "[2990 rows x 2 columns]"
      ]
     },
     "execution_count": 6,
     "metadata": {},
     "output_type": "execute_result"
    }
   ],
   "source": [
    "df"
   ]
  },
  {
   "cell_type": "markdown",
   "metadata": {},
   "source": [
    "# 5-6. '신고'가 포함된 부분은 제거하고 저장하기."
   ]
  },
  {
   "cell_type": "code",
   "execution_count": 121,
   "metadata": {},
   "outputs": [
    {
     "data": {
      "text/plain": [
       "'베트맨 보고나면 왜케 먹먹하냐… '"
      ]
     },
     "execution_count": 121,
     "metadata": {},
     "output_type": "execute_result"
    }
   ],
   "source": [
    "# 첫번째 영화 리뷰\n",
    "df['영화 제목'].loc[0]"
   ]
  },
  {
   "cell_type": "code",
   "execution_count": 122,
   "metadata": {},
   "outputs": [
    {
     "data": {
      "text/plain": [
       "False"
      ]
     },
     "execution_count": 122,
     "metadata": {},
     "output_type": "execute_result"
    }
   ],
   "source": [
    "# 첫번쨰 영화 리뷰에 '신고' 라는 단어가 들어있는지 확인\n",
    "'신고' in df['영화 제목'].loc[0]"
   ]
  },
  {
   "cell_type": "code",
   "execution_count": 7,
   "metadata": {},
   "outputs": [
    {
     "name": "stdout",
     "output_type": "stream",
     "text": [
      "20\n",
      "46\n",
      "58\n",
      "59\n",
      "65\n",
      "74\n",
      "89\n",
      "108\n",
      "113\n",
      "114\n",
      "135\n",
      "136\n",
      "137\n",
      "167\n",
      "180\n",
      "182\n",
      "194\n",
      "228\n",
      "237\n",
      "247\n",
      "261\n",
      "299\n",
      "366\n",
      "372\n",
      "373\n",
      "410\n",
      "416\n",
      "442\n",
      "464\n",
      "512\n",
      "529\n",
      "544\n",
      "556\n",
      "557\n",
      "621\n",
      "635\n",
      "638\n",
      "644\n",
      "650\n",
      "698\n",
      "702\n",
      "775\n",
      "784\n",
      "800\n",
      "816\n",
      "887\n",
      "893\n",
      "898\n",
      "901\n",
      "921\n",
      "980\n",
      "1009\n",
      "1031\n",
      "1040\n",
      "1041\n",
      "1073\n",
      "1082\n",
      "1113\n",
      "1146\n",
      "1167\n",
      "1172\n",
      "1180\n",
      "1204\n",
      "1211\n",
      "1220\n",
      "1231\n",
      "1237\n",
      "1241\n",
      "1263\n",
      "1267\n",
      "1307\n",
      "1334\n",
      "1339\n",
      "1346\n",
      "1451\n",
      "1478\n",
      "1523\n",
      "1541\n",
      "1543\n",
      "1546\n",
      "1609\n",
      "1622\n",
      "1669\n",
      "1677\n",
      "1684\n",
      "1688\n",
      "1704\n",
      "1710\n",
      "1735\n",
      "1755\n",
      "1761\n",
      "1768\n",
      "1782\n",
      "1784\n",
      "1895\n",
      "1920\n",
      "1958\n",
      "1966\n",
      "1977\n",
      "1998\n",
      "2014\n",
      "2022\n",
      "2030\n",
      "2042\n",
      "2052\n",
      "2122\n",
      "2141\n",
      "2146\n",
      "2173\n",
      "2205\n",
      "2243\n",
      "2295\n",
      "2354\n",
      "2362\n",
      "2404\n",
      "2416\n",
      "2419\n",
      "2477\n",
      "2513\n",
      "2557\n",
      "2568\n",
      "2579\n",
      "2609\n",
      "2648\n",
      "2678\n",
      "2701\n",
      "2704\n",
      "2711\n",
      "2778\n",
      "2793\n",
      "2798\n",
      "2833\n",
      "2886\n",
      "2887\n",
      "2905\n",
      "2932\n"
     ]
    }
   ],
   "source": [
    "# '신고' 라는 단어가 들어있는 영화 리뷰 인덱스 번호 확인\n",
    "for i in range(len(df)):\n",
    "    if '신고' in df['영화 제목'].loc[i]:\n",
    "        print(i)"
   ]
  },
  {
   "cell_type": "code",
   "execution_count": 8,
   "metadata": {},
   "outputs": [],
   "source": [
    "# index_list 라는 빈 리스트를 만들고 앞선 '신고'가 들어있던 인덱스를 담아주기\n",
    "index_list = []\n",
    "for i in range(len(df)):\n",
    "    if '신고' in df['영화 제목'].loc[i]:\n",
    "        index_list.append(i)"
   ]
  },
  {
   "cell_type": "code",
   "execution_count": 9,
   "metadata": {},
   "outputs": [
    {
     "data": {
      "text/plain": [
       "20      \\n신고\\n\n",
       "46      \\n신고\\n\n",
       "58      \\n신고\\n\n",
       "59      \\n신고\\n\n",
       "65      \\n신고\\n\n",
       "         ...  \n",
       "2833    \\n신고\\n\n",
       "2886    \\n신고\\n\n",
       "2887    \\n신고\\n\n",
       "2905    \\n신고\\n\n",
       "2932    \\n신고\\n\n",
       "Name: 영화 제목, Length: 136, dtype: object"
      ]
     },
     "execution_count": 9,
     "metadata": {},
     "output_type": "execute_result"
    }
   ],
   "source": [
    "# '신고'라는 단어가 포함된 영화 리뷰 확인하기\n",
    "df['영화 제목'].loc[index_list]"
   ]
  },
  {
   "cell_type": "code",
   "execution_count": 10,
   "metadata": {},
   "outputs": [],
   "source": [
    "# index_list에 들어있는 인덱스 번호를 제거\n",
    "# axis=0 은 가로 축/ axis=1 세로 축 제거\n",
    "# inplace=True 는 df 자체에서 발생하도록 설정해줌\n",
    "df.drop(index_list,axis=0,inplace=True)"
   ]
  },
  {
   "cell_type": "code",
   "execution_count": 11,
   "metadata": {},
   "outputs": [],
   "source": [
    "# 인덱스가 제거 되었음으로 인덱스를 재설정해줌\n",
    "# inplace=True 는 df 자체에서 발생하도록 설정\n",
    "#  reset_index()시 기존 인덱스가 index라는 콜롬에 생성됨으로 이를 제거하기 위해, drop=True\n",
    "df.reset_index(inplace=True,drop=True)"
   ]
  },
  {
   "cell_type": "code",
   "execution_count": 12,
   "metadata": {
    "scrolled": false
   },
   "outputs": [
    {
     "data": {
      "text/html": [
       "<div>\n",
       "<style scoped>\n",
       "    .dataframe tbody tr th:only-of-type {\n",
       "        vertical-align: middle;\n",
       "    }\n",
       "\n",
       "    .dataframe tbody tr th {\n",
       "        vertical-align: top;\n",
       "    }\n",
       "\n",
       "    .dataframe thead th {\n",
       "        text-align: right;\n",
       "    }\n",
       "</style>\n",
       "<table border=\"1\" class=\"dataframe\">\n",
       "  <thead>\n",
       "    <tr style=\"text-align: right;\">\n",
       "      <th></th>\n",
       "      <th>영화 제목</th>\n",
       "      <th>영화 평점</th>\n",
       "    </tr>\n",
       "  </thead>\n",
       "  <tbody>\n",
       "    <tr>\n",
       "      <th>0</th>\n",
       "      <td>개인적으로 예전 다크나이트가 그리웠습니다.이전 다크나이트의 특유의 분위기와 카리스마...</td>\n",
       "      <td>7</td>\n",
       "    </tr>\n",
       "    <tr>\n",
       "      <th>1</th>\n",
       "      <td>저는 개인적으로 너무 재미없게 봤어요 ㅠㅠ 계속 지루…다크나이트는 길어도 재밌게봤는...</td>\n",
       "      <td>1</td>\n",
       "    </tr>\n",
       "    <tr>\n",
       "      <th>2</th>\n",
       "      <td>노잼은 아닌데 다크나이트처럼 엄청 재밌지는 않음</td>\n",
       "      <td>8</td>\n",
       "    </tr>\n",
       "    <tr>\n",
       "      <th>3</th>\n",
       "      <td>제발 좀 빨리빨리 움직여라 말도 좀 빨리빨리하고 아오 속 터진다 진짜</td>\n",
       "      <td>1</td>\n",
       "    </tr>\n",
       "    <tr>\n",
       "      <th>4</th>\n",
       "      <td>다른건 몰라도 영상미가 정말 뛰어나서 볼 맛이나는 영화였고 스토리도 나쁘지 않았음</td>\n",
       "      <td>10</td>\n",
       "    </tr>\n",
       "    <tr>\n",
       "      <th>...</th>\n",
       "      <td>...</td>\n",
       "      <td>...</td>\n",
       "    </tr>\n",
       "    <tr>\n",
       "      <th>2849</th>\n",
       "      <td>정말 많이 재미가 없네요</td>\n",
       "      <td>1</td>\n",
       "    </tr>\n",
       "    <tr>\n",
       "      <th>2850</th>\n",
       "      <td>철학을 드러내기 보단 도시의 야경, 엔진소리, 파열음, 어둠, 음습함 같은 감각을 ...</td>\n",
       "      <td>8</td>\n",
       "    </tr>\n",
       "    <tr>\n",
       "      <th>2851</th>\n",
       "      <td>역사상 가장 아름다운 배트맨</td>\n",
       "      <td>8</td>\n",
       "    </tr>\n",
       "    <tr>\n",
       "      <th>2852</th>\n",
       "      <td>진짜 다크나이트에 견줄정도로 굿굿 ㅋㅋㅋ 3시간금방감 ㅋㅋ</td>\n",
       "      <td>10</td>\n",
       "    </tr>\n",
       "    <tr>\n",
       "      <th>2853</th>\n",
       "      <td>아쉽다... 이렇게밖에 안되나...</td>\n",
       "      <td>6</td>\n",
       "    </tr>\n",
       "  </tbody>\n",
       "</table>\n",
       "<p>2854 rows × 2 columns</p>\n",
       "</div>"
      ],
      "text/plain": [
       "                                                  영화 제목  영화 평점\n",
       "0     개인적으로 예전 다크나이트가 그리웠습니다.이전 다크나이트의 특유의 분위기와 카리스마...      7\n",
       "1     저는 개인적으로 너무 재미없게 봤어요 ㅠㅠ 계속 지루…다크나이트는 길어도 재밌게봤는...      1\n",
       "2                           노잼은 아닌데 다크나이트처럼 엄청 재밌지는 않음       8\n",
       "3               제발 좀 빨리빨리 움직여라 말도 좀 빨리빨리하고 아오 속 터진다 진짜       1\n",
       "4        다른건 몰라도 영상미가 정말 뛰어나서 볼 맛이나는 영화였고 스토리도 나쁘지 않았음      10\n",
       "...                                                 ...    ...\n",
       "2849                                     정말 많이 재미가 없네요       1\n",
       "2850  철학을 드러내기 보단 도시의 야경, 엔진소리, 파열음, 어둠, 음습함 같은 감각을 ...      8\n",
       "2851                                   역사상 가장 아름다운 배트맨       8\n",
       "2852                  진짜 다크나이트에 견줄정도로 굿굿 ㅋㅋㅋ 3시간금방감 ㅋㅋ      10\n",
       "2853                               아쉽다... 이렇게밖에 안되나...       6\n",
       "\n",
       "[2854 rows x 2 columns]"
      ]
     },
     "execution_count": 12,
     "metadata": {},
     "output_type": "execute_result"
    }
   ],
   "source": [
    "df"
   ]
  },
  {
   "cell_type": "code",
   "execution_count": 13,
   "metadata": {},
   "outputs": [],
   "source": [
    "# df를 dataset 폴더 안에 더베트맨영화리뷰.xlsx 엑셀 파일로 저장하기\n",
    "# encoding='utf-8-sig' 한국어 깨짐을 방지하기 위한 인코딩 타입 설정\n",
    "df.to_excel(\"dataset/더배트맨영화리뷰.xlsx\", encoding='utf-8sig')"
   ]
  },
  {
   "cell_type": "code",
   "execution_count": null,
   "metadata": {},
   "outputs": [],
   "source": []
  }
 ],
 "metadata": {
  "kernelspec": {
   "display_name": "Python 3 (ipykernel)",
   "language": "python",
   "name": "python3"
  },
  "language_info": {
   "codemirror_mode": {
    "name": "ipython",
    "version": 3
   },
   "file_extension": ".py",
   "mimetype": "text/x-python",
   "name": "python",
   "nbconvert_exporter": "python",
   "pygments_lexer": "ipython3",
   "version": "3.8.5"
  }
 },
 "nbformat": 4,
 "nbformat_minor": 5
}
