{
 "cells": [
  {
   "cell_type": "code",
   "execution_count": 1,
   "id": "0e0348b3",
   "metadata": {},
   "outputs": [],
   "source": [
    "import requests\n",
    "from bs4 import BeautifulSoup\n",
    "import datetime\n",
    "from tqdm import tqdm\n",
    "import pandas as pd"
   ]
  },
  {
   "cell_type": "code",
   "execution_count": 41,
   "id": "f523cf68",
   "metadata": {},
   "outputs": [
    {
     "name": "stdout",
     "output_type": "stream",
     "text": [
      "https://search.naver.com/search.naver?where=news&query=고등학교&ds=2022.01.01&de=2022.01.31&nso=so:r,p:from20220101to20220131,a:all&start=1\n"
     ]
    }
   ],
   "source": [
    "keyword     = \"고등학교\"\n",
    "startDate   = datetime.datetime(2022, 1, 1)\n",
    "endDate     = datetime.datetime(2022, 1, 31)\n",
    "browser = {'User-Agent':'Mozilla/5.0 (Macintosh; Intel Mac OS X 10_15_7) AppleWebKit/537.36 (KHTML, like Gecko) Chrome/90.0.4430.93 Safari/537.36'}\n",
    "\n",
    "url = \"https://search.naver.com/search.naver?where=news&query=\" + keyword + \\\n",
    "                   \"&ds=\" + startDate.strftime(\"%Y.%m.%d\") + \\\n",
    "                   \"&de=\"+endDate.strftime(\"%Y.%m.%d\") + \\\n",
    "                   \"&nso=so:r,p:from\" + startDate.strftime(\"%Y%m%d\") + \\\n",
    "                   \"to\" + endDate.strftime(\"%Y%m%d\") + \\\n",
    "                   \",a:all&start=1\" \n",
    "print(url)\n",
    "\n",
    "r = requests.get(url,headers=browser)\n",
    "soup = BeautifulSoup(r.text, \"html.parser\")"
   ]
  },
  {
   "cell_type": "markdown",
   "id": "f3356a28",
   "metadata": {},
   "source": [
    "## 페이지 이동"
   ]
  },
  {
   "cell_type": "code",
   "execution_count": 28,
   "id": "667f35b4",
   "metadata": {
    "scrolled": false
   },
   "outputs": [
    {
     "name": "stdout",
     "output_type": "stream",
     "text": [
      "1\n",
      "https://search.naver.com/search.naver?where=news&sm=tab_pge&query=%EA%B3%A0%EB%93%B1%ED%95%99%EA%B5%90&sort=0&photo=0&field=0&pd=3&ds=2022.01.01&de=2022.01.31&cluster_rank=18&mynews=0&office_type=0&office_section_code=0&news_office_checked=&nso=so:r,p:from20220101to20220131,a:all&start=1\n",
      "2\n",
      "https://search.naver.com/search.naver?where=news&sm=tab_pge&query=%EA%B3%A0%EB%93%B1%ED%95%99%EA%B5%90&sort=0&photo=0&field=0&pd=3&ds=2022.01.01&de=2022.01.31&cluster_rank=18&mynews=0&office_type=0&office_section_code=0&news_office_checked=&nso=so:r,p:from20220101to20220131,a:all&start=11\n",
      "3\n",
      "https://search.naver.com/search.naver?where=news&sm=tab_pge&query=%EA%B3%A0%EB%93%B1%ED%95%99%EA%B5%90&sort=0&photo=0&field=0&pd=3&ds=2022.01.01&de=2022.01.31&cluster_rank=18&mynews=0&office_type=0&office_section_code=0&news_office_checked=&nso=so:r,p:from20220101to20220131,a:all&start=21\n",
      "4\n",
      "https://search.naver.com/search.naver?where=news&sm=tab_pge&query=%EA%B3%A0%EB%93%B1%ED%95%99%EA%B5%90&sort=0&photo=0&field=0&pd=3&ds=2022.01.01&de=2022.01.31&cluster_rank=18&mynews=0&office_type=0&office_section_code=0&news_office_checked=&nso=so:r,p:from20220101to20220131,a:all&start=31\n",
      "5\n",
      "https://search.naver.com/search.naver?where=news&sm=tab_pge&query=%EA%B3%A0%EB%93%B1%ED%95%99%EA%B5%90&sort=0&photo=0&field=0&pd=3&ds=2022.01.01&de=2022.01.31&cluster_rank=18&mynews=0&office_type=0&office_section_code=0&news_office_checked=&nso=so:r,p:from20220101to20220131,a:all&start=41\n",
      "6\n",
      "https://search.naver.com/search.naver?where=news&sm=tab_pge&query=%EA%B3%A0%EB%93%B1%ED%95%99%EA%B5%90&sort=0&photo=0&field=0&pd=3&ds=2022.01.01&de=2022.01.31&cluster_rank=18&mynews=0&office_type=0&office_section_code=0&news_office_checked=&nso=so:r,p:from20220101to20220131,a:all&start=51\n",
      "7\n",
      "https://search.naver.com/search.naver?where=news&sm=tab_pge&query=%EA%B3%A0%EB%93%B1%ED%95%99%EA%B5%90&sort=0&photo=0&field=0&pd=3&ds=2022.01.01&de=2022.01.31&cluster_rank=18&mynews=0&office_type=0&office_section_code=0&news_office_checked=&nso=so:r,p:from20220101to20220131,a:all&start=61\n",
      "8\n",
      "https://search.naver.com/search.naver?where=news&sm=tab_pge&query=%EA%B3%A0%EB%93%B1%ED%95%99%EA%B5%90&sort=0&photo=0&field=0&pd=3&ds=2022.01.01&de=2022.01.31&cluster_rank=18&mynews=0&office_type=0&office_section_code=0&news_office_checked=&nso=so:r,p:from20220101to20220131,a:all&start=71\n",
      "9\n",
      "https://search.naver.com/search.naver?where=news&sm=tab_pge&query=%EA%B3%A0%EB%93%B1%ED%95%99%EA%B5%90&sort=0&photo=0&field=0&pd=3&ds=2022.01.01&de=2022.01.31&cluster_rank=18&mynews=0&office_type=0&office_section_code=0&news_office_checked=&nso=so:r,p:from20220101to20220131,a:all&start=81\n",
      "10\n",
      "https://search.naver.com/search.naver?where=news&sm=tab_pge&query=%EA%B3%A0%EB%93%B1%ED%95%99%EA%B5%90&sort=0&photo=0&field=0&pd=3&ds=2022.01.01&de=2022.01.31&cluster_rank=18&mynews=0&office_type=0&office_section_code=0&news_office_checked=&nso=so:r,p:from20220101to20220131,a:all&start=91\n"
     ]
    }
   ],
   "source": [
    "for i in range(10):\n",
    "    temp = 'https://search.naver.com/search.naver' + soup.find('div','sc_page_inner').find_all('a')[i]['href']\n",
    "    print(i+1)\n",
    "    print(temp)"
   ]
  },
  {
   "cell_type": "code",
   "execution_count": 26,
   "id": "2d732872",
   "metadata": {
    "scrolled": true
   },
   "outputs": [
    {
     "name": "stdout",
     "output_type": "stream",
     "text": [
      "2\n",
      "https://search.naver.com/search.naver?where=news&sm=tab_pge&query=%EA%B3%A0%EB%93%B1%ED%95%99%EA%B5%90&sort=0&photo=0&field=0&pd=3&ds=2022.01.01&de=2022.01.31&cluster_rank=18&mynews=0&office_type=0&office_section_code=0&news_office_checked=&nso=so:r,p:from20220101to20220131,a:all&start=11\n",
      "3\n",
      "https://search.naver.com/search.naver?where=news&sm=tab_pge&query=%EA%B3%A0%EB%93%B1%ED%95%99%EA%B5%90&sort=0&photo=0&field=0&pd=3&ds=2022.01.01&de=2022.01.31&cluster_rank=33&mynews=0&office_type=0&office_section_code=0&news_office_checked=&nso=so:r,p:from20220101to20220131,a:all&start=21\n",
      "4\n",
      "https://search.naver.com/search.naver?where=news&sm=tab_pge&query=%EA%B3%A0%EB%93%B1%ED%95%99%EA%B5%90&sort=0&photo=0&field=0&pd=3&ds=2022.01.01&de=2022.01.31&cluster_rank=46&mynews=0&office_type=0&office_section_code=0&news_office_checked=&nso=so:r,p:from20220101to20220131,a:all&start=31\n",
      "5\n",
      "https://search.naver.com/search.naver?where=news&sm=tab_pge&query=%EA%B3%A0%EB%93%B1%ED%95%99%EA%B5%90&sort=0&photo=0&field=0&pd=3&ds=2022.01.01&de=2022.01.31&cluster_rank=56&mynews=0&office_type=0&office_section_code=0&news_office_checked=&nso=so:r,p:from20220101to20220131,a:all&start=41\n",
      "6\n",
      "https://search.naver.com/search.naver?where=news&sm=tab_pge&query=%EA%B3%A0%EB%93%B1%ED%95%99%EA%B5%90&sort=0&photo=0&field=0&pd=3&ds=2022.01.01&de=2022.01.31&cluster_rank=67&mynews=0&office_type=0&office_section_code=0&news_office_checked=&nso=so:r,p:from20220101to20220131,a:all&start=51\n",
      "7\n",
      "https://search.naver.com/search.naver?where=news&sm=tab_pge&query=%EA%B3%A0%EB%93%B1%ED%95%99%EA%B5%90&sort=0&photo=0&field=0&pd=3&ds=2022.01.01&de=2022.01.31&cluster_rank=81&mynews=0&office_type=0&office_section_code=0&news_office_checked=&nso=so:r,p:from20220101to20220131,a:all&start=61\n",
      "8\n",
      "https://search.naver.com/search.naver?where=news&sm=tab_pge&query=%EA%B3%A0%EB%93%B1%ED%95%99%EA%B5%90&sort=0&photo=0&field=0&pd=3&ds=2022.01.01&de=2022.01.31&cluster_rank=96&mynews=0&office_type=0&office_section_code=0&news_office_checked=&nso=so:r,p:from20220101to20220131,a:all&start=71\n",
      "9\n",
      "https://search.naver.com/search.naver?where=news&sm=tab_pge&query=%EA%B3%A0%EB%93%B1%ED%95%99%EA%B5%90&sort=0&photo=0&field=0&pd=3&ds=2022.01.01&de=2022.01.31&cluster_rank=113&mynews=0&office_type=0&office_section_code=0&news_office_checked=&nso=so:r,p:from20220101to20220131,a:all&start=81\n",
      "10\n",
      "https://search.naver.com/search.naver?where=news&sm=tab_pge&query=%EA%B3%A0%EB%93%B1%ED%95%99%EA%B5%90&sort=0&photo=0&field=0&pd=3&ds=2022.01.01&de=2022.01.31&cluster_rank=128&mynews=0&office_type=0&office_section_code=0&news_office_checked=&nso=so:r,p:from20220101to20220131,a:all&start=91\n",
      "11\n",
      "https://search.naver.com/search.naver?where=news&sm=tab_pge&query=%EA%B3%A0%EB%93%B1%ED%95%99%EA%B5%90&sort=0&photo=0&field=0&pd=3&ds=2022.01.01&de=2022.01.31&cluster_rank=144&mynews=0&office_type=0&office_section_code=0&news_office_checked=&nso=so:r,p:from20220101to20220131,a:all&start=101\n",
      "12\n",
      "https://search.naver.com/search.naver?where=news&sm=tab_pge&query=%EA%B3%A0%EB%93%B1%ED%95%99%EA%B5%90&sort=0&photo=0&field=0&pd=3&ds=2022.01.01&de=2022.01.31&cluster_rank=158&mynews=0&office_type=0&office_section_code=0&news_office_checked=&nso=so:r,p:from20220101to20220131,a:all&start=111\n",
      "13\n",
      "https://search.naver.com/search.naver?where=news&sm=tab_pge&query=%EA%B3%A0%EB%93%B1%ED%95%99%EA%B5%90&sort=0&photo=0&field=0&pd=3&ds=2022.01.01&de=2022.01.31&cluster_rank=171&mynews=0&office_type=0&office_section_code=0&news_office_checked=&nso=so:r,p:from20220101to20220131,a:all&start=121\n",
      "14\n",
      "https://search.naver.com/search.naver?where=news&sm=tab_pge&query=%EA%B3%A0%EB%93%B1%ED%95%99%EA%B5%90&sort=0&photo=0&field=0&pd=3&ds=2022.01.01&de=2022.01.31&cluster_rank=188&mynews=0&office_type=0&office_section_code=0&news_office_checked=&nso=so:r,p:from20220101to20220131,a:all&start=131\n",
      "15\n",
      "https://search.naver.com/search.naver?where=news&sm=tab_pge&query=%EA%B3%A0%EB%93%B1%ED%95%99%EA%B5%90&sort=0&photo=0&field=0&pd=3&ds=2022.01.01&de=2022.01.31&cluster_rank=205&mynews=0&office_type=0&office_section_code=0&news_office_checked=&nso=so:r,p:from20220101to20220131,a:all&start=141\n",
      "16\n",
      "https://search.naver.com/search.naver?where=news&sm=tab_pge&query=%EA%B3%A0%EB%93%B1%ED%95%99%EA%B5%90&sort=0&photo=0&field=0&pd=3&ds=2022.01.01&de=2022.01.31&cluster_rank=225&mynews=0&office_type=0&office_section_code=0&news_office_checked=&nso=so:r,p:from20220101to20220131,a:all&start=151\n",
      "17\n",
      "https://search.naver.com/search.naver?where=news&sm=tab_pge&query=%EA%B3%A0%EB%93%B1%ED%95%99%EA%B5%90&sort=0&photo=0&field=0&pd=3&ds=2022.01.01&de=2022.01.31&cluster_rank=241&mynews=0&office_type=0&office_section_code=0&news_office_checked=&nso=so:r,p:from20220101to20220131,a:all&start=161\n",
      "18\n",
      "https://search.naver.com/search.naver?where=news&sm=tab_pge&query=%EA%B3%A0%EB%93%B1%ED%95%99%EA%B5%90&sort=0&photo=0&field=0&pd=3&ds=2022.01.01&de=2022.01.31&cluster_rank=255&mynews=0&office_type=0&office_section_code=0&news_office_checked=&nso=so:r,p:from20220101to20220131,a:all&start=171\n",
      "19\n",
      "https://search.naver.com/search.naver?where=news&sm=tab_pge&query=%EA%B3%A0%EB%93%B1%ED%95%99%EA%B5%90&sort=0&photo=0&field=0&pd=3&ds=2022.01.01&de=2022.01.31&cluster_rank=266&mynews=0&office_type=0&office_section_code=0&news_office_checked=&nso=so:r,p:from20220101to20220131,a:all&start=181\n",
      "20\n",
      "https://search.naver.com/search.naver?where=news&sm=tab_pge&query=%EA%B3%A0%EB%93%B1%ED%95%99%EA%B5%90&sort=0&photo=0&field=0&pd=3&ds=2022.01.01&de=2022.01.31&cluster_rank=280&mynews=0&office_type=0&office_section_code=0&news_office_checked=&nso=so:r,p:from20220101to20220131,a:all&start=191\n",
      "21\n",
      "https://search.naver.com/search.naver?where=news&sm=tab_pge&query=%EA%B3%A0%EB%93%B1%ED%95%99%EA%B5%90&sort=0&photo=0&field=0&pd=3&ds=2022.01.01&de=2022.01.31&cluster_rank=290&mynews=0&office_type=0&office_section_code=0&news_office_checked=&nso=so:r,p:from20220101to20220131,a:all&start=201\n",
      "22\n",
      "https://search.naver.com/search.naver?where=news&sm=tab_pge&query=%EA%B3%A0%EB%93%B1%ED%95%99%EA%B5%90&sort=0&photo=0&field=0&pd=3&ds=2022.01.01&de=2022.01.31&cluster_rank=305&mynews=0&office_type=0&office_section_code=0&news_office_checked=&nso=so:r,p:from20220101to20220131,a:all&start=211\n",
      "23\n",
      "https://search.naver.com/search.naver?where=news&sm=tab_pge&query=%EA%B3%A0%EB%93%B1%ED%95%99%EA%B5%90&sort=0&photo=0&field=0&pd=3&ds=2022.01.01&de=2022.01.31&cluster_rank=319&mynews=0&office_type=0&office_section_code=0&news_office_checked=&nso=so:r,p:from20220101to20220131,a:all&start=221\n",
      "24\n",
      "https://search.naver.com/search.naver?where=news&sm=tab_pge&query=%EA%B3%A0%EB%93%B1%ED%95%99%EA%B5%90&sort=0&photo=0&field=0&pd=3&ds=2022.01.01&de=2022.01.31&cluster_rank=341&mynews=0&office_type=0&office_section_code=0&news_office_checked=&nso=so:r,p:from20220101to20220131,a:all&start=231\n",
      "25\n",
      "https://search.naver.com/search.naver?where=news&sm=tab_pge&query=%EA%B3%A0%EB%93%B1%ED%95%99%EA%B5%90&sort=0&photo=0&field=0&pd=3&ds=2022.01.01&de=2022.01.31&cluster_rank=362&mynews=0&office_type=0&office_section_code=0&news_office_checked=&nso=so:r,p:from20220101to20220131,a:all&start=241\n",
      "26\n",
      "https://search.naver.com/search.naver?where=news&sm=tab_pge&query=%EA%B3%A0%EB%93%B1%ED%95%99%EA%B5%90&sort=0&photo=0&field=0&pd=3&ds=2022.01.01&de=2022.01.31&cluster_rank=379&mynews=0&office_type=0&office_section_code=0&news_office_checked=&nso=so:r,p:from20220101to20220131,a:all&start=251\n",
      "27\n",
      "https://search.naver.com/search.naver?where=news&sm=tab_pge&query=%EA%B3%A0%EB%93%B1%ED%95%99%EA%B5%90&sort=0&photo=0&field=0&pd=3&ds=2022.01.01&de=2022.01.31&cluster_rank=408&mynews=0&office_type=0&office_section_code=0&news_office_checked=&nso=so:r,p:from20220101to20220131,a:all&start=261\n",
      "28\n",
      "https://search.naver.com/search.naver?where=news&sm=tab_pge&query=%EA%B3%A0%EB%93%B1%ED%95%99%EA%B5%90&sort=0&photo=0&field=0&pd=3&ds=2022.01.01&de=2022.01.31&cluster_rank=428&mynews=0&office_type=0&office_section_code=0&news_office_checked=&nso=so:r,p:from20220101to20220131,a:all&start=271\n",
      "29\n"
     ]
    },
    {
     "name": "stdout",
     "output_type": "stream",
     "text": [
      "https://search.naver.com/search.naver?where=news&sm=tab_pge&query=%EA%B3%A0%EB%93%B1%ED%95%99%EA%B5%90&sort=0&photo=0&field=0&pd=3&ds=2022.01.01&de=2022.01.31&cluster_rank=447&mynews=0&office_type=0&office_section_code=0&news_office_checked=&nso=so:r,p:from20220101to20220131,a:all&start=281\n",
      "30\n",
      "https://search.naver.com/search.naver?where=news&sm=tab_pge&query=%EA%B3%A0%EB%93%B1%ED%95%99%EA%B5%90&sort=0&photo=0&field=0&pd=3&ds=2022.01.01&de=2022.01.31&cluster_rank=461&mynews=0&office_type=0&office_section_code=0&news_office_checked=&nso=so:r,p:from20220101to20220131,a:all&start=291\n",
      "31\n",
      "https://search.naver.com/search.naver?where=news&sm=tab_pge&query=%EA%B3%A0%EB%93%B1%ED%95%99%EA%B5%90&sort=0&photo=0&field=0&pd=3&ds=2022.01.01&de=2022.01.31&cluster_rank=479&mynews=0&office_type=0&office_section_code=0&news_office_checked=&nso=so:r,p:from20220101to20220131,a:all&start=301\n",
      "32\n",
      "https://search.naver.com/search.naver?where=news&sm=tab_pge&query=%EA%B3%A0%EB%93%B1%ED%95%99%EA%B5%90&sort=0&photo=0&field=0&pd=3&ds=2022.01.01&de=2022.01.31&cluster_rank=500&mynews=0&office_type=0&office_section_code=0&news_office_checked=&nso=so:r,p:from20220101to20220131,a:all&start=311\n",
      "33\n",
      "https://search.naver.com/search.naver?where=news&sm=tab_pge&query=%EA%B3%A0%EB%93%B1%ED%95%99%EA%B5%90&sort=0&photo=0&field=0&pd=3&ds=2022.01.01&de=2022.01.31&cluster_rank=515&mynews=0&office_type=0&office_section_code=0&news_office_checked=&nso=so:r,p:from20220101to20220131,a:all&start=321\n",
      "34\n",
      "https://search.naver.com/search.naver?where=news&sm=tab_pge&query=%EA%B3%A0%EB%93%B1%ED%95%99%EA%B5%90&sort=0&photo=0&field=0&pd=3&ds=2022.01.01&de=2022.01.31&cluster_rank=527&mynews=0&office_type=0&office_section_code=0&news_office_checked=&nso=so:r,p:from20220101to20220131,a:all&start=331\n",
      "35\n",
      "https://search.naver.com/search.naver?where=news&sm=tab_pge&query=%EA%B3%A0%EB%93%B1%ED%95%99%EA%B5%90&sort=0&photo=0&field=0&pd=3&ds=2022.01.01&de=2022.01.31&cluster_rank=542&mynews=0&office_type=0&office_section_code=0&news_office_checked=&nso=so:r,p:from20220101to20220131,a:all&start=341\n",
      "36\n",
      "https://search.naver.com/search.naver?where=news&sm=tab_pge&query=%EA%B3%A0%EB%93%B1%ED%95%99%EA%B5%90&sort=0&photo=0&field=0&pd=3&ds=2022.01.01&de=2022.01.31&cluster_rank=554&mynews=0&office_type=0&office_section_code=0&news_office_checked=&nso=so:r,p:from20220101to20220131,a:all&start=351\n",
      "37\n",
      "https://search.naver.com/search.naver?where=news&sm=tab_pge&query=%EA%B3%A0%EB%93%B1%ED%95%99%EA%B5%90&sort=0&photo=0&field=0&pd=3&ds=2022.01.01&de=2022.01.31&cluster_rank=568&mynews=0&office_type=0&office_section_code=0&news_office_checked=&nso=so:r,p:from20220101to20220131,a:all&start=361\n",
      "38\n",
      "https://search.naver.com/search.naver?where=news&sm=tab_pge&query=%EA%B3%A0%EB%93%B1%ED%95%99%EA%B5%90&sort=0&photo=0&field=0&pd=3&ds=2022.01.01&de=2022.01.31&cluster_rank=585&mynews=0&office_type=0&office_section_code=0&news_office_checked=&nso=so:r,p:from20220101to20220131,a:all&start=371\n",
      "39\n",
      "https://search.naver.com/search.naver?where=news&sm=tab_pge&query=%EA%B3%A0%EB%93%B1%ED%95%99%EA%B5%90&sort=0&photo=0&field=0&pd=3&ds=2022.01.01&de=2022.01.31&cluster_rank=601&mynews=0&office_type=0&office_section_code=0&news_office_checked=&nso=so:r,p:from20220101to20220131,a:all&start=381\n",
      "40\n",
      "https://search.naver.com/search.naver?where=news&sm=tab_pge&query=%EA%B3%A0%EB%93%B1%ED%95%99%EA%B5%90&sort=0&photo=0&field=0&pd=3&ds=2022.01.01&de=2022.01.31&cluster_rank=614&mynews=0&office_type=0&office_section_code=0&news_office_checked=&nso=so:r,p:from20220101to20220131,a:all&start=391\n",
      "41\n",
      "https://search.naver.com/search.naver?where=news&sm=tab_pge&query=%EA%B3%A0%EB%93%B1%ED%95%99%EA%B5%90&sort=0&photo=0&field=0&pd=3&ds=2022.01.01&de=2022.01.31&cluster_rank=631&mynews=0&office_type=0&office_section_code=0&news_office_checked=&nso=so:r,p:from20220101to20220131,a:all&start=401\n",
      "42\n",
      "https://search.naver.com/search.naver?where=news&sm=tab_pge&query=%EA%B3%A0%EB%93%B1%ED%95%99%EA%B5%90&sort=0&photo=0&field=0&pd=3&ds=2022.01.01&de=2022.01.31&cluster_rank=651&mynews=0&office_type=0&office_section_code=0&news_office_checked=&nso=so:r,p:from20220101to20220131,a:all&start=411\n",
      "43\n",
      "https://search.naver.com/search.naver?where=news&sm=tab_pge&query=%EA%B3%A0%EB%93%B1%ED%95%99%EA%B5%90&sort=0&photo=0&field=0&pd=3&ds=2022.01.01&de=2022.01.31&cluster_rank=668&mynews=0&office_type=0&office_section_code=0&news_office_checked=&nso=so:r,p:from20220101to20220131,a:all&start=421\n",
      "44\n",
      "https://search.naver.com/search.naver?where=news&sm=tab_pge&query=%EA%B3%A0%EB%93%B1%ED%95%99%EA%B5%90&sort=0&photo=0&field=0&pd=3&ds=2022.01.01&de=2022.01.31&cluster_rank=684&mynews=0&office_type=0&office_section_code=0&news_office_checked=&nso=so:r,p:from20220101to20220131,a:all&start=431\n",
      "45\n",
      "https://search.naver.com/search.naver?where=news&sm=tab_pge&query=%EA%B3%A0%EB%93%B1%ED%95%99%EA%B5%90&sort=0&photo=0&field=0&pd=3&ds=2022.01.01&de=2022.01.31&cluster_rank=701&mynews=0&office_type=0&office_section_code=0&news_office_checked=&nso=so:r,p:from20220101to20220131,a:all&start=441\n",
      "46\n",
      "https://search.naver.com/search.naver?where=news&sm=tab_pge&query=%EA%B3%A0%EB%93%B1%ED%95%99%EA%B5%90&sort=0&photo=0&field=0&pd=3&ds=2022.01.01&de=2022.01.31&cluster_rank=714&mynews=0&office_type=0&office_section_code=0&news_office_checked=&nso=so:r,p:from20220101to20220131,a:all&start=451\n",
      "47\n",
      "https://search.naver.com/search.naver?where=news&sm=tab_pge&query=%EA%B3%A0%EB%93%B1%ED%95%99%EA%B5%90&sort=0&photo=0&field=0&pd=3&ds=2022.01.01&de=2022.01.31&cluster_rank=726&mynews=0&office_type=0&office_section_code=0&news_office_checked=&nso=so:r,p:from20220101to20220131,a:all&start=461\n",
      "48\n",
      "https://search.naver.com/search.naver?where=news&sm=tab_pge&query=%EA%B3%A0%EB%93%B1%ED%95%99%EA%B5%90&sort=0&photo=0&field=0&pd=3&ds=2022.01.01&de=2022.01.31&cluster_rank=741&mynews=0&office_type=0&office_section_code=0&news_office_checked=&nso=so:r,p:from20220101to20220131,a:all&start=471\n",
      "49\n",
      "https://search.naver.com/search.naver?where=news&sm=tab_pge&query=%EA%B3%A0%EB%93%B1%ED%95%99%EA%B5%90&sort=0&photo=0&field=0&pd=3&ds=2022.01.01&de=2022.01.31&cluster_rank=755&mynews=0&office_type=0&office_section_code=0&news_office_checked=&nso=so:r,p:from20220101to20220131,a:all&start=481\n",
      "50\n",
      "https://search.naver.com/search.naver?where=news&sm=tab_pge&query=%EA%B3%A0%EB%93%B1%ED%95%99%EA%B5%90&sort=0&photo=0&field=0&pd=3&ds=2022.01.01&de=2022.01.31&cluster_rank=769&mynews=0&office_type=0&office_section_code=0&news_office_checked=&nso=so:r,p:from20220101to20220131,a:all&start=491\n",
      "51\n",
      "https://search.naver.com/search.naver?where=news&sm=tab_pge&query=%EA%B3%A0%EB%93%B1%ED%95%99%EA%B5%90&sort=0&photo=0&field=0&pd=3&ds=2022.01.01&de=2022.01.31&cluster_rank=787&mynews=0&office_type=0&office_section_code=0&news_office_checked=&nso=so:r,p:from20220101to20220131,a:all&start=501\n",
      "52\n",
      "https://search.naver.com/search.naver?where=news&sm=tab_pge&query=%EA%B3%A0%EB%93%B1%ED%95%99%EA%B5%90&sort=0&photo=0&field=0&pd=3&ds=2022.01.01&de=2022.01.31&cluster_rank=800&mynews=0&office_type=0&office_section_code=0&news_office_checked=&nso=so:r,p:from20220101to20220131,a:all&start=511\n",
      "53\n",
      "https://search.naver.com/search.naver?where=news&sm=tab_pge&query=%EA%B3%A0%EB%93%B1%ED%95%99%EA%B5%90&sort=0&photo=0&field=0&pd=3&ds=2022.01.01&de=2022.01.31&cluster_rank=812&mynews=0&office_type=0&office_section_code=0&news_office_checked=&nso=so:r,p:from20220101to20220131,a:all&start=521\n",
      "54\n",
      "https://search.naver.com/search.naver?where=news&sm=tab_pge&query=%EA%B3%A0%EB%93%B1%ED%95%99%EA%B5%90&sort=0&photo=0&field=0&pd=3&ds=2022.01.01&de=2022.01.31&cluster_rank=824&mynews=0&office_type=0&office_section_code=0&news_office_checked=&nso=so:r,p:from20220101to20220131,a:all&start=531\n",
      "55\n",
      "https://search.naver.com/search.naver?where=news&sm=tab_pge&query=%EA%B3%A0%EB%93%B1%ED%95%99%EA%B5%90&sort=0&photo=0&field=0&pd=3&ds=2022.01.01&de=2022.01.31&cluster_rank=836&mynews=0&office_type=0&office_section_code=0&news_office_checked=&nso=so:r,p:from20220101to20220131,a:all&start=541\n",
      "56\n",
      "https://search.naver.com/search.naver?where=news&sm=tab_pge&query=%EA%B3%A0%EB%93%B1%ED%95%99%EA%B5%90&sort=0&photo=0&field=0&pd=3&ds=2022.01.01&de=2022.01.31&cluster_rank=856&mynews=0&office_type=0&office_section_code=0&news_office_checked=&nso=so:r,p:from20220101to20220131,a:all&start=551\n"
     ]
    },
    {
     "name": "stdout",
     "output_type": "stream",
     "text": [
      "57\n",
      "https://search.naver.com/search.naver?where=news&sm=tab_pge&query=%EA%B3%A0%EB%93%B1%ED%95%99%EA%B5%90&sort=0&photo=0&field=0&pd=3&ds=2022.01.01&de=2022.01.31&cluster_rank=868&mynews=0&office_type=0&office_section_code=0&news_office_checked=&nso=so:r,p:from20220101to20220131,a:all&start=561\n",
      "58\n",
      "https://search.naver.com/search.naver?where=news&sm=tab_pge&query=%EA%B3%A0%EB%93%B1%ED%95%99%EA%B5%90&sort=0&photo=0&field=0&pd=3&ds=2022.01.01&de=2022.01.31&cluster_rank=884&mynews=0&office_type=0&office_section_code=0&news_office_checked=&nso=so:r,p:from20220101to20220131,a:all&start=571\n",
      "59\n",
      "https://search.naver.com/search.naver?where=news&sm=tab_pge&query=%EA%B3%A0%EB%93%B1%ED%95%99%EA%B5%90&sort=0&photo=0&field=0&pd=3&ds=2022.01.01&de=2022.01.31&cluster_rank=898&mynews=0&office_type=0&office_section_code=0&news_office_checked=&nso=so:r,p:from20220101to20220131,a:all&start=581\n",
      "60\n",
      "https://search.naver.com/search.naver?where=news&sm=tab_pge&query=%EA%B3%A0%EB%93%B1%ED%95%99%EA%B5%90&sort=0&photo=0&field=0&pd=3&ds=2022.01.01&de=2022.01.31&cluster_rank=910&mynews=0&office_type=0&office_section_code=0&news_office_checked=&nso=so:r,p:from20220101to20220131,a:all&start=591\n",
      "61\n",
      "https://search.naver.com/search.naver?where=news&sm=tab_pge&query=%EA%B3%A0%EB%93%B1%ED%95%99%EA%B5%90&sort=0&photo=0&field=0&pd=3&ds=2022.01.01&de=2022.01.31&cluster_rank=926&mynews=0&office_type=0&office_section_code=0&news_office_checked=&nso=so:r,p:from20220101to20220131,a:all&start=601\n",
      "62\n",
      "https://search.naver.com/search.naver?where=news&sm=tab_pge&query=%EA%B3%A0%EB%93%B1%ED%95%99%EA%B5%90&sort=0&photo=0&field=0&pd=3&ds=2022.01.01&de=2022.01.31&cluster_rank=945&mynews=0&office_type=0&office_section_code=0&news_office_checked=&nso=so:r,p:from20220101to20220131,a:all&start=611\n",
      "63\n",
      "https://search.naver.com/search.naver?where=news&sm=tab_pge&query=%EA%B3%A0%EB%93%B1%ED%95%99%EA%B5%90&sort=0&photo=0&field=0&pd=3&ds=2022.01.01&de=2022.01.31&cluster_rank=964&mynews=0&office_type=0&office_section_code=0&news_office_checked=&nso=so:r,p:from20220101to20220131,a:all&start=621\n",
      "64\n",
      "https://search.naver.com/search.naver?where=news&sm=tab_pge&query=%EA%B3%A0%EB%93%B1%ED%95%99%EA%B5%90&sort=0&photo=0&field=0&pd=3&ds=2022.01.01&de=2022.01.31&cluster_rank=979&mynews=0&office_type=0&office_section_code=0&news_office_checked=&nso=so:r,p:from20220101to20220131,a:all&start=631\n",
      "65\n",
      "https://search.naver.com/search.naver?where=news&sm=tab_pge&query=%EA%B3%A0%EB%93%B1%ED%95%99%EA%B5%90&sort=0&photo=0&field=0&pd=3&ds=2022.01.01&de=2022.01.31&cluster_rank=995&mynews=0&office_type=0&office_section_code=0&news_office_checked=&nso=so:r,p:from20220101to20220131,a:all&start=641\n",
      "66\n",
      "https://search.naver.com/search.naver?where=news&sm=tab_pge&query=%EA%B3%A0%EB%93%B1%ED%95%99%EA%B5%90&sort=0&photo=0&field=0&pd=3&ds=2022.01.01&de=2022.01.31&cluster_rank=1014&mynews=0&office_type=0&office_section_code=0&news_office_checked=&nso=so:r,p:from20220101to20220131,a:all&start=651\n",
      "67\n",
      "https://search.naver.com/search.naver?where=news&sm=tab_pge&query=%EA%B3%A0%EB%93%B1%ED%95%99%EA%B5%90&sort=0&photo=0&field=0&pd=3&ds=2022.01.01&de=2022.01.31&cluster_rank=1029&mynews=0&office_type=0&office_section_code=0&news_office_checked=&nso=so:r,p:from20220101to20220131,a:all&start=661\n",
      "68\n",
      "https://search.naver.com/search.naver?where=news&sm=tab_pge&query=%EA%B3%A0%EB%93%B1%ED%95%99%EA%B5%90&sort=0&photo=0&field=0&pd=3&ds=2022.01.01&de=2022.01.31&cluster_rank=1047&mynews=0&office_type=0&office_section_code=0&news_office_checked=&nso=so:r,p:from20220101to20220131,a:all&start=671\n",
      "69\n",
      "https://search.naver.com/search.naver?where=news&sm=tab_pge&query=%EA%B3%A0%EB%93%B1%ED%95%99%EA%B5%90&sort=0&photo=0&field=0&pd=3&ds=2022.01.01&de=2022.01.31&cluster_rank=1061&mynews=0&office_type=0&office_section_code=0&news_office_checked=&nso=so:r,p:from20220101to20220131,a:all&start=681\n",
      "70\n",
      "https://search.naver.com/search.naver?where=news&sm=tab_pge&query=%EA%B3%A0%EB%93%B1%ED%95%99%EA%B5%90&sort=0&photo=0&field=0&pd=3&ds=2022.01.01&de=2022.01.31&cluster_rank=1076&mynews=0&office_type=0&office_section_code=0&news_office_checked=&nso=so:r,p:from20220101to20220131,a:all&start=691\n",
      "71\n",
      "https://search.naver.com/search.naver?where=news&sm=tab_pge&query=%EA%B3%A0%EB%93%B1%ED%95%99%EA%B5%90&sort=0&photo=0&field=0&pd=3&ds=2022.01.01&de=2022.01.31&cluster_rank=1088&mynews=0&office_type=0&office_section_code=0&news_office_checked=&nso=so:r,p:from20220101to20220131,a:all&start=701\n",
      "72\n",
      "https://search.naver.com/search.naver?where=news&sm=tab_pge&query=%EA%B3%A0%EB%93%B1%ED%95%99%EA%B5%90&sort=0&photo=0&field=0&pd=3&ds=2022.01.01&de=2022.01.31&cluster_rank=1103&mynews=0&office_type=0&office_section_code=0&news_office_checked=&nso=so:r,p:from20220101to20220131,a:all&start=711\n",
      "73\n",
      "https://search.naver.com/search.naver?where=news&sm=tab_pge&query=%EA%B3%A0%EB%93%B1%ED%95%99%EA%B5%90&sort=0&photo=0&field=0&pd=3&ds=2022.01.01&de=2022.01.31&cluster_rank=1117&mynews=0&office_type=0&office_section_code=0&news_office_checked=&nso=so:r,p:from20220101to20220131,a:all&start=721\n",
      "74\n",
      "https://search.naver.com/search.naver?where=news&sm=tab_pge&query=%EA%B3%A0%EB%93%B1%ED%95%99%EA%B5%90&sort=0&photo=0&field=0&pd=3&ds=2022.01.01&de=2022.01.31&cluster_rank=1133&mynews=0&office_type=0&office_section_code=0&news_office_checked=&nso=so:r,p:from20220101to20220131,a:all&start=731\n",
      "75\n",
      "https://search.naver.com/search.naver?where=news&sm=tab_pge&query=%EA%B3%A0%EB%93%B1%ED%95%99%EA%B5%90&sort=0&photo=0&field=0&pd=3&ds=2022.01.01&de=2022.01.31&cluster_rank=1146&mynews=0&office_type=0&office_section_code=0&news_office_checked=&nso=so:r,p:from20220101to20220131,a:all&start=741\n",
      "76\n",
      "https://search.naver.com/search.naver?where=news&sm=tab_pge&query=%EA%B3%A0%EB%93%B1%ED%95%99%EA%B5%90&sort=0&photo=0&field=0&pd=3&ds=2022.01.01&de=2022.01.31&cluster_rank=1159&mynews=0&office_type=0&office_section_code=0&news_office_checked=&nso=so:r,p:from20220101to20220131,a:all&start=751\n",
      "77\n",
      "https://search.naver.com/search.naver?where=news&sm=tab_pge&query=%EA%B3%A0%EB%93%B1%ED%95%99%EA%B5%90&sort=0&photo=0&field=0&pd=3&ds=2022.01.01&de=2022.01.31&cluster_rank=1176&mynews=0&office_type=0&office_section_code=0&news_office_checked=&nso=so:r,p:from20220101to20220131,a:all&start=761\n",
      "78\n",
      "https://search.naver.com/search.naver?where=news&sm=tab_pge&query=%EA%B3%A0%EB%93%B1%ED%95%99%EA%B5%90&sort=0&photo=0&field=0&pd=3&ds=2022.01.01&de=2022.01.31&cluster_rank=1193&mynews=0&office_type=0&office_section_code=0&news_office_checked=&nso=so:r,p:from20220101to20220131,a:all&start=771\n",
      "79\n",
      "https://search.naver.com/search.naver?where=news&sm=tab_pge&query=%EA%B3%A0%EB%93%B1%ED%95%99%EA%B5%90&sort=0&photo=0&field=0&pd=3&ds=2022.01.01&de=2022.01.31&cluster_rank=1204&mynews=0&office_type=0&office_section_code=0&news_office_checked=&nso=so:r,p:from20220101to20220131,a:all&start=781\n",
      "80\n",
      "https://search.naver.com/search.naver?where=news&sm=tab_pge&query=%EA%B3%A0%EB%93%B1%ED%95%99%EA%B5%90&sort=0&photo=0&field=0&pd=3&ds=2022.01.01&de=2022.01.31&cluster_rank=1218&mynews=0&office_type=0&office_section_code=0&news_office_checked=&nso=so:r,p:from20220101to20220131,a:all&start=791\n",
      "81\n",
      "https://search.naver.com/search.naver?where=news&sm=tab_pge&query=%EA%B3%A0%EB%93%B1%ED%95%99%EA%B5%90&sort=0&photo=0&field=0&pd=3&ds=2022.01.01&de=2022.01.31&cluster_rank=1235&mynews=0&office_type=0&office_section_code=0&news_office_checked=&nso=so:r,p:from20220101to20220131,a:all&start=801\n",
      "82\n",
      "https://search.naver.com/search.naver?where=news&sm=tab_pge&query=%EA%B3%A0%EB%93%B1%ED%95%99%EA%B5%90&sort=0&photo=0&field=0&pd=3&ds=2022.01.01&de=2022.01.31&cluster_rank=1252&mynews=0&office_type=0&office_section_code=0&news_office_checked=&nso=so:r,p:from20220101to20220131,a:all&start=811\n",
      "83\n",
      "https://search.naver.com/search.naver?where=news&sm=tab_pge&query=%EA%B3%A0%EB%93%B1%ED%95%99%EA%B5%90&sort=0&photo=0&field=0&pd=3&ds=2022.01.01&de=2022.01.31&cluster_rank=1265&mynews=0&office_type=0&office_section_code=0&news_office_checked=&nso=so:r,p:from20220101to20220131,a:all&start=821\n",
      "84\n",
      "https://search.naver.com/search.naver?where=news&sm=tab_pge&query=%EA%B3%A0%EB%93%B1%ED%95%99%EA%B5%90&sort=0&photo=0&field=0&pd=3&ds=2022.01.01&de=2022.01.31&cluster_rank=1279&mynews=0&office_type=0&office_section_code=0&news_office_checked=&nso=so:r,p:from20220101to20220131,a:all&start=831\n"
     ]
    },
    {
     "name": "stdout",
     "output_type": "stream",
     "text": [
      "85\n",
      "https://search.naver.com/search.naver?where=news&sm=tab_pge&query=%EA%B3%A0%EB%93%B1%ED%95%99%EA%B5%90&sort=0&photo=0&field=0&pd=3&ds=2022.01.01&de=2022.01.31&cluster_rank=1292&mynews=0&office_type=0&office_section_code=0&news_office_checked=&nso=so:r,p:from20220101to20220131,a:all&start=841\n",
      "86\n",
      "https://search.naver.com/search.naver?where=news&sm=tab_pge&query=%EA%B3%A0%EB%93%B1%ED%95%99%EA%B5%90&sort=0&photo=0&field=0&pd=3&ds=2022.01.01&de=2022.01.31&cluster_rank=1308&mynews=0&office_type=0&office_section_code=0&news_office_checked=&nso=so:r,p:from20220101to20220131,a:all&start=851\n",
      "87\n",
      "https://search.naver.com/search.naver?where=news&sm=tab_pge&query=%EA%B3%A0%EB%93%B1%ED%95%99%EA%B5%90&sort=0&photo=0&field=0&pd=3&ds=2022.01.01&de=2022.01.31&cluster_rank=1323&mynews=0&office_type=0&office_section_code=0&news_office_checked=&nso=so:r,p:from20220101to20220131,a:all&start=861\n",
      "88\n",
      "https://search.naver.com/search.naver?where=news&sm=tab_pge&query=%EA%B3%A0%EB%93%B1%ED%95%99%EA%B5%90&sort=0&photo=0&field=0&pd=3&ds=2022.01.01&de=2022.01.31&cluster_rank=1337&mynews=0&office_type=0&office_section_code=0&news_office_checked=&nso=so:r,p:from20220101to20220131,a:all&start=871\n",
      "89\n",
      "https://search.naver.com/search.naver?where=news&sm=tab_pge&query=%EA%B3%A0%EB%93%B1%ED%95%99%EA%B5%90&sort=0&photo=0&field=0&pd=3&ds=2022.01.01&de=2022.01.31&cluster_rank=1348&mynews=0&office_type=0&office_section_code=0&news_office_checked=&nso=so:r,p:from20220101to20220131,a:all&start=881\n",
      "90\n",
      "https://search.naver.com/search.naver?where=news&sm=tab_pge&query=%EA%B3%A0%EB%93%B1%ED%95%99%EA%B5%90&sort=0&photo=0&field=0&pd=3&ds=2022.01.01&de=2022.01.31&cluster_rank=1369&mynews=0&office_type=0&office_section_code=0&news_office_checked=&nso=so:r,p:from20220101to20220131,a:all&start=891\n",
      "91\n",
      "https://search.naver.com/search.naver?where=news&sm=tab_pge&query=%EA%B3%A0%EB%93%B1%ED%95%99%EA%B5%90&sort=0&photo=0&field=0&pd=3&ds=2022.01.01&de=2022.01.31&cluster_rank=1383&mynews=0&office_type=0&office_section_code=0&news_office_checked=&nso=so:r,p:from20220101to20220131,a:all&start=901\n",
      "92\n",
      "https://search.naver.com/search.naver?where=news&sm=tab_pge&query=%EA%B3%A0%EB%93%B1%ED%95%99%EA%B5%90&sort=0&photo=0&field=0&pd=3&ds=2022.01.01&de=2022.01.31&cluster_rank=1398&mynews=0&office_type=0&office_section_code=0&news_office_checked=&nso=so:r,p:from20220101to20220131,a:all&start=911\n",
      "93\n",
      "https://search.naver.com/search.naver?where=news&sm=tab_pge&query=%EA%B3%A0%EB%93%B1%ED%95%99%EA%B5%90&sort=0&photo=0&field=0&pd=3&ds=2022.01.01&de=2022.01.31&cluster_rank=1413&mynews=0&office_type=0&office_section_code=0&news_office_checked=&nso=so:r,p:from20220101to20220131,a:all&start=921\n",
      "94\n",
      "https://search.naver.com/search.naver?where=news&sm=tab_pge&query=%EA%B3%A0%EB%93%B1%ED%95%99%EA%B5%90&sort=0&photo=0&field=0&pd=3&ds=2022.01.01&de=2022.01.31&cluster_rank=1426&mynews=0&office_type=0&office_section_code=0&news_office_checked=&nso=so:r,p:from20220101to20220131,a:all&start=931\n",
      "95\n",
      "https://search.naver.com/search.naver?where=news&sm=tab_pge&query=%EA%B3%A0%EB%93%B1%ED%95%99%EA%B5%90&sort=0&photo=0&field=0&pd=3&ds=2022.01.01&de=2022.01.31&cluster_rank=1442&mynews=0&office_type=0&office_section_code=0&news_office_checked=&nso=so:r,p:from20220101to20220131,a:all&start=941\n",
      "96\n",
      "https://search.naver.com/search.naver?where=news&sm=tab_pge&query=%EA%B3%A0%EB%93%B1%ED%95%99%EA%B5%90&sort=0&photo=0&field=0&pd=3&ds=2022.01.01&de=2022.01.31&cluster_rank=1456&mynews=0&office_type=0&office_section_code=0&news_office_checked=&nso=so:r,p:from20220101to20220131,a:all&start=951\n",
      "97\n",
      "https://search.naver.com/search.naver?where=news&sm=tab_pge&query=%EA%B3%A0%EB%93%B1%ED%95%99%EA%B5%90&sort=0&photo=0&field=0&pd=3&ds=2022.01.01&de=2022.01.31&cluster_rank=1469&mynews=0&office_type=0&office_section_code=0&news_office_checked=&nso=so:r,p:from20220101to20220131,a:all&start=961\n",
      "98\n",
      "https://search.naver.com/search.naver?where=news&sm=tab_pge&query=%EA%B3%A0%EB%93%B1%ED%95%99%EA%B5%90&sort=0&photo=0&field=0&pd=3&ds=2022.01.01&de=2022.01.31&cluster_rank=1483&mynews=0&office_type=0&office_section_code=0&news_office_checked=&nso=so:r,p:from20220101to20220131,a:all&start=971\n",
      "99\n",
      "https://search.naver.com/search.naver?where=news&sm=tab_pge&query=%EA%B3%A0%EB%93%B1%ED%95%99%EA%B5%90&sort=0&photo=0&field=0&pd=3&ds=2022.01.01&de=2022.01.31&cluster_rank=1493&mynews=0&office_type=0&office_section_code=0&news_office_checked=&nso=so:r,p:from20220101to20220131,a:all&start=981\n",
      "100\n",
      "https://search.naver.com/search.naver?where=news&sm=tab_pge&query=%EA%B3%A0%EB%93%B1%ED%95%99%EA%B5%90&sort=0&photo=0&field=0&pd=3&ds=2022.01.01&de=2022.01.31&cluster_rank=1511&mynews=0&office_type=0&office_section_code=0&news_office_checked=&nso=so:r,p:from20220101to20220131,a:all&start=991\n",
      "101\n",
      "https://search.naver.com/search.naver?where=news&sm=tab_pge&query=%EA%B3%A0%EB%93%B1%ED%95%99%EA%B5%90&sort=0&photo=0&field=0&pd=3&ds=2022.01.01&de=2022.01.31&cluster_rank=1525&mynews=0&office_type=0&office_section_code=0&news_office_checked=&nso=so:r,p:from20220101to20220131,a:all&start=1001\n",
      "102\n",
      "https://search.naver.com/search.naver?where=news&sm=tab_pge&query=%EA%B3%A0%EB%93%B1%ED%95%99%EA%B5%90&sort=0&photo=0&field=0&pd=3&ds=2022.01.01&de=2022.01.31&cluster_rank=1537&mynews=0&office_type=0&office_section_code=0&news_office_checked=&nso=so:r,p:from20220101to20220131,a:all&start=1011\n",
      "103\n",
      "https://search.naver.com/search.naver?where=news&sm=tab_pge&query=%EA%B3%A0%EB%93%B1%ED%95%99%EA%B5%90&sort=0&photo=0&field=0&pd=3&ds=2022.01.01&de=2022.01.31&cluster_rank=1551&mynews=0&office_type=0&office_section_code=0&news_office_checked=&nso=so:r,p:from20220101to20220131,a:all&start=1021\n",
      "104\n",
      "https://search.naver.com/search.naver?where=news&sm=tab_pge&query=%EA%B3%A0%EB%93%B1%ED%95%99%EA%B5%90&sort=0&photo=0&field=0&pd=3&ds=2022.01.01&de=2022.01.31&cluster_rank=1564&mynews=0&office_type=0&office_section_code=0&news_office_checked=&nso=so:r,p:from20220101to20220131,a:all&start=1031\n",
      "105\n",
      "https://search.naver.com/search.naver?where=news&sm=tab_pge&query=%EA%B3%A0%EB%93%B1%ED%95%99%EA%B5%90&sort=0&photo=0&field=0&pd=3&ds=2022.01.01&de=2022.01.31&cluster_rank=1580&mynews=0&office_type=0&office_section_code=0&news_office_checked=&nso=so:r,p:from20220101to20220131,a:all&start=1041\n",
      "106\n",
      "https://search.naver.com/search.naver?where=news&sm=tab_pge&query=%EA%B3%A0%EB%93%B1%ED%95%99%EA%B5%90&sort=0&photo=0&field=0&pd=3&ds=2022.01.01&de=2022.01.31&cluster_rank=1596&mynews=0&office_type=0&office_section_code=0&news_office_checked=&nso=so:r,p:from20220101to20220131,a:all&start=1051\n",
      "107\n",
      "https://search.naver.com/search.naver?where=news&sm=tab_pge&query=%EA%B3%A0%EB%93%B1%ED%95%99%EA%B5%90&sort=0&photo=0&field=0&pd=3&ds=2022.01.01&de=2022.01.31&cluster_rank=1611&mynews=0&office_type=0&office_section_code=0&news_office_checked=&nso=so:r,p:from20220101to20220131,a:all&start=1061\n",
      "108\n",
      "https://search.naver.com/search.naver?where=news&sm=tab_pge&query=%EA%B3%A0%EB%93%B1%ED%95%99%EA%B5%90&sort=0&photo=0&field=0&pd=3&ds=2022.01.01&de=2022.01.31&cluster_rank=1623&mynews=0&office_type=0&office_section_code=0&news_office_checked=&nso=so:r,p:from20220101to20220131,a:all&start=1071\n",
      "109\n",
      "https://search.naver.com/search.naver?where=news&sm=tab_pge&query=%EA%B3%A0%EB%93%B1%ED%95%99%EA%B5%90&sort=0&photo=0&field=0&pd=3&ds=2022.01.01&de=2022.01.31&cluster_rank=1637&mynews=0&office_type=0&office_section_code=0&news_office_checked=&nso=so:r,p:from20220101to20220131,a:all&start=1081\n",
      "110\n",
      "https://search.naver.com/search.naver?where=news&sm=tab_pge&query=%EA%B3%A0%EB%93%B1%ED%95%99%EA%B5%90&sort=0&photo=0&field=0&pd=3&ds=2022.01.01&de=2022.01.31&cluster_rank=1650&mynews=0&office_type=0&office_section_code=0&news_office_checked=&nso=so:r,p:from20220101to20220131,a:all&start=1091\n",
      "111\n",
      "https://search.naver.com/search.naver?where=news&sm=tab_pge&query=%EA%B3%A0%EB%93%B1%ED%95%99%EA%B5%90&sort=0&photo=0&field=0&pd=3&ds=2022.01.01&de=2022.01.31&cluster_rank=1663&mynews=0&office_type=0&office_section_code=0&news_office_checked=&nso=so:r,p:from20220101to20220131,a:all&start=1101\n",
      "112\n",
      "https://search.naver.com/search.naver?where=news&sm=tab_pge&query=%EA%B3%A0%EB%93%B1%ED%95%99%EA%B5%90&sort=0&photo=0&field=0&pd=3&ds=2022.01.01&de=2022.01.31&cluster_rank=1681&mynews=0&office_type=0&office_section_code=0&news_office_checked=&nso=so:r,p:from20220101to20220131,a:all&start=1111\n"
     ]
    },
    {
     "name": "stdout",
     "output_type": "stream",
     "text": [
      "113\n",
      "https://search.naver.com/search.naver?where=news&sm=tab_pge&query=%EA%B3%A0%EB%93%B1%ED%95%99%EA%B5%90&sort=0&photo=0&field=0&pd=3&ds=2022.01.01&de=2022.01.31&cluster_rank=1692&mynews=0&office_type=0&office_section_code=0&news_office_checked=&nso=so:r,p:from20220101to20220131,a:all&start=1121\n",
      "114\n",
      "https://search.naver.com/search.naver?where=news&sm=tab_pge&query=%EA%B3%A0%EB%93%B1%ED%95%99%EA%B5%90&sort=0&photo=0&field=0&pd=3&ds=2022.01.01&de=2022.01.31&cluster_rank=1704&mynews=0&office_type=0&office_section_code=0&news_office_checked=&nso=so:r,p:from20220101to20220131,a:all&start=1131\n",
      "115\n",
      "https://search.naver.com/search.naver?where=news&sm=tab_pge&query=%EA%B3%A0%EB%93%B1%ED%95%99%EA%B5%90&sort=0&photo=0&field=0&pd=3&ds=2022.01.01&de=2022.01.31&cluster_rank=1719&mynews=0&office_type=0&office_section_code=0&news_office_checked=&nso=so:r,p:from20220101to20220131,a:all&start=1141\n",
      "116\n",
      "https://search.naver.com/search.naver?where=news&sm=tab_pge&query=%EA%B3%A0%EB%93%B1%ED%95%99%EA%B5%90&sort=0&photo=0&field=0&pd=3&ds=2022.01.01&de=2022.01.31&cluster_rank=1732&mynews=0&office_type=0&office_section_code=0&news_office_checked=&nso=so:r,p:from20220101to20220131,a:all&start=1151\n",
      "117\n",
      "https://search.naver.com/search.naver?where=news&sm=tab_pge&query=%EA%B3%A0%EB%93%B1%ED%95%99%EA%B5%90&sort=0&photo=0&field=0&pd=3&ds=2022.01.01&de=2022.01.31&cluster_rank=1747&mynews=0&office_type=0&office_section_code=0&news_office_checked=&nso=so:r,p:from20220101to20220131,a:all&start=1161\n",
      "118\n",
      "https://search.naver.com/search.naver?where=news&sm=tab_pge&query=%EA%B3%A0%EB%93%B1%ED%95%99%EA%B5%90&sort=0&photo=0&field=0&pd=3&ds=2022.01.01&de=2022.01.31&cluster_rank=1763&mynews=0&office_type=0&office_section_code=0&news_office_checked=&nso=so:r,p:from20220101to20220131,a:all&start=1171\n",
      "119\n",
      "https://search.naver.com/search.naver?where=news&sm=tab_pge&query=%EA%B3%A0%EB%93%B1%ED%95%99%EA%B5%90&sort=0&photo=0&field=0&pd=3&ds=2022.01.01&de=2022.01.31&cluster_rank=1776&mynews=0&office_type=0&office_section_code=0&news_office_checked=&nso=so:r,p:from20220101to20220131,a:all&start=1181\n",
      "120\n",
      "https://search.naver.com/search.naver?where=news&sm=tab_pge&query=%EA%B3%A0%EB%93%B1%ED%95%99%EA%B5%90&sort=0&photo=0&field=0&pd=3&ds=2022.01.01&de=2022.01.31&cluster_rank=1791&mynews=0&office_type=0&office_section_code=0&news_office_checked=&nso=so:r,p:from20220101to20220131,a:all&start=1191\n",
      "121\n",
      "https://search.naver.com/search.naver?where=news&sm=tab_pge&query=%EA%B3%A0%EB%93%B1%ED%95%99%EA%B5%90&sort=0&photo=0&field=0&pd=3&ds=2022.01.01&de=2022.01.31&cluster_rank=1807&mynews=0&office_type=0&office_section_code=0&news_office_checked=&nso=so:r,p:from20220101to20220131,a:all&start=1201\n",
      "122\n",
      "https://search.naver.com/search.naver?where=news&sm=tab_pge&query=%EA%B3%A0%EB%93%B1%ED%95%99%EA%B5%90&sort=0&photo=0&field=0&pd=3&ds=2022.01.01&de=2022.01.31&cluster_rank=1821&mynews=0&office_type=0&office_section_code=0&news_office_checked=&nso=so:r,p:from20220101to20220131,a:all&start=1211\n",
      "123\n",
      "https://search.naver.com/search.naver?where=news&sm=tab_pge&query=%EA%B3%A0%EB%93%B1%ED%95%99%EA%B5%90&sort=0&photo=0&field=0&pd=3&ds=2022.01.01&de=2022.01.31&cluster_rank=1835&mynews=0&office_type=0&office_section_code=0&news_office_checked=&nso=so:r,p:from20220101to20220131,a:all&start=1221\n",
      "124\n",
      "https://search.naver.com/search.naver?where=news&sm=tab_pge&query=%EA%B3%A0%EB%93%B1%ED%95%99%EA%B5%90&sort=0&photo=0&field=0&pd=3&ds=2022.01.01&de=2022.01.31&cluster_rank=1852&mynews=0&office_type=0&office_section_code=0&news_office_checked=&nso=so:r,p:from20220101to20220131,a:all&start=1231\n",
      "125\n",
      "https://search.naver.com/search.naver?where=news&sm=tab_pge&query=%EA%B3%A0%EB%93%B1%ED%95%99%EA%B5%90&sort=0&photo=0&field=0&pd=3&ds=2022.01.01&de=2022.01.31&cluster_rank=1864&mynews=0&office_type=0&office_section_code=0&news_office_checked=&nso=so:r,p:from20220101to20220131,a:all&start=1241\n",
      "126\n",
      "https://search.naver.com/search.naver?where=news&sm=tab_pge&query=%EA%B3%A0%EB%93%B1%ED%95%99%EA%B5%90&sort=0&photo=0&field=0&pd=3&ds=2022.01.01&de=2022.01.31&cluster_rank=1875&mynews=0&office_type=0&office_section_code=0&news_office_checked=&nso=so:r,p:from20220101to20220131,a:all&start=1251\n",
      "127\n",
      "https://search.naver.com/search.naver?where=news&sm=tab_pge&query=%EA%B3%A0%EB%93%B1%ED%95%99%EA%B5%90&sort=0&photo=0&field=0&pd=3&ds=2022.01.01&de=2022.01.31&cluster_rank=1888&mynews=0&office_type=0&office_section_code=0&news_office_checked=&nso=so:r,p:from20220101to20220131,a:all&start=1261\n",
      "128\n",
      "https://search.naver.com/search.naver?where=news&sm=tab_pge&query=%EA%B3%A0%EB%93%B1%ED%95%99%EA%B5%90&sort=0&photo=0&field=0&pd=3&ds=2022.01.01&de=2022.01.31&cluster_rank=1899&mynews=0&office_type=0&office_section_code=0&news_office_checked=&nso=so:r,p:from20220101to20220131,a:all&start=1271\n",
      "129\n",
      "https://search.naver.com/search.naver?where=news&sm=tab_pge&query=%EA%B3%A0%EB%93%B1%ED%95%99%EA%B5%90&sort=0&photo=0&field=0&pd=3&ds=2022.01.01&de=2022.01.31&cluster_rank=1913&mynews=0&office_type=0&office_section_code=0&news_office_checked=&nso=so:r,p:from20220101to20220131,a:all&start=1281\n",
      "130\n",
      "https://search.naver.com/search.naver?where=news&sm=tab_pge&query=%EA%B3%A0%EB%93%B1%ED%95%99%EA%B5%90&sort=0&photo=0&field=0&pd=3&ds=2022.01.01&de=2022.01.31&cluster_rank=1925&mynews=0&office_type=0&office_section_code=0&news_office_checked=&nso=so:r,p:from20220101to20220131,a:all&start=1291\n",
      "131\n",
      "https://search.naver.com/search.naver?where=news&sm=tab_pge&query=%EA%B3%A0%EB%93%B1%ED%95%99%EA%B5%90&sort=0&photo=0&field=0&pd=3&ds=2022.01.01&de=2022.01.31&cluster_rank=1941&mynews=0&office_type=0&office_section_code=0&news_office_checked=&nso=so:r,p:from20220101to20220131,a:all&start=1301\n",
      "132\n",
      "https://search.naver.com/search.naver?where=news&sm=tab_pge&query=%EA%B3%A0%EB%93%B1%ED%95%99%EA%B5%90&sort=0&photo=0&field=0&pd=3&ds=2022.01.01&de=2022.01.31&cluster_rank=1955&mynews=0&office_type=0&office_section_code=0&news_office_checked=&nso=so:r,p:from20220101to20220131,a:all&start=1311\n",
      "133\n",
      "https://search.naver.com/search.naver?where=news&sm=tab_pge&query=%EA%B3%A0%EB%93%B1%ED%95%99%EA%B5%90&sort=0&photo=0&field=0&pd=3&ds=2022.01.01&de=2022.01.31&cluster_rank=1968&mynews=0&office_type=0&office_section_code=0&news_office_checked=&nso=so:r,p:from20220101to20220131,a:all&start=1321\n",
      "134\n",
      "https://search.naver.com/search.naver?where=news&sm=tab_pge&query=%EA%B3%A0%EB%93%B1%ED%95%99%EA%B5%90&sort=0&photo=0&field=0&pd=3&ds=2022.01.01&de=2022.01.31&cluster_rank=1983&mynews=0&office_type=0&office_section_code=0&news_office_checked=&nso=so:r,p:from20220101to20220131,a:all&start=1331\n",
      "135\n",
      "https://search.naver.com/search.naver?where=news&sm=tab_pge&query=%EA%B3%A0%EB%93%B1%ED%95%99%EA%B5%90&sort=0&photo=0&field=0&pd=3&ds=2022.01.01&de=2022.01.31&cluster_rank=2001&mynews=0&office_type=0&office_section_code=0&news_office_checked=&nso=so:r,p:from20220101to20220131,a:all&start=1341\n",
      "136\n",
      "https://search.naver.com/search.naver?where=news&sm=tab_pge&query=%EA%B3%A0%EB%93%B1%ED%95%99%EA%B5%90&sort=0&photo=0&field=0&pd=3&ds=2022.01.01&de=2022.01.31&cluster_rank=2012&mynews=0&office_type=0&office_section_code=0&news_office_checked=&nso=so:r,p:from20220101to20220131,a:all&start=1351\n",
      "137\n",
      "https://search.naver.com/search.naver?where=news&sm=tab_pge&query=%EA%B3%A0%EB%93%B1%ED%95%99%EA%B5%90&sort=0&photo=0&field=0&pd=3&ds=2022.01.01&de=2022.01.31&cluster_rank=2027&mynews=0&office_type=0&office_section_code=0&news_office_checked=&nso=so:r,p:from20220101to20220131,a:all&start=1361\n",
      "138\n",
      "https://search.naver.com/search.naver?where=news&sm=tab_pge&query=%EA%B3%A0%EB%93%B1%ED%95%99%EA%B5%90&sort=0&photo=0&field=0&pd=3&ds=2022.01.01&de=2022.01.31&cluster_rank=2039&mynews=0&office_type=0&office_section_code=0&news_office_checked=&nso=so:r,p:from20220101to20220131,a:all&start=1371\n",
      "139\n",
      "https://search.naver.com/search.naver?where=news&sm=tab_pge&query=%EA%B3%A0%EB%93%B1%ED%95%99%EA%B5%90&sort=0&photo=0&field=0&pd=3&ds=2022.01.01&de=2022.01.31&cluster_rank=2051&mynews=0&office_type=0&office_section_code=0&news_office_checked=&nso=so:r,p:from20220101to20220131,a:all&start=1381\n",
      "140\n",
      "https://search.naver.com/search.naver?where=news&sm=tab_pge&query=%EA%B3%A0%EB%93%B1%ED%95%99%EA%B5%90&sort=0&photo=0&field=0&pd=3&ds=2022.01.01&de=2022.01.31&cluster_rank=2070&mynews=0&office_type=0&office_section_code=0&news_office_checked=&nso=so:r,p:from20220101to20220131,a:all&start=1391\n"
     ]
    },
    {
     "name": "stdout",
     "output_type": "stream",
     "text": [
      "141\n",
      "https://search.naver.com/search.naver?where=news&sm=tab_pge&query=%EA%B3%A0%EB%93%B1%ED%95%99%EA%B5%90&sort=0&photo=0&field=0&pd=3&ds=2022.01.01&de=2022.01.31&cluster_rank=2084&mynews=0&office_type=0&office_section_code=0&news_office_checked=&nso=so:r,p:from20220101to20220131,a:all&start=1401\n",
      "142\n",
      "https://search.naver.com/search.naver?where=news&sm=tab_pge&query=%EA%B3%A0%EB%93%B1%ED%95%99%EA%B5%90&sort=0&photo=0&field=0&pd=3&ds=2022.01.01&de=2022.01.31&cluster_rank=2099&mynews=0&office_type=0&office_section_code=0&news_office_checked=&nso=so:r,p:from20220101to20220131,a:all&start=1411\n",
      "143\n",
      "https://search.naver.com/search.naver?where=news&sm=tab_pge&query=%EA%B3%A0%EB%93%B1%ED%95%99%EA%B5%90&sort=0&photo=0&field=0&pd=3&ds=2022.01.01&de=2022.01.31&cluster_rank=2115&mynews=0&office_type=0&office_section_code=0&news_office_checked=&nso=so:r,p:from20220101to20220131,a:all&start=1421\n",
      "144\n",
      "https://search.naver.com/search.naver?where=news&sm=tab_pge&query=%EA%B3%A0%EB%93%B1%ED%95%99%EA%B5%90&sort=0&photo=0&field=0&pd=3&ds=2022.01.01&de=2022.01.31&cluster_rank=2125&mynews=0&office_type=0&office_section_code=0&news_office_checked=&nso=so:r,p:from20220101to20220131,a:all&start=1431\n",
      "145\n",
      "https://search.naver.com/search.naver?where=news&sm=tab_pge&query=%EA%B3%A0%EB%93%B1%ED%95%99%EA%B5%90&sort=0&photo=0&field=0&pd=3&ds=2022.01.01&de=2022.01.31&cluster_rank=2137&mynews=0&office_type=0&office_section_code=0&news_office_checked=&nso=so:r,p:from20220101to20220131,a:all&start=1441\n",
      "146\n",
      "https://search.naver.com/search.naver?where=news&sm=tab_pge&query=%EA%B3%A0%EB%93%B1%ED%95%99%EA%B5%90&sort=0&photo=0&field=0&pd=3&ds=2022.01.01&de=2022.01.31&cluster_rank=2149&mynews=0&office_type=0&office_section_code=0&news_office_checked=&nso=so:r,p:from20220101to20220131,a:all&start=1451\n",
      "147\n",
      "https://search.naver.com/search.naver?where=news&sm=tab_pge&query=%EA%B3%A0%EB%93%B1%ED%95%99%EA%B5%90&sort=0&photo=0&field=0&pd=3&ds=2022.01.01&de=2022.01.31&cluster_rank=2159&mynews=0&office_type=0&office_section_code=0&news_office_checked=&nso=so:r,p:from20220101to20220131,a:all&start=1461\n",
      "148\n",
      "https://search.naver.com/search.naver?where=news&sm=tab_pge&query=%EA%B3%A0%EB%93%B1%ED%95%99%EA%B5%90&sort=0&photo=0&field=0&pd=3&ds=2022.01.01&de=2022.01.31&cluster_rank=2169&mynews=0&office_type=0&office_section_code=0&news_office_checked=&nso=so:r,p:from20220101to20220131,a:all&start=1471\n",
      "149\n",
      "https://search.naver.com/search.naver?where=news&sm=tab_pge&query=%EA%B3%A0%EB%93%B1%ED%95%99%EA%B5%90&sort=0&photo=0&field=0&pd=3&ds=2022.01.01&de=2022.01.31&cluster_rank=2185&mynews=0&office_type=0&office_section_code=0&news_office_checked=&nso=so:r,p:from20220101to20220131,a:all&start=1481\n",
      "150\n",
      "https://search.naver.com/search.naver?where=news&sm=tab_pge&query=%EA%B3%A0%EB%93%B1%ED%95%99%EA%B5%90&sort=0&photo=0&field=0&pd=3&ds=2022.01.01&de=2022.01.31&cluster_rank=2200&mynews=0&office_type=0&office_section_code=0&news_office_checked=&nso=so:r,p:from20220101to20220131,a:all&start=1491\n",
      "151\n",
      "https://search.naver.com/search.naver?where=news&sm=tab_pge&query=%EA%B3%A0%EB%93%B1%ED%95%99%EA%B5%90&sort=0&photo=0&field=0&pd=3&ds=2022.01.01&de=2022.01.31&cluster_rank=2212&mynews=0&office_type=0&office_section_code=0&news_office_checked=&nso=so:r,p:from20220101to20220131,a:all&start=1501\n",
      "152\n",
      "https://search.naver.com/search.naver?where=news&sm=tab_pge&query=%EA%B3%A0%EB%93%B1%ED%95%99%EA%B5%90&sort=0&photo=0&field=0&pd=3&ds=2022.01.01&de=2022.01.31&cluster_rank=2228&mynews=0&office_type=0&office_section_code=0&news_office_checked=&nso=so:r,p:from20220101to20220131,a:all&start=1511\n",
      "153\n",
      "https://search.naver.com/search.naver?where=news&sm=tab_pge&query=%EA%B3%A0%EB%93%B1%ED%95%99%EA%B5%90&sort=0&photo=0&field=0&pd=3&ds=2022.01.01&de=2022.01.31&cluster_rank=2245&mynews=0&office_type=0&office_section_code=0&news_office_checked=&nso=so:r,p:from20220101to20220131,a:all&start=1521\n",
      "154\n",
      "https://search.naver.com/search.naver?where=news&sm=tab_pge&query=%EA%B3%A0%EB%93%B1%ED%95%99%EA%B5%90&sort=0&photo=0&field=0&pd=3&ds=2022.01.01&de=2022.01.31&cluster_rank=2261&mynews=0&office_type=0&office_section_code=0&news_office_checked=&nso=so:r,p:from20220101to20220131,a:all&start=1531\n",
      "155\n",
      "https://search.naver.com/search.naver?where=news&sm=tab_pge&query=%EA%B3%A0%EB%93%B1%ED%95%99%EA%B5%90&sort=0&photo=0&field=0&pd=3&ds=2022.01.01&de=2022.01.31&cluster_rank=2272&mynews=0&office_type=0&office_section_code=0&news_office_checked=&nso=so:r,p:from20220101to20220131,a:all&start=1541\n",
      "156\n",
      "https://search.naver.com/search.naver?where=news&sm=tab_pge&query=%EA%B3%A0%EB%93%B1%ED%95%99%EA%B5%90&sort=0&photo=0&field=0&pd=3&ds=2022.01.01&de=2022.01.31&cluster_rank=2286&mynews=0&office_type=0&office_section_code=0&news_office_checked=&nso=so:r,p:from20220101to20220131,a:all&start=1551\n",
      "157\n",
      "https://search.naver.com/search.naver?where=news&sm=tab_pge&query=%EA%B3%A0%EB%93%B1%ED%95%99%EA%B5%90&sort=0&photo=0&field=0&pd=3&ds=2022.01.01&de=2022.01.31&cluster_rank=2299&mynews=0&office_type=0&office_section_code=0&news_office_checked=&nso=so:r,p:from20220101to20220131,a:all&start=1561\n",
      "158\n",
      "https://search.naver.com/search.naver?where=news&sm=tab_pge&query=%EA%B3%A0%EB%93%B1%ED%95%99%EA%B5%90&sort=0&photo=0&field=0&pd=3&ds=2022.01.01&de=2022.01.31&cluster_rank=2313&mynews=0&office_type=0&office_section_code=0&news_office_checked=&nso=so:r,p:from20220101to20220131,a:all&start=1571\n",
      "159\n",
      "https://search.naver.com/search.naver?where=news&sm=tab_pge&query=%EA%B3%A0%EB%93%B1%ED%95%99%EA%B5%90&sort=0&photo=0&field=0&pd=3&ds=2022.01.01&de=2022.01.31&cluster_rank=2325&mynews=0&office_type=0&office_section_code=0&news_office_checked=&nso=so:r,p:from20220101to20220131,a:all&start=1581\n",
      "160\n",
      "https://search.naver.com/search.naver?where=news&sm=tab_pge&query=%EA%B3%A0%EB%93%B1%ED%95%99%EA%B5%90&sort=0&photo=0&field=0&pd=3&ds=2022.01.01&de=2022.01.31&cluster_rank=2336&mynews=0&office_type=0&office_section_code=0&news_office_checked=&nso=so:r,p:from20220101to20220131,a:all&start=1591\n",
      "161\n",
      "https://search.naver.com/search.naver?where=news&sm=tab_pge&query=%EA%B3%A0%EB%93%B1%ED%95%99%EA%B5%90&sort=0&photo=0&field=0&pd=3&ds=2022.01.01&de=2022.01.31&cluster_rank=2348&mynews=0&office_type=0&office_section_code=0&news_office_checked=&nso=so:r,p:from20220101to20220131,a:all&start=1601\n",
      "162\n",
      "https://search.naver.com/search.naver?where=news&sm=tab_pge&query=%EA%B3%A0%EB%93%B1%ED%95%99%EA%B5%90&sort=0&photo=0&field=0&pd=3&ds=2022.01.01&de=2022.01.31&cluster_rank=2360&mynews=0&office_type=0&office_section_code=0&news_office_checked=&nso=so:r,p:from20220101to20220131,a:all&start=1611\n",
      "163\n",
      "https://search.naver.com/search.naver?where=news&sm=tab_pge&query=%EA%B3%A0%EB%93%B1%ED%95%99%EA%B5%90&sort=0&photo=0&field=0&pd=3&ds=2022.01.01&de=2022.01.31&cluster_rank=2371&mynews=0&office_type=0&office_section_code=0&news_office_checked=&nso=so:r,p:from20220101to20220131,a:all&start=1621\n",
      "164\n",
      "https://search.naver.com/search.naver?where=news&sm=tab_pge&query=%EA%B3%A0%EB%93%B1%ED%95%99%EA%B5%90&sort=0&photo=0&field=0&pd=3&ds=2022.01.01&de=2022.01.31&cluster_rank=2385&mynews=0&office_type=0&office_section_code=0&news_office_checked=&nso=so:r,p:from20220101to20220131,a:all&start=1631\n",
      "165\n",
      "https://search.naver.com/search.naver?where=news&sm=tab_pge&query=%EA%B3%A0%EB%93%B1%ED%95%99%EA%B5%90&sort=0&photo=0&field=0&pd=3&ds=2022.01.01&de=2022.01.31&cluster_rank=2398&mynews=0&office_type=0&office_section_code=0&news_office_checked=&nso=so:r,p:from20220101to20220131,a:all&start=1641\n",
      "166\n",
      "https://search.naver.com/search.naver?where=news&sm=tab_pge&query=%EA%B3%A0%EB%93%B1%ED%95%99%EA%B5%90&sort=0&photo=0&field=0&pd=3&ds=2022.01.01&de=2022.01.31&cluster_rank=2409&mynews=0&office_type=0&office_section_code=0&news_office_checked=&nso=so:r,p:from20220101to20220131,a:all&start=1651\n",
      "167\n",
      "https://search.naver.com/search.naver?where=news&sm=tab_pge&query=%EA%B3%A0%EB%93%B1%ED%95%99%EA%B5%90&sort=0&photo=0&field=0&pd=3&ds=2022.01.01&de=2022.01.31&cluster_rank=2424&mynews=0&office_type=0&office_section_code=0&news_office_checked=&nso=so:r,p:from20220101to20220131,a:all&start=1661\n",
      "168\n",
      "https://search.naver.com/search.naver?where=news&sm=tab_pge&query=%EA%B3%A0%EB%93%B1%ED%95%99%EA%B5%90&sort=0&photo=0&field=0&pd=3&ds=2022.01.01&de=2022.01.31&cluster_rank=2437&mynews=0&office_type=0&office_section_code=0&news_office_checked=&nso=so:r,p:from20220101to20220131,a:all&start=1671\n"
     ]
    },
    {
     "name": "stdout",
     "output_type": "stream",
     "text": [
      "169\n",
      "https://search.naver.com/search.naver?where=news&sm=tab_pge&query=%EA%B3%A0%EB%93%B1%ED%95%99%EA%B5%90&sort=0&photo=0&field=0&pd=3&ds=2022.01.01&de=2022.01.31&cluster_rank=2451&mynews=0&office_type=0&office_section_code=0&news_office_checked=&nso=so:r,p:from20220101to20220131,a:all&start=1681\n",
      "170\n",
      "https://search.naver.com/search.naver?where=news&sm=tab_pge&query=%EA%B3%A0%EB%93%B1%ED%95%99%EA%B5%90&sort=0&photo=0&field=0&pd=3&ds=2022.01.01&de=2022.01.31&cluster_rank=2467&mynews=0&office_type=0&office_section_code=0&news_office_checked=&nso=so:r,p:from20220101to20220131,a:all&start=1691\n",
      "171\n",
      "https://search.naver.com/search.naver?where=news&sm=tab_pge&query=%EA%B3%A0%EB%93%B1%ED%95%99%EA%B5%90&sort=0&photo=0&field=0&pd=3&ds=2022.01.01&de=2022.01.31&cluster_rank=2480&mynews=0&office_type=0&office_section_code=0&news_office_checked=&nso=so:r,p:from20220101to20220131,a:all&start=1701\n",
      "172\n",
      "https://search.naver.com/search.naver?where=news&sm=tab_pge&query=%EA%B3%A0%EB%93%B1%ED%95%99%EA%B5%90&sort=0&photo=0&field=0&pd=3&ds=2022.01.01&de=2022.01.31&cluster_rank=2490&mynews=0&office_type=0&office_section_code=0&news_office_checked=&nso=so:r,p:from20220101to20220131,a:all&start=1711\n",
      "173\n",
      "https://search.naver.com/search.naver?where=news&sm=tab_pge&query=%EA%B3%A0%EB%93%B1%ED%95%99%EA%B5%90&sort=0&photo=0&field=0&pd=3&ds=2022.01.01&de=2022.01.31&cluster_rank=2503&mynews=0&office_type=0&office_section_code=0&news_office_checked=&nso=so:r,p:from20220101to20220131,a:all&start=1721\n",
      "174\n",
      "https://search.naver.com/search.naver?where=news&sm=tab_pge&query=%EA%B3%A0%EB%93%B1%ED%95%99%EA%B5%90&sort=0&photo=0&field=0&pd=3&ds=2022.01.01&de=2022.01.31&cluster_rank=2517&mynews=0&office_type=0&office_section_code=0&news_office_checked=&nso=so:r,p:from20220101to20220131,a:all&start=1731\n",
      "175\n",
      "https://search.naver.com/search.naver?where=news&sm=tab_pge&query=%EA%B3%A0%EB%93%B1%ED%95%99%EA%B5%90&sort=0&photo=0&field=0&pd=3&ds=2022.01.01&de=2022.01.31&cluster_rank=2531&mynews=0&office_type=0&office_section_code=0&news_office_checked=&nso=so:r,p:from20220101to20220131,a:all&start=1741\n",
      "176\n",
      "https://search.naver.com/search.naver?where=news&sm=tab_pge&query=%EA%B3%A0%EB%93%B1%ED%95%99%EA%B5%90&sort=0&photo=0&field=0&pd=3&ds=2022.01.01&de=2022.01.31&cluster_rank=2548&mynews=0&office_type=0&office_section_code=0&news_office_checked=&nso=so:r,p:from20220101to20220131,a:all&start=1751\n",
      "177\n",
      "https://search.naver.com/search.naver?where=news&sm=tab_pge&query=%EA%B3%A0%EB%93%B1%ED%95%99%EA%B5%90&sort=0&photo=0&field=0&pd=3&ds=2022.01.01&de=2022.01.31&cluster_rank=2563&mynews=0&office_type=0&office_section_code=0&news_office_checked=&nso=so:r,p:from20220101to20220131,a:all&start=1761\n",
      "178\n",
      "https://search.naver.com/search.naver?where=news&sm=tab_pge&query=%EA%B3%A0%EB%93%B1%ED%95%99%EA%B5%90&sort=0&photo=0&field=0&pd=3&ds=2022.01.01&de=2022.01.31&cluster_rank=2576&mynews=0&office_type=0&office_section_code=0&news_office_checked=&nso=so:r,p:from20220101to20220131,a:all&start=1771\n",
      "179\n",
      "https://search.naver.com/search.naver?where=news&sm=tab_pge&query=%EA%B3%A0%EB%93%B1%ED%95%99%EA%B5%90&sort=0&photo=0&field=0&pd=3&ds=2022.01.01&de=2022.01.31&cluster_rank=2588&mynews=0&office_type=0&office_section_code=0&news_office_checked=&nso=so:r,p:from20220101to20220131,a:all&start=1781\n",
      "180\n",
      "https://search.naver.com/search.naver?where=news&sm=tab_pge&query=%EA%B3%A0%EB%93%B1%ED%95%99%EA%B5%90&sort=0&photo=0&field=0&pd=3&ds=2022.01.01&de=2022.01.31&cluster_rank=2598&mynews=0&office_type=0&office_section_code=0&news_office_checked=&nso=so:r,p:from20220101to20220131,a:all&start=1791\n",
      "181\n",
      "https://search.naver.com/search.naver?where=news&sm=tab_pge&query=%EA%B3%A0%EB%93%B1%ED%95%99%EA%B5%90&sort=0&photo=0&field=0&pd=3&ds=2022.01.01&de=2022.01.31&cluster_rank=2610&mynews=0&office_type=0&office_section_code=0&news_office_checked=&nso=so:r,p:from20220101to20220131,a:all&start=1801\n",
      "182\n",
      "https://search.naver.com/search.naver?where=news&sm=tab_pge&query=%EA%B3%A0%EB%93%B1%ED%95%99%EA%B5%90&sort=0&photo=0&field=0&pd=3&ds=2022.01.01&de=2022.01.31&cluster_rank=2620&mynews=0&office_type=0&office_section_code=0&news_office_checked=&nso=so:r,p:from20220101to20220131,a:all&start=1811\n",
      "183\n",
      "https://search.naver.com/search.naver?where=news&sm=tab_pge&query=%EA%B3%A0%EB%93%B1%ED%95%99%EA%B5%90&sort=0&photo=0&field=0&pd=3&ds=2022.01.01&de=2022.01.31&cluster_rank=2634&mynews=0&office_type=0&office_section_code=0&news_office_checked=&nso=so:r,p:from20220101to20220131,a:all&start=1821\n",
      "184\n",
      "https://search.naver.com/search.naver?where=news&sm=tab_pge&query=%EA%B3%A0%EB%93%B1%ED%95%99%EA%B5%90&sort=0&photo=0&field=0&pd=3&ds=2022.01.01&de=2022.01.31&cluster_rank=2644&mynews=0&office_type=0&office_section_code=0&news_office_checked=&nso=so:r,p:from20220101to20220131,a:all&start=1831\n",
      "185\n",
      "https://search.naver.com/search.naver?where=news&sm=tab_pge&query=%EA%B3%A0%EB%93%B1%ED%95%99%EA%B5%90&sort=0&photo=0&field=0&pd=3&ds=2022.01.01&de=2022.01.31&cluster_rank=2656&mynews=0&office_type=0&office_section_code=0&news_office_checked=&nso=so:r,p:from20220101to20220131,a:all&start=1841\n",
      "186\n",
      "https://search.naver.com/search.naver?where=news&sm=tab_pge&query=%EA%B3%A0%EB%93%B1%ED%95%99%EA%B5%90&sort=0&photo=0&field=0&pd=3&ds=2022.01.01&de=2022.01.31&cluster_rank=2666&mynews=0&office_type=0&office_section_code=0&news_office_checked=&nso=so:r,p:from20220101to20220131,a:all&start=1851\n",
      "187\n",
      "https://search.naver.com/search.naver?where=news&sm=tab_pge&query=%EA%B3%A0%EB%93%B1%ED%95%99%EA%B5%90&sort=0&photo=0&field=0&pd=3&ds=2022.01.01&de=2022.01.31&cluster_rank=2677&mynews=0&office_type=0&office_section_code=0&news_office_checked=&nso=so:r,p:from20220101to20220131,a:all&start=1861\n",
      "188\n",
      "https://search.naver.com/search.naver?where=news&sm=tab_pge&query=%EA%B3%A0%EB%93%B1%ED%95%99%EA%B5%90&sort=0&photo=0&field=0&pd=3&ds=2022.01.01&de=2022.01.31&cluster_rank=2687&mynews=0&office_type=0&office_section_code=0&news_office_checked=&nso=so:r,p:from20220101to20220131,a:all&start=1871\n",
      "189\n",
      "https://search.naver.com/search.naver?where=news&sm=tab_pge&query=%EA%B3%A0%EB%93%B1%ED%95%99%EA%B5%90&sort=0&photo=0&field=0&pd=3&ds=2022.01.01&de=2022.01.31&cluster_rank=2706&mynews=0&office_type=0&office_section_code=0&news_office_checked=&nso=so:r,p:from20220101to20220131,a:all&start=1881\n",
      "190\n",
      "https://search.naver.com/search.naver?where=news&sm=tab_pge&query=%EA%B3%A0%EB%93%B1%ED%95%99%EA%B5%90&sort=0&photo=0&field=0&pd=3&ds=2022.01.01&de=2022.01.31&cluster_rank=2720&mynews=0&office_type=0&office_section_code=0&news_office_checked=&nso=so:r,p:from20220101to20220131,a:all&start=1891\n",
      "191\n",
      "https://search.naver.com/search.naver?where=news&sm=tab_pge&query=%EA%B3%A0%EB%93%B1%ED%95%99%EA%B5%90&sort=0&photo=0&field=0&pd=3&ds=2022.01.01&de=2022.01.31&cluster_rank=2731&mynews=0&office_type=0&office_section_code=0&news_office_checked=&nso=so:r,p:from20220101to20220131,a:all&start=1901\n",
      "192\n",
      "https://search.naver.com/search.naver?where=news&sm=tab_pge&query=%EA%B3%A0%EB%93%B1%ED%95%99%EA%B5%90&sort=0&photo=0&field=0&pd=3&ds=2022.01.01&de=2022.01.31&cluster_rank=2744&mynews=0&office_type=0&office_section_code=0&news_office_checked=&nso=so:r,p:from20220101to20220131,a:all&start=1911\n",
      "193\n",
      "https://search.naver.com/search.naver?where=news&sm=tab_pge&query=%EA%B3%A0%EB%93%B1%ED%95%99%EA%B5%90&sort=0&photo=0&field=0&pd=3&ds=2022.01.01&de=2022.01.31&cluster_rank=2760&mynews=0&office_type=0&office_section_code=0&news_office_checked=&nso=so:r,p:from20220101to20220131,a:all&start=1921\n",
      "194\n",
      "https://search.naver.com/search.naver?where=news&sm=tab_pge&query=%EA%B3%A0%EB%93%B1%ED%95%99%EA%B5%90&sort=0&photo=0&field=0&pd=3&ds=2022.01.01&de=2022.01.31&cluster_rank=2775&mynews=0&office_type=0&office_section_code=0&news_office_checked=&nso=so:r,p:from20220101to20220131,a:all&start=1931\n",
      "195\n",
      "https://search.naver.com/search.naver?where=news&sm=tab_pge&query=%EA%B3%A0%EB%93%B1%ED%95%99%EA%B5%90&sort=0&photo=0&field=0&pd=3&ds=2022.01.01&de=2022.01.31&cluster_rank=2789&mynews=0&office_type=0&office_section_code=0&news_office_checked=&nso=so:r,p:from20220101to20220131,a:all&start=1941\n",
      "196\n",
      "https://search.naver.com/search.naver?where=news&sm=tab_pge&query=%EA%B3%A0%EB%93%B1%ED%95%99%EA%B5%90&sort=0&photo=0&field=0&pd=3&ds=2022.01.01&de=2022.01.31&cluster_rank=2806&mynews=0&office_type=0&office_section_code=0&news_office_checked=&nso=so:r,p:from20220101to20220131,a:all&start=1951\n"
     ]
    },
    {
     "name": "stdout",
     "output_type": "stream",
     "text": [
      "197\n",
      "https://search.naver.com/search.naver?where=news&sm=tab_pge&query=%EA%B3%A0%EB%93%B1%ED%95%99%EA%B5%90&sort=0&photo=0&field=0&pd=3&ds=2022.01.01&de=2022.01.31&cluster_rank=2816&mynews=0&office_type=0&office_section_code=0&news_office_checked=&nso=so:r,p:from20220101to20220131,a:all&start=1961\n",
      "198\n",
      "https://search.naver.com/search.naver?where=news&sm=tab_pge&query=%EA%B3%A0%EB%93%B1%ED%95%99%EA%B5%90&sort=0&photo=0&field=0&pd=3&ds=2022.01.01&de=2022.01.31&cluster_rank=2829&mynews=0&office_type=0&office_section_code=0&news_office_checked=&nso=so:r,p:from20220101to20220131,a:all&start=1971\n",
      "199\n",
      "https://search.naver.com/search.naver?where=news&sm=tab_pge&query=%EA%B3%A0%EB%93%B1%ED%95%99%EA%B5%90&sort=0&photo=0&field=0&pd=3&ds=2022.01.01&de=2022.01.31&cluster_rank=2843&mynews=0&office_type=0&office_section_code=0&news_office_checked=&nso=so:r,p:from20220101to20220131,a:all&start=1981\n",
      "200\n",
      "https://search.naver.com/search.naver?where=news&sm=tab_pge&query=%EA%B3%A0%EB%93%B1%ED%95%99%EA%B5%90&sort=0&photo=0&field=0&pd=3&ds=2022.01.01&de=2022.01.31&cluster_rank=2854&mynews=0&office_type=0&office_section_code=0&news_office_checked=&nso=so:r,p:from20220101to20220131,a:all&start=1991\n",
      "201\n",
      "https://search.naver.com/search.naver?where=news&sm=tab_pge&query=%EA%B3%A0%EB%93%B1%ED%95%99%EA%B5%90&sort=0&photo=0&field=0&pd=3&ds=2022.01.01&de=2022.01.31&cluster_rank=2864&mynews=0&office_type=0&office_section_code=0&news_office_checked=&nso=so:r,p:from20220101to20220131,a:all&start=2001\n",
      "202\n",
      "https://search.naver.com/search.naver?where=news&sm=tab_pge&query=%EA%B3%A0%EB%93%B1%ED%95%99%EA%B5%90&sort=0&photo=0&field=0&pd=3&ds=2022.01.01&de=2022.01.31&cluster_rank=2875&mynews=0&office_type=0&office_section_code=0&news_office_checked=&nso=so:r,p:from20220101to20220131,a:all&start=2011\n",
      "203\n",
      "https://search.naver.com/search.naver?where=news&sm=tab_pge&query=%EA%B3%A0%EB%93%B1%ED%95%99%EA%B5%90&sort=0&photo=0&field=0&pd=3&ds=2022.01.01&de=2022.01.31&cluster_rank=2892&mynews=0&office_type=0&office_section_code=0&news_office_checked=&nso=so:r,p:from20220101to20220131,a:all&start=2021\n",
      "204\n",
      "https://search.naver.com/search.naver?where=news&sm=tab_pge&query=%EA%B3%A0%EB%93%B1%ED%95%99%EA%B5%90&sort=0&photo=0&field=0&pd=3&ds=2022.01.01&de=2022.01.31&cluster_rank=2906&mynews=0&office_type=0&office_section_code=0&news_office_checked=&nso=so:r,p:from20220101to20220131,a:all&start=2031\n",
      "205\n",
      "https://search.naver.com/search.naver?where=news&sm=tab_pge&query=%EA%B3%A0%EB%93%B1%ED%95%99%EA%B5%90&sort=0&photo=0&field=0&pd=3&ds=2022.01.01&de=2022.01.31&cluster_rank=2916&mynews=0&office_type=0&office_section_code=0&news_office_checked=&nso=so:r,p:from20220101to20220131,a:all&start=2041\n",
      "206\n",
      "https://search.naver.com/search.naver?where=news&sm=tab_pge&query=%EA%B3%A0%EB%93%B1%ED%95%99%EA%B5%90&sort=0&photo=0&field=0&pd=3&ds=2022.01.01&de=2022.01.31&cluster_rank=2931&mynews=0&office_type=0&office_section_code=0&news_office_checked=&nso=so:r,p:from20220101to20220131,a:all&start=2051\n",
      "207\n",
      "https://search.naver.com/search.naver?where=news&sm=tab_pge&query=%EA%B3%A0%EB%93%B1%ED%95%99%EA%B5%90&sort=0&photo=0&field=0&pd=3&ds=2022.01.01&de=2022.01.31&cluster_rank=2943&mynews=0&office_type=0&office_section_code=0&news_office_checked=&nso=so:r,p:from20220101to20220131,a:all&start=2061\n",
      "208\n",
      "https://search.naver.com/search.naver?where=news&sm=tab_pge&query=%EA%B3%A0%EB%93%B1%ED%95%99%EA%B5%90&sort=0&photo=0&field=0&pd=3&ds=2022.01.01&de=2022.01.31&cluster_rank=2957&mynews=0&office_type=0&office_section_code=0&news_office_checked=&nso=so:r,p:from20220101to20220131,a:all&start=2071\n",
      "209\n",
      "https://search.naver.com/search.naver?where=news&sm=tab_pge&query=%EA%B3%A0%EB%93%B1%ED%95%99%EA%B5%90&sort=0&photo=0&field=0&pd=3&ds=2022.01.01&de=2022.01.31&cluster_rank=2968&mynews=0&office_type=0&office_section_code=0&news_office_checked=&nso=so:r,p:from20220101to20220131,a:all&start=2081\n",
      "210\n",
      "https://search.naver.com/search.naver?where=news&sm=tab_pge&query=%EA%B3%A0%EB%93%B1%ED%95%99%EA%B5%90&sort=0&photo=0&field=0&pd=3&ds=2022.01.01&de=2022.01.31&cluster_rank=2982&mynews=0&office_type=0&office_section_code=0&news_office_checked=&nso=so:r,p:from20220101to20220131,a:all&start=2091\n",
      "211\n",
      "https://search.naver.com/search.naver?where=news&sm=tab_pge&query=%EA%B3%A0%EB%93%B1%ED%95%99%EA%B5%90&sort=0&photo=0&field=0&pd=3&ds=2022.01.01&de=2022.01.31&cluster_rank=2993&mynews=0&office_type=0&office_section_code=0&news_office_checked=&nso=so:r,p:from20220101to20220131,a:all&start=2101\n",
      "212\n",
      "https://search.naver.com/search.naver?where=news&sm=tab_pge&query=%EA%B3%A0%EB%93%B1%ED%95%99%EA%B5%90&sort=0&photo=0&field=0&pd=3&ds=2022.01.01&de=2022.01.31&cluster_rank=3005&mynews=0&office_type=0&office_section_code=0&news_office_checked=&nso=so:r,p:from20220101to20220131,a:all&start=2111\n",
      "213\n",
      "https://search.naver.com/search.naver?where=news&sm=tab_pge&query=%EA%B3%A0%EB%93%B1%ED%95%99%EA%B5%90&sort=0&photo=0&field=0&pd=3&ds=2022.01.01&de=2022.01.31&cluster_rank=3018&mynews=0&office_type=0&office_section_code=0&news_office_checked=&nso=so:r,p:from20220101to20220131,a:all&start=2121\n",
      "214\n",
      "https://search.naver.com/search.naver?where=news&sm=tab_pge&query=%EA%B3%A0%EB%93%B1%ED%95%99%EA%B5%90&sort=0&photo=0&field=0&pd=3&ds=2022.01.01&de=2022.01.31&cluster_rank=3033&mynews=0&office_type=0&office_section_code=0&news_office_checked=&nso=so:r,p:from20220101to20220131,a:all&start=2131\n",
      "215\n",
      "https://search.naver.com/search.naver?where=news&sm=tab_pge&query=%EA%B3%A0%EB%93%B1%ED%95%99%EA%B5%90&sort=0&photo=0&field=0&pd=3&ds=2022.01.01&de=2022.01.31&cluster_rank=3044&mynews=0&office_type=0&office_section_code=0&news_office_checked=&nso=so:r,p:from20220101to20220131,a:all&start=2141\n",
      "216\n",
      "https://search.naver.com/search.naver?where=news&sm=tab_pge&query=%EA%B3%A0%EB%93%B1%ED%95%99%EA%B5%90&sort=0&photo=0&field=0&pd=3&ds=2022.01.01&de=2022.01.31&cluster_rank=3059&mynews=0&office_type=0&office_section_code=0&news_office_checked=&nso=so:r,p:from20220101to20220131,a:all&start=2151\n",
      "217\n",
      "https://search.naver.com/search.naver?where=news&sm=tab_pge&query=%EA%B3%A0%EB%93%B1%ED%95%99%EA%B5%90&sort=0&photo=0&field=0&pd=3&ds=2022.01.01&de=2022.01.31&cluster_rank=3073&mynews=0&office_type=0&office_section_code=0&news_office_checked=&nso=so:r,p:from20220101to20220131,a:all&start=2161\n",
      "218\n",
      "https://search.naver.com/search.naver?where=news&sm=tab_pge&query=%EA%B3%A0%EB%93%B1%ED%95%99%EA%B5%90&sort=0&photo=0&field=0&pd=3&ds=2022.01.01&de=2022.01.31&cluster_rank=3084&mynews=0&office_type=0&office_section_code=0&news_office_checked=&nso=so:r,p:from20220101to20220131,a:all&start=2171\n",
      "219\n",
      "https://search.naver.com/search.naver?where=news&sm=tab_pge&query=%EA%B3%A0%EB%93%B1%ED%95%99%EA%B5%90&sort=0&photo=0&field=0&pd=3&ds=2022.01.01&de=2022.01.31&cluster_rank=3096&mynews=0&office_type=0&office_section_code=0&news_office_checked=&nso=so:r,p:from20220101to20220131,a:all&start=2181\n",
      "220\n",
      "https://search.naver.com/search.naver?where=news&sm=tab_pge&query=%EA%B3%A0%EB%93%B1%ED%95%99%EA%B5%90&sort=0&photo=0&field=0&pd=3&ds=2022.01.01&de=2022.01.31&cluster_rank=3109&mynews=0&office_type=0&office_section_code=0&news_office_checked=&nso=so:r,p:from20220101to20220131,a:all&start=2191\n",
      "221\n",
      "https://search.naver.com/search.naver?where=news&sm=tab_pge&query=%EA%B3%A0%EB%93%B1%ED%95%99%EA%B5%90&sort=0&photo=0&field=0&pd=3&ds=2022.01.01&de=2022.01.31&cluster_rank=3120&mynews=0&office_type=0&office_section_code=0&news_office_checked=&nso=so:r,p:from20220101to20220131,a:all&start=2201\n",
      "222\n",
      "https://search.naver.com/search.naver?where=news&sm=tab_pge&query=%EA%B3%A0%EB%93%B1%ED%95%99%EA%B5%90&sort=0&photo=0&field=0&pd=3&ds=2022.01.01&de=2022.01.31&cluster_rank=3133&mynews=0&office_type=0&office_section_code=0&news_office_checked=&nso=so:r,p:from20220101to20220131,a:all&start=2211\n",
      "223\n",
      "https://search.naver.com/search.naver?where=news&sm=tab_pge&query=%EA%B3%A0%EB%93%B1%ED%95%99%EA%B5%90&sort=0&photo=0&field=0&pd=3&ds=2022.01.01&de=2022.01.31&cluster_rank=3144&mynews=0&office_type=0&office_section_code=0&news_office_checked=&nso=so:r,p:from20220101to20220131,a:all&start=2221\n",
      "224\n",
      "https://search.naver.com/search.naver?where=news&sm=tab_pge&query=%EA%B3%A0%EB%93%B1%ED%95%99%EA%B5%90&sort=0&photo=0&field=0&pd=3&ds=2022.01.01&de=2022.01.31&cluster_rank=3158&mynews=0&office_type=0&office_section_code=0&news_office_checked=&nso=so:r,p:from20220101to20220131,a:all&start=2231\n"
     ]
    },
    {
     "name": "stdout",
     "output_type": "stream",
     "text": [
      "225\n",
      "https://search.naver.com/search.naver?where=news&sm=tab_pge&query=%EA%B3%A0%EB%93%B1%ED%95%99%EA%B5%90&sort=0&photo=0&field=0&pd=3&ds=2022.01.01&de=2022.01.31&cluster_rank=3170&mynews=0&office_type=0&office_section_code=0&news_office_checked=&nso=so:r,p:from20220101to20220131,a:all&start=2241\n",
      "226\n",
      "https://search.naver.com/search.naver?where=news&sm=tab_pge&query=%EA%B3%A0%EB%93%B1%ED%95%99%EA%B5%90&sort=0&photo=0&field=0&pd=3&ds=2022.01.01&de=2022.01.31&cluster_rank=3180&mynews=0&office_type=0&office_section_code=0&news_office_checked=&nso=so:r,p:from20220101to20220131,a:all&start=2251\n",
      "227\n",
      "https://search.naver.com/search.naver?where=news&sm=tab_pge&query=%EA%B3%A0%EB%93%B1%ED%95%99%EA%B5%90&sort=0&photo=0&field=0&pd=3&ds=2022.01.01&de=2022.01.31&cluster_rank=3192&mynews=0&office_type=0&office_section_code=0&news_office_checked=&nso=so:r,p:from20220101to20220131,a:all&start=2261\n",
      "228\n",
      "https://search.naver.com/search.naver?where=news&sm=tab_pge&query=%EA%B3%A0%EB%93%B1%ED%95%99%EA%B5%90&sort=0&photo=0&field=0&pd=3&ds=2022.01.01&de=2022.01.31&cluster_rank=3206&mynews=0&office_type=0&office_section_code=0&news_office_checked=&nso=so:r,p:from20220101to20220131,a:all&start=2271\n",
      "229\n",
      "https://search.naver.com/search.naver?where=news&sm=tab_pge&query=%EA%B3%A0%EB%93%B1%ED%95%99%EA%B5%90&sort=0&photo=0&field=0&pd=3&ds=2022.01.01&de=2022.01.31&cluster_rank=3217&mynews=0&office_type=0&office_section_code=0&news_office_checked=&nso=so:r,p:from20220101to20220131,a:all&start=2281\n",
      "230\n",
      "https://search.naver.com/search.naver?where=news&sm=tab_pge&query=%EA%B3%A0%EB%93%B1%ED%95%99%EA%B5%90&sort=0&photo=0&field=0&pd=3&ds=2022.01.01&de=2022.01.31&cluster_rank=3228&mynews=0&office_type=0&office_section_code=0&news_office_checked=&nso=so:r,p:from20220101to20220131,a:all&start=2291\n",
      "231\n",
      "https://search.naver.com/search.naver?where=news&sm=tab_pge&query=%EA%B3%A0%EB%93%B1%ED%95%99%EA%B5%90&sort=0&photo=0&field=0&pd=3&ds=2022.01.01&de=2022.01.31&cluster_rank=3244&mynews=0&office_type=0&office_section_code=0&news_office_checked=&nso=so:r,p:from20220101to20220131,a:all&start=2301\n",
      "232\n",
      "https://search.naver.com/search.naver?where=news&sm=tab_pge&query=%EA%B3%A0%EB%93%B1%ED%95%99%EA%B5%90&sort=0&photo=0&field=0&pd=3&ds=2022.01.01&de=2022.01.31&cluster_rank=3256&mynews=0&office_type=0&office_section_code=0&news_office_checked=&nso=so:r,p:from20220101to20220131,a:all&start=2311\n",
      "233\n",
      "https://search.naver.com/search.naver?where=news&sm=tab_pge&query=%EA%B3%A0%EB%93%B1%ED%95%99%EA%B5%90&sort=0&photo=0&field=0&pd=3&ds=2022.01.01&de=2022.01.31&cluster_rank=3266&mynews=0&office_type=0&office_section_code=0&news_office_checked=&nso=so:r,p:from20220101to20220131,a:all&start=2321\n",
      "234\n",
      "https://search.naver.com/search.naver?where=news&sm=tab_pge&query=%EA%B3%A0%EB%93%B1%ED%95%99%EA%B5%90&sort=0&photo=0&field=0&pd=3&ds=2022.01.01&de=2022.01.31&cluster_rank=3277&mynews=0&office_type=0&office_section_code=0&news_office_checked=&nso=so:r,p:from20220101to20220131,a:all&start=2331\n",
      "235\n",
      "https://search.naver.com/search.naver?where=news&sm=tab_pge&query=%EA%B3%A0%EB%93%B1%ED%95%99%EA%B5%90&sort=0&photo=0&field=0&pd=3&ds=2022.01.01&de=2022.01.31&cluster_rank=3287&mynews=0&office_type=0&office_section_code=0&news_office_checked=&nso=so:r,p:from20220101to20220131,a:all&start=2341\n",
      "236\n",
      "https://search.naver.com/search.naver?where=news&sm=tab_pge&query=%EA%B3%A0%EB%93%B1%ED%95%99%EA%B5%90&sort=0&photo=0&field=0&pd=3&ds=2022.01.01&de=2022.01.31&cluster_rank=3299&mynews=0&office_type=0&office_section_code=0&news_office_checked=&nso=so:r,p:from20220101to20220131,a:all&start=2351\n",
      "237\n",
      "https://search.naver.com/search.naver?where=news&sm=tab_pge&query=%EA%B3%A0%EB%93%B1%ED%95%99%EA%B5%90&sort=0&photo=0&field=0&pd=3&ds=2022.01.01&de=2022.01.31&cluster_rank=3312&mynews=0&office_type=0&office_section_code=0&news_office_checked=&nso=so:r,p:from20220101to20220131,a:all&start=2361\n",
      "238\n",
      "https://search.naver.com/search.naver?where=news&sm=tab_pge&query=%EA%B3%A0%EB%93%B1%ED%95%99%EA%B5%90&sort=0&photo=0&field=0&pd=3&ds=2022.01.01&de=2022.01.31&cluster_rank=3324&mynews=0&office_type=0&office_section_code=0&news_office_checked=&nso=so:r,p:from20220101to20220131,a:all&start=2371\n",
      "239\n",
      "https://search.naver.com/search.naver?where=news&sm=tab_pge&query=%EA%B3%A0%EB%93%B1%ED%95%99%EA%B5%90&sort=0&photo=0&field=0&pd=3&ds=2022.01.01&de=2022.01.31&cluster_rank=3334&mynews=0&office_type=0&office_section_code=0&news_office_checked=&nso=so:r,p:from20220101to20220131,a:all&start=2381\n",
      "240\n",
      "https://search.naver.com/search.naver?where=news&sm=tab_pge&query=%EA%B3%A0%EB%93%B1%ED%95%99%EA%B5%90&sort=0&photo=0&field=0&pd=3&ds=2022.01.01&de=2022.01.31&cluster_rank=3347&mynews=0&office_type=0&office_section_code=0&news_office_checked=&nso=so:r,p:from20220101to20220131,a:all&start=2391\n",
      "241\n",
      "https://search.naver.com/search.naver?where=news&sm=tab_pge&query=%EA%B3%A0%EB%93%B1%ED%95%99%EA%B5%90&sort=0&photo=0&field=0&pd=3&ds=2022.01.01&de=2022.01.31&cluster_rank=3360&mynews=0&office_type=0&office_section_code=0&news_office_checked=&nso=so:r,p:from20220101to20220131,a:all&start=2401\n",
      "242\n",
      "https://search.naver.com/search.naver?where=news&sm=tab_pge&query=%EA%B3%A0%EB%93%B1%ED%95%99%EA%B5%90&sort=0&photo=0&field=0&pd=3&ds=2022.01.01&de=2022.01.31&cluster_rank=3371&mynews=0&office_type=0&office_section_code=0&news_office_checked=&nso=so:r,p:from20220101to20220131,a:all&start=2411\n",
      "243\n",
      "https://search.naver.com/search.naver?where=news&sm=tab_pge&query=%EA%B3%A0%EB%93%B1%ED%95%99%EA%B5%90&sort=0&photo=0&field=0&pd=3&ds=2022.01.01&de=2022.01.31&cluster_rank=3382&mynews=0&office_type=0&office_section_code=0&news_office_checked=&nso=so:r,p:from20220101to20220131,a:all&start=2421\n",
      "244\n",
      "https://search.naver.com/search.naver?where=news&sm=tab_pge&query=%EA%B3%A0%EB%93%B1%ED%95%99%EA%B5%90&sort=0&photo=0&field=0&pd=3&ds=2022.01.01&de=2022.01.31&cluster_rank=3392&mynews=0&office_type=0&office_section_code=0&news_office_checked=&nso=so:r,p:from20220101to20220131,a:all&start=2431\n",
      "245\n",
      "https://search.naver.com/search.naver?where=news&sm=tab_pge&query=%EA%B3%A0%EB%93%B1%ED%95%99%EA%B5%90&sort=0&photo=0&field=0&pd=3&ds=2022.01.01&de=2022.01.31&cluster_rank=3403&mynews=0&office_type=0&office_section_code=0&news_office_checked=&nso=so:r,p:from20220101to20220131,a:all&start=2441\n",
      "246\n",
      "https://search.naver.com/search.naver?where=news&sm=tab_pge&query=%EA%B3%A0%EB%93%B1%ED%95%99%EA%B5%90&sort=0&photo=0&field=0&pd=3&ds=2022.01.01&de=2022.01.31&cluster_rank=3413&mynews=0&office_type=0&office_section_code=0&news_office_checked=&nso=so:r,p:from20220101to20220131,a:all&start=2451\n",
      "247\n",
      "https://search.naver.com/search.naver?where=news&sm=tab_pge&query=%EA%B3%A0%EB%93%B1%ED%95%99%EA%B5%90&sort=0&photo=0&field=0&pd=3&ds=2022.01.01&de=2022.01.31&cluster_rank=3425&mynews=0&office_type=0&office_section_code=0&news_office_checked=&nso=so:r,p:from20220101to20220131,a:all&start=2461\n",
      "248\n",
      "https://search.naver.com/search.naver?where=news&sm=tab_pge&query=%EA%B3%A0%EB%93%B1%ED%95%99%EA%B5%90&sort=0&photo=0&field=0&pd=3&ds=2022.01.01&de=2022.01.31&cluster_rank=3438&mynews=0&office_type=0&office_section_code=0&news_office_checked=&nso=so:r,p:from20220101to20220131,a:all&start=2471\n",
      "249\n",
      "https://search.naver.com/search.naver?where=news&sm=tab_pge&query=%EA%B3%A0%EB%93%B1%ED%95%99%EA%B5%90&sort=0&photo=0&field=0&pd=3&ds=2022.01.01&de=2022.01.31&cluster_rank=3449&mynews=0&office_type=0&office_section_code=0&news_office_checked=&nso=so:r,p:from20220101to20220131,a:all&start=2481\n",
      "250\n",
      "https://search.naver.com/search.naver?where=news&sm=tab_pge&query=%EA%B3%A0%EB%93%B1%ED%95%99%EA%B5%90&sort=0&photo=0&field=0&pd=3&ds=2022.01.01&de=2022.01.31&cluster_rank=3460&mynews=0&office_type=0&office_section_code=0&news_office_checked=&nso=so:r,p:from20220101to20220131,a:all&start=2491\n",
      "251\n",
      "https://search.naver.com/search.naver?where=news&sm=tab_pge&query=%EA%B3%A0%EB%93%B1%ED%95%99%EA%B5%90&sort=0&photo=0&field=0&pd=3&ds=2022.01.01&de=2022.01.31&cluster_rank=3471&mynews=0&office_type=0&office_section_code=0&news_office_checked=&nso=so:r,p:from20220101to20220131,a:all&start=2501\n",
      "252\n",
      "https://search.naver.com/search.naver?where=news&sm=tab_pge&query=%EA%B3%A0%EB%93%B1%ED%95%99%EA%B5%90&sort=0&photo=0&field=0&pd=3&ds=2022.01.01&de=2022.01.31&cluster_rank=3482&mynews=0&office_type=0&office_section_code=0&news_office_checked=&nso=so:r,p:from20220101to20220131,a:all&start=2511\n"
     ]
    },
    {
     "name": "stdout",
     "output_type": "stream",
     "text": [
      "253\n",
      "https://search.naver.com/search.naver?where=news&sm=tab_pge&query=%EA%B3%A0%EB%93%B1%ED%95%99%EA%B5%90&sort=0&photo=0&field=0&pd=3&ds=2022.01.01&de=2022.01.31&cluster_rank=3493&mynews=0&office_type=0&office_section_code=0&news_office_checked=&nso=so:r,p:from20220101to20220131,a:all&start=2521\n",
      "254\n",
      "https://search.naver.com/search.naver?where=news&sm=tab_pge&query=%EA%B3%A0%EB%93%B1%ED%95%99%EA%B5%90&sort=0&photo=0&field=0&pd=3&ds=2022.01.01&de=2022.01.31&cluster_rank=3503&mynews=0&office_type=0&office_section_code=0&news_office_checked=&nso=so:r,p:from20220101to20220131,a:all&start=2531\n",
      "255\n",
      "https://search.naver.com/search.naver?where=news&sm=tab_pge&query=%EA%B3%A0%EB%93%B1%ED%95%99%EA%B5%90&sort=0&photo=0&field=0&pd=3&ds=2022.01.01&de=2022.01.31&cluster_rank=3515&mynews=0&office_type=0&office_section_code=0&news_office_checked=&nso=so:r,p:from20220101to20220131,a:all&start=2541\n",
      "256\n",
      "https://search.naver.com/search.naver?where=news&sm=tab_pge&query=%EA%B3%A0%EB%93%B1%ED%95%99%EA%B5%90&sort=0&photo=0&field=0&pd=3&ds=2022.01.01&de=2022.01.31&cluster_rank=3526&mynews=0&office_type=0&office_section_code=0&news_office_checked=&nso=so:r,p:from20220101to20220131,a:all&start=2551\n",
      "257\n",
      "https://search.naver.com/search.naver?where=news&sm=tab_pge&query=%EA%B3%A0%EB%93%B1%ED%95%99%EA%B5%90&sort=0&photo=0&field=0&pd=3&ds=2022.01.01&de=2022.01.31&cluster_rank=3537&mynews=0&office_type=0&office_section_code=0&news_office_checked=&nso=so:r,p:from20220101to20220131,a:all&start=2561\n",
      "258\n",
      "https://search.naver.com/search.naver?where=news&sm=tab_pge&query=%EA%B3%A0%EB%93%B1%ED%95%99%EA%B5%90&sort=0&photo=0&field=0&pd=3&ds=2022.01.01&de=2022.01.31&cluster_rank=3550&mynews=0&office_type=0&office_section_code=0&news_office_checked=&nso=so:r,p:from20220101to20220131,a:all&start=2571\n",
      "259\n",
      "https://search.naver.com/search.naver?where=news&sm=tab_pge&query=%EA%B3%A0%EB%93%B1%ED%95%99%EA%B5%90&sort=0&photo=0&field=0&pd=3&ds=2022.01.01&de=2022.01.31&cluster_rank=3561&mynews=0&office_type=0&office_section_code=0&news_office_checked=&nso=so:r,p:from20220101to20220131,a:all&start=2581\n",
      "260\n",
      "https://search.naver.com/search.naver?where=news&sm=tab_pge&query=%EA%B3%A0%EB%93%B1%ED%95%99%EA%B5%90&sort=0&photo=0&field=0&pd=3&ds=2022.01.01&de=2022.01.31&cluster_rank=3574&mynews=0&office_type=0&office_section_code=0&news_office_checked=&nso=so:r,p:from20220101to20220131,a:all&start=2591\n",
      "261\n",
      "https://search.naver.com/search.naver?where=news&sm=tab_pge&query=%EA%B3%A0%EB%93%B1%ED%95%99%EA%B5%90&sort=0&photo=0&field=0&pd=3&ds=2022.01.01&de=2022.01.31&cluster_rank=3585&mynews=0&office_type=0&office_section_code=0&news_office_checked=&nso=so:r,p:from20220101to20220131,a:all&start=2601\n",
      "262\n",
      "https://search.naver.com/search.naver?where=news&sm=tab_pge&query=%EA%B3%A0%EB%93%B1%ED%95%99%EA%B5%90&sort=0&photo=0&field=0&pd=3&ds=2022.01.01&de=2022.01.31&cluster_rank=3597&mynews=0&office_type=0&office_section_code=0&news_office_checked=&nso=so:r,p:from20220101to20220131,a:all&start=2611\n",
      "263\n",
      "https://search.naver.com/search.naver?where=news&sm=tab_pge&query=%EA%B3%A0%EB%93%B1%ED%95%99%EA%B5%90&sort=0&photo=0&field=0&pd=3&ds=2022.01.01&de=2022.01.31&cluster_rank=3608&mynews=0&office_type=0&office_section_code=0&news_office_checked=&nso=so:r,p:from20220101to20220131,a:all&start=2621\n",
      "264\n",
      "https://search.naver.com/search.naver?where=news&sm=tab_pge&query=%EA%B3%A0%EB%93%B1%ED%95%99%EA%B5%90&sort=0&photo=0&field=0&pd=3&ds=2022.01.01&de=2022.01.31&cluster_rank=3618&mynews=0&office_type=0&office_section_code=0&news_office_checked=&nso=so:r,p:from20220101to20220131,a:all&start=2631\n",
      "265\n",
      "https://search.naver.com/search.naver?where=news&sm=tab_pge&query=%EA%B3%A0%EB%93%B1%ED%95%99%EA%B5%90&sort=0&photo=0&field=0&pd=3&ds=2022.01.01&de=2022.01.31&cluster_rank=3629&mynews=0&office_type=0&office_section_code=0&news_office_checked=&nso=so:r,p:from20220101to20220131,a:all&start=2641\n",
      "266\n",
      "https://search.naver.com/search.naver?where=news&sm=tab_pge&query=%EA%B3%A0%EB%93%B1%ED%95%99%EA%B5%90&sort=0&photo=0&field=0&pd=3&ds=2022.01.01&de=2022.01.31&cluster_rank=3639&mynews=0&office_type=0&office_section_code=0&news_office_checked=&nso=so:r,p:from20220101to20220131,a:all&start=2651\n",
      "267\n",
      "https://search.naver.com/search.naver?where=news&sm=tab_pge&query=%EA%B3%A0%EB%93%B1%ED%95%99%EA%B5%90&sort=0&photo=0&field=0&pd=3&ds=2022.01.01&de=2022.01.31&cluster_rank=3651&mynews=0&office_type=0&office_section_code=0&news_office_checked=&nso=so:r,p:from20220101to20220131,a:all&start=2661\n",
      "268\n",
      "https://search.naver.com/search.naver?where=news&sm=tab_pge&query=%EA%B3%A0%EB%93%B1%ED%95%99%EA%B5%90&sort=0&photo=0&field=0&pd=3&ds=2022.01.01&de=2022.01.31&cluster_rank=3665&mynews=0&office_type=0&office_section_code=0&news_office_checked=&nso=so:r,p:from20220101to20220131,a:all&start=2671\n",
      "269\n",
      "https://search.naver.com/search.naver?where=news&sm=tab_pge&query=%EA%B3%A0%EB%93%B1%ED%95%99%EA%B5%90&sort=0&photo=0&field=0&pd=3&ds=2022.01.01&de=2022.01.31&cluster_rank=3676&mynews=0&office_type=0&office_section_code=0&news_office_checked=&nso=so:r,p:from20220101to20220131,a:all&start=2681\n",
      "270\n",
      "https://search.naver.com/search.naver?where=news&sm=tab_pge&query=%EA%B3%A0%EB%93%B1%ED%95%99%EA%B5%90&sort=0&photo=0&field=0&pd=3&ds=2022.01.01&de=2022.01.31&cluster_rank=3690&mynews=0&office_type=0&office_section_code=0&news_office_checked=&nso=so:r,p:from20220101to20220131,a:all&start=2691\n",
      "271\n",
      "https://search.naver.com/search.naver?where=news&sm=tab_pge&query=%EA%B3%A0%EB%93%B1%ED%95%99%EA%B5%90&sort=0&photo=0&field=0&pd=3&ds=2022.01.01&de=2022.01.31&cluster_rank=3702&mynews=0&office_type=0&office_section_code=0&news_office_checked=&nso=so:r,p:from20220101to20220131,a:all&start=2701\n",
      "272\n",
      "https://search.naver.com/search.naver?where=news&sm=tab_pge&query=%EA%B3%A0%EB%93%B1%ED%95%99%EA%B5%90&sort=0&photo=0&field=0&pd=3&ds=2022.01.01&de=2022.01.31&cluster_rank=3715&mynews=0&office_type=0&office_section_code=0&news_office_checked=&nso=so:r,p:from20220101to20220131,a:all&start=2711\n",
      "273\n",
      "https://search.naver.com/search.naver?where=news&sm=tab_pge&query=%EA%B3%A0%EB%93%B1%ED%95%99%EA%B5%90&sort=0&photo=0&field=0&pd=3&ds=2022.01.01&de=2022.01.31&cluster_rank=3725&mynews=0&office_type=0&office_section_code=0&news_office_checked=&nso=so:r,p:from20220101to20220131,a:all&start=2721\n",
      "274\n",
      "https://search.naver.com/search.naver?where=news&sm=tab_pge&query=%EA%B3%A0%EB%93%B1%ED%95%99%EA%B5%90&sort=0&photo=0&field=0&pd=3&ds=2022.01.01&de=2022.01.31&cluster_rank=3735&mynews=0&office_type=0&office_section_code=0&news_office_checked=&nso=so:r,p:from20220101to20220131,a:all&start=2731\n",
      "275\n",
      "https://search.naver.com/search.naver?where=news&sm=tab_pge&query=%EA%B3%A0%EB%93%B1%ED%95%99%EA%B5%90&sort=0&photo=0&field=0&pd=3&ds=2022.01.01&de=2022.01.31&cluster_rank=3746&mynews=0&office_type=0&office_section_code=0&news_office_checked=&nso=so:r,p:from20220101to20220131,a:all&start=2741\n",
      "276\n",
      "https://search.naver.com/search.naver?where=news&sm=tab_pge&query=%EA%B3%A0%EB%93%B1%ED%95%99%EA%B5%90&sort=0&photo=0&field=0&pd=3&ds=2022.01.01&de=2022.01.31&cluster_rank=3757&mynews=0&office_type=0&office_section_code=0&news_office_checked=&nso=so:r,p:from20220101to20220131,a:all&start=2751\n",
      "277\n",
      "https://search.naver.com/search.naver?where=news&sm=tab_pge&query=%EA%B3%A0%EB%93%B1%ED%95%99%EA%B5%90&sort=0&photo=0&field=0&pd=3&ds=2022.01.01&de=2022.01.31&cluster_rank=3767&mynews=0&office_type=0&office_section_code=0&news_office_checked=&nso=so:r,p:from20220101to20220131,a:all&start=2761\n",
      "278\n",
      "https://search.naver.com/search.naver?where=news&sm=tab_pge&query=%EA%B3%A0%EB%93%B1%ED%95%99%EA%B5%90&sort=0&photo=0&field=0&pd=3&ds=2022.01.01&de=2022.01.31&cluster_rank=3778&mynews=0&office_type=0&office_section_code=0&news_office_checked=&nso=so:r,p:from20220101to20220131,a:all&start=2771\n",
      "279\n",
      "https://search.naver.com/search.naver?where=news&sm=tab_pge&query=%EA%B3%A0%EB%93%B1%ED%95%99%EA%B5%90&sort=0&photo=0&field=0&pd=3&ds=2022.01.01&de=2022.01.31&cluster_rank=3788&mynews=0&office_type=0&office_section_code=0&news_office_checked=&nso=so:r,p:from20220101to20220131,a:all&start=2781\n",
      "280\n",
      "https://search.naver.com/search.naver?where=news&sm=tab_pge&query=%EA%B3%A0%EB%93%B1%ED%95%99%EA%B5%90&sort=0&photo=0&field=0&pd=3&ds=2022.01.01&de=2022.01.31&cluster_rank=3799&mynews=0&office_type=0&office_section_code=0&news_office_checked=&nso=so:r,p:from20220101to20220131,a:all&start=2791\n"
     ]
    },
    {
     "name": "stdout",
     "output_type": "stream",
     "text": [
      "281\n",
      "https://search.naver.com/search.naver?where=news&sm=tab_pge&query=%EA%B3%A0%EB%93%B1%ED%95%99%EA%B5%90&sort=0&photo=0&field=0&pd=3&ds=2022.01.01&de=2022.01.31&cluster_rank=3809&mynews=0&office_type=0&office_section_code=0&news_office_checked=&nso=so:r,p:from20220101to20220131,a:all&start=2801\n",
      "282\n",
      "https://search.naver.com/search.naver?where=news&sm=tab_pge&query=%EA%B3%A0%EB%93%B1%ED%95%99%EA%B5%90&sort=0&photo=0&field=0&pd=3&ds=2022.01.01&de=2022.01.31&cluster_rank=3819&mynews=0&office_type=0&office_section_code=0&news_office_checked=&nso=so:r,p:from20220101to20220131,a:all&start=2811\n",
      "283\n",
      "https://search.naver.com/search.naver?where=news&sm=tab_pge&query=%EA%B3%A0%EB%93%B1%ED%95%99%EA%B5%90&sort=0&photo=0&field=0&pd=3&ds=2022.01.01&de=2022.01.31&cluster_rank=3829&mynews=0&office_type=0&office_section_code=0&news_office_checked=&nso=so:r,p:from20220101to20220131,a:all&start=2821\n",
      "284\n",
      "https://search.naver.com/search.naver?where=news&sm=tab_pge&query=%EA%B3%A0%EB%93%B1%ED%95%99%EA%B5%90&sort=0&photo=0&field=0&pd=3&ds=2022.01.01&de=2022.01.31&cluster_rank=3841&mynews=0&office_type=0&office_section_code=0&news_office_checked=&nso=so:r,p:from20220101to20220131,a:all&start=2831\n",
      "285\n",
      "https://search.naver.com/search.naver?where=news&sm=tab_pge&query=%EA%B3%A0%EB%93%B1%ED%95%99%EA%B5%90&sort=0&photo=0&field=0&pd=3&ds=2022.01.01&de=2022.01.31&cluster_rank=3851&mynews=0&office_type=0&office_section_code=0&news_office_checked=&nso=so:r,p:from20220101to20220131,a:all&start=2841\n",
      "286\n",
      "https://search.naver.com/search.naver?where=news&sm=tab_pge&query=%EA%B3%A0%EB%93%B1%ED%95%99%EA%B5%90&sort=0&photo=0&field=0&pd=3&ds=2022.01.01&de=2022.01.31&cluster_rank=3861&mynews=0&office_type=0&office_section_code=0&news_office_checked=&nso=so:r,p:from20220101to20220131,a:all&start=2851\n",
      "287\n",
      "https://search.naver.com/search.naver?where=news&sm=tab_pge&query=%EA%B3%A0%EB%93%B1%ED%95%99%EA%B5%90&sort=0&photo=0&field=0&pd=3&ds=2022.01.01&de=2022.01.31&cluster_rank=3871&mynews=0&office_type=0&office_section_code=0&news_office_checked=&nso=so:r,p:from20220101to20220131,a:all&start=2861\n",
      "288\n",
      "https://search.naver.com/search.naver?where=news&sm=tab_pge&query=%EA%B3%A0%EB%93%B1%ED%95%99%EA%B5%90&sort=0&photo=0&field=0&pd=3&ds=2022.01.01&de=2022.01.31&cluster_rank=3882&mynews=0&office_type=0&office_section_code=0&news_office_checked=&nso=so:r,p:from20220101to20220131,a:all&start=2871\n",
      "289\n",
      "https://search.naver.com/search.naver?where=news&sm=tab_pge&query=%EA%B3%A0%EB%93%B1%ED%95%99%EA%B5%90&sort=0&photo=0&field=0&pd=3&ds=2022.01.01&de=2022.01.31&cluster_rank=3892&mynews=0&office_type=0&office_section_code=0&news_office_checked=&nso=so:r,p:from20220101to20220131,a:all&start=2881\n",
      "290\n",
      "https://search.naver.com/search.naver?where=news&sm=tab_pge&query=%EA%B3%A0%EB%93%B1%ED%95%99%EA%B5%90&sort=0&photo=0&field=0&pd=3&ds=2022.01.01&de=2022.01.31&cluster_rank=3903&mynews=0&office_type=0&office_section_code=0&news_office_checked=&nso=so:r,p:from20220101to20220131,a:all&start=2891\n",
      "291\n",
      "https://search.naver.com/search.naver?where=news&sm=tab_pge&query=%EA%B3%A0%EB%93%B1%ED%95%99%EA%B5%90&sort=0&photo=0&field=0&pd=3&ds=2022.01.01&de=2022.01.31&cluster_rank=3913&mynews=0&office_type=0&office_section_code=0&news_office_checked=&nso=so:r,p:from20220101to20220131,a:all&start=2901\n",
      "292\n",
      "https://search.naver.com/search.naver?where=news&sm=tab_pge&query=%EA%B3%A0%EB%93%B1%ED%95%99%EA%B5%90&sort=0&photo=0&field=0&pd=3&ds=2022.01.01&de=2022.01.31&cluster_rank=3927&mynews=0&office_type=0&office_section_code=0&news_office_checked=&nso=so:r,p:from20220101to20220131,a:all&start=2911\n",
      "293\n",
      "https://search.naver.com/search.naver?where=news&sm=tab_pge&query=%EA%B3%A0%EB%93%B1%ED%95%99%EA%B5%90&sort=0&photo=0&field=0&pd=3&ds=2022.01.01&de=2022.01.31&cluster_rank=3940&mynews=0&office_type=0&office_section_code=0&news_office_checked=&nso=so:r,p:from20220101to20220131,a:all&start=2921\n",
      "294\n",
      "https://search.naver.com/search.naver?where=news&sm=tab_pge&query=%EA%B3%A0%EB%93%B1%ED%95%99%EA%B5%90&sort=0&photo=0&field=0&pd=3&ds=2022.01.01&de=2022.01.31&cluster_rank=3952&mynews=0&office_type=0&office_section_code=0&news_office_checked=&nso=so:r,p:from20220101to20220131,a:all&start=2931\n",
      "295\n",
      "https://search.naver.com/search.naver?where=news&sm=tab_pge&query=%EA%B3%A0%EB%93%B1%ED%95%99%EA%B5%90&sort=0&photo=0&field=0&pd=3&ds=2022.01.01&de=2022.01.31&cluster_rank=3963&mynews=0&office_type=0&office_section_code=0&news_office_checked=&nso=so:r,p:from20220101to20220131,a:all&start=2941\n",
      "296\n",
      "https://search.naver.com/search.naver?where=news&sm=tab_pge&query=%EA%B3%A0%EB%93%B1%ED%95%99%EA%B5%90&sort=0&photo=0&field=0&pd=3&ds=2022.01.01&de=2022.01.31&cluster_rank=3976&mynews=0&office_type=0&office_section_code=0&news_office_checked=&nso=so:r,p:from20220101to20220131,a:all&start=2951\n",
      "297\n",
      "https://search.naver.com/search.naver?where=news&sm=tab_pge&query=%EA%B3%A0%EB%93%B1%ED%95%99%EA%B5%90&sort=0&photo=0&field=0&pd=3&ds=2022.01.01&de=2022.01.31&cluster_rank=3988&mynews=0&office_type=0&office_section_code=0&news_office_checked=&nso=so:r,p:from20220101to20220131,a:all&start=2961\n",
      "298\n",
      "https://search.naver.com/search.naver?where=news&sm=tab_pge&query=%EA%B3%A0%EB%93%B1%ED%95%99%EA%B5%90&sort=0&photo=0&field=0&pd=3&ds=2022.01.01&de=2022.01.31&cluster_rank=3998&mynews=0&office_type=0&office_section_code=0&news_office_checked=&nso=so:r,p:from20220101to20220131,a:all&start=2971\n",
      "299\n",
      "https://search.naver.com/search.naver?where=news&sm=tab_pge&query=%EA%B3%A0%EB%93%B1%ED%95%99%EA%B5%90&sort=0&photo=0&field=0&pd=3&ds=2022.01.01&de=2022.01.31&cluster_rank=4009&mynews=0&office_type=0&office_section_code=0&news_office_checked=&nso=so:r,p:from20220101to20220131,a:all&start=2981\n",
      "300\n",
      "https://search.naver.com/search.naver?where=news&sm=tab_pge&query=%EA%B3%A0%EB%93%B1%ED%95%99%EA%B5%90&sort=0&photo=0&field=0&pd=3&ds=2022.01.01&de=2022.01.31&cluster_rank=4021&mynews=0&office_type=0&office_section_code=0&news_office_checked=&nso=so:r,p:from20220101to20220131,a:all&start=2991\n",
      "301\n",
      "https://search.naver.com/search.naver?where=news&sm=tab_pge&query=%EA%B3%A0%EB%93%B1%ED%95%99%EA%B5%90&sort=0&photo=0&field=0&pd=3&ds=2022.01.01&de=2022.01.31&cluster_rank=4032&mynews=0&office_type=0&office_section_code=0&news_office_checked=&nso=so:r,p:from20220101to20220131,a:all&start=3001\n",
      "302\n",
      "https://search.naver.com/search.naver?where=news&sm=tab_pge&query=%EA%B3%A0%EB%93%B1%ED%95%99%EA%B5%90&sort=0&photo=0&field=0&pd=3&ds=2022.01.01&de=2022.01.31&cluster_rank=4043&mynews=0&office_type=0&office_section_code=0&news_office_checked=&nso=so:r,p:from20220101to20220131,a:all&start=3011\n",
      "303\n",
      "https://search.naver.com/search.naver?where=news&sm=tab_pge&query=%EA%B3%A0%EB%93%B1%ED%95%99%EA%B5%90&sort=0&photo=0&field=0&pd=3&ds=2022.01.01&de=2022.01.31&cluster_rank=4054&mynews=0&office_type=0&office_section_code=0&news_office_checked=&nso=so:r,p:from20220101to20220131,a:all&start=3021\n",
      "304\n",
      "https://search.naver.com/search.naver?where=news&sm=tab_pge&query=%EA%B3%A0%EB%93%B1%ED%95%99%EA%B5%90&sort=0&photo=0&field=0&pd=3&ds=2022.01.01&de=2022.01.31&cluster_rank=4067&mynews=0&office_type=0&office_section_code=0&news_office_checked=&nso=so:r,p:from20220101to20220131,a:all&start=3031\n",
      "305\n",
      "https://search.naver.com/search.naver?where=news&sm=tab_pge&query=%EA%B3%A0%EB%93%B1%ED%95%99%EA%B5%90&sort=0&photo=0&field=0&pd=3&ds=2022.01.01&de=2022.01.31&cluster_rank=4081&mynews=0&office_type=0&office_section_code=0&news_office_checked=&nso=so:r,p:from20220101to20220131,a:all&start=3041\n",
      "306\n",
      "https://search.naver.com/search.naver?where=news&sm=tab_pge&query=%EA%B3%A0%EB%93%B1%ED%95%99%EA%B5%90&sort=0&photo=0&field=0&pd=3&ds=2022.01.01&de=2022.01.31&cluster_rank=4093&mynews=0&office_type=0&office_section_code=0&news_office_checked=&nso=so:r,p:from20220101to20220131,a:all&start=3051\n",
      "307\n",
      "https://search.naver.com/search.naver?where=news&sm=tab_pge&query=%EA%B3%A0%EB%93%B1%ED%95%99%EA%B5%90&sort=0&photo=0&field=0&pd=3&ds=2022.01.01&de=2022.01.31&cluster_rank=4104&mynews=0&office_type=0&office_section_code=0&news_office_checked=&nso=so:r,p:from20220101to20220131,a:all&start=3061\n",
      "308\n",
      "https://search.naver.com/search.naver?where=news&sm=tab_pge&query=%EA%B3%A0%EB%93%B1%ED%95%99%EA%B5%90&sort=0&photo=0&field=0&pd=3&ds=2022.01.01&de=2022.01.31&cluster_rank=4116&mynews=0&office_type=0&office_section_code=0&news_office_checked=&nso=so:r,p:from20220101to20220131,a:all&start=3071\n"
     ]
    },
    {
     "name": "stdout",
     "output_type": "stream",
     "text": [
      "309\n",
      "https://search.naver.com/search.naver?where=news&sm=tab_pge&query=%EA%B3%A0%EB%93%B1%ED%95%99%EA%B5%90&sort=0&photo=0&field=0&pd=3&ds=2022.01.01&de=2022.01.31&cluster_rank=4128&mynews=0&office_type=0&office_section_code=0&news_office_checked=&nso=so:r,p:from20220101to20220131,a:all&start=3081\n",
      "310\n",
      "https://search.naver.com/search.naver?where=news&sm=tab_pge&query=%EA%B3%A0%EB%93%B1%ED%95%99%EA%B5%90&sort=0&photo=0&field=0&pd=3&ds=2022.01.01&de=2022.01.31&cluster_rank=4138&mynews=0&office_type=0&office_section_code=0&news_office_checked=&nso=so:r,p:from20220101to20220131,a:all&start=3091\n",
      "311\n",
      "https://search.naver.com/search.naver?where=news&sm=tab_pge&query=%EA%B3%A0%EB%93%B1%ED%95%99%EA%B5%90&sort=0&photo=0&field=0&pd=3&ds=2022.01.01&de=2022.01.31&cluster_rank=4149&mynews=0&office_type=0&office_section_code=0&news_office_checked=&nso=so:r,p:from20220101to20220131,a:all&start=3101\n",
      "312\n",
      "https://search.naver.com/search.naver?where=news&sm=tab_pge&query=%EA%B3%A0%EB%93%B1%ED%95%99%EA%B5%90&sort=0&photo=0&field=0&pd=3&ds=2022.01.01&de=2022.01.31&cluster_rank=4159&mynews=0&office_type=0&office_section_code=0&news_office_checked=&nso=so:r,p:from20220101to20220131,a:all&start=3111\n",
      "313\n",
      "https://search.naver.com/search.naver?where=news&sm=tab_pge&query=%EA%B3%A0%EB%93%B1%ED%95%99%EA%B5%90&sort=0&photo=0&field=0&pd=3&ds=2022.01.01&de=2022.01.31&cluster_rank=4170&mynews=0&office_type=0&office_section_code=0&news_office_checked=&nso=so:r,p:from20220101to20220131,a:all&start=3121\n",
      "314\n",
      "https://search.naver.com/search.naver?where=news&sm=tab_pge&query=%EA%B3%A0%EB%93%B1%ED%95%99%EA%B5%90&sort=0&photo=0&field=0&pd=3&ds=2022.01.01&de=2022.01.31&cluster_rank=4180&mynews=0&office_type=0&office_section_code=0&news_office_checked=&nso=so:r,p:from20220101to20220131,a:all&start=3131\n",
      "315\n",
      "https://search.naver.com/search.naver?where=news&sm=tab_pge&query=%EA%B3%A0%EB%93%B1%ED%95%99%EA%B5%90&sort=0&photo=0&field=0&pd=3&ds=2022.01.01&de=2022.01.31&cluster_rank=4190&mynews=0&office_type=0&office_section_code=0&news_office_checked=&nso=so:r,p:from20220101to20220131,a:all&start=3141\n",
      "316\n",
      "https://search.naver.com/search.naver?where=news&sm=tab_pge&query=%EA%B3%A0%EB%93%B1%ED%95%99%EA%B5%90&sort=0&photo=0&field=0&pd=3&ds=2022.01.01&de=2022.01.31&cluster_rank=4200&mynews=0&office_type=0&office_section_code=0&news_office_checked=&nso=so:r,p:from20220101to20220131,a:all&start=3151\n",
      "317\n",
      "https://search.naver.com/search.naver?where=news&sm=tab_pge&query=%EA%B3%A0%EB%93%B1%ED%95%99%EA%B5%90&sort=0&photo=0&field=0&pd=3&ds=2022.01.01&de=2022.01.31&cluster_rank=4214&mynews=0&office_type=0&office_section_code=0&news_office_checked=&nso=so:r,p:from20220101to20220131,a:all&start=3161\n",
      "318\n",
      "https://search.naver.com/search.naver?where=news&sm=tab_pge&query=%EA%B3%A0%EB%93%B1%ED%95%99%EA%B5%90&sort=0&photo=0&field=0&pd=3&ds=2022.01.01&de=2022.01.31&cluster_rank=4226&mynews=0&office_type=0&office_section_code=0&news_office_checked=&nso=so:r,p:from20220101to20220131,a:all&start=3171\n",
      "319\n",
      "https://search.naver.com/search.naver?where=news&sm=tab_pge&query=%EA%B3%A0%EB%93%B1%ED%95%99%EA%B5%90&sort=0&photo=0&field=0&pd=3&ds=2022.01.01&de=2022.01.31&cluster_rank=4236&mynews=0&office_type=0&office_section_code=0&news_office_checked=&nso=so:r,p:from20220101to20220131,a:all&start=3181\n",
      "320\n",
      "https://search.naver.com/search.naver?where=news&sm=tab_pge&query=%EA%B3%A0%EB%93%B1%ED%95%99%EA%B5%90&sort=0&photo=0&field=0&pd=3&ds=2022.01.01&de=2022.01.31&cluster_rank=4247&mynews=0&office_type=0&office_section_code=0&news_office_checked=&nso=so:r,p:from20220101to20220131,a:all&start=3191\n",
      "321\n",
      "https://search.naver.com/search.naver?where=news&sm=tab_pge&query=%EA%B3%A0%EB%93%B1%ED%95%99%EA%B5%90&sort=0&photo=0&field=0&pd=3&ds=2022.01.01&de=2022.01.31&cluster_rank=4262&mynews=0&office_type=0&office_section_code=0&news_office_checked=&nso=so:r,p:from20220101to20220131,a:all&start=3201\n",
      "322\n",
      "https://search.naver.com/search.naver?where=news&sm=tab_pge&query=%EA%B3%A0%EB%93%B1%ED%95%99%EA%B5%90&sort=0&photo=0&field=0&pd=3&ds=2022.01.01&de=2022.01.31&cluster_rank=4272&mynews=0&office_type=0&office_section_code=0&news_office_checked=&nso=so:r,p:from20220101to20220131,a:all&start=3211\n",
      "323\n",
      "https://search.naver.com/search.naver?where=news&sm=tab_pge&query=%EA%B3%A0%EB%93%B1%ED%95%99%EA%B5%90&sort=0&photo=0&field=0&pd=3&ds=2022.01.01&de=2022.01.31&cluster_rank=4285&mynews=0&office_type=0&office_section_code=0&news_office_checked=&nso=so:r,p:from20220101to20220131,a:all&start=3221\n",
      "324\n",
      "https://search.naver.com/search.naver?where=news&sm=tab_pge&query=%EA%B3%A0%EB%93%B1%ED%95%99%EA%B5%90&sort=0&photo=0&field=0&pd=3&ds=2022.01.01&de=2022.01.31&cluster_rank=4297&mynews=0&office_type=0&office_section_code=0&news_office_checked=&nso=so:r,p:from20220101to20220131,a:all&start=3231\n",
      "325\n",
      "https://search.naver.com/search.naver?where=news&sm=tab_pge&query=%EA%B3%A0%EB%93%B1%ED%95%99%EA%B5%90&sort=0&photo=0&field=0&pd=3&ds=2022.01.01&de=2022.01.31&cluster_rank=4309&mynews=0&office_type=0&office_section_code=0&news_office_checked=&nso=so:r,p:from20220101to20220131,a:all&start=3241\n",
      "326\n",
      "https://search.naver.com/search.naver?where=news&sm=tab_pge&query=%EA%B3%A0%EB%93%B1%ED%95%99%EA%B5%90&sort=0&photo=0&field=0&pd=3&ds=2022.01.01&de=2022.01.31&cluster_rank=4321&mynews=0&office_type=0&office_section_code=0&news_office_checked=&nso=so:r,p:from20220101to20220131,a:all&start=3251\n",
      "327\n",
      "https://search.naver.com/search.naver?where=news&sm=tab_pge&query=%EA%B3%A0%EB%93%B1%ED%95%99%EA%B5%90&sort=0&photo=0&field=0&pd=3&ds=2022.01.01&de=2022.01.31&cluster_rank=4333&mynews=0&office_type=0&office_section_code=0&news_office_checked=&nso=so:r,p:from20220101to20220131,a:all&start=3261\n",
      "328\n",
      "https://search.naver.com/search.naver?where=news&sm=tab_pge&query=%EA%B3%A0%EB%93%B1%ED%95%99%EA%B5%90&sort=0&photo=0&field=0&pd=3&ds=2022.01.01&de=2022.01.31&cluster_rank=4344&mynews=0&office_type=0&office_section_code=0&news_office_checked=&nso=so:r,p:from20220101to20220131,a:all&start=3271\n",
      "329\n",
      "https://search.naver.com/search.naver?where=news&sm=tab_pge&query=%EA%B3%A0%EB%93%B1%ED%95%99%EA%B5%90&sort=0&photo=0&field=0&pd=3&ds=2022.01.01&de=2022.01.31&cluster_rank=4357&mynews=0&office_type=0&office_section_code=0&news_office_checked=&nso=so:r,p:from20220101to20220131,a:all&start=3281\n",
      "330\n",
      "https://search.naver.com/search.naver?where=news&sm=tab_pge&query=%EA%B3%A0%EB%93%B1%ED%95%99%EA%B5%90&sort=0&photo=0&field=0&pd=3&ds=2022.01.01&de=2022.01.31&cluster_rank=4368&mynews=0&office_type=0&office_section_code=0&news_office_checked=&nso=so:r,p:from20220101to20220131,a:all&start=3291\n",
      "331\n",
      "https://search.naver.com/search.naver?where=news&sm=tab_pge&query=%EA%B3%A0%EB%93%B1%ED%95%99%EA%B5%90&sort=0&photo=0&field=0&pd=3&ds=2022.01.01&de=2022.01.31&cluster_rank=4378&mynews=0&office_type=0&office_section_code=0&news_office_checked=&nso=so:r,p:from20220101to20220131,a:all&start=3301\n",
      "332\n",
      "https://search.naver.com/search.naver?where=news&sm=tab_pge&query=%EA%B3%A0%EB%93%B1%ED%95%99%EA%B5%90&sort=0&photo=0&field=0&pd=3&ds=2022.01.01&de=2022.01.31&cluster_rank=4389&mynews=0&office_type=0&office_section_code=0&news_office_checked=&nso=so:r,p:from20220101to20220131,a:all&start=3311\n",
      "333\n",
      "https://search.naver.com/search.naver?where=news&sm=tab_pge&query=%EA%B3%A0%EB%93%B1%ED%95%99%EA%B5%90&sort=0&photo=0&field=0&pd=3&ds=2022.01.01&de=2022.01.31&cluster_rank=4400&mynews=0&office_type=0&office_section_code=0&news_office_checked=&nso=so:r,p:from20220101to20220131,a:all&start=3321\n",
      "334\n",
      "https://search.naver.com/search.naver?where=news&sm=tab_pge&query=%EA%B3%A0%EB%93%B1%ED%95%99%EA%B5%90&sort=0&photo=0&field=0&pd=3&ds=2022.01.01&de=2022.01.31&cluster_rank=4411&mynews=0&office_type=0&office_section_code=0&news_office_checked=&nso=so:r,p:from20220101to20220131,a:all&start=3331\n",
      "335\n",
      "https://search.naver.com/search.naver?where=news&sm=tab_pge&query=%EA%B3%A0%EB%93%B1%ED%95%99%EA%B5%90&sort=0&photo=0&field=0&pd=3&ds=2022.01.01&de=2022.01.31&cluster_rank=4423&mynews=0&office_type=0&office_section_code=0&news_office_checked=&nso=so:r,p:from20220101to20220131,a:all&start=3341\n",
      "336\n",
      "https://search.naver.com/search.naver?where=news&sm=tab_pge&query=%EA%B3%A0%EB%93%B1%ED%95%99%EA%B5%90&sort=0&photo=0&field=0&pd=3&ds=2022.01.01&de=2022.01.31&cluster_rank=4433&mynews=0&office_type=0&office_section_code=0&news_office_checked=&nso=so:r,p:from20220101to20220131,a:all&start=3351\n"
     ]
    },
    {
     "name": "stdout",
     "output_type": "stream",
     "text": [
      "337\n",
      "https://search.naver.com/search.naver?where=news&sm=tab_pge&query=%EA%B3%A0%EB%93%B1%ED%95%99%EA%B5%90&sort=0&photo=0&field=0&pd=3&ds=2022.01.01&de=2022.01.31&cluster_rank=4443&mynews=0&office_type=0&office_section_code=0&news_office_checked=&nso=so:r,p:from20220101to20220131,a:all&start=3361\n",
      "338\n",
      "https://search.naver.com/search.naver?where=news&sm=tab_pge&query=%EA%B3%A0%EB%93%B1%ED%95%99%EA%B5%90&sort=0&photo=0&field=0&pd=3&ds=2022.01.01&de=2022.01.31&cluster_rank=4453&mynews=0&office_type=0&office_section_code=0&news_office_checked=&nso=so:r,p:from20220101to20220131,a:all&start=3371\n",
      "339\n",
      "https://search.naver.com/search.naver?where=news&sm=tab_pge&query=%EA%B3%A0%EB%93%B1%ED%95%99%EA%B5%90&sort=0&photo=0&field=0&pd=3&ds=2022.01.01&de=2022.01.31&cluster_rank=4464&mynews=0&office_type=0&office_section_code=0&news_office_checked=&nso=so:r,p:from20220101to20220131,a:all&start=3381\n",
      "340\n",
      "https://search.naver.com/search.naver?where=news&sm=tab_pge&query=%EA%B3%A0%EB%93%B1%ED%95%99%EA%B5%90&sort=0&photo=0&field=0&pd=3&ds=2022.01.01&de=2022.01.31&cluster_rank=4475&mynews=0&office_type=0&office_section_code=0&news_office_checked=&nso=so:r,p:from20220101to20220131,a:all&start=3391\n",
      "341\n",
      "https://search.naver.com/search.naver?where=news&sm=tab_pge&query=%EA%B3%A0%EB%93%B1%ED%95%99%EA%B5%90&sort=0&photo=0&field=0&pd=3&ds=2022.01.01&de=2022.01.31&cluster_rank=4485&mynews=0&office_type=0&office_section_code=0&news_office_checked=&nso=so:r,p:from20220101to20220131,a:all&start=3401\n",
      "342\n",
      "https://search.naver.com/search.naver?where=news&sm=tab_pge&query=%EA%B3%A0%EB%93%B1%ED%95%99%EA%B5%90&sort=0&photo=0&field=0&pd=3&ds=2022.01.01&de=2022.01.31&cluster_rank=4495&mynews=0&office_type=0&office_section_code=0&news_office_checked=&nso=so:r,p:from20220101to20220131,a:all&start=3411\n",
      "343\n",
      "https://search.naver.com/search.naver?where=news&sm=tab_pge&query=%EA%B3%A0%EB%93%B1%ED%95%99%EA%B5%90&sort=0&photo=0&field=0&pd=3&ds=2022.01.01&de=2022.01.31&cluster_rank=4507&mynews=0&office_type=0&office_section_code=0&news_office_checked=&nso=so:r,p:from20220101to20220131,a:all&start=3421\n",
      "344\n",
      "https://search.naver.com/search.naver?where=news&sm=tab_pge&query=%EA%B3%A0%EB%93%B1%ED%95%99%EA%B5%90&sort=0&photo=0&field=0&pd=3&ds=2022.01.01&de=2022.01.31&cluster_rank=4518&mynews=0&office_type=0&office_section_code=0&news_office_checked=&nso=so:r,p:from20220101to20220131,a:all&start=3431\n",
      "345\n",
      "https://search.naver.com/search.naver?where=news&sm=tab_pge&query=%EA%B3%A0%EB%93%B1%ED%95%99%EA%B5%90&sort=0&photo=0&field=0&pd=3&ds=2022.01.01&de=2022.01.31&cluster_rank=4529&mynews=0&office_type=0&office_section_code=0&news_office_checked=&nso=so:r,p:from20220101to20220131,a:all&start=3441\n",
      "346\n",
      "https://search.naver.com/search.naver?where=news&sm=tab_pge&query=%EA%B3%A0%EB%93%B1%ED%95%99%EA%B5%90&sort=0&photo=0&field=0&pd=3&ds=2022.01.01&de=2022.01.31&cluster_rank=4540&mynews=0&office_type=0&office_section_code=0&news_office_checked=&nso=so:r,p:from20220101to20220131,a:all&start=3451\n",
      "347\n",
      "https://search.naver.com/search.naver?where=news&sm=tab_pge&query=%EA%B3%A0%EB%93%B1%ED%95%99%EA%B5%90&sort=0&photo=0&field=0&pd=3&ds=2022.01.01&de=2022.01.31&cluster_rank=4553&mynews=0&office_type=0&office_section_code=0&news_office_checked=&nso=so:r,p:from20220101to20220131,a:all&start=3461\n",
      "348\n",
      "https://search.naver.com/search.naver?where=news&sm=tab_pge&query=%EA%B3%A0%EB%93%B1%ED%95%99%EA%B5%90&sort=0&photo=0&field=0&pd=3&ds=2022.01.01&de=2022.01.31&cluster_rank=4564&mynews=0&office_type=0&office_section_code=0&news_office_checked=&nso=so:r,p:from20220101to20220131,a:all&start=3471\n",
      "349\n",
      "https://search.naver.com/search.naver?where=news&sm=tab_pge&query=%EA%B3%A0%EB%93%B1%ED%95%99%EA%B5%90&sort=0&photo=0&field=0&pd=3&ds=2022.01.01&de=2022.01.31&cluster_rank=4577&mynews=0&office_type=0&office_section_code=0&news_office_checked=&nso=so:r,p:from20220101to20220131,a:all&start=3481\n",
      "350\n",
      "https://search.naver.com/search.naver?where=news&sm=tab_pge&query=%EA%B3%A0%EB%93%B1%ED%95%99%EA%B5%90&sort=0&photo=0&field=0&pd=3&ds=2022.01.01&de=2022.01.31&cluster_rank=4590&mynews=0&office_type=0&office_section_code=0&news_office_checked=&nso=so:r,p:from20220101to20220131,a:all&start=3491\n",
      "351\n",
      "https://search.naver.com/search.naver?where=news&sm=tab_pge&query=%EA%B3%A0%EB%93%B1%ED%95%99%EA%B5%90&sort=0&photo=0&field=0&pd=3&ds=2022.01.01&de=2022.01.31&cluster_rank=4600&mynews=0&office_type=0&office_section_code=0&news_office_checked=&nso=so:r,p:from20220101to20220131,a:all&start=3501\n",
      "352\n",
      "https://search.naver.com/search.naver?where=news&sm=tab_pge&query=%EA%B3%A0%EB%93%B1%ED%95%99%EA%B5%90&sort=0&photo=0&field=0&pd=3&ds=2022.01.01&de=2022.01.31&cluster_rank=4610&mynews=0&office_type=0&office_section_code=0&news_office_checked=&nso=so:r,p:from20220101to20220131,a:all&start=3511\n",
      "353\n",
      "https://search.naver.com/search.naver?where=news&sm=tab_pge&query=%EA%B3%A0%EB%93%B1%ED%95%99%EA%B5%90&sort=0&photo=0&field=0&pd=3&ds=2022.01.01&de=2022.01.31&cluster_rank=4623&mynews=0&office_type=0&office_section_code=0&news_office_checked=&nso=so:r,p:from20220101to20220131,a:all&start=3521\n",
      "354\n",
      "https://search.naver.com/search.naver?where=news&sm=tab_pge&query=%EA%B3%A0%EB%93%B1%ED%95%99%EA%B5%90&sort=0&photo=0&field=0&pd=3&ds=2022.01.01&de=2022.01.31&cluster_rank=4634&mynews=0&office_type=0&office_section_code=0&news_office_checked=&nso=so:r,p:from20220101to20220131,a:all&start=3531\n",
      "355\n",
      "https://search.naver.com/search.naver?where=news&sm=tab_pge&query=%EA%B3%A0%EB%93%B1%ED%95%99%EA%B5%90&sort=0&photo=0&field=0&pd=3&ds=2022.01.01&de=2022.01.31&cluster_rank=4647&mynews=0&office_type=0&office_section_code=0&news_office_checked=&nso=so:r,p:from20220101to20220131,a:all&start=3541\n",
      "356\n",
      "https://search.naver.com/search.naver?where=news&sm=tab_pge&query=%EA%B3%A0%EB%93%B1%ED%95%99%EA%B5%90&sort=0&photo=0&field=0&pd=3&ds=2022.01.01&de=2022.01.31&cluster_rank=4657&mynews=0&office_type=0&office_section_code=0&news_office_checked=&nso=so:r,p:from20220101to20220131,a:all&start=3551\n",
      "357\n",
      "https://search.naver.com/search.naver?where=news&sm=tab_pge&query=%EA%B3%A0%EB%93%B1%ED%95%99%EA%B5%90&sort=0&photo=0&field=0&pd=3&ds=2022.01.01&de=2022.01.31&cluster_rank=4667&mynews=0&office_type=0&office_section_code=0&news_office_checked=&nso=so:r,p:from20220101to20220131,a:all&start=3561\n",
      "358\n",
      "https://search.naver.com/search.naver?where=news&sm=tab_pge&query=%EA%B3%A0%EB%93%B1%ED%95%99%EA%B5%90&sort=0&photo=0&field=0&pd=3&ds=2022.01.01&de=2022.01.31&cluster_rank=4678&mynews=0&office_type=0&office_section_code=0&news_office_checked=&nso=so:r,p:from20220101to20220131,a:all&start=3571\n",
      "359\n",
      "https://search.naver.com/search.naver?where=news&sm=tab_pge&query=%EA%B3%A0%EB%93%B1%ED%95%99%EA%B5%90&sort=0&photo=0&field=0&pd=3&ds=2022.01.01&de=2022.01.31&cluster_rank=4689&mynews=0&office_type=0&office_section_code=0&news_office_checked=&nso=so:r,p:from20220101to20220131,a:all&start=3581\n",
      "360\n",
      "https://search.naver.com/search.naver?where=news&sm=tab_pge&query=%EA%B3%A0%EB%93%B1%ED%95%99%EA%B5%90&sort=0&photo=0&field=0&pd=3&ds=2022.01.01&de=2022.01.31&cluster_rank=4701&mynews=0&office_type=0&office_section_code=0&news_office_checked=&nso=so:r,p:from20220101to20220131,a:all&start=3591\n",
      "361\n",
      "https://search.naver.com/search.naver?where=news&sm=tab_pge&query=%EA%B3%A0%EB%93%B1%ED%95%99%EA%B5%90&sort=0&photo=0&field=0&pd=3&ds=2022.01.01&de=2022.01.31&cluster_rank=4712&mynews=0&office_type=0&office_section_code=0&news_office_checked=&nso=so:r,p:from20220101to20220131,a:all&start=3601\n",
      "362\n",
      "https://search.naver.com/search.naver?where=news&sm=tab_pge&query=%EA%B3%A0%EB%93%B1%ED%95%99%EA%B5%90&sort=0&photo=0&field=0&pd=3&ds=2022.01.01&de=2022.01.31&cluster_rank=4724&mynews=0&office_type=0&office_section_code=0&news_office_checked=&nso=so:r,p:from20220101to20220131,a:all&start=3611\n",
      "363\n",
      "https://search.naver.com/search.naver?where=news&sm=tab_pge&query=%EA%B3%A0%EB%93%B1%ED%95%99%EA%B5%90&sort=0&photo=0&field=0&pd=3&ds=2022.01.01&de=2022.01.31&cluster_rank=4734&mynews=0&office_type=0&office_section_code=0&news_office_checked=&nso=so:r,p:from20220101to20220131,a:all&start=3621\n",
      "364\n",
      "https://search.naver.com/search.naver?where=news&sm=tab_pge&query=%EA%B3%A0%EB%93%B1%ED%95%99%EA%B5%90&sort=0&photo=0&field=0&pd=3&ds=2022.01.01&de=2022.01.31&cluster_rank=4744&mynews=0&office_type=0&office_section_code=0&news_office_checked=&nso=so:r,p:from20220101to20220131,a:all&start=3631\n"
     ]
    },
    {
     "name": "stdout",
     "output_type": "stream",
     "text": [
      "365\n",
      "https://search.naver.com/search.naver?where=news&sm=tab_pge&query=%EA%B3%A0%EB%93%B1%ED%95%99%EA%B5%90&sort=0&photo=0&field=0&pd=3&ds=2022.01.01&de=2022.01.31&cluster_rank=4755&mynews=0&office_type=0&office_section_code=0&news_office_checked=&nso=so:r,p:from20220101to20220131,a:all&start=3641\n",
      "366\n",
      "https://search.naver.com/search.naver?where=news&sm=tab_pge&query=%EA%B3%A0%EB%93%B1%ED%95%99%EA%B5%90&sort=0&photo=0&field=0&pd=3&ds=2022.01.01&de=2022.01.31&cluster_rank=4767&mynews=0&office_type=0&office_section_code=0&news_office_checked=&nso=so:r,p:from20220101to20220131,a:all&start=3651\n",
      "367\n",
      "https://search.naver.com/search.naver?where=news&sm=tab_pge&query=%EA%B3%A0%EB%93%B1%ED%95%99%EA%B5%90&sort=0&photo=0&field=0&pd=3&ds=2022.01.01&de=2022.01.31&cluster_rank=4777&mynews=0&office_type=0&office_section_code=0&news_office_checked=&nso=so:r,p:from20220101to20220131,a:all&start=3661\n",
      "368\n",
      "https://search.naver.com/search.naver?where=news&sm=tab_pge&query=%EA%B3%A0%EB%93%B1%ED%95%99%EA%B5%90&sort=0&photo=0&field=0&pd=3&ds=2022.01.01&de=2022.01.31&cluster_rank=4787&mynews=0&office_type=0&office_section_code=0&news_office_checked=&nso=so:r,p:from20220101to20220131,a:all&start=3671\n",
      "369\n",
      "https://search.naver.com/search.naver?where=news&sm=tab_pge&query=%EA%B3%A0%EB%93%B1%ED%95%99%EA%B5%90&sort=0&photo=0&field=0&pd=3&ds=2022.01.01&de=2022.01.31&cluster_rank=4799&mynews=0&office_type=0&office_section_code=0&news_office_checked=&nso=so:r,p:from20220101to20220131,a:all&start=3681\n",
      "370\n",
      "https://search.naver.com/search.naver?where=news&sm=tab_pge&query=%EA%B3%A0%EB%93%B1%ED%95%99%EA%B5%90&sort=0&photo=0&field=0&pd=3&ds=2022.01.01&de=2022.01.31&cluster_rank=4810&mynews=0&office_type=0&office_section_code=0&news_office_checked=&nso=so:r,p:from20220101to20220131,a:all&start=3691\n",
      "371\n",
      "https://search.naver.com/search.naver?where=news&sm=tab_pge&query=%EA%B3%A0%EB%93%B1%ED%95%99%EA%B5%90&sort=0&photo=0&field=0&pd=3&ds=2022.01.01&de=2022.01.31&cluster_rank=4823&mynews=0&office_type=0&office_section_code=0&news_office_checked=&nso=so:r,p:from20220101to20220131,a:all&start=3701\n",
      "372\n",
      "https://search.naver.com/search.naver?where=news&sm=tab_pge&query=%EA%B3%A0%EB%93%B1%ED%95%99%EA%B5%90&sort=0&photo=0&field=0&pd=3&ds=2022.01.01&de=2022.01.31&cluster_rank=4834&mynews=0&office_type=0&office_section_code=0&news_office_checked=&nso=so:r,p:from20220101to20220131,a:all&start=3711\n",
      "373\n",
      "https://search.naver.com/search.naver?where=news&sm=tab_pge&query=%EA%B3%A0%EB%93%B1%ED%95%99%EA%B5%90&sort=0&photo=0&field=0&pd=3&ds=2022.01.01&de=2022.01.31&cluster_rank=4845&mynews=0&office_type=0&office_section_code=0&news_office_checked=&nso=so:r,p:from20220101to20220131,a:all&start=3721\n",
      "374\n",
      "https://search.naver.com/search.naver?where=news&sm=tab_pge&query=%EA%B3%A0%EB%93%B1%ED%95%99%EA%B5%90&sort=0&photo=0&field=0&pd=3&ds=2022.01.01&de=2022.01.31&cluster_rank=4855&mynews=0&office_type=0&office_section_code=0&news_office_checked=&nso=so:r,p:from20220101to20220131,a:all&start=3731\n",
      "375\n",
      "https://search.naver.com/search.naver?where=news&sm=tab_pge&query=%EA%B3%A0%EB%93%B1%ED%95%99%EA%B5%90&sort=0&photo=0&field=0&pd=3&ds=2022.01.01&de=2022.01.31&cluster_rank=4865&mynews=0&office_type=0&office_section_code=0&news_office_checked=&nso=so:r,p:from20220101to20220131,a:all&start=3741\n",
      "376\n",
      "https://search.naver.com/search.naver?where=news&sm=tab_pge&query=%EA%B3%A0%EB%93%B1%ED%95%99%EA%B5%90&sort=0&photo=0&field=0&pd=3&ds=2022.01.01&de=2022.01.31&cluster_rank=4879&mynews=0&office_type=0&office_section_code=0&news_office_checked=&nso=so:r,p:from20220101to20220131,a:all&start=3751\n",
      "377\n",
      "https://search.naver.com/search.naver?where=news&sm=tab_pge&query=%EA%B3%A0%EB%93%B1%ED%95%99%EA%B5%90&sort=0&photo=0&field=0&pd=3&ds=2022.01.01&de=2022.01.31&cluster_rank=4891&mynews=0&office_type=0&office_section_code=0&news_office_checked=&nso=so:r,p:from20220101to20220131,a:all&start=3761\n",
      "378\n",
      "https://search.naver.com/search.naver?where=news&sm=tab_pge&query=%EA%B3%A0%EB%93%B1%ED%95%99%EA%B5%90&sort=0&photo=0&field=0&pd=3&ds=2022.01.01&de=2022.01.31&cluster_rank=4901&mynews=0&office_type=0&office_section_code=0&news_office_checked=&nso=so:r,p:from20220101to20220131,a:all&start=3771\n",
      "379\n",
      "https://search.naver.com/search.naver?where=news&sm=tab_pge&query=%EA%B3%A0%EB%93%B1%ED%95%99%EA%B5%90&sort=0&photo=0&field=0&pd=3&ds=2022.01.01&de=2022.01.31&cluster_rank=4912&mynews=0&office_type=0&office_section_code=0&news_office_checked=&nso=so:r,p:from20220101to20220131,a:all&start=3781\n",
      "380\n",
      "https://search.naver.com/search.naver?where=news&sm=tab_pge&query=%EA%B3%A0%EB%93%B1%ED%95%99%EA%B5%90&sort=0&photo=0&field=0&pd=3&ds=2022.01.01&de=2022.01.31&cluster_rank=4924&mynews=0&office_type=0&office_section_code=0&news_office_checked=&nso=so:r,p:from20220101to20220131,a:all&start=3791\n",
      "381\n",
      "https://search.naver.com/search.naver?where=news&sm=tab_pge&query=%EA%B3%A0%EB%93%B1%ED%95%99%EA%B5%90&sort=0&photo=0&field=0&pd=3&ds=2022.01.01&de=2022.01.31&cluster_rank=4934&mynews=0&office_type=0&office_section_code=0&news_office_checked=&nso=so:r,p:from20220101to20220131,a:all&start=3801\n",
      "382\n",
      "https://search.naver.com/search.naver?where=news&sm=tab_pge&query=%EA%B3%A0%EB%93%B1%ED%95%99%EA%B5%90&sort=0&photo=0&field=0&pd=3&ds=2022.01.01&de=2022.01.31&cluster_rank=4947&mynews=0&office_type=0&office_section_code=0&news_office_checked=&nso=so:r,p:from20220101to20220131,a:all&start=3811\n",
      "383\n",
      "https://search.naver.com/search.naver?where=news&sm=tab_pge&query=%EA%B3%A0%EB%93%B1%ED%95%99%EA%B5%90&sort=0&photo=0&field=0&pd=3&ds=2022.01.01&de=2022.01.31&cluster_rank=4960&mynews=0&office_type=0&office_section_code=0&news_office_checked=&nso=so:r,p:from20220101to20220131,a:all&start=3821\n",
      "384\n",
      "https://search.naver.com/search.naver?where=news&sm=tab_pge&query=%EA%B3%A0%EB%93%B1%ED%95%99%EA%B5%90&sort=0&photo=0&field=0&pd=3&ds=2022.01.01&de=2022.01.31&cluster_rank=4971&mynews=0&office_type=0&office_section_code=0&news_office_checked=&nso=so:r,p:from20220101to20220131,a:all&start=3831\n",
      "385\n",
      "https://search.naver.com/search.naver?where=news&sm=tab_pge&query=%EA%B3%A0%EB%93%B1%ED%95%99%EA%B5%90&sort=0&photo=0&field=0&pd=3&ds=2022.01.01&de=2022.01.31&cluster_rank=4983&mynews=0&office_type=0&office_section_code=0&news_office_checked=&nso=so:r,p:from20220101to20220131,a:all&start=3841\n",
      "386\n",
      "https://search.naver.com/search.naver?where=news&sm=tab_pge&query=%EA%B3%A0%EB%93%B1%ED%95%99%EA%B5%90&sort=0&photo=0&field=0&pd=3&ds=2022.01.01&de=2022.01.31&cluster_rank=4993&mynews=0&office_type=0&office_section_code=0&news_office_checked=&nso=so:r,p:from20220101to20220131,a:all&start=3851\n",
      "387\n",
      "https://search.naver.com/search.naver?where=news&sm=tab_pge&query=%EA%B3%A0%EB%93%B1%ED%95%99%EA%B5%90&sort=0&photo=0&field=0&pd=3&ds=2022.01.01&de=2022.01.31&cluster_rank=5004&mynews=0&office_type=0&office_section_code=0&news_office_checked=&nso=so:r,p:from20220101to20220131,a:all&start=3861\n",
      "388\n",
      "https://search.naver.com/search.naver?where=news&sm=tab_pge&query=%EA%B3%A0%EB%93%B1%ED%95%99%EA%B5%90&sort=0&photo=0&field=0&pd=3&ds=2022.01.01&de=2022.01.31&cluster_rank=5014&mynews=0&office_type=0&office_section_code=0&news_office_checked=&nso=so:r,p:from20220101to20220131,a:all&start=3871\n",
      "389\n",
      "https://search.naver.com/search.naver?where=news&sm=tab_pge&query=%EA%B3%A0%EB%93%B1%ED%95%99%EA%B5%90&sort=0&photo=0&field=0&pd=3&ds=2022.01.01&de=2022.01.31&cluster_rank=5024&mynews=0&office_type=0&office_section_code=0&news_office_checked=&nso=so:r,p:from20220101to20220131,a:all&start=3881\n",
      "390\n",
      "https://search.naver.com/search.naver?where=news&sm=tab_pge&query=%EA%B3%A0%EB%93%B1%ED%95%99%EA%B5%90&sort=0&photo=0&field=0&pd=3&ds=2022.01.01&de=2022.01.31&cluster_rank=5036&mynews=0&office_type=0&office_section_code=0&news_office_checked=&nso=so:r,p:from20220101to20220131,a:all&start=3891\n",
      "391\n",
      "https://search.naver.com/search.naver?where=news&sm=tab_pge&query=%EA%B3%A0%EB%93%B1%ED%95%99%EA%B5%90&sort=0&photo=0&field=0&pd=3&ds=2022.01.01&de=2022.01.31&cluster_rank=5047&mynews=0&office_type=0&office_section_code=0&news_office_checked=&nso=so:r,p:from20220101to20220131,a:all&start=3901\n",
      "392\n",
      "https://search.naver.com/search.naver?where=news&sm=tab_pge&query=%EA%B3%A0%EB%93%B1%ED%95%99%EA%B5%90&sort=0&photo=0&field=0&pd=3&ds=2022.01.01&de=2022.01.31&cluster_rank=5058&mynews=0&office_type=0&office_section_code=0&news_office_checked=&nso=so:r,p:from20220101to20220131,a:all&start=3911\n"
     ]
    },
    {
     "name": "stdout",
     "output_type": "stream",
     "text": [
      "393\n",
      "https://search.naver.com/search.naver?where=news&sm=tab_pge&query=%EA%B3%A0%EB%93%B1%ED%95%99%EA%B5%90&sort=0&photo=0&field=0&pd=3&ds=2022.01.01&de=2022.01.31&cluster_rank=5070&mynews=0&office_type=0&office_section_code=0&news_office_checked=&nso=so:r,p:from20220101to20220131,a:all&start=3921\n",
      "394\n",
      "https://search.naver.com/search.naver?where=news&sm=tab_pge&query=%EA%B3%A0%EB%93%B1%ED%95%99%EA%B5%90&sort=0&photo=0&field=0&pd=3&ds=2022.01.01&de=2022.01.31&cluster_rank=5084&mynews=0&office_type=0&office_section_code=0&news_office_checked=&nso=so:r,p:from20220101to20220131,a:all&start=3931\n",
      "395\n",
      "https://search.naver.com/search.naver?where=news&sm=tab_pge&query=%EA%B3%A0%EB%93%B1%ED%95%99%EA%B5%90&sort=0&photo=0&field=0&pd=3&ds=2022.01.01&de=2022.01.31&cluster_rank=5098&mynews=0&office_type=0&office_section_code=0&news_office_checked=&nso=so:r,p:from20220101to20220131,a:all&start=3941\n",
      "396\n",
      "https://search.naver.com/search.naver?where=news&sm=tab_pge&query=%EA%B3%A0%EB%93%B1%ED%95%99%EA%B5%90&sort=0&photo=0&field=0&pd=3&ds=2022.01.01&de=2022.01.31&cluster_rank=5109&mynews=0&office_type=0&office_section_code=0&news_office_checked=&nso=so:r,p:from20220101to20220131,a:all&start=3951\n",
      "397\n",
      "https://search.naver.com/search.naver?where=news&sm=tab_pge&query=%EA%B3%A0%EB%93%B1%ED%95%99%EA%B5%90&sort=0&photo=0&field=0&pd=3&ds=2022.01.01&de=2022.01.31&cluster_rank=5119&mynews=0&office_type=0&office_section_code=0&news_office_checked=&nso=so:r,p:from20220101to20220131,a:all&start=3961\n",
      "398\n",
      "https://search.naver.com/search.naver?where=news&sm=tab_pge&query=%EA%B3%A0%EB%93%B1%ED%95%99%EA%B5%90&sort=0&photo=0&field=0&pd=3&ds=2022.01.01&de=2022.01.31&cluster_rank=5130&mynews=0&office_type=0&office_section_code=0&news_office_checked=&nso=so:r,p:from20220101to20220131,a:all&start=3971\n",
      "399\n",
      "https://search.naver.com/search.naver?where=news&sm=tab_pge&query=%EA%B3%A0%EB%93%B1%ED%95%99%EA%B5%90&sort=0&photo=0&field=0&pd=3&ds=2022.01.01&de=2022.01.31&cluster_rank=5142&mynews=0&office_type=0&office_section_code=0&news_office_checked=&nso=so:r,p:from20220101to20220131,a:all&start=3981\n"
     ]
    }
   ],
   "source": [
    "last_page = 400 # 네이버 뉴스 최대 페이지는 400\n",
    "for page in range(2,last_page + 1):\n",
    "    r = requests.get(url,headers=browser)\n",
    "    soup = BeautifulSoup(r.text, \"html.parser\")\n",
    "    print(page)\n",
    "    try:\n",
    "        if soup.find('div','sc_page_inner').find_all(string=str(page))[0] == str(page):\n",
    "            for tag in soup.find('div','sc_page_inner').find_all(string=str(page)):\n",
    "                url = \"https://search.naver.com/search.naver\" + tag.parent.attrs[\"href\"]\n",
    "                print(url)\n",
    "    except:\n",
    "        print(\"페이지가 존재하지 않습니다.\")\n",
    "        break"
   ]
  },
  {
   "cell_type": "code",
   "execution_count": null,
   "id": "3723c0fb",
   "metadata": {},
   "outputs": [],
   "source": []
  },
  {
   "cell_type": "code",
   "execution_count": 44,
   "id": "1b6bc6a2",
   "metadata": {},
   "outputs": [
    {
     "data": {
      "text/plain": [
       "['네이버뉴스']"
      ]
     },
     "execution_count": 44,
     "metadata": {},
     "output_type": "execute_result"
    }
   ],
   "source": [
    "soup.find_all('div','news_info')[0].find_all(string='네이버뉴스')"
   ]
  },
  {
   "cell_type": "code",
   "execution_count": 49,
   "id": "a883a2df",
   "metadata": {},
   "outputs": [
    {
     "data": {
      "text/plain": [
       "<div class=\"news_info\"> <div class=\"api_save_group _keep_wrap\"> <a aria-pressed=\"false\" class=\"btn_save _keep_trigger\" data-url=\"https://kstar.kbs.co.kr/list_view.html?idx=189943\" href=\"#\" onclick=\"tCR('a=nws*e.kep&amp;r=1&amp;i=0813825F_000000000000000000043517&amp;u=javascript'); return false;\" role=\"button\"><i class=\"spnew ico_save\">문서 저장하기</i></a> <div class=\"api_ly_save _keep_save_layer\"> <a class=\"spnew_af item item_save _keep_save\" data-cr-off=\"a=nws*e.kepoff&amp;r=1&amp;i=0813825F_000000000000000000043517&amp;u=javascript\" data-cr-on=\"a=nws*e.kepon&amp;r=1&amp;i=0813825F_000000000000000000043517&amp;u=javascript\" href=\"#\" role=\"button\">Keep에 저장</a> <a class=\"spnew_af item item_quick\" href=\"https://keep.naver.com/\" onclick=\"return goOtherCR(this,'a=nws*e.kephome&amp;r=1&amp;i=0813825F_000000000000000000043517&amp;u='+urlencode(this.href));\" target=\"_blank\">Keep 바로가기</a> </div></div><div class=\"info_group\"> <a class=\"info press\" href=\"http://kstar.kbs.co.kr/\" onclick=\"return goOtherCR(this, 'a=nws*e.prof&amp;r=1&amp;i=0813825F_000000000000000000043517&amp;g=438.0000043517&amp;u='+urlencode(this.href));\" target=\"_blank\"><span class=\"thumb_box\"><img alt=\"\" class=\"thumb\" height=\"20\" onerror=\"this.src='data:image/gif;base64,R0lGODlhAQABAIAAAAAAAP///yH5BAEAAAAALAAAAAABAAEAAAIBRAA7';this.className='thumb bg_default_press'\" src=\"https://search.pstatic.net/common/?src=https%3A%2F%2Fmimgnews.pstatic.net%2Fimage%2Fupload%2Foffice_logo%2F438%2F2017%2F08%2F29%2Flogo_438_18_20170829145429.jpg&amp;type=f54_54&amp;expire=24&amp;refresh=true\" width=\"20\"/></span>KBS 연예</a><span class=\"info\">2022.01.31.</span><a class=\"info\" href=\"https://news.naver.com/main/read.naver?mode=LSD&amp;mid=sec&amp;sid1=106&amp;oid=438&amp;aid=0000043517\" onclick=\"return goOtherCR(this, 'a=nws*e.nav&amp;r=1&amp;i=0813825F_000000000000000000043517&amp;u='+urlencode(this.href));\" target=\"_blank\">네이버뉴스</a> </div></div>"
      ]
     },
     "execution_count": 49,
     "metadata": {},
     "output_type": "execute_result"
    }
   ],
   "source": [
    "soup.find_all('div','news_info')[0]"
   ]
  },
  {
   "cell_type": "code",
   "execution_count": 50,
   "id": "80bfe7ed",
   "metadata": {},
   "outputs": [
    {
     "data": {
      "text/plain": [
       "['네이버뉴스']"
      ]
     },
     "execution_count": 50,
     "metadata": {},
     "output_type": "execute_result"
    }
   ],
   "source": [
    "soup.find_all('div','news_info')[0].find_all(string='네이버뉴스')"
   ]
  },
  {
   "cell_type": "code",
   "execution_count": 51,
   "id": "ee3c05e2",
   "metadata": {},
   "outputs": [
    {
     "data": {
      "text/plain": [
       "['네이버뉴스']"
      ]
     },
     "execution_count": 51,
     "metadata": {},
     "output_type": "execute_result"
    }
   ],
   "source": [
    "soup.find_all('div','news_info')[1].find_all(string='네이버뉴스')"
   ]
  },
  {
   "cell_type": "code",
   "execution_count": 52,
   "id": "7c00f2d2",
   "metadata": {},
   "outputs": [
    {
     "data": {
      "text/plain": [
       "[]"
      ]
     },
     "execution_count": 52,
     "metadata": {},
     "output_type": "execute_result"
    }
   ],
   "source": [
    "soup.find_all('div','news_info')[3].find_all(string='네이버뉴스')"
   ]
  },
  {
   "cell_type": "code",
   "execution_count": 54,
   "id": "a0f5620b",
   "metadata": {},
   "outputs": [
    {
     "name": "stdout",
     "output_type": "stream",
     "text": [
      "https://news.naver.com/main/read.naver?mode=LSD&mid=sec&sid1=106&oid=438&aid=0000043517\n",
      "https://news.naver.com/main/read.naver?mode=LSD&mid=sec&sid1=106&oid=440&aid=0000023609\n",
      "https://news.naver.com/main/read.naver?mode=LSD&mid=sec&sid1=102&oid=214&aid=0001175007\n",
      "https://news.naver.com/main/read.naver?mode=LSD&mid=sec&sid1=102&oid=277&aid=0005037604\n",
      "https://news.naver.com/main/read.naver?mode=LSD&mid=sec&sid1=106&oid=076&aid=0003826210\n",
      "https://news.naver.com/main/read.naver?mode=LSD&mid=sec&sid1=102&oid=421&aid=0005869538\n",
      "https://news.naver.com/main/read.naver?mode=LSD&mid=sec&sid1=101&oid=024&aid=0000072938\n",
      "https://news.naver.com/main/read.naver?mode=LSD&mid=sec&sid1=106&oid=108&aid=0003024038\n"
     ]
    }
   ],
   "source": [
    "url_list = []\n",
    "articles = soup.find_all('div','news_info')\n",
    "for ar in articles:\n",
    "    for tag in ar.find_all(string='네이버뉴스'):\n",
    "        url = tag.parent.attrs['href']\n",
    "        url_list.append(url)\n",
    "        print(url)"
   ]
  },
  {
   "cell_type": "code",
   "execution_count": 58,
   "id": "3ebc1009",
   "metadata": {},
   "outputs": [
    {
     "name": "stdout",
     "output_type": "stream",
     "text": [
      "엔터: https://entertain.naver.com/read?oid=438&aid=0000043517\n",
      "엔터: https://entertain.naver.com/read?oid=440&aid=0000023609\n",
      "뉴스: https://n.news.naver.com/mnews/article/214/0001175007?sid=102\n",
      "뉴스: https://n.news.naver.com/mnews/article/277/0005037604?sid=102\n",
      "엔터: https://entertain.naver.com/read?oid=076&aid=0003826210\n",
      "뉴스: https://n.news.naver.com/mnews/article/421/0005869538?sid=102\n",
      "뉴스: https://n.news.naver.com/mnews/article/024/0000072938?sid=101\n",
      "엔터: https://entertain.naver.com/read?oid=108&aid=0003024038\n"
     ]
    }
   ],
   "source": [
    "for url in url_list:\n",
    "    r = requests.get(url, headers=browser)\n",
    "    if r.url.find('entertain') > 0:\n",
    "        print('엔터:', r.url)\n",
    "    elif r.url.find('sports') > 0:\n",
    "        print(\"스포츠:\", r.url)\n",
    "    else:\n",
    "        print(\"뉴스:\", r.url)\n",
    "    "
   ]
  },
  {
   "cell_type": "markdown",
   "id": "ea127808",
   "metadata": {},
   "source": [
    "## 엔터"
   ]
  },
  {
   "cell_type": "code",
   "execution_count": 83,
   "id": "ceb8eaf3",
   "metadata": {},
   "outputs": [],
   "source": [
    "url = 'https://entertain.naver.com/read?oid=440&aid=0000023609'\n",
    "r = requests.get(url,headers=browser)\n",
    "soup = BeautifulSoup(r.text, \"html.parser\")"
   ]
  },
  {
   "cell_type": "code",
   "execution_count": 85,
   "id": "59c613d9",
   "metadata": {},
   "outputs": [
    {
     "data": {
      "text/plain": [
       "'[TD영상] 이지원 \"올해 고등학교 1학년, 성적 잘 나오길 바라\"'"
      ]
     },
     "execution_count": 85,
     "metadata": {},
     "output_type": "execute_result"
    }
   ],
   "source": [
    "# 제목\n",
    "soup.find('h2','end_tit').text.strip()"
   ]
  },
  {
   "cell_type": "code",
   "execution_count": 75,
   "id": "eb51590a",
   "metadata": {},
   "outputs": [
    {
     "data": {
      "text/plain": [
       "'2022.01.31. 오후 2:48'"
      ]
     },
     "execution_count": 75,
     "metadata": {},
     "output_type": "execute_result"
    }
   ],
   "source": [
    "# 날짜 \n",
    "soup.find('span','author').find('em').text"
   ]
  },
  {
   "cell_type": "code",
   "execution_count": 76,
   "id": "603c6d71",
   "metadata": {},
   "outputs": [
    {
     "data": {
      "text/plain": [
       "'배우 이지원이 설날에 빌고 싶은 소원을 밝혔다.이지원은 최근 진행된 티브이데일리와의 인터뷰에서 전통 한복을 입고 시청자들과 팬들의 건강을 빌었다.앞서 이지원은 지난해 OCN \\'경이로운 소문\\', SBS \\'라켓소년단\\'을 통해 대중적 인지도를 높였다. 특히 시청자들의 눈물과 웃음을 짓게 만든 \\'라켓소년단\\'에서 해남 제일 여중 배드민턴부 에이스이자 당찬 카리스마로 네트를 제압한 이한솔 역으로 활약했다.그는 실제 선수를 방불케 하는 배드민턴 실력을 아낌없이 보여주는 것은 물론, 탄탄한 연기력과 셔틀콕으로 때리듯 정확한 딕션과 장면마다 섬세한 감정표현의 조화로움이 어우러져 방영 내내 눈을 뗄 수 없는 몰입감을 선사했다.\\'라켓소년단\\' 종영 이후 휴식기를 가졌던 이지원은 오랜만에 한복을 입게 됐다며 \"3년 전에 마지막으로 입어봤다. \\'한복이 이런 느낌이구나\\'라는 걸 다시 알게 됐다. 한복 안에 레이스가 많아서 느낌도 좋다. 입고 집에 가고 싶은 마음이다\"라고 말해 이목을 사로잡았다.이어 이지원은 설날 연휴 계획에 대해 \"가족들과 함께 영화 보면서 따뜻하게 보내고 싶다\"라며 \"엄마표 떡국이 정말 맛있다. 먹은 걸로 치면 거의 80살 정도 될 거다. 계속 먹고 싶다. 떡국은 최고인 것 같다\"라고 설명했다.또한 이지원은 설날에 빌고 싶은 소원으로 \\'높은 시험 성적\\'을 바랐다. 그는 \"올해 고등학교 1학년이 된다. 성적 잘 나왔으면 좋겠다. 그리고 가족뿐만 아니라 대중들 모두 건강했으면 좋겠다\"라고 전해 훈훈함을 안겼다.이지원은 끝으로 \"아직까지는 공개 가능한 범위에서 말씀드릴 수 있는 게 없다. 대중분들이 나중에 직접 확인하셨으면 좋겠다. 최대한 열심히 하겠다\"라고 활동 계획을 밝히며 \"이제 한 해가 시작했는데 모두 작심 365일 했으면 한다\"라고 팬들에게 덕담을 건넸다.'"
      ]
     },
     "execution_count": 76,
     "metadata": {},
     "output_type": "execute_result"
    }
   ],
   "source": [
    "# 본문\n",
    "soup.find('div',id='articeBody').text.strip()"
   ]
  },
  {
   "cell_type": "code",
   "execution_count": 77,
   "id": "50c5b72c",
   "metadata": {},
   "outputs": [
    {
     "name": "stdout",
     "output_type": "stream",
     "text": [
      "배우 이지원이 설날에 빌고 싶은 소원을 밝혔다 이지원은 최근 진행된 티브이데일리와의 인터뷰에서 전통 한복을 입고 시청자들과 팬들의 건강을 빌었다 앞서 이지원은 지난해 OCN 경이로운 소문 SBS 라켓소년단 을 통해 대중적 인지도를 높였다 특히 시청자들의 눈물과 웃음을 짓게 만든 라켓소년단 에서 해남 제일 여중 배드민턴부 에이스이자 당찬 카리스마로 네트를 제압한 이한솔 역으로 활약했다 그는 실제 선수를 방불케 하는 배드민턴 실력을 아낌없이 보여주는 것은 물론 탄탄한 연기력과 셔틀콕으로 때리듯 정확한 딕션과 장면마다 섬세한 감정표현의 조화로움이 어우러져 방영 내내 눈을 뗄 수 없는 몰입감을 선사했다 라켓소년단 종영 이후 휴식기를 가졌던 이지원은 오랜만에 한복을 입게 됐다며 3년 전에 마지막으로 입어봤다 한복이 이런 느낌이구나 라는 걸 다시 알게 됐다 한복 안에 레이스가 많아서 느낌도 좋다 입고 집에 가고 싶은 마음이다 라고 말해 이목을 사로잡았다 이어 이지원은 설날 연휴 계획에 대해 가족들과 함께 영화 보면서 따뜻하게 보내고 싶다 라며 엄마표 떡국이 정말 맛있다 먹은 걸로 치면 거의 80살 정도 될 거다 계속 먹고 싶다 떡국은 최고인 것 같다 라고 설명했다 또한 이지원은 설날에 빌고 싶은 소원으로 높은 시험 성적 을 바랐다 그는 올해 고등학교 1학년이 된다 성적 잘 나왔으면 좋겠다 그리고 가족뿐만 아니라 대중들 모두 건강했으면 좋겠다 라고 전해 훈훈함을 안겼다 이지원은 끝으로 아직까지는 공개 가능한 범위에서 말씀드릴 수 있는 게 없다 대중분들이 나중에 직접 확인하셨으면 좋겠다 최대한 열심히 하겠다 라고 활동 계획을 밝히며 이제 한 해가 시작했는데 모두 작심 365일 했으면 한다 라고 팬들에게 덕담을 건넸다\n"
     ]
    }
   ],
   "source": [
    "import re \n",
    "msg = re.findall('[a-zA-Z0-9가-힣]+',soup.find('div',id='articeBody').text.strip())\n",
    "print(' '.join(msg))"
   ]
  },
  {
   "cell_type": "markdown",
   "id": "11a3d552",
   "metadata": {},
   "source": [
    "## 뉴스"
   ]
  },
  {
   "cell_type": "code",
   "execution_count": 87,
   "id": "beeb0f39",
   "metadata": {},
   "outputs": [],
   "source": [
    "url = 'https://n.news.naver.com/mnews/article/214/0001175007?sid=102'\n",
    "r = requests.get(url,headers=browser)\n",
    "soup = BeautifulSoup(r.text, \"html.parser\")"
   ]
  },
  {
   "cell_type": "code",
   "execution_count": 88,
   "id": "a0d34191",
   "metadata": {},
   "outputs": [
    {
     "data": {
      "text/plain": [
       "'올해 일반계 고등학교 83.9% 고교학점제 연구·선도학교 운영'"
      ]
     },
     "execution_count": 88,
     "metadata": {},
     "output_type": "execute_result"
    }
   ],
   "source": [
    "# 제목\n",
    "soup.find('h2','media_end_head_headline').text"
   ]
  },
  {
   "cell_type": "code",
   "execution_count": 89,
   "id": "704bb925",
   "metadata": {},
   "outputs": [
    {
     "data": {
      "text/plain": [
       "'2022.01.27. 오전 9:15'"
      ]
     },
     "execution_count": 89,
     "metadata": {},
     "output_type": "execute_result"
    }
   ],
   "source": [
    "# 날짜\n",
    "soup.find('span','media_end_head_info_datestamp_time _ARTICLE_DATE_TIME').text"
   ]
  },
  {
   "cell_type": "code",
   "execution_count": 92,
   "id": "3a6f5c7a",
   "metadata": {},
   "outputs": [
    {
     "data": {
      "text/plain": [
       "'교육부 제공 오는 2025년 고교학점제 전면 시행을 앞두고 올해 일반계 고등학교의 83.9%인 1천413곳이 연구·선도학교로 운영됩니다.  고교학점제는 학생들의 과목 선택권을 확대해 진로와 학업 설계를 돕는 제도로, 교육부는 본격 시행 이전 모든 학교에서 연구·선도학교를 운영할 계획입니다.  유은혜 부총리 겸 교육부장관은 \"고등학교 교육을 근본적으로 혁신하기 위한 고교학점제가 2025년 전면 시행됨에 따라 2024년까지 모든 고등학교에서 연구·선도학교 운영을 통해 학점제를 안정적으로 준비해 나갈 것\"이라고 밝혔습니다.'"
      ]
     },
     "execution_count": 92,
     "metadata": {},
     "output_type": "execute_result"
    }
   ],
   "source": [
    "# 본문\n",
    "soup.find('div',id='dic_area').text.strip()"
   ]
  },
  {
   "cell_type": "markdown",
   "id": "55cea942",
   "metadata": {},
   "source": [
    "## 스포츠"
   ]
  },
  {
   "cell_type": "code",
   "execution_count": 93,
   "id": "4f983e1f",
   "metadata": {},
   "outputs": [],
   "source": [
    "url = 'https://sports.news.naver.com/news.nhn?oid=351&aid=0000057198'\n",
    "r = requests.get(url,headers=browser)\n",
    "soup = BeautifulSoup(r.text, \"html.parser\")"
   ]
  },
  {
   "cell_type": "code",
   "execution_count": 95,
   "id": "2fc9d405",
   "metadata": {},
   "outputs": [
    {
     "data": {
      "text/plain": [
       "'[학교 탐방] ‘장신 가드’ 윤어진의 목표, \"고등 최고의 가드가 되고 싶다\"'"
      ]
     },
     "execution_count": 95,
     "metadata": {},
     "output_type": "execute_result"
    }
   ],
   "source": [
    "# 제목\n",
    "soup.find('h4','title').text"
   ]
  },
  {
   "cell_type": "code",
   "execution_count": 107,
   "id": "49afdc34",
   "metadata": {},
   "outputs": [
    {
     "data": {
      "text/plain": [
       "' 2022.01.25. 오후 03:26'"
      ]
     },
     "execution_count": 107,
     "metadata": {},
     "output_type": "execute_result"
    }
   ],
   "source": [
    "# 날짜\n",
    "soup.find('div','info').find('span').text.replace('기사입력','')"
   ]
  },
  {
   "cell_type": "code",
   "execution_count": 109,
   "id": "c4e042fc",
   "metadata": {},
   "outputs": [
    {
     "data": {
      "text/plain": [
       "'\\n윤어진(190cm, G)의 목표는 고등 최고의 가드가 되는 것이다.천안쌍용고는 겨울 방학을 맞아 강릉에서 전지훈련을 진행하고 있다. 전지훈련을 통해 다양한 팀들과 연습 경기를 가지고 있다. 전지훈련에 대한 질문에 윤어진은 “전지훈련 처음에는 힘들었는데 시간이 지나니 조금은 적응했다. 오전에는 웨이트훈련 위주로 한다. 오후에는 연습 경기를 가지고 저녁에는 슈팅이나 개인 운동을 한다. 특히 시간이 날 때마다 슈팅에 집중하고 있다”라며 근황을 전했다. 연습 경기 상대로 대학팀들과도 연습 경기를 진행했다. 한 단계 더 높은 수준의 농구를 접한 윤어진은 본인의 장단점을 확실히 알게 됐다.윤어진은 “확실히 대학교 형들은 다르다. 속공이 나가는 스피드가 고등학교와는 확실히 다르다. 신체적으로도 너무 뛰어나다. 그래서 힘에서 많이 밀리는 것 같다”라며 대학팀들을 상대한 소감을 전했다. 이어, “힘이 밀리다 보니 웨이트 트레이닝의 중요성을 깨달았다. 내년에 대학을 가는 만큼 웨이트를 더 많이 해서 대학에서도 충분히 통하는 몸을 만들고 싶다. 또한, 슈팅이 중요하다는 것도 느꼈다. 지금은 조금 부족하지만, 집중적으로 연습하고 싶다. 전지훈련을 통해 다양한 슈팅을 쏘고 싶다. 높은 수준의 형들과 해보니 동기부여가 많이 됐다”라며 전지훈련의 목표를 전했다.계속해 “실력은 자신감이 젤 중요하다고 생각한다. 형들이라고 해서 두렵다고 생각할 필요가 없다고 생각한다”라며 자신감을 강조했다.윤어진은 자신의 장점을 장신 가드로 뽑았다. 그러한 장점을 살려 속공에서 두각을 나타내고 있다. 윤어진은 “장점은 포지션에 대비 키가 크다. 농구다 보니 키로 할 수 있는 게 많다고 생각한다. 다른 상대 가드들보다 리바운드에 장점이 있다. 그래서 더 빠르게 속공을 전개 할 수 있다. 팀 또한 속공을 많이 하는 팀이어서 더 잘 맞는 것 같다”라며 본인의 장점을 전했다.  계속해 “작년에는 형들이 많아서 형들을 도와주려고 패스와 리바운드에 집중했다. 올해는 공격을 주도해 보고 싶다. 걔인 적으로는 상이나 대회 MVP를 받고 싶다. 그래서 고등학교 최고의 가드라는 소리를 듣고 싶다”라고 전했다.이어, “팀 적으로는 우승하고 싶다. 이번에 멤버도 좋고 충분하다고 생각한다”라며 본인의 목표를 전하며 인터뷰를 마무리했다.사진 제공 = 천안쌍용고 농구부\\n기사제공 바스켓코리아\\n박종호 pjongho12@gmail.com\\n\\n\\n\\n\\n\\n\\n\\n\\n\\n\\n\\n\\n\\n박종호 기자\\n\\n\\n구독\\n\\n\\n\\n박종호 기자의 구독을 취소하시겠습니까?구독에서 해당 기자의 기사가 제외됩니다.\\n\\n예\\n아니오\\n\\n닫기\\n\\n\\n\\n\\n\\n\\n구독자\\n-\\n\\n\\n응원수\\n-\\n\\n\\n\\n\\n남녀노소가 즐길 수 있는, 재미있는 농구 이야기를 전달하도록 하겠습니다. 바스켓코리아 박종호입니다.\\n\\n\\n\\n‘시리즈 평균 19점’ 하든, “커리어 중 가장 힘든 시리즈였다”\\n\\n\\n‘2라운드 진출’ 그린, “플레이오프는 내가 제일 좋아하는 시기다”\\n\\n\\n\\n\\n\\n\\n\\n\\n\\nCopyright ⓒ 바스켓코리아. All rights reserved. 무단 전재 및 재배포 금지.\\n\\n\\n\\n기사 섹션 분류 가이드\\n\\n기사 섹션 분류 안내\\n스포츠 기사 섹션(종목) 정보는 언론사 분류와 기술 기반의 자동 분류 시스템을 따르고 있습니다. 오분류에 대한 건은 네이버스포츠로 제보 부탁드립니다.\\n오분류 제보하기\\n가이드 닫기\\n\\n\\n\\n\\n\\n\\n바스켓코리아 홈페이지 바로가기\\n\\n\\n바스켓코리아 유튜브 채널 바로 가기\\n\\n\\n\\n'"
      ]
     },
     "execution_count": 109,
     "metadata": {},
     "output_type": "execute_result"
    }
   ],
   "source": [
    "# 본문\n",
    "soup.find('div',id='newsEndContents').text"
   ]
  },
  {
   "cell_type": "code",
   "execution_count": 110,
   "id": "b679af40",
   "metadata": {},
   "outputs": [
    {
     "name": "stdout",
     "output_type": "stream",
     "text": [
      "윤어진 190cm G 의 목표는 고등 최고의 가드가 되는 것이다 천안쌍용고는 겨울 방학을 맞아 강릉에서 전지훈련을 진행하고 있다 전지훈련을 통해 다양한 팀들과 연습 경기를 가지고 있다 전지훈련에 대한 질문에 윤어진은 전지훈련 처음에는 힘들었는데 시간이 지나니 조금은 적응했다 오전에는 웨이트훈련 위주로 한다 오후에는 연습 경기를 가지고 저녁에는 슈팅이나 개인 운동을 한다 특히 시간이 날 때마다 슈팅에 집중하고 있다 라며 근황을 전했다 연습 경기 상대로 대학팀들과도 연습 경기를 진행했다 한 단계 더 높은 수준의 농구를 접한 윤어진은 본인의 장단점을 확실히 알게 됐다 윤어진은 확실히 대학교 형들은 다르다 속공이 나가는 스피드가 고등학교와는 확실히 다르다 신체적으로도 너무 뛰어나다 그래서 힘에서 많이 밀리는 것 같다 라며 대학팀들을 상대한 소감을 전했다 이어 힘이 밀리다 보니 웨이트 트레이닝의 중요성을 깨달았다 내년에 대학을 가는 만큼 웨이트를 더 많이 해서 대학에서도 충분히 통하는 몸을 만들고 싶다 또한 슈팅이 중요하다는 것도 느꼈다 지금은 조금 부족하지만 집중적으로 연습하고 싶다 전지훈련을 통해 다양한 슈팅을 쏘고 싶다 높은 수준의 형들과 해보니 동기부여가 많이 됐다 라며 전지훈련의 목표를 전했다 계속해 실력은 자신감이 젤 중요하다고 생각한다 형들이라고 해서 두렵다고 생각할 필요가 없다고 생각한다 라며 자신감을 강조했다 윤어진은 자신의 장점을 장신 가드로 뽑았다 그러한 장점을 살려 속공에서 두각을 나타내고 있다 윤어진은 장점은 포지션에 대비 키가 크다 농구다 보니 키로 할 수 있는 게 많다고 생각한다 다른 상대 가드들보다 리바운드에 장점이 있다 그래서 더 빠르게 속공을 전개 할 수 있다 팀 또한 속공을 많이 하는 팀이어서 더 잘 맞는 것 같다 라며 본인의 장점을 전했다 계속해 작년에는 형들이 많아서 형들을 도와주려고 패스와 리바운드에 집중했다 올해는 공격을 주도해 보고 싶다 걔인 적으로는 상이나 대회 MVP를 받고 싶다 그래서 고등학교 최고의 가드라는 소리를 듣고 싶다 라고 전했다 이어 팀 적으로는 우승하고 싶다 이번에 멤버도 좋고 충분하다고 생각한다 라며 본인의 목표를 전하며 인터뷰를 마무리했다 사진 제공 천안쌍용고 농구부 기사제공 바스켓코리아 박종호 pjongho12 gmail com 박종호 기자 구독 박종호 기자의 구독을 취소하시겠습니까 구독에서 해당 기자의 기사가 제외됩니다 예 아니오 닫기 구독자 응원수 남녀노소가 즐길 수 있는 재미있는 농구 이야기를 전달하도록 하겠습니다 바스켓코리아 박종호입니다 시리즈 평균 19점 하든 커리어 중 가장 힘든 시리즈였다 2라운드 진출 그린 플레이오프는 내가 제일 좋아하는 시기다 Copyright 바스켓코리아 All rights reserved 무단 전재 및 재배포 금지 기사 섹션 분류 가이드 기사 섹션 분류 안내 스포츠 기사 섹션 종목 정보는 언론사 분류와 기술 기반의 자동 분류 시스템을 따르고 있습니다 오분류에 대한 건은 네이버스포츠로 제보 부탁드립니다 오분류 제보하기 가이드 닫기 바스켓코리아 홈페이지 바로가기 바스켓코리아 유튜브 채널 바로 가기\n"
     ]
    }
   ],
   "source": [
    "import re \n",
    "msg = re.findall('[a-zA-Z0-9가-힣]+',soup.find('div',id='newsEndContents').text.strip())\n",
    "print(' '.join(msg))"
   ]
  },
  {
   "cell_type": "code",
   "execution_count": 111,
   "id": "a829ee87",
   "metadata": {},
   "outputs": [],
   "source": [
    "title_list = []\n",
    "date_list = []\n",
    "bodies_list = []\n",
    "\n",
    "for url in url_list:\n",
    "    r = requests.get(url,headers=browser)\n",
    "    soup = BeautifulSoup(r.text, \"html.parser\")\n",
    "    if r.url.find('entertain') > 0:\n",
    "        title_list.append(soup.find('h2','end_tit').text.strip())\n",
    "        date_list.append(soup.find('span','author').find('em').text)\n",
    "        bodies_list.append(soup.find('div',id='articeBody').text.strip())\n",
    "    else:\n",
    "        title_list.append(soup.find(\"h2\",'media_end_head_headline').text)\n",
    "        date_list.append(soup.find(\"span\",\"media_end_head_info_datestamp_time _ARTICLE_DATE_TIME\").text)\n",
    "        bodies_list.append(soup.find(\"div\",id='dic_area').text.strip())"
   ]
  },
  {
   "cell_type": "code",
   "execution_count": 112,
   "id": "8e643364",
   "metadata": {},
   "outputs": [],
   "source": [
    "df = pd.DataFrame({\"날짜\":date_list,\"제목\":title_list,\"본문\":bodies_list})\n",
    "df.to_csv(\"네이버뉴스크롤링.csv\", encoding=\"utf-8-sig\")"
   ]
  },
  {
   "cell_type": "markdown",
   "id": "d78e61ac",
   "metadata": {},
   "source": [
    "# 최종 코드 정리"
   ]
  },
  {
   "cell_type": "code",
   "execution_count": null,
   "id": "284f0c4d",
   "metadata": {},
   "outputs": [],
   "source": [
    "import requests\n",
    "from bs4 import BeautifulSoup\n",
    "import datetime\n",
    "import re \n",
    "from tqdm import tqdm\n",
    "import pandas as pd"
   ]
  },
  {
   "cell_type": "code",
   "execution_count": 118,
   "id": "9e2aee0f",
   "metadata": {
    "scrolled": false
   },
   "outputs": [
    {
     "name": "stdout",
     "output_type": "stream",
     "text": [
      "https://search.naver.com/search.naver?where=news&query=대학교&ds=2022.01.01&de=2022.01.31&nso=so:r,p:from20220101to20220131,a:all&start=1\n"
     ]
    },
    {
     "name": "stderr",
     "output_type": "stream",
     "text": [
      "100%|██████████████████████████████████████████████████████████████████████████████████| 19/19 [00:14<00:00,  1.30it/s]\n"
     ]
    }
   ],
   "source": [
    "keyword     = \"대학교\" #원하는 키워드 입력 (두개 이상은 + 사용, 예 고등학교+돌봄)\n",
    "startDate   = datetime.datetime(2022, 1, 1) # 시작 날짜\n",
    "endDate     = datetime.datetime(2022, 1, 31) # 끝 날짜\n",
    "last_page = 20 # 네이버뉴스는 400 페이지까지 \n",
    "\n",
    "url = \"https://search.naver.com/search.naver?where=news&query=\" + keyword + \\\n",
    "                   \"&ds=\" + startDate.strftime(\"%Y.%m.%d\") + \\\n",
    "                   \"&de=\"+endDate.strftime(\"%Y.%m.%d\") + \\\n",
    "                   \"&nso=so:r,p:from\" + startDate.strftime(\"%Y%m%d\") + \\\n",
    "                   \"to\" + endDate.strftime(\"%Y%m%d\") + \\\n",
    "                   \",a:all&start=1\" \n",
    "print(url)\n",
    "\n",
    "r = requests.get(url,headers=browser)\n",
    "soup = BeautifulSoup(r.text, \"html.parser\")\n",
    "\n",
    "title_list = []\n",
    "date_list = []\n",
    "bodies_list = []\n",
    "\n",
    "def url_find(soup):\n",
    "    url_list = []\n",
    "    articles = soup.find_all('div','news_info')\n",
    "    for ar in articles:\n",
    "        for tag in ar.find_all(string=\"네이버뉴스\"):\n",
    "            url = tag.parent.attrs[\"href\"]\n",
    "            url_list.append(url)\n",
    "    return url_list\n",
    "\n",
    "def news(url_list,title_list,date_list,bodies_list):\n",
    "    for url in url_list:\n",
    "        r = requests.get(url,headers=browser)\n",
    "        soup = BeautifulSoup(r.text, \"html.parser\")\n",
    "        if r.url.find('entertain') > 0:\n",
    "            title_list.append(soup.find('h2','end_tit').text.strip())\n",
    "            date_list.append(soup.find('span','author').find('em').text)\n",
    "            bodies_list.append(soup.find('div',id='articeBody').text.strip())\n",
    "        elif r.url.find('sports') > 0:\n",
    "            title_list.append(soup.find(\"h4\",'title').text)\n",
    "            date_list.append(soup.find('div','info').find('span').text)\n",
    "            bodies_list.append(soup.find('div',id='newsEndContents').text.strip())\n",
    "        else:\n",
    "            title_list.append(soup.find(\"h2\",'media_end_head_headline').text)\n",
    "            date_list.append(soup.find(\"span\",\"media_end_head_info_datestamp_time _ARTICLE_DATE_TIME\").text)\n",
    "            bodies_list.append(soup.find(\"div\",id='dic_area').text.strip())\n",
    "    return title_list,date_list,bodies_list\n",
    "\n",
    "url_list = url_find(soup)\n",
    "title_list,date_list,bodies_list = news(url_list,title_list,date_list,bodies_list)\n",
    "\n",
    "for page in tqdm(range(2,last_page + 1)):\n",
    "    try:\n",
    "        if soup.find('div','sc_page_inner').find_all(string=str(page))[0] == str(page):\n",
    "            for tag in soup.find('div','sc_page_inner').find_all(string=str(page)):\n",
    "                url = \"https://search.naver.com/search.naver\" + tag.parent.attrs[\"href\"]\n",
    "                r = requests.get(url,headers=browser)\n",
    "                soup = BeautifulSoup(r.text, \"html.parser\")\n",
    "                url_list = url_find(soup)\n",
    "                title_list,date_list,bodies_list = news(url_list,title_list,date_list,bodies_list)\n",
    "    except:\n",
    "        print(\"페이지가 존재하지 않습니다.\")\n",
    "        break\n",
    "        \n",
    "df = pd.DataFrame({\"날짜\":date_list,\"제목\":title_list,\"본문\":bodies_list})\n",
    "df.to_csv(\"네이버뉴스크롤링.csv\", encoding=\"utf-8-sig\")"
   ]
  }
 ],
 "metadata": {
  "kernelspec": {
   "display_name": "Python 3 (ipykernel)",
   "language": "python",
   "name": "python3"
  },
  "language_info": {
   "codemirror_mode": {
    "name": "ipython",
    "version": 3
   },
   "file_extension": ".py",
   "mimetype": "text/x-python",
   "name": "python",
   "nbconvert_exporter": "python",
   "pygments_lexer": "ipython3",
   "version": "3.9.7"
  }
 },
 "nbformat": 4,
 "nbformat_minor": 5
}
