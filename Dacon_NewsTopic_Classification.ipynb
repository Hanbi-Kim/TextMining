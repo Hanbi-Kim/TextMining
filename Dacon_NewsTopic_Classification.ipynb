{
 "cells": [
  {
   "cell_type": "code",
   "execution_count": 76,
   "metadata": {},
   "outputs": [],
   "source": [
    "import pandas as pd\n",
    "from konlpy.tag import Okt\n",
    "from tqdm import tqdm\n",
    "from collections import Counter\n",
    "import numpy as np"
   ]
  },
  {
   "cell_type": "code",
   "execution_count": 4,
   "metadata": {},
   "outputs": [],
   "source": [
    "train      = pd.read_csv(\"dataset/dacon_news/train_data.csv\")\n",
    "test       = pd.read_csv(\"dataset/dacon_news/test_data.csv\")\n",
    "submission = pd.read_csv(\"dataset/dacon_news/sample_submission.csv\")\n",
    "topic_dict = pd.read_csv(\"dataset/dacon_news/topic_dict.csv\")"
   ]
  },
  {
   "cell_type": "code",
   "execution_count": 51,
   "metadata": {},
   "outputs": [
    {
     "data": {
      "text/html": [
       "<div>\n",
       "<style scoped>\n",
       "    .dataframe tbody tr th:only-of-type {\n",
       "        vertical-align: middle;\n",
       "    }\n",
       "\n",
       "    .dataframe tbody tr th {\n",
       "        vertical-align: top;\n",
       "    }\n",
       "\n",
       "    .dataframe thead th {\n",
       "        text-align: right;\n",
       "    }\n",
       "</style>\n",
       "<table border=\"1\" class=\"dataframe\">\n",
       "  <thead>\n",
       "    <tr style=\"text-align: right;\">\n",
       "      <th></th>\n",
       "      <th>index</th>\n",
       "      <th>title</th>\n",
       "      <th>topic_idx</th>\n",
       "    </tr>\n",
       "  </thead>\n",
       "  <tbody>\n",
       "    <tr>\n",
       "      <th>0</th>\n",
       "      <td>0</td>\n",
       "      <td>인천→핀란드 항공기 결항…휴가철 여행객 분통</td>\n",
       "      <td>4</td>\n",
       "    </tr>\n",
       "    <tr>\n",
       "      <th>1</th>\n",
       "      <td>1</td>\n",
       "      <td>실리콘밸리 넘어서겠다…구글 15조원 들여 美전역 거점화</td>\n",
       "      <td>4</td>\n",
       "    </tr>\n",
       "    <tr>\n",
       "      <th>2</th>\n",
       "      <td>2</td>\n",
       "      <td>이란 외무 긴장완화 해결책은 미국이 경제전쟁 멈추는 것</td>\n",
       "      <td>4</td>\n",
       "    </tr>\n",
       "    <tr>\n",
       "      <th>3</th>\n",
       "      <td>3</td>\n",
       "      <td>NYT 클린턴 측근韓기업 특수관계 조명…공과 사 맞물려종합</td>\n",
       "      <td>4</td>\n",
       "    </tr>\n",
       "    <tr>\n",
       "      <th>4</th>\n",
       "      <td>4</td>\n",
       "      <td>시진핑 트럼프에 중미 무역협상 조속 타결 희망</td>\n",
       "      <td>4</td>\n",
       "    </tr>\n",
       "    <tr>\n",
       "      <th>...</th>\n",
       "      <td>...</td>\n",
       "      <td>...</td>\n",
       "      <td>...</td>\n",
       "    </tr>\n",
       "    <tr>\n",
       "      <th>45649</th>\n",
       "      <td>45649</td>\n",
       "      <td>KB금융 미국 IB 스티펠과 제휴…선진국 시장 공략</td>\n",
       "      <td>1</td>\n",
       "    </tr>\n",
       "    <tr>\n",
       "      <th>45650</th>\n",
       "      <td>45650</td>\n",
       "      <td>1보 서울시교육청 신종코로나 확산에 개학 연기·휴업 검토</td>\n",
       "      <td>2</td>\n",
       "    </tr>\n",
       "    <tr>\n",
       "      <th>45651</th>\n",
       "      <td>45651</td>\n",
       "      <td>게시판 키움증권 2020 키움 영웅전 실전투자대회</td>\n",
       "      <td>1</td>\n",
       "    </tr>\n",
       "    <tr>\n",
       "      <th>45652</th>\n",
       "      <td>45652</td>\n",
       "      <td>답변하는 배기동 국립중앙박물관장</td>\n",
       "      <td>2</td>\n",
       "    </tr>\n",
       "    <tr>\n",
       "      <th>45653</th>\n",
       "      <td>45653</td>\n",
       "      <td>2020 한국인터넷기자상 시상식 내달 1일 개최…특별상 김성후</td>\n",
       "      <td>2</td>\n",
       "    </tr>\n",
       "  </tbody>\n",
       "</table>\n",
       "<p>45654 rows × 3 columns</p>\n",
       "</div>"
      ],
      "text/plain": [
       "       index                               title  topic_idx\n",
       "0          0            인천→핀란드 항공기 결항…휴가철 여행객 분통          4\n",
       "1          1      실리콘밸리 넘어서겠다…구글 15조원 들여 美전역 거점화          4\n",
       "2          2      이란 외무 긴장완화 해결책은 미국이 경제전쟁 멈추는 것          4\n",
       "3          3    NYT 클린턴 측근韓기업 특수관계 조명…공과 사 맞물려종합          4\n",
       "4          4           시진핑 트럼프에 중미 무역협상 조속 타결 희망          4\n",
       "...      ...                                 ...        ...\n",
       "45649  45649        KB금융 미국 IB 스티펠과 제휴…선진국 시장 공략          1\n",
       "45650  45650     1보 서울시교육청 신종코로나 확산에 개학 연기·휴업 검토          2\n",
       "45651  45651         게시판 키움증권 2020 키움 영웅전 실전투자대회          1\n",
       "45652  45652                   답변하는 배기동 국립중앙박물관장          2\n",
       "45653  45653  2020 한국인터넷기자상 시상식 내달 1일 개최…특별상 김성후          2\n",
       "\n",
       "[45654 rows x 3 columns]"
      ]
     },
     "execution_count": 51,
     "metadata": {},
     "output_type": "execute_result"
    }
   ],
   "source": [
    "train"
   ]
  },
  {
   "cell_type": "code",
   "execution_count": 5,
   "metadata": {},
   "outputs": [],
   "source": [
    "# 형태소 분석기(Okt) 불러오기 \n",
    "okt=Okt() "
   ]
  },
  {
   "cell_type": "markdown",
   "metadata": {},
   "source": [
    "# 형태소 분석: 명사만 추출하기"
   ]
  },
  {
   "cell_type": "code",
   "execution_count": 8,
   "metadata": {},
   "outputs": [],
   "source": [
    "nouns_list = []\n",
    "for i in tqdm(range(len(train))):\n",
    "    nouns_list.append(okt.nouns(train['title'].loc[i]))"
   ]
  },
  {
   "cell_type": "code",
   "execution_count": 10,
   "metadata": {},
   "outputs": [],
   "source": [
    "total_word = []\n",
    "for i in range(len(nouns_list)):\n",
    "    for word in nouns_list[i]:\n",
    "        total_word.append(word)"
   ]
  },
  {
   "cell_type": "code",
   "execution_count": 13,
   "metadata": {},
   "outputs": [
    {
     "data": {
      "text/plain": [
       "[('종합', 4033),\n",
       " ('대통령', 1723),\n",
       " ('한국', 1456),\n",
       " ('명', 1416),\n",
       " ('위', 1204),\n",
       " ('첫', 999),\n",
       " ('삼성', 904),\n",
       " ('전', 892),\n",
       " ('등', 892),\n",
       " ('보', 849),\n",
       " ('이란', 803),\n",
       " ('감독', 778),\n",
       " ('출시', 778),\n",
       " ('경기', 758),\n",
       " ('게시판', 735),\n",
       " ('트럼프', 702),\n",
       " ('신간', 686),\n",
       " ('것', 685),\n",
       " ('중', 618),\n",
       " ('정부', 603),\n",
       " ('투자', 599),\n",
       " ('개발', 594),\n",
       " ('개', 586),\n",
       " ('서울', 573),\n",
       " ('지원', 557),\n",
       " ('제', 540),\n",
       " ('더', 521),\n",
       " ('최고', 517),\n",
       " ('주', 512),\n",
       " ('중국', 511)]"
      ]
     },
     "execution_count": 13,
     "metadata": {},
     "output_type": "execute_result"
    }
   ],
   "source": [
    "Counter(total_word).most_common(30)"
   ]
  },
  {
   "cell_type": "markdown",
   "metadata": {},
   "source": [
    "# 0번 토픽 문서에서 가장 많이 나온 명사 추출하기"
   ]
  },
  {
   "cell_type": "code",
   "execution_count": 24,
   "metadata": {},
   "outputs": [],
   "source": [
    "topic0 = train[train['topic_idx'] == 0].index\n",
    "topipc0_total_word = []\n",
    "for i in topic0:\n",
    "    for word in nouns_list[i]:\n",
    "        topipc0_total_word.append(word)"
   ]
  },
  {
   "cell_type": "code",
   "execution_count": 25,
   "metadata": {},
   "outputs": [
    {
     "data": {
      "text/plain": [
       "[('출시', 515),\n",
       " ('개발', 421),\n",
       " ('삼성', 347),\n",
       " ('기술', 330),\n",
       " ('종합', 324),\n",
       " ('갤럭시', 279),\n",
       " ('네이버', 223),\n",
       " ('서비스', 216),\n",
       " ('전자', 192),\n",
       " ('스마트폰', 188)]"
      ]
     },
     "execution_count": 25,
     "metadata": {},
     "output_type": "execute_result"
    }
   ],
   "source": [
    "Counter(topipc0_total_word).most_common(10)"
   ]
  },
  {
   "cell_type": "markdown",
   "metadata": {},
   "source": [
    "# 토큰나이져"
   ]
  },
  {
   "cell_type": "code",
   "execution_count": 37,
   "metadata": {},
   "outputs": [],
   "source": [
    "from tensorflow.keras.preprocessing.text import Tokenizer\n",
    "tokenizer = Tokenizer()\n",
    "tokenizer.fit_on_texts(nouns_list)"
   ]
  },
  {
   "cell_type": "code",
   "execution_count": 1,
   "metadata": {},
   "outputs": [],
   "source": [
    "# tokenizer.word_index"
   ]
  },
  {
   "cell_type": "code",
   "execution_count": 2,
   "metadata": {},
   "outputs": [],
   "source": [
    "# print(tokenizer.word_counts)"
   ]
  },
  {
   "cell_type": "code",
   "execution_count": 40,
   "metadata": {},
   "outputs": [
    {
     "name": "stdout",
     "output_type": "stream",
     "text": [
      "24342\n"
     ]
    }
   ],
   "source": [
    "# 전체 단어 개수\n",
    "print(len(tokenizer.word_counts))"
   ]
  },
  {
   "cell_type": "code",
   "execution_count": 41,
   "metadata": {},
   "outputs": [
    {
     "name": "stdout",
     "output_type": "stream",
     "text": [
      "12218\n"
     ]
    }
   ],
   "source": [
    "threshold = 3\n",
    "rare_cnt = 0\n",
    "for i,j in tokenizer.word_counts.items():\n",
    "    if j < threshold:\n",
    "        rare_cnt +=1 \n",
    "\n",
    "print(rare_cnt)"
   ]
  },
  {
   "cell_type": "code",
   "execution_count": 42,
   "metadata": {},
   "outputs": [
    {
     "name": "stdout",
     "output_type": "stream",
     "text": [
      "12124\n"
     ]
    }
   ],
   "source": [
    "print(len(tokenizer.word_counts)-rare_cnt)"
   ]
  },
  {
   "cell_type": "code",
   "execution_count": 43,
   "metadata": {},
   "outputs": [],
   "source": [
    "vocab_size = len(tokenizer.word_counts)-rare_cnt\n",
    "tokenizer = Tokenizer(vocab_size)\n",
    "tokenizer.fit_on_texts(nouns_list)\n",
    "X_train = tokenizer.texts_to_sequences(nouns_list)"
   ]
  },
  {
   "cell_type": "code",
   "execution_count": 3,
   "metadata": {},
   "outputs": [],
   "source": [
    "# X_train"
   ]
  },
  {
   "cell_type": "code",
   "execution_count": 45,
   "metadata": {},
   "outputs": [],
   "source": [
    "len_list = []\n",
    "for i in range(len(X_train)):\n",
    "    len_list.append(len(X_train[i]))"
   ]
  },
  {
   "cell_type": "code",
   "execution_count": 47,
   "metadata": {},
   "outputs": [
    {
     "data": {
      "text/plain": [
       "6.952293336837955"
      ]
     },
     "execution_count": 47,
     "metadata": {},
     "output_type": "execute_result"
    }
   ],
   "source": [
    "np.mean(len_list)"
   ]
  },
  {
   "cell_type": "code",
   "execution_count": 48,
   "metadata": {},
   "outputs": [
    {
     "data": {
      "text/plain": [
       "1.9761805778895212"
      ]
     },
     "execution_count": 48,
     "metadata": {},
     "output_type": "execute_result"
    }
   ],
   "source": [
    "np.std(len_list)"
   ]
  },
  {
   "cell_type": "code",
   "execution_count": 49,
   "metadata": {},
   "outputs": [
    {
     "data": {
      "text/plain": [
       "15"
      ]
     },
     "execution_count": 49,
     "metadata": {},
     "output_type": "execute_result"
    }
   ],
   "source": [
    "np.max(len_list)"
   ]
  },
  {
   "cell_type": "code",
   "execution_count": 50,
   "metadata": {},
   "outputs": [],
   "source": [
    "# 패딩 -> 데이터 개수 맞추기\n",
    "from tensorflow.keras.preprocessing.sequence import pad_sequences\n",
    "X_train = pad_sequences(X_train, maxlen=15)"
   ]
  },
  {
   "cell_type": "code",
   "execution_count": 62,
   "metadata": {},
   "outputs": [],
   "source": [
    "# 분류할 클래스가 3개 이상이고, 순서로 이루어진 데이터가 아닐때\n",
    "from keras.utils import np_utils\n",
    "y_train = np_utils.to_categorical(train['topic_idx'])"
   ]
  },
  {
   "cell_type": "markdown",
   "metadata": {},
   "source": [
    "# 모델링"
   ]
  },
  {
   "cell_type": "code",
   "execution_count": 63,
   "metadata": {},
   "outputs": [
    {
     "name": "stdout",
     "output_type": "stream",
     "text": [
      "Epoch 1/2000\n",
      "571/571 [==============================] - 8s 10ms/step - loss: 1.0888 - acc: 0.5915 - val_loss: 1.0153 - val_acc: 0.6355\n",
      "\n",
      "Epoch 00001: val_acc improved from -inf to 0.63553, saving model to dacon_best_model.h5\n",
      "Epoch 2/2000\n",
      "571/571 [==============================] - 5s 9ms/step - loss: 0.5380 - acc: 0.8229 - val_loss: 0.9873 - val_acc: 0.6489\n",
      "\n",
      "Epoch 00002: val_acc improved from 0.63553 to 0.64889, saving model to dacon_best_model.h5\n",
      "Epoch 3/2000\n",
      "571/571 [==============================] - 5s 9ms/step - loss: 0.4067 - acc: 0.8684 - val_loss: 0.8300 - val_acc: 0.7227\n",
      "\n",
      "Epoch 00003: val_acc improved from 0.64889 to 0.72270, saving model to dacon_best_model.h5\n",
      "Epoch 4/2000\n",
      "571/571 [==============================] - 6s 10ms/step - loss: 0.3186 - acc: 0.8977 - val_loss: 0.9585 - val_acc: 0.6926\n",
      "\n",
      "Epoch 00004: val_acc did not improve from 0.72270\n",
      "Epoch 5/2000\n",
      "571/571 [==============================] - 5s 9ms/step - loss: 0.2574 - acc: 0.9161 - val_loss: 0.8974 - val_acc: 0.7055\n",
      "\n",
      "Epoch 00005: val_acc did not improve from 0.72270\n",
      "Epoch 6/2000\n",
      "571/571 [==============================] - 6s 10ms/step - loss: 0.2124 - acc: 0.9318 - val_loss: 1.1157 - val_acc: 0.6884\n",
      "\n",
      "Epoch 00006: val_acc did not improve from 0.72270\n",
      "Epoch 7/2000\n",
      "571/571 [==============================] - 5s 10ms/step - loss: 0.1807 - acc: 0.9411 - val_loss: 1.2491 - val_acc: 0.6649\n",
      "\n",
      "Epoch 00007: val_acc did not improve from 0.72270\n",
      "Epoch 8/2000\n",
      "571/571 [==============================] - 5s 9ms/step - loss: 0.1585 - acc: 0.9474 - val_loss: 1.5535 - val_acc: 0.6444\n",
      "\n",
      "Epoch 00008: val_acc did not improve from 0.72270\n",
      "Epoch 9/2000\n",
      "571/571 [==============================] - 5s 9ms/step - loss: 0.1382 - acc: 0.9547 - val_loss: 1.3239 - val_acc: 0.6647\n",
      "\n",
      "Epoch 00009: val_acc did not improve from 0.72270\n",
      "Epoch 10/2000\n",
      "571/571 [==============================] - 5s 10ms/step - loss: 0.1210 - acc: 0.9596 - val_loss: 1.4256 - val_acc: 0.6613\n",
      "\n",
      "Epoch 00010: val_acc did not improve from 0.72270\n",
      "Epoch 11/2000\n",
      "571/571 [==============================] - 6s 10ms/step - loss: 0.1103 - acc: 0.9638 - val_loss: 1.5656 - val_acc: 0.6610\n",
      "\n",
      "Epoch 00011: val_acc did not improve from 0.72270\n",
      "Epoch 12/2000\n",
      "571/571 [==============================] - 5s 9ms/step - loss: 0.0983 - acc: 0.9673 - val_loss: 1.5765 - val_acc: 0.6562\n",
      "\n",
      "Epoch 00012: val_acc did not improve from 0.72270\n",
      "Epoch 13/2000\n",
      "571/571 [==============================] - 5s 9ms/step - loss: 0.0877 - acc: 0.9706 - val_loss: 1.9845 - val_acc: 0.6361\n",
      "\n",
      "Epoch 00013: val_acc did not improve from 0.72270\n",
      "Epoch 00013: early stopping\n"
     ]
    }
   ],
   "source": [
    "from tensorflow.keras.layers import Embedding, Dense, LSTM\n",
    "from tensorflow.keras.models import Sequential\n",
    "from tensorflow.keras.models import load_model\n",
    "from tensorflow.keras.callbacks import EarlyStopping, ModelCheckpoint\n",
    "\n",
    "embedding_dim = 10\n",
    "hidden_units = 64\n",
    "\n",
    "model = Sequential()\n",
    "model.add(Embedding(vocab_size, embedding_dim))\n",
    "model.add(LSTM(hidden_units))\n",
    "model.add(Dense(7, activation='softmax'))\n",
    "\n",
    "es = EarlyStopping(monitor='val_loss', mode='min', verbose=1, patience=10)\n",
    "mc = ModelCheckpoint('dacon_best_model.h5', monitor='val_acc', mode='max', verbose=1, save_best_only=True)\n",
    "\n",
    "model.compile(optimizer='adam', loss='categorical_crossentropy', metrics=['acc'])\n",
    "\n",
    "history = model.fit(X_train, y_train, epochs=2000, callbacks=[es, mc], batch_size=64, validation_split=0.2)"
   ]
  },
  {
   "cell_type": "code",
   "execution_count": 64,
   "metadata": {},
   "outputs": [],
   "source": [
    "# 모델 불러오기\n",
    "loaded_model = load_model('dacon_best_model.h5')"
   ]
  },
  {
   "cell_type": "markdown",
   "metadata": {},
   "source": [
    "# 테스트 데이터셋 전처리 훈련과 똑같이 적용"
   ]
  },
  {
   "cell_type": "code",
   "execution_count": 65,
   "metadata": {},
   "outputs": [
    {
     "name": "stderr",
     "output_type": "stream",
     "text": [
      "100%|█████████████████████████████████████████████████████████████████████████████| 9131/9131 [00:19<00:00, 475.47it/s]\n"
     ]
    }
   ],
   "source": [
    "nouns_list = []\n",
    "for i in tqdm(range(len(test))):\n",
    "    nouns_list.append(okt.nouns(test['title'].loc[i]))\n",
    "X_test = tokenizer.texts_to_sequences(nouns_list)\n",
    "X_test = pad_sequences(X_test, maxlen=15)"
   ]
  },
  {
   "cell_type": "code",
   "execution_count": 68,
   "metadata": {},
   "outputs": [],
   "source": [
    "tmp_pred = loaded_model.predict(X_test)\n",
    "pred = np.argmax(tmp_pred, axis = 1)"
   ]
  },
  {
   "cell_type": "code",
   "execution_count": 71,
   "metadata": {},
   "outputs": [],
   "source": [
    "test['Answer'] = pred"
   ]
  },
  {
   "cell_type": "code",
   "execution_count": 72,
   "metadata": {},
   "outputs": [
    {
     "data": {
      "text/html": [
       "<div>\n",
       "<style scoped>\n",
       "    .dataframe tbody tr th:only-of-type {\n",
       "        vertical-align: middle;\n",
       "    }\n",
       "\n",
       "    .dataframe tbody tr th {\n",
       "        vertical-align: top;\n",
       "    }\n",
       "\n",
       "    .dataframe thead th {\n",
       "        text-align: right;\n",
       "    }\n",
       "</style>\n",
       "<table border=\"1\" class=\"dataframe\">\n",
       "  <thead>\n",
       "    <tr style=\"text-align: right;\">\n",
       "      <th></th>\n",
       "      <th>index</th>\n",
       "      <th>title</th>\n",
       "      <th>Answer</th>\n",
       "    </tr>\n",
       "  </thead>\n",
       "  <tbody>\n",
       "    <tr>\n",
       "      <th>0</th>\n",
       "      <td>45654</td>\n",
       "      <td>유튜브 내달 2일까지 크리에이터 지원 공간 운영</td>\n",
       "      <td>2</td>\n",
       "    </tr>\n",
       "    <tr>\n",
       "      <th>1</th>\n",
       "      <td>45655</td>\n",
       "      <td>어버이날 맑다가 흐려져…남부지방 옅은 황사</td>\n",
       "      <td>3</td>\n",
       "    </tr>\n",
       "    <tr>\n",
       "      <th>2</th>\n",
       "      <td>45656</td>\n",
       "      <td>내년부터 국가RD 평가 때 논문건수는 반영 않는다</td>\n",
       "      <td>2</td>\n",
       "    </tr>\n",
       "    <tr>\n",
       "      <th>3</th>\n",
       "      <td>45657</td>\n",
       "      <td>김명자 신임 과총 회장 원로와 젊은 과학자 지혜 모을 것</td>\n",
       "      <td>2</td>\n",
       "    </tr>\n",
       "    <tr>\n",
       "      <th>4</th>\n",
       "      <td>45658</td>\n",
       "      <td>회색인간 작가 김동식 양심고백 등 새 소설집 2권 출간</td>\n",
       "      <td>3</td>\n",
       "    </tr>\n",
       "    <tr>\n",
       "      <th>...</th>\n",
       "      <td>...</td>\n",
       "      <td>...</td>\n",
       "      <td>...</td>\n",
       "    </tr>\n",
       "    <tr>\n",
       "      <th>9126</th>\n",
       "      <td>54780</td>\n",
       "      <td>인천 오후 3시35분 대설주의보…눈 3.1cm 쌓여</td>\n",
       "      <td>3</td>\n",
       "    </tr>\n",
       "    <tr>\n",
       "      <th>9127</th>\n",
       "      <td>54781</td>\n",
       "      <td>노래방에서 지인 성추행 외교부 사무관 불구속 입건종합</td>\n",
       "      <td>2</td>\n",
       "    </tr>\n",
       "    <tr>\n",
       "      <th>9128</th>\n",
       "      <td>54782</td>\n",
       "      <td>40년 전 부마항쟁 부산 시위 사진 2점 최초 공개</td>\n",
       "      <td>5</td>\n",
       "    </tr>\n",
       "    <tr>\n",
       "      <th>9129</th>\n",
       "      <td>54783</td>\n",
       "      <td>게시판 아리랑TV 아프리카개발은행 총회 개회식 생중계</td>\n",
       "      <td>0</td>\n",
       "    </tr>\n",
       "    <tr>\n",
       "      <th>9130</th>\n",
       "      <td>54784</td>\n",
       "      <td>유영민 과기장관 강소특구는 지역 혁신의 중심…지원책 강구</td>\n",
       "      <td>2</td>\n",
       "    </tr>\n",
       "  </tbody>\n",
       "</table>\n",
       "<p>9131 rows × 3 columns</p>\n",
       "</div>"
      ],
      "text/plain": [
       "      index                            title  Answer\n",
       "0     45654       유튜브 내달 2일까지 크리에이터 지원 공간 운영       2\n",
       "1     45655          어버이날 맑다가 흐려져…남부지방 옅은 황사       3\n",
       "2     45656      내년부터 국가RD 평가 때 논문건수는 반영 않는다       2\n",
       "3     45657  김명자 신임 과총 회장 원로와 젊은 과학자 지혜 모을 것       2\n",
       "4     45658   회색인간 작가 김동식 양심고백 등 새 소설집 2권 출간       3\n",
       "...     ...                              ...     ...\n",
       "9126  54780     인천 오후 3시35분 대설주의보…눈 3.1cm 쌓여       3\n",
       "9127  54781    노래방에서 지인 성추행 외교부 사무관 불구속 입건종합       2\n",
       "9128  54782     40년 전 부마항쟁 부산 시위 사진 2점 최초 공개       5\n",
       "9129  54783    게시판 아리랑TV 아프리카개발은행 총회 개회식 생중계       0\n",
       "9130  54784  유영민 과기장관 강소특구는 지역 혁신의 중심…지원책 강구       2\n",
       "\n",
       "[9131 rows x 3 columns]"
      ]
     },
     "execution_count": 72,
     "metadata": {},
     "output_type": "execute_result"
    }
   ],
   "source": [
    "test"
   ]
  },
  {
   "cell_type": "code",
   "execution_count": 73,
   "metadata": {},
   "outputs": [
    {
     "data": {
      "text/html": [
       "<div>\n",
       "<style scoped>\n",
       "    .dataframe tbody tr th:only-of-type {\n",
       "        vertical-align: middle;\n",
       "    }\n",
       "\n",
       "    .dataframe tbody tr th {\n",
       "        vertical-align: top;\n",
       "    }\n",
       "\n",
       "    .dataframe thead th {\n",
       "        text-align: right;\n",
       "    }\n",
       "</style>\n",
       "<table border=\"1\" class=\"dataframe\">\n",
       "  <thead>\n",
       "    <tr style=\"text-align: right;\">\n",
       "      <th></th>\n",
       "      <th>index</th>\n",
       "      <th>topic_idx</th>\n",
       "    </tr>\n",
       "  </thead>\n",
       "  <tbody>\n",
       "    <tr>\n",
       "      <th>0</th>\n",
       "      <td>45654</td>\n",
       "      <td>0</td>\n",
       "    </tr>\n",
       "    <tr>\n",
       "      <th>1</th>\n",
       "      <td>45655</td>\n",
       "      <td>0</td>\n",
       "    </tr>\n",
       "    <tr>\n",
       "      <th>2</th>\n",
       "      <td>45656</td>\n",
       "      <td>0</td>\n",
       "    </tr>\n",
       "    <tr>\n",
       "      <th>3</th>\n",
       "      <td>45657</td>\n",
       "      <td>0</td>\n",
       "    </tr>\n",
       "    <tr>\n",
       "      <th>4</th>\n",
       "      <td>45658</td>\n",
       "      <td>0</td>\n",
       "    </tr>\n",
       "    <tr>\n",
       "      <th>...</th>\n",
       "      <td>...</td>\n",
       "      <td>...</td>\n",
       "    </tr>\n",
       "    <tr>\n",
       "      <th>9126</th>\n",
       "      <td>54780</td>\n",
       "      <td>0</td>\n",
       "    </tr>\n",
       "    <tr>\n",
       "      <th>9127</th>\n",
       "      <td>54781</td>\n",
       "      <td>0</td>\n",
       "    </tr>\n",
       "    <tr>\n",
       "      <th>9128</th>\n",
       "      <td>54782</td>\n",
       "      <td>0</td>\n",
       "    </tr>\n",
       "    <tr>\n",
       "      <th>9129</th>\n",
       "      <td>54783</td>\n",
       "      <td>0</td>\n",
       "    </tr>\n",
       "    <tr>\n",
       "      <th>9130</th>\n",
       "      <td>54784</td>\n",
       "      <td>0</td>\n",
       "    </tr>\n",
       "  </tbody>\n",
       "</table>\n",
       "<p>9131 rows × 2 columns</p>\n",
       "</div>"
      ],
      "text/plain": [
       "      index  topic_idx\n",
       "0     45654          0\n",
       "1     45655          0\n",
       "2     45656          0\n",
       "3     45657          0\n",
       "4     45658          0\n",
       "...     ...        ...\n",
       "9126  54780          0\n",
       "9127  54781          0\n",
       "9128  54782          0\n",
       "9129  54783          0\n",
       "9130  54784          0\n",
       "\n",
       "[9131 rows x 2 columns]"
      ]
     },
     "execution_count": 73,
     "metadata": {},
     "output_type": "execute_result"
    }
   ],
   "source": [
    "submission"
   ]
  },
  {
   "cell_type": "code",
   "execution_count": 74,
   "metadata": {},
   "outputs": [
    {
     "data": {
      "text/html": [
       "<div>\n",
       "<style scoped>\n",
       "    .dataframe tbody tr th:only-of-type {\n",
       "        vertical-align: middle;\n",
       "    }\n",
       "\n",
       "    .dataframe tbody tr th {\n",
       "        vertical-align: top;\n",
       "    }\n",
       "\n",
       "    .dataframe thead th {\n",
       "        text-align: right;\n",
       "    }\n",
       "</style>\n",
       "<table border=\"1\" class=\"dataframe\">\n",
       "  <thead>\n",
       "    <tr style=\"text-align: right;\">\n",
       "      <th></th>\n",
       "      <th>index</th>\n",
       "      <th>topic_idx</th>\n",
       "    </tr>\n",
       "  </thead>\n",
       "  <tbody>\n",
       "    <tr>\n",
       "      <th>0</th>\n",
       "      <td>45654</td>\n",
       "      <td>2</td>\n",
       "    </tr>\n",
       "    <tr>\n",
       "      <th>1</th>\n",
       "      <td>45655</td>\n",
       "      <td>3</td>\n",
       "    </tr>\n",
       "    <tr>\n",
       "      <th>2</th>\n",
       "      <td>45656</td>\n",
       "      <td>2</td>\n",
       "    </tr>\n",
       "    <tr>\n",
       "      <th>3</th>\n",
       "      <td>45657</td>\n",
       "      <td>2</td>\n",
       "    </tr>\n",
       "    <tr>\n",
       "      <th>4</th>\n",
       "      <td>45658</td>\n",
       "      <td>3</td>\n",
       "    </tr>\n",
       "    <tr>\n",
       "      <th>...</th>\n",
       "      <td>...</td>\n",
       "      <td>...</td>\n",
       "    </tr>\n",
       "    <tr>\n",
       "      <th>9126</th>\n",
       "      <td>54780</td>\n",
       "      <td>3</td>\n",
       "    </tr>\n",
       "    <tr>\n",
       "      <th>9127</th>\n",
       "      <td>54781</td>\n",
       "      <td>2</td>\n",
       "    </tr>\n",
       "    <tr>\n",
       "      <th>9128</th>\n",
       "      <td>54782</td>\n",
       "      <td>5</td>\n",
       "    </tr>\n",
       "    <tr>\n",
       "      <th>9129</th>\n",
       "      <td>54783</td>\n",
       "      <td>0</td>\n",
       "    </tr>\n",
       "    <tr>\n",
       "      <th>9130</th>\n",
       "      <td>54784</td>\n",
       "      <td>2</td>\n",
       "    </tr>\n",
       "  </tbody>\n",
       "</table>\n",
       "<p>9131 rows × 2 columns</p>\n",
       "</div>"
      ],
      "text/plain": [
       "      index  topic_idx\n",
       "0     45654          2\n",
       "1     45655          3\n",
       "2     45656          2\n",
       "3     45657          2\n",
       "4     45658          3\n",
       "...     ...        ...\n",
       "9126  54780          3\n",
       "9127  54781          2\n",
       "9128  54782          5\n",
       "9129  54783          0\n",
       "9130  54784          2\n",
       "\n",
       "[9131 rows x 2 columns]"
      ]
     },
     "execution_count": 74,
     "metadata": {},
     "output_type": "execute_result"
    }
   ],
   "source": [
    "submission.topic_idx = pred\n",
    "submission"
   ]
  },
  {
   "cell_type": "code",
   "execution_count": 75,
   "metadata": {},
   "outputs": [],
   "source": [
    "# 저장하고 제출\n",
    "submission.to_csv(\"dataset/dacon_news/submission01.csv\", index = False)"
   ]
  },
  {
   "cell_type": "markdown",
   "metadata": {},
   "source": [
    "# 2. 모델 발전시키기."
   ]
  },
  {
   "cell_type": "markdown",
   "metadata": {},
   "source": [
    "# 전체 문서에서 가장 많이 나온 조사/구두점/숫자를 제외한 단어 추출하기"
   ]
  },
  {
   "cell_type": "code",
   "execution_count": 77,
   "metadata": {},
   "outputs": [
    {
     "data": {
      "text/plain": [
       "[('인천', 'Noun'),\n",
       " ('→', 'Foreign'),\n",
       " ('핀란드', 'Noun'),\n",
       " ('항공기', 'Noun'),\n",
       " ('결항', 'Noun'),\n",
       " ('…', 'Punctuation'),\n",
       " ('휴가', 'Noun'),\n",
       " ('철', 'Noun'),\n",
       " ('여행객', 'Noun'),\n",
       " ('분통', 'Noun')]"
      ]
     },
     "execution_count": 77,
     "metadata": {},
     "output_type": "execute_result"
    }
   ],
   "source": [
    "okt.pos(train['title'].loc[0])"
   ]
  },
  {
   "cell_type": "code",
   "execution_count": 83,
   "metadata": {},
   "outputs": [
    {
     "name": "stderr",
     "output_type": "stream",
     "text": [
      "100%|███████████████████████████████████████████████████████████████████████████| 45654/45654 [01:42<00:00, 445.11it/s]\n"
     ]
    }
   ],
   "source": [
    "word_list = []\n",
    "for i in tqdm(range(len(train))):\n",
    "    temp_list = []\n",
    "    for word in okt.pos(train['title'].loc[i]):\n",
    "        if word[1] not in ['Punctuation','Number','Josa']:\n",
    "            temp_list.append(word[0])\n",
    "    word_list.append(temp_list) "
   ]
  },
  {
   "cell_type": "code",
   "execution_count": 85,
   "metadata": {},
   "outputs": [],
   "source": [
    "total_word = []\n",
    "for i in range(len(word_list)):\n",
    "    for word in word_list[i]:\n",
    "        total_word.append(word)"
   ]
  },
  {
   "cell_type": "code",
   "execution_count": 86,
   "metadata": {},
   "outputs": [
    {
     "data": {
      "text/plain": [
       "[('종합', 4050),\n",
       " ('명', 1792),\n",
       " ('대통령', 1723),\n",
       " ('美', 1478),\n",
       " ('한국', 1456),\n",
       " ('대', 1391),\n",
       " ('들', 1382),\n",
       " ('北', 1310),\n",
       " ('전', 1245),\n",
       " ('위', 1204)]"
      ]
     },
     "execution_count": 86,
     "metadata": {},
     "output_type": "execute_result"
    }
   ],
   "source": [
    "Counter(total_word).most_common(10)"
   ]
  },
  {
   "cell_type": "code",
   "execution_count": 95,
   "metadata": {},
   "outputs": [
    {
     "data": {
      "text/html": [
       "<div>\n",
       "<style scoped>\n",
       "    .dataframe tbody tr th:only-of-type {\n",
       "        vertical-align: middle;\n",
       "    }\n",
       "\n",
       "    .dataframe tbody tr th {\n",
       "        vertical-align: top;\n",
       "    }\n",
       "\n",
       "    .dataframe thead th {\n",
       "        text-align: right;\n",
       "    }\n",
       "</style>\n",
       "<table border=\"1\" class=\"dataframe\">\n",
       "  <thead>\n",
       "    <tr style=\"text-align: right;\">\n",
       "      <th>topic</th>\n",
       "      <th>IT과학</th>\n",
       "      <th>경제</th>\n",
       "      <th>사회</th>\n",
       "      <th>생활문화</th>\n",
       "      <th>세계</th>\n",
       "      <th>스포츠</th>\n",
       "      <th>정치</th>\n",
       "    </tr>\n",
       "  </thead>\n",
       "  <tbody>\n",
       "    <tr>\n",
       "      <th>0</th>\n",
       "      <td>(G, 553)</td>\n",
       "      <td>(종합, 654)</td>\n",
       "      <td>(종합, 548)</td>\n",
       "      <td>(신간, 684)</td>\n",
       "      <td>(美, 1273)</td>\n",
       "      <td>(감독, 718)</td>\n",
       "      <td>(대통령, 1408)</td>\n",
       "    </tr>\n",
       "    <tr>\n",
       "      <th>1</th>\n",
       "      <td>(출시, 515)</td>\n",
       "      <td>(기, 598)</td>\n",
       "      <td>(명, 500)</td>\n",
       "      <td>(축제, 346)</td>\n",
       "      <td>(종합, 994)</td>\n",
       "      <td>(경기, 527)</td>\n",
       "      <td>(北, 1116)</td>\n",
       "    </tr>\n",
       "    <tr>\n",
       "      <th>2</th>\n",
       "      <td>(개발, 421)</td>\n",
       "      <td>(투자, 486)</td>\n",
       "      <td>(코로나, 372)</td>\n",
       "      <td>(여행, 314)</td>\n",
       "      <td>(명, 796)</td>\n",
       "      <td>(전, 446)</td>\n",
       "      <td>(종합, 1065)</td>\n",
       "    </tr>\n",
       "    <tr>\n",
       "      <th>3</th>\n",
       "      <td>(LG, 386)</td>\n",
       "      <td>(영업, 444)</td>\n",
       "      <td>(대, 315)</td>\n",
       "      <td>(도, 286)</td>\n",
       "      <td>(이란, 744)</td>\n",
       "      <td>(류현진, 381)</td>\n",
       "      <td>(朴, 644)</td>\n",
       "    </tr>\n",
       "    <tr>\n",
       "      <th>4</th>\n",
       "      <td>(KT, 358)</td>\n",
       "      <td>(증권, 416)</td>\n",
       "      <td>(들, 300)</td>\n",
       "      <td>(들, 241)</td>\n",
       "      <td>(트럼프, 647)</td>\n",
       "      <td>(연승, 348)</td>\n",
       "      <td>(당, 597)</td>\n",
       "    </tr>\n",
       "    <tr>\n",
       "      <th>5</th>\n",
       "      <td>(삼성, 347)</td>\n",
       "      <td>(주, 397)</td>\n",
       "      <td>(게시판, 291)</td>\n",
       "      <td>(날씨, 235)</td>\n",
       "      <td>(中, 619)</td>\n",
       "      <td>(위, 341)</td>\n",
       "      <td>(문, 530)</td>\n",
       "    </tr>\n",
       "    <tr>\n",
       "      <th>6</th>\n",
       "      <td>(AI, 345)</td>\n",
       "      <td>(금융, 343)</td>\n",
       "      <td>(하는, 274)</td>\n",
       "      <td>(한국, 234)</td>\n",
       "      <td>(터키, 352)</td>\n",
       "      <td>(월드컵, 340)</td>\n",
       "      <td>(하는, 400)</td>\n",
       "    </tr>\n",
       "    <tr>\n",
       "      <th>7</th>\n",
       "      <td>(기술, 330)</td>\n",
       "      <td>(삼성, 325)</td>\n",
       "      <td>(한국, 256)</td>\n",
       "      <td>(주말, 234)</td>\n",
       "      <td>(日, 328)</td>\n",
       "      <td>(첫, 331)</td>\n",
       "      <td>(김정은, 364)</td>\n",
       "    </tr>\n",
       "    <tr>\n",
       "      <th>8</th>\n",
       "      <td>(종합, 325)</td>\n",
       "      <td>(코스피, 317)</td>\n",
       "      <td>(지원, 232)</td>\n",
       "      <td>(서울, 217)</td>\n",
       "      <td>(사망, 322)</td>\n",
       "      <td>(시즌, 321)</td>\n",
       "      <td>(靑, 330)</td>\n",
       "    </tr>\n",
       "    <tr>\n",
       "      <th>9</th>\n",
       "      <td>(S, 301)</td>\n",
       "      <td>(대, 314)</td>\n",
       "      <td>(장, 221)</td>\n",
       "      <td>(비, 200)</td>\n",
       "      <td>(중국, 296)</td>\n",
       "      <td>(축구, 307)</td>\n",
       "      <td>(민주, 322)</td>\n",
       "    </tr>\n",
       "    <tr>\n",
       "      <th>10</th>\n",
       "      <td>(갤럭시, 279)</td>\n",
       "      <td>(작년, 305)</td>\n",
       "      <td>(등, 207)</td>\n",
       "      <td>(전국, 194)</td>\n",
       "      <td>(시위, 295)</td>\n",
       "      <td>(종합, 306)</td>\n",
       "      <td>(한국, 290)</td>\n",
       "    </tr>\n",
       "    <tr>\n",
       "      <th>11</th>\n",
       "      <td>(네이버, 223)</td>\n",
       "      <td>(익, 290)</td>\n",
       "      <td>(제, 188)</td>\n",
       "      <td>(공연, 192)</td>\n",
       "      <td>(시리아, 283)</td>\n",
       "      <td>(리그, 302)</td>\n",
       "      <td>(국회, 286)</td>\n",
       "    </tr>\n",
       "    <tr>\n",
       "      <th>12</th>\n",
       "      <td>(서비스, 216)</td>\n",
       "      <td>(↑, 257)</td>\n",
       "      <td>(노조, 168)</td>\n",
       "      <td>(N, 187)</td>\n",
       "      <td>(미국, 279)</td>\n",
       "      <td>(승, 301)</td>\n",
       "      <td>(북한, 259)</td>\n",
       "    </tr>\n",
       "    <tr>\n",
       "      <th>13</th>\n",
       "      <td>(SKT, 213)</td>\n",
       "      <td>(특징, 243)</td>\n",
       "      <td>(전, 166)</td>\n",
       "      <td>(간, 186)</td>\n",
       "      <td>(들, 276)</td>\n",
       "      <td>(선수, 294)</td>\n",
       "      <td>(與, 257)</td>\n",
       "    </tr>\n",
       "    <tr>\n",
       "      <th>14</th>\n",
       "      <td>(갤, 206)</td>\n",
       "      <td>(한, 243)</td>\n",
       "      <td>(기자, 164)</td>\n",
       "      <td>(권, 176)</td>\n",
       "      <td>(대통령, 270)</td>\n",
       "      <td>(프로농구, 281)</td>\n",
       "      <td>(정부, 253)</td>\n",
       "    </tr>\n",
       "    <tr>\n",
       "      <th>15</th>\n",
       "      <td>(전자, 192)</td>\n",
       "      <td>(대출, 229)</td>\n",
       "      <td>(원, 164)</td>\n",
       "      <td>(제주, 160)</td>\n",
       "      <td>(홍콩, 251)</td>\n",
       "      <td>(MLB, 280)</td>\n",
       "      <td>(보, 252)</td>\n",
       "    </tr>\n",
       "    <tr>\n",
       "      <th>16</th>\n",
       "      <td>(스마트폰, 188)</td>\n",
       "      <td>(출시, 221)</td>\n",
       "      <td>(교육, 164)</td>\n",
       "      <td>(종합, 158)</td>\n",
       "      <td>(정부, 233)</td>\n",
       "      <td>(꺾고, 271)</td>\n",
       "      <td>(적, 248)</td>\n",
       "    </tr>\n",
       "    <tr>\n",
       "      <th>17</th>\n",
       "      <td>(위, 181)</td>\n",
       "      <td>(실적, 219)</td>\n",
       "      <td>(방송, 163)</td>\n",
       "      <td>(∼, 155)</td>\n",
       "      <td>(중, 231)</td>\n",
       "      <td>(점, 263)</td>\n",
       "      <td>(들, 242)</td>\n",
       "    </tr>\n",
       "    <tr>\n",
       "      <th>18</th>\n",
       "      <td>(공개, 180)</td>\n",
       "      <td>(증가, 217)</td>\n",
       "      <td>(부산, 158)</td>\n",
       "      <td>(주의보, 150)</td>\n",
       "      <td>(총리, 229)</td>\n",
       "      <td>(한국, 258)</td>\n",
       "      <td>(평양, 234)</td>\n",
       "    </tr>\n",
       "    <tr>\n",
       "      <th>19</th>\n",
       "      <td>(노트, 167)</td>\n",
       "      <td>(상승, 207)</td>\n",
       "      <td>(사장, 157)</td>\n",
       "      <td>(개막, 145)</td>\n",
       "      <td>(대, 225)</td>\n",
       "      <td>(팀, 256)</td>\n",
       "      <td>(여야, 228)</td>\n",
       "    </tr>\n",
       "  </tbody>\n",
       "</table>\n",
       "</div>"
      ],
      "text/plain": [
       "topic         IT과학          경제          사회        생활문화          세계  \\\n",
       "0         (G, 553)   (종합, 654)   (종합, 548)   (신간, 684)   (美, 1273)   \n",
       "1        (출시, 515)    (기, 598)    (명, 500)   (축제, 346)   (종합, 994)   \n",
       "2        (개발, 421)   (투자, 486)  (코로나, 372)   (여행, 314)    (명, 796)   \n",
       "3        (LG, 386)   (영업, 444)    (대, 315)    (도, 286)   (이란, 744)   \n",
       "4        (KT, 358)   (증권, 416)    (들, 300)    (들, 241)  (트럼프, 647)   \n",
       "5        (삼성, 347)    (주, 397)  (게시판, 291)   (날씨, 235)    (中, 619)   \n",
       "6        (AI, 345)   (금융, 343)   (하는, 274)   (한국, 234)   (터키, 352)   \n",
       "7        (기술, 330)   (삼성, 325)   (한국, 256)   (주말, 234)    (日, 328)   \n",
       "8        (종합, 325)  (코스피, 317)   (지원, 232)   (서울, 217)   (사망, 322)   \n",
       "9         (S, 301)    (대, 314)    (장, 221)    (비, 200)   (중국, 296)   \n",
       "10      (갤럭시, 279)   (작년, 305)    (등, 207)   (전국, 194)   (시위, 295)   \n",
       "11      (네이버, 223)    (익, 290)    (제, 188)   (공연, 192)  (시리아, 283)   \n",
       "12      (서비스, 216)    (↑, 257)   (노조, 168)    (N, 187)   (미국, 279)   \n",
       "13      (SKT, 213)   (특징, 243)    (전, 166)    (간, 186)    (들, 276)   \n",
       "14        (갤, 206)    (한, 243)   (기자, 164)    (권, 176)  (대통령, 270)   \n",
       "15       (전자, 192)   (대출, 229)    (원, 164)   (제주, 160)   (홍콩, 251)   \n",
       "16     (스마트폰, 188)   (출시, 221)   (교육, 164)   (종합, 158)   (정부, 233)   \n",
       "17        (위, 181)   (실적, 219)   (방송, 163)    (∼, 155)    (중, 231)   \n",
       "18       (공개, 180)   (증가, 217)   (부산, 158)  (주의보, 150)   (총리, 229)   \n",
       "19       (노트, 167)   (상승, 207)   (사장, 157)   (개막, 145)    (대, 225)   \n",
       "\n",
       "topic          스포츠           정치  \n",
       "0        (감독, 718)  (대통령, 1408)  \n",
       "1        (경기, 527)    (北, 1116)  \n",
       "2         (전, 446)   (종합, 1065)  \n",
       "3       (류현진, 381)     (朴, 644)  \n",
       "4        (연승, 348)     (당, 597)  \n",
       "5         (위, 341)     (문, 530)  \n",
       "6       (월드컵, 340)    (하는, 400)  \n",
       "7         (첫, 331)   (김정은, 364)  \n",
       "8        (시즌, 321)     (靑, 330)  \n",
       "9        (축구, 307)    (민주, 322)  \n",
       "10       (종합, 306)    (한국, 290)  \n",
       "11       (리그, 302)    (국회, 286)  \n",
       "12        (승, 301)    (북한, 259)  \n",
       "13       (선수, 294)     (與, 257)  \n",
       "14     (프로농구, 281)    (정부, 253)  \n",
       "15      (MLB, 280)     (보, 252)  \n",
       "16       (꺾고, 271)     (적, 248)  \n",
       "17        (점, 263)     (들, 242)  \n",
       "18       (한국, 258)    (평양, 234)  \n",
       "19        (팀, 256)    (여야, 228)  "
      ]
     },
     "execution_count": 95,
     "metadata": {},
     "output_type": "execute_result"
    }
   ],
   "source": [
    "df_topic_word = pd.DataFrame()\n",
    "for i in range(7):\n",
    "    topic0 = train[train['topic_idx'] == i].index\n",
    "    topipc0_total_word = []\n",
    "    for i in topic0:\n",
    "        for word in word_list[i]:\n",
    "            topipc0_total_word.append(word)\n",
    "    df_topic_word[str(i)] = Counter(topipc0_total_word).most_common(20)\n",
    "df_topic_word.columns = topic_dict['topic']\n",
    "df_topic_word"
   ]
  },
  {
   "cell_type": "code",
   "execution_count": 106,
   "metadata": {},
   "outputs": [],
   "source": [
    "stopwords = ['→','~','↑','∼','중','대','명','기','장','등','들']"
   ]
  },
  {
   "cell_type": "code",
   "execution_count": 107,
   "metadata": {},
   "outputs": [],
   "source": [
    "for i in range(len(word_list)):\n",
    "    for word in word_list[i]:\n",
    "        if word in stopwords:\n",
    "            word_list[i].remove(word)"
   ]
  },
  {
   "cell_type": "code",
   "execution_count": 108,
   "metadata": {},
   "outputs": [
    {
     "data": {
      "text/html": [
       "<div>\n",
       "<style scoped>\n",
       "    .dataframe tbody tr th:only-of-type {\n",
       "        vertical-align: middle;\n",
       "    }\n",
       "\n",
       "    .dataframe tbody tr th {\n",
       "        vertical-align: top;\n",
       "    }\n",
       "\n",
       "    .dataframe thead th {\n",
       "        text-align: right;\n",
       "    }\n",
       "</style>\n",
       "<table border=\"1\" class=\"dataframe\">\n",
       "  <thead>\n",
       "    <tr style=\"text-align: right;\">\n",
       "      <th>topic</th>\n",
       "      <th>IT과학</th>\n",
       "      <th>경제</th>\n",
       "      <th>사회</th>\n",
       "      <th>생활문화</th>\n",
       "      <th>세계</th>\n",
       "      <th>스포츠</th>\n",
       "      <th>정치</th>\n",
       "    </tr>\n",
       "  </thead>\n",
       "  <tbody>\n",
       "    <tr>\n",
       "      <th>0</th>\n",
       "      <td>(G, 553)</td>\n",
       "      <td>(종합, 654)</td>\n",
       "      <td>(종합, 548)</td>\n",
       "      <td>(신간, 684)</td>\n",
       "      <td>(美, 1273)</td>\n",
       "      <td>(감독, 718)</td>\n",
       "      <td>(대통령, 1408)</td>\n",
       "    </tr>\n",
       "    <tr>\n",
       "      <th>1</th>\n",
       "      <td>(출시, 515)</td>\n",
       "      <td>(투자, 486)</td>\n",
       "      <td>(코로나, 372)</td>\n",
       "      <td>(축제, 346)</td>\n",
       "      <td>(종합, 994)</td>\n",
       "      <td>(경기, 527)</td>\n",
       "      <td>(北, 1116)</td>\n",
       "    </tr>\n",
       "    <tr>\n",
       "      <th>2</th>\n",
       "      <td>(개발, 421)</td>\n",
       "      <td>(영업, 444)</td>\n",
       "      <td>(게시판, 291)</td>\n",
       "      <td>(여행, 314)</td>\n",
       "      <td>(이란, 744)</td>\n",
       "      <td>(전, 446)</td>\n",
       "      <td>(종합, 1065)</td>\n",
       "    </tr>\n",
       "    <tr>\n",
       "      <th>3</th>\n",
       "      <td>(LG, 386)</td>\n",
       "      <td>(증권, 416)</td>\n",
       "      <td>(하는, 274)</td>\n",
       "      <td>(도, 286)</td>\n",
       "      <td>(트럼프, 647)</td>\n",
       "      <td>(류현진, 381)</td>\n",
       "      <td>(朴, 644)</td>\n",
       "    </tr>\n",
       "    <tr>\n",
       "      <th>4</th>\n",
       "      <td>(KT, 358)</td>\n",
       "      <td>(주, 397)</td>\n",
       "      <td>(한국, 256)</td>\n",
       "      <td>(날씨, 235)</td>\n",
       "      <td>(中, 619)</td>\n",
       "      <td>(연승, 348)</td>\n",
       "      <td>(당, 597)</td>\n",
       "    </tr>\n",
       "    <tr>\n",
       "      <th>5</th>\n",
       "      <td>(삼성, 347)</td>\n",
       "      <td>(금융, 343)</td>\n",
       "      <td>(지원, 232)</td>\n",
       "      <td>(한국, 234)</td>\n",
       "      <td>(터키, 352)</td>\n",
       "      <td>(위, 341)</td>\n",
       "      <td>(문, 530)</td>\n",
       "    </tr>\n",
       "    <tr>\n",
       "      <th>6</th>\n",
       "      <td>(AI, 345)</td>\n",
       "      <td>(삼성, 325)</td>\n",
       "      <td>(제, 188)</td>\n",
       "      <td>(주말, 234)</td>\n",
       "      <td>(日, 328)</td>\n",
       "      <td>(월드컵, 340)</td>\n",
       "      <td>(하는, 400)</td>\n",
       "    </tr>\n",
       "    <tr>\n",
       "      <th>7</th>\n",
       "      <td>(기술, 330)</td>\n",
       "      <td>(코스피, 317)</td>\n",
       "      <td>(노조, 168)</td>\n",
       "      <td>(서울, 217)</td>\n",
       "      <td>(사망, 322)</td>\n",
       "      <td>(첫, 331)</td>\n",
       "      <td>(김정은, 364)</td>\n",
       "    </tr>\n",
       "    <tr>\n",
       "      <th>8</th>\n",
       "      <td>(종합, 325)</td>\n",
       "      <td>(작년, 305)</td>\n",
       "      <td>(전, 166)</td>\n",
       "      <td>(비, 200)</td>\n",
       "      <td>(중국, 296)</td>\n",
       "      <td>(시즌, 321)</td>\n",
       "      <td>(靑, 330)</td>\n",
       "    </tr>\n",
       "    <tr>\n",
       "      <th>9</th>\n",
       "      <td>(S, 301)</td>\n",
       "      <td>(익, 290)</td>\n",
       "      <td>(기자, 164)</td>\n",
       "      <td>(전국, 194)</td>\n",
       "      <td>(시위, 295)</td>\n",
       "      <td>(축구, 307)</td>\n",
       "      <td>(민주, 322)</td>\n",
       "    </tr>\n",
       "    <tr>\n",
       "      <th>10</th>\n",
       "      <td>(갤럭시, 279)</td>\n",
       "      <td>(특징, 243)</td>\n",
       "      <td>(원, 164)</td>\n",
       "      <td>(공연, 192)</td>\n",
       "      <td>(시리아, 283)</td>\n",
       "      <td>(종합, 306)</td>\n",
       "      <td>(한국, 290)</td>\n",
       "    </tr>\n",
       "    <tr>\n",
       "      <th>11</th>\n",
       "      <td>(네이버, 223)</td>\n",
       "      <td>(한, 243)</td>\n",
       "      <td>(교육, 164)</td>\n",
       "      <td>(N, 187)</td>\n",
       "      <td>(미국, 279)</td>\n",
       "      <td>(리그, 302)</td>\n",
       "      <td>(국회, 286)</td>\n",
       "    </tr>\n",
       "    <tr>\n",
       "      <th>12</th>\n",
       "      <td>(서비스, 216)</td>\n",
       "      <td>(대출, 229)</td>\n",
       "      <td>(방송, 163)</td>\n",
       "      <td>(간, 186)</td>\n",
       "      <td>(대통령, 270)</td>\n",
       "      <td>(승, 301)</td>\n",
       "      <td>(북한, 259)</td>\n",
       "    </tr>\n",
       "    <tr>\n",
       "      <th>13</th>\n",
       "      <td>(SKT, 213)</td>\n",
       "      <td>(출시, 221)</td>\n",
       "      <td>(부산, 158)</td>\n",
       "      <td>(권, 176)</td>\n",
       "      <td>(홍콩, 251)</td>\n",
       "      <td>(선수, 294)</td>\n",
       "      <td>(與, 257)</td>\n",
       "    </tr>\n",
       "    <tr>\n",
       "      <th>14</th>\n",
       "      <td>(갤, 206)</td>\n",
       "      <td>(실적, 219)</td>\n",
       "      <td>(사장, 157)</td>\n",
       "      <td>(제주, 160)</td>\n",
       "      <td>(정부, 233)</td>\n",
       "      <td>(프로농구, 281)</td>\n",
       "      <td>(정부, 253)</td>\n",
       "    </tr>\n",
       "    <tr>\n",
       "      <th>15</th>\n",
       "      <td>(전자, 192)</td>\n",
       "      <td>(증가, 217)</td>\n",
       "      <td>(개, 157)</td>\n",
       "      <td>(종합, 158)</td>\n",
       "      <td>(총리, 229)</td>\n",
       "      <td>(MLB, 280)</td>\n",
       "      <td>(보, 252)</td>\n",
       "    </tr>\n",
       "    <tr>\n",
       "      <th>16</th>\n",
       "      <td>(스마트폰, 188)</td>\n",
       "      <td>(상승, 207)</td>\n",
       "      <td>(학교, 157)</td>\n",
       "      <td>(주의보, 150)</td>\n",
       "      <td>(EU, 224)</td>\n",
       "      <td>(꺾고, 271)</td>\n",
       "      <td>(적, 248)</td>\n",
       "    </tr>\n",
       "    <tr>\n",
       "      <th>17</th>\n",
       "      <td>(위, 181)</td>\n",
       "      <td>(하락, 202)</td>\n",
       "      <td>(자, 152)</td>\n",
       "      <td>(개막, 145)</td>\n",
       "      <td>(英, 224)</td>\n",
       "      <td>(점, 263)</td>\n",
       "      <td>(평양, 234)</td>\n",
       "    </tr>\n",
       "    <tr>\n",
       "      <th>18</th>\n",
       "      <td>(공개, 180)</td>\n",
       "      <td>(주식, 194)</td>\n",
       "      <td>(KBS, 151)</td>\n",
       "      <td>(낮, 142)</td>\n",
       "      <td>(보, 223)</td>\n",
       "      <td>(한국, 258)</td>\n",
       "      <td>(여야, 228)</td>\n",
       "    </tr>\n",
       "    <tr>\n",
       "      <th>19</th>\n",
       "      <td>(노트, 167)</td>\n",
       "      <td>(시장, 193)</td>\n",
       "      <td>(위, 150)</td>\n",
       "      <td>(출, 141)</td>\n",
       "      <td>(공격, 212)</td>\n",
       "      <td>(팀, 256)</td>\n",
       "      <td>(정상회담, 220)</td>\n",
       "    </tr>\n",
       "  </tbody>\n",
       "</table>\n",
       "</div>"
      ],
      "text/plain": [
       "topic         IT과학          경제          사회        생활문화          세계  \\\n",
       "0         (G, 553)   (종합, 654)   (종합, 548)   (신간, 684)   (美, 1273)   \n",
       "1        (출시, 515)   (투자, 486)  (코로나, 372)   (축제, 346)   (종합, 994)   \n",
       "2        (개발, 421)   (영업, 444)  (게시판, 291)   (여행, 314)   (이란, 744)   \n",
       "3        (LG, 386)   (증권, 416)   (하는, 274)    (도, 286)  (트럼프, 647)   \n",
       "4        (KT, 358)    (주, 397)   (한국, 256)   (날씨, 235)    (中, 619)   \n",
       "5        (삼성, 347)   (금융, 343)   (지원, 232)   (한국, 234)   (터키, 352)   \n",
       "6        (AI, 345)   (삼성, 325)    (제, 188)   (주말, 234)    (日, 328)   \n",
       "7        (기술, 330)  (코스피, 317)   (노조, 168)   (서울, 217)   (사망, 322)   \n",
       "8        (종합, 325)   (작년, 305)    (전, 166)    (비, 200)   (중국, 296)   \n",
       "9         (S, 301)    (익, 290)   (기자, 164)   (전국, 194)   (시위, 295)   \n",
       "10      (갤럭시, 279)   (특징, 243)    (원, 164)   (공연, 192)  (시리아, 283)   \n",
       "11      (네이버, 223)    (한, 243)   (교육, 164)    (N, 187)   (미국, 279)   \n",
       "12      (서비스, 216)   (대출, 229)   (방송, 163)    (간, 186)  (대통령, 270)   \n",
       "13      (SKT, 213)   (출시, 221)   (부산, 158)    (권, 176)   (홍콩, 251)   \n",
       "14        (갤, 206)   (실적, 219)   (사장, 157)   (제주, 160)   (정부, 233)   \n",
       "15       (전자, 192)   (증가, 217)    (개, 157)   (종합, 158)   (총리, 229)   \n",
       "16     (스마트폰, 188)   (상승, 207)   (학교, 157)  (주의보, 150)   (EU, 224)   \n",
       "17        (위, 181)   (하락, 202)    (자, 152)   (개막, 145)    (英, 224)   \n",
       "18       (공개, 180)   (주식, 194)  (KBS, 151)    (낮, 142)    (보, 223)   \n",
       "19       (노트, 167)   (시장, 193)    (위, 150)    (출, 141)   (공격, 212)   \n",
       "\n",
       "topic          스포츠           정치  \n",
       "0        (감독, 718)  (대통령, 1408)  \n",
       "1        (경기, 527)    (北, 1116)  \n",
       "2         (전, 446)   (종합, 1065)  \n",
       "3       (류현진, 381)     (朴, 644)  \n",
       "4        (연승, 348)     (당, 597)  \n",
       "5         (위, 341)     (문, 530)  \n",
       "6       (월드컵, 340)    (하는, 400)  \n",
       "7         (첫, 331)   (김정은, 364)  \n",
       "8        (시즌, 321)     (靑, 330)  \n",
       "9        (축구, 307)    (민주, 322)  \n",
       "10       (종합, 306)    (한국, 290)  \n",
       "11       (리그, 302)    (국회, 286)  \n",
       "12        (승, 301)    (북한, 259)  \n",
       "13       (선수, 294)     (與, 257)  \n",
       "14     (프로농구, 281)    (정부, 253)  \n",
       "15      (MLB, 280)     (보, 252)  \n",
       "16       (꺾고, 271)     (적, 248)  \n",
       "17        (점, 263)    (평양, 234)  \n",
       "18       (한국, 258)    (여야, 228)  \n",
       "19        (팀, 256)  (정상회담, 220)  "
      ]
     },
     "execution_count": 108,
     "metadata": {},
     "output_type": "execute_result"
    }
   ],
   "source": [
    "df_topic_word = pd.DataFrame()\n",
    "for i in range(7):\n",
    "    topic0 = train[train['topic_idx'] == i].index\n",
    "    topipc0_total_word = []\n",
    "    for i in topic0:\n",
    "        for word in word_list[i]:\n",
    "            topipc0_total_word.append(word)\n",
    "    df_topic_word[str(i)] = Counter(topipc0_total_word).most_common(20)\n",
    "df_topic_word.columns = topic_dict['topic']\n",
    "df_topic_word"
   ]
  },
  {
   "cell_type": "code",
   "execution_count": 109,
   "metadata": {},
   "outputs": [],
   "source": [
    "from tensorflow.keras.preprocessing.text import Tokenizer\n",
    "tokenizer = Tokenizer()\n",
    "tokenizer.fit_on_texts(word_list)"
   ]
  },
  {
   "cell_type": "code",
   "execution_count": 110,
   "metadata": {},
   "outputs": [
    {
     "name": "stdout",
     "output_type": "stream",
     "text": [
      "18220\n"
     ]
    }
   ],
   "source": [
    "threshold = 3\n",
    "rare_cnt = 0\n",
    "for i,j in tokenizer.word_counts.items():\n",
    "    if j < threshold:\n",
    "        rare_cnt +=1 \n",
    "\n",
    "print(rare_cnt)"
   ]
  },
  {
   "cell_type": "code",
   "execution_count": 111,
   "metadata": {},
   "outputs": [],
   "source": [
    "vocab_size = len(tokenizer.word_counts)-rare_cnt\n",
    "tokenizer = Tokenizer(vocab_size)\n",
    "tokenizer.fit_on_texts(word_list)\n",
    "X_train = tokenizer.texts_to_sequences(word_list)"
   ]
  },
  {
   "cell_type": "code",
   "execution_count": 112,
   "metadata": {},
   "outputs": [],
   "source": [
    "len_list = []\n",
    "for i in range(len(X_train)):\n",
    "    len_list.append(len(X_train[i]))"
   ]
  },
  {
   "cell_type": "code",
   "execution_count": 114,
   "metadata": {},
   "outputs": [
    {
     "data": {
      "text/plain": [
       "8.303346913742498"
      ]
     },
     "execution_count": 114,
     "metadata": {},
     "output_type": "execute_result"
    }
   ],
   "source": [
    "np.mean(len_list)"
   ]
  },
  {
   "cell_type": "code",
   "execution_count": 115,
   "metadata": {},
   "outputs": [
    {
     "data": {
      "text/plain": [
       "2.1711394498112213"
      ]
     },
     "execution_count": 115,
     "metadata": {},
     "output_type": "execute_result"
    }
   ],
   "source": [
    "np.std(len_list)"
   ]
  },
  {
   "cell_type": "code",
   "execution_count": 116,
   "metadata": {},
   "outputs": [
    {
     "data": {
      "text/plain": [
       "17"
      ]
     },
     "execution_count": 116,
     "metadata": {},
     "output_type": "execute_result"
    }
   ],
   "source": [
    "np.max(len_list)"
   ]
  },
  {
   "cell_type": "code",
   "execution_count": 117,
   "metadata": {},
   "outputs": [],
   "source": [
    "from tensorflow.keras.preprocessing.sequence import pad_sequences\n",
    "X_train = pad_sequences(X_train, maxlen=17)"
   ]
  },
  {
   "cell_type": "code",
   "execution_count": 118,
   "metadata": {},
   "outputs": [],
   "source": [
    "from keras.utils import np_utils\n",
    "y_train = np_utils.to_categorical(train['topic_idx'])"
   ]
  },
  {
   "cell_type": "code",
   "execution_count": 119,
   "metadata": {},
   "outputs": [
    {
     "name": "stdout",
     "output_type": "stream",
     "text": [
      "Epoch 1/2000\n",
      "571/571 [==============================] - 67s 100ms/step - loss: 0.7180 - acc: 0.7456 - val_loss: 0.7582 - val_acc: 0.7347\n",
      "\n",
      "Epoch 00001: val_acc improved from -inf to 0.73475, saving model to dacon_best_model.h5\n",
      "Epoch 2/2000\n",
      "571/571 [==============================] - 59s 103ms/step - loss: 0.3146 - acc: 0.8996 - val_loss: 0.6618 - val_acc: 0.7719\n",
      "\n",
      "Epoch 00002: val_acc improved from 0.73475 to 0.77188, saving model to dacon_best_model.h5\n",
      "Epoch 3/2000\n",
      "571/571 [==============================] - 56s 98ms/step - loss: 0.2067 - acc: 0.9336 - val_loss: 0.8062 - val_acc: 0.7319\n",
      "\n",
      "Epoch 00003: val_acc did not improve from 0.77188\n",
      "Epoch 4/2000\n",
      "571/571 [==============================] - 60s 104ms/step - loss: 0.1578 - acc: 0.9487 - val_loss: 0.8254 - val_acc: 0.7585\n",
      "\n",
      "Epoch 00004: val_acc did not improve from 0.77188\n",
      "Epoch 5/2000\n",
      "571/571 [==============================] - 54s 95ms/step - loss: 0.1203 - acc: 0.9600 - val_loss: 0.9709 - val_acc: 0.7284\n",
      "\n",
      "Epoch 00005: val_acc did not improve from 0.77188\n",
      "Epoch 6/2000\n",
      "571/571 [==============================] - 59s 104ms/step - loss: 0.0921 - acc: 0.9698 - val_loss: 1.0954 - val_acc: 0.7414\n",
      "\n",
      "Epoch 00006: val_acc did not improve from 0.77188\n",
      "Epoch 7/2000\n",
      "571/571 [==============================] - 58s 102ms/step - loss: 0.0780 - acc: 0.9740 - val_loss: 1.1982 - val_acc: 0.7167\n",
      "\n",
      "Epoch 00007: val_acc did not improve from 0.77188\n",
      "Epoch 8/2000\n",
      "571/571 [==============================] - 58s 101ms/step - loss: 0.0642 - acc: 0.9782 - val_loss: 1.2375 - val_acc: 0.7245\n",
      "\n",
      "Epoch 00008: val_acc did not improve from 0.77188\n",
      "Epoch 9/2000\n",
      "571/571 [==============================] - 62s 109ms/step - loss: 0.0546 - acc: 0.9820 - val_loss: 1.4018 - val_acc: 0.7169\n",
      "\n",
      "Epoch 00009: val_acc did not improve from 0.77188\n",
      "Epoch 10/2000\n",
      "571/571 [==============================] - 55s 96ms/step - loss: 0.0491 - acc: 0.9837 - val_loss: 1.3531 - val_acc: 0.7202\n",
      "\n",
      "Epoch 00010: val_acc did not improve from 0.77188\n",
      "Epoch 11/2000\n",
      "571/571 [==============================] - 60s 105ms/step - loss: 0.0405 - acc: 0.9861 - val_loss: 1.3946 - val_acc: 0.7272\n",
      "\n",
      "Epoch 00011: val_acc did not improve from 0.77188\n",
      "Epoch 12/2000\n",
      "571/571 [==============================] - 70s 123ms/step - loss: 0.0346 - acc: 0.9875 - val_loss: 1.4056 - val_acc: 0.7271\n",
      "\n",
      "Epoch 00012: val_acc did not improve from 0.77188\n",
      "Epoch 00012: early stopping\n"
     ]
    }
   ],
   "source": [
    "from tensorflow.keras.layers import Embedding, Dense, LSTM, Bidirectional\n",
    "from tensorflow.keras.models import Sequential\n",
    "from tensorflow.keras.models import load_model\n",
    "from tensorflow.keras.callbacks import EarlyStopping, ModelCheckpoint\n",
    "\n",
    "embedding_dim = 100\n",
    "\n",
    "model = Sequential()\n",
    "model.add(Embedding(vocab_size, embedding_dim))\n",
    "model.add(Bidirectional(LSTM(units = 64, return_sequences = True))),\n",
    "model.add(Bidirectional(LSTM(units = 128, return_sequences = True))),\n",
    "model.add(Bidirectional(LSTM(units = 64))),\n",
    "model.add(Dense(7, activation='softmax'))\n",
    "\n",
    "es = EarlyStopping(monitor='val_loss', mode='min', verbose=1, patience=10)\n",
    "mc = ModelCheckpoint('dacon_best_model.h5', monitor='val_acc', mode='max', verbose=1, save_best_only=True)\n",
    "\n",
    "model.compile(optimizer='adam', loss='categorical_crossentropy', metrics=['acc'])\n",
    "\n",
    "history = model.fit(X_train, y_train, epochs=2000, callbacks=[es, mc], batch_size=64, validation_split=0.2)"
   ]
  },
  {
   "cell_type": "code",
   "execution_count": 120,
   "metadata": {},
   "outputs": [],
   "source": [
    "loaded_model = load_model('dacon_best_model.h5')"
   ]
  },
  {
   "cell_type": "code",
   "execution_count": 122,
   "metadata": {},
   "outputs": [
    {
     "name": "stderr",
     "output_type": "stream",
     "text": [
      "100%|█████████████████████████████████████████████████████████████████████████████| 9131/9131 [00:18<00:00, 501.21it/s]\n"
     ]
    }
   ],
   "source": [
    "word_list = []\n",
    "for i in tqdm(range(len(test))):\n",
    "    temp_list = []\n",
    "    for word in okt.pos(test['title'].loc[i]):\n",
    "        if word[1] not in ['Punctuation','Number','Josa']:\n",
    "            temp_list.append(word[0])\n",
    "    word_list.append(temp_list) \n",
    "    \n",
    "for i in range(len(word_list)):\n",
    "    for word in word_list[i]:\n",
    "        if word in stopwords:\n",
    "            word_list[i].remove(word)\n",
    "            \n",
    "X_test = tokenizer.texts_to_sequences(word_list)\n",
    "X_test = pad_sequences(X_test, maxlen=17)"
   ]
  },
  {
   "cell_type": "code",
   "execution_count": 123,
   "metadata": {},
   "outputs": [],
   "source": [
    "tmp_pred = loaded_model.predict(X_test)\n",
    "pred = np.argmax(tmp_pred, axis = 1)"
   ]
  },
  {
   "cell_type": "code",
   "execution_count": 124,
   "metadata": {},
   "outputs": [
    {
     "data": {
      "text/html": [
       "<div>\n",
       "<style scoped>\n",
       "    .dataframe tbody tr th:only-of-type {\n",
       "        vertical-align: middle;\n",
       "    }\n",
       "\n",
       "    .dataframe tbody tr th {\n",
       "        vertical-align: top;\n",
       "    }\n",
       "\n",
       "    .dataframe thead th {\n",
       "        text-align: right;\n",
       "    }\n",
       "</style>\n",
       "<table border=\"1\" class=\"dataframe\">\n",
       "  <thead>\n",
       "    <tr style=\"text-align: right;\">\n",
       "      <th></th>\n",
       "      <th>index</th>\n",
       "      <th>topic_idx</th>\n",
       "    </tr>\n",
       "  </thead>\n",
       "  <tbody>\n",
       "    <tr>\n",
       "      <th>0</th>\n",
       "      <td>45654</td>\n",
       "      <td>1</td>\n",
       "    </tr>\n",
       "    <tr>\n",
       "      <th>1</th>\n",
       "      <td>45655</td>\n",
       "      <td>3</td>\n",
       "    </tr>\n",
       "    <tr>\n",
       "      <th>2</th>\n",
       "      <td>45656</td>\n",
       "      <td>2</td>\n",
       "    </tr>\n",
       "    <tr>\n",
       "      <th>3</th>\n",
       "      <td>45657</td>\n",
       "      <td>0</td>\n",
       "    </tr>\n",
       "    <tr>\n",
       "      <th>4</th>\n",
       "      <td>45658</td>\n",
       "      <td>3</td>\n",
       "    </tr>\n",
       "    <tr>\n",
       "      <th>...</th>\n",
       "      <td>...</td>\n",
       "      <td>...</td>\n",
       "    </tr>\n",
       "    <tr>\n",
       "      <th>9126</th>\n",
       "      <td>54780</td>\n",
       "      <td>3</td>\n",
       "    </tr>\n",
       "    <tr>\n",
       "      <th>9127</th>\n",
       "      <td>54781</td>\n",
       "      <td>2</td>\n",
       "    </tr>\n",
       "    <tr>\n",
       "      <th>9128</th>\n",
       "      <td>54782</td>\n",
       "      <td>0</td>\n",
       "    </tr>\n",
       "    <tr>\n",
       "      <th>9129</th>\n",
       "      <td>54783</td>\n",
       "      <td>2</td>\n",
       "    </tr>\n",
       "    <tr>\n",
       "      <th>9130</th>\n",
       "      <td>54784</td>\n",
       "      <td>2</td>\n",
       "    </tr>\n",
       "  </tbody>\n",
       "</table>\n",
       "<p>9131 rows × 2 columns</p>\n",
       "</div>"
      ],
      "text/plain": [
       "      index  topic_idx\n",
       "0     45654          1\n",
       "1     45655          3\n",
       "2     45656          2\n",
       "3     45657          0\n",
       "4     45658          3\n",
       "...     ...        ...\n",
       "9126  54780          3\n",
       "9127  54781          2\n",
       "9128  54782          0\n",
       "9129  54783          2\n",
       "9130  54784          2\n",
       "\n",
       "[9131 rows x 2 columns]"
      ]
     },
     "execution_count": 124,
     "metadata": {},
     "output_type": "execute_result"
    }
   ],
   "source": [
    "submission.topic_idx = pred\n",
    "submission"
   ]
  },
  {
   "cell_type": "code",
   "execution_count": 125,
   "metadata": {},
   "outputs": [],
   "source": [
    "submission.to_csv(\"dataset/dacon_news/submission02.csv\", index = False)"
   ]
  },
  {
   "cell_type": "code",
   "execution_count": null,
   "metadata": {},
   "outputs": [],
   "source": []
  }
 ],
 "metadata": {
  "kernelspec": {
   "display_name": "Python 3 (ipykernel)",
   "language": "python",
   "name": "python3"
  },
  "language_info": {
   "codemirror_mode": {
    "name": "ipython",
    "version": 3
   },
   "file_extension": ".py",
   "mimetype": "text/x-python",
   "name": "python",
   "nbconvert_exporter": "python",
   "pygments_lexer": "ipython3",
   "version": "3.9.7"
  }
 },
 "nbformat": 4,
 "nbformat_minor": 4
}
