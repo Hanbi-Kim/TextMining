{
 "cells": [
  {
   "cell_type": "markdown",
   "metadata": {},
   "source": [
    "# Python Crawling"
   ]
  },
  {
   "cell_type": "code",
   "execution_count": 1,
   "metadata": {},
   "outputs": [
    {
     "name": "stdout",
     "output_type": "stream",
     "text": [
      "Requirement already satisfied: requests in c:\\users\\hanbi\\anaconda3\\lib\\site-packages (2.24.0)\n",
      "Requirement already satisfied: chardet<4,>=3.0.2 in c:\\users\\hanbi\\anaconda3\\lib\\site-packages (from requests) (3.0.4)\n",
      "Requirement already satisfied: idna<3,>=2.5 in c:\\users\\hanbi\\anaconda3\\lib\\site-packages (from requests) (2.10)\n",
      "Requirement already satisfied: certifi>=2017.4.17 in c:\\users\\hanbi\\anaconda3\\lib\\site-packages (from requests) (2020.6.20)\n",
      "Requirement already satisfied: urllib3!=1.25.0,!=1.25.1,<1.26,>=1.21.1 in c:\\users\\hanbi\\anaconda3\\lib\\site-packages (from requests) (1.25.11)\n"
     ]
    }
   ],
   "source": [
    "# Requests Package 설치\n",
    "! pip install requests"
   ]
  },
  {
   "cell_type": "code",
   "execution_count": 1,
   "metadata": {},
   "outputs": [],
   "source": [
    "# requests package 불러오기\n",
    "import requests"
   ]
  },
  {
   "cell_type": "code",
   "execution_count": 2,
   "metadata": {},
   "outputs": [],
   "source": [
    "# 지정 URL에 대해서 get()을 통해 정보를 받아옴\n",
    "r = requests.get('https://en.wikipedia.org/wiki/Python_(programming_language)')"
   ]
  },
  {
   "cell_type": "code",
   "execution_count": 20,
   "metadata": {},
   "outputs": [],
   "source": [
    "# r에서 불러온 텍스트 파일 확인해보기\n",
    "# r.text"
   ]
  },
  {
   "cell_type": "code",
   "execution_count": 18,
   "metadata": {},
   "outputs": [
    {
     "name": "stdout",
     "output_type": "stream",
     "text": [
      "Collecting bs4\n",
      "  Downloading bs4-0.0.1.tar.gz (1.1 kB)\n",
      "Requirement already satisfied: beautifulsoup4 in c:\\programming tools\\anaconda3\\lib\\site-packages (from bs4) (4.10.0)\n",
      "Requirement already satisfied: soupsieve>1.2 in c:\\programming tools\\anaconda3\\lib\\site-packages (from beautifulsoup4->bs4) (2.2.1)\n",
      "Building wheels for collected packages: bs4\n",
      "  Building wheel for bs4 (setup.py): started\n",
      "  Building wheel for bs4 (setup.py): finished with status 'done'\n",
      "  Created wheel for bs4: filename=bs4-0.0.1-py3-none-any.whl size=1271 sha256=9ec44f6c5e1f0390de57d840fb27b01e4e8e7cfb131809efc81a66a73bd16701\n",
      "  Stored in directory: c:\\users\\han19\\appdata\\local\\pip\\cache\\wheels\\73\\2b\\cb\\099980278a0c9a3e57ff1a89875ec07bfa0b6fcbebb9a8cad3\n",
      "Successfully built bs4\n",
      "Installing collected packages: bs4\n",
      "Successfully installed bs4-0.0.1\n"
     ]
    }
   ],
   "source": [
    "# BeautifulSoup 설치\n",
    "! pip install bs4"
   ]
  },
  {
   "cell_type": "code",
   "execution_count": 3,
   "metadata": {},
   "outputs": [],
   "source": [
    "# bs4패키지에서 BeaufitulSoup 불러오기\n",
    "from bs4 import BeautifulSoup"
   ]
  },
  {
   "cell_type": "code",
   "execution_count": 4,
   "metadata": {},
   "outputs": [],
   "source": [
    "# Parse: 분석하다\n",
    "# Parser 문법 분석기 : r.text를 html 문법을 이용하여 분석하는 과정 \n",
    "soup = BeautifulSoup(r.text, 'html.parser')"
   ]
  },
  {
   "cell_type": "code",
   "execution_count": 5,
   "metadata": {},
   "outputs": [],
   "source": [
    "# soup"
   ]
  },
  {
   "cell_type": "code",
   "execution_count": 6,
   "metadata": {},
   "outputs": [],
   "source": [
    "url = 'https://en.wikipedia.org/wiki/Python_(programming_language)'\n",
    "r = requests.get(url)\n",
    "soup = BeautifulSoup(r.text, 'html.parser')"
   ]
  },
  {
   "cell_type": "markdown",
   "metadata": {},
   "source": [
    "# 1. 원하는 정보를 검사(Inspection)하여, 해당 정보의 태그 찾기"
   ]
  },
  {
   "cell_type": "code",
   "execution_count": 7,
   "metadata": {},
   "outputs": [
    {
     "data": {
      "text/plain": [
       "<div class=\"noprint\" id=\"mw-page-base\"></div>"
      ]
     },
     "execution_count": 7,
     "metadata": {},
     "output_type": "execute_result"
    }
   ],
   "source": [
    "soup.div"
   ]
  },
  {
   "cell_type": "code",
   "execution_count": 8,
   "metadata": {},
   "outputs": [
    {
     "data": {
      "text/plain": [
       "<div class=\"noprint\" id=\"mw-page-base\"></div>"
      ]
     },
     "execution_count": 8,
     "metadata": {},
     "output_type": "execute_result"
    }
   ],
   "source": [
    "soup.find('div')"
   ]
  },
  {
   "cell_type": "code",
   "execution_count": 9,
   "metadata": {},
   "outputs": [
    {
     "data": {
      "text/plain": [
       "<div class=\"noprint\" id=\"mw-page-base\"></div>"
      ]
     },
     "execution_count": 9,
     "metadata": {},
     "output_type": "execute_result"
    }
   ],
   "source": [
    "soup.select_one('div')"
   ]
  },
  {
   "cell_type": "code",
   "execution_count": 10,
   "metadata": {},
   "outputs": [
    {
     "data": {
      "text/plain": [
       "<div class=\"noprint\" id=\"mw-page-base\"></div>"
      ]
     },
     "execution_count": 10,
     "metadata": {},
     "output_type": "execute_result"
    }
   ],
   "source": [
    "soup.find_all('div')[0]"
   ]
  },
  {
   "cell_type": "code",
   "execution_count": 11,
   "metadata": {},
   "outputs": [
    {
     "data": {
      "text/plain": [
       "<div class=\"noprint\" id=\"mw-page-base\"></div>"
      ]
     },
     "execution_count": 11,
     "metadata": {},
     "output_type": "execute_result"
    }
   ],
   "source": [
    "soup.select('div')[0]"
   ]
  },
  {
   "cell_type": "markdown",
   "metadata": {},
   "source": [
    "# 2. 태그 안에서 또 다른 태그 찾기"
   ]
  },
  {
   "cell_type": "code",
   "execution_count": 17,
   "metadata": {},
   "outputs": [
    {
     "data": {
      "text/plain": [
       "<a href=\"/wiki/Wikipedia:Good_articles\" title=\"This is a good article. Click here for more information.\"><img alt=\"This is a good article. Click here for more information.\" data-file-height=\"185\" data-file-width=\"180\" decoding=\"async\" height=\"20\" src=\"//upload.wikimedia.org/wikipedia/en/thumb/9/94/Symbol_support_vote.svg/19px-Symbol_support_vote.svg.png\" srcset=\"//upload.wikimedia.org/wikipedia/en/thumb/9/94/Symbol_support_vote.svg/29px-Symbol_support_vote.svg.png 1.5x, //upload.wikimedia.org/wikipedia/en/thumb/9/94/Symbol_support_vote.svg/39px-Symbol_support_vote.svg.png 2x\" width=\"19\"/></a>"
      ]
     },
     "execution_count": 17,
     "metadata": {},
     "output_type": "execute_result"
    }
   ],
   "source": [
    "# div 태그를 전체적으로 찾고, 해당 div 태그에 5번째 중에 a태그 정보\n",
    "soup.find_all('div')[4].find('a')"
   ]
  },
  {
   "cell_type": "code",
   "execution_count": 19,
   "metadata": {},
   "outputs": [
    {
     "data": {
      "text/plain": [
       "<a href=\"/wiki/Wikipedia:Good_articles\" title=\"This is a good article. Click here for more information.\"><img alt=\"This is a good article. Click here for more information.\" data-file-height=\"185\" data-file-width=\"180\" decoding=\"async\" height=\"20\" src=\"//upload.wikimedia.org/wikipedia/en/thumb/9/94/Symbol_support_vote.svg/19px-Symbol_support_vote.svg.png\" srcset=\"//upload.wikimedia.org/wikipedia/en/thumb/9/94/Symbol_support_vote.svg/29px-Symbol_support_vote.svg.png 1.5x, //upload.wikimedia.org/wikipedia/en/thumb/9/94/Symbol_support_vote.svg/39px-Symbol_support_vote.svg.png 2x\" width=\"19\"/></a>"
      ]
     },
     "execution_count": 19,
     "metadata": {},
     "output_type": "execute_result"
    }
   ],
   "source": [
    "# select()함수의 경우 CSS selector를 사용할 수 도 있다. \n",
    "# div 태그 안에 a 태그가 있는 경우를 모두 찾고, 그중에 2번째 정보\n",
    "soup.select('div > a')[1]"
   ]
  },
  {
   "cell_type": "markdown",
   "metadata": {},
   "source": [
    "# 3. Tag의 특정 속성 값 얻기"
   ]
  },
  {
   "cell_type": "code",
   "execution_count": 21,
   "metadata": {},
   "outputs": [
    {
     "data": {
      "text/plain": [
       "'/wiki/Wikipedia:Good_articles'"
      ]
     },
     "execution_count": 21,
     "metadata": {},
     "output_type": "execute_result"
    }
   ],
   "source": [
    "# 위에서 찾은 div 5번째의 a 태그의 속성중 href 정보\n",
    "soup.find_all('div')[4].find('a')['href']"
   ]
  },
  {
   "cell_type": "code",
   "execution_count": 22,
   "metadata": {},
   "outputs": [
    {
     "data": {
      "text/plain": [
       "'This is a good article. Click here for more information.'"
      ]
     },
     "execution_count": 22,
     "metadata": {},
     "output_type": "execute_result"
    }
   ],
   "source": [
    "# 위에서 찾은 div안에 a 태그가 있는 2번째 중에 title 속성 가져오기\n",
    "soup.select('div > a')[1]['title']"
   ]
  },
  {
   "cell_type": "markdown",
   "metadata": {},
   "source": [
    "# 4. Tag와 특정 속성 값을 가지고 찾기"
   ]
  },
  {
   "cell_type": "code",
   "execution_count": 24,
   "metadata": {},
   "outputs": [
    {
     "data": {
      "text/plain": [
       "<a href=\"/wiki/Wikipedia:Good_articles\" title=\"This is a good article. Click here for more information.\"><img alt=\"This is a good article. Click here for more information.\" data-file-height=\"185\" data-file-width=\"180\" decoding=\"async\" height=\"20\" src=\"//upload.wikimedia.org/wikipedia/en/thumb/9/94/Symbol_support_vote.svg/19px-Symbol_support_vote.svg.png\" srcset=\"//upload.wikimedia.org/wikipedia/en/thumb/9/94/Symbol_support_vote.svg/29px-Symbol_support_vote.svg.png 1.5x, //upload.wikimedia.org/wikipedia/en/thumb/9/94/Symbol_support_vote.svg/39px-Symbol_support_vote.svg.png 2x\" width=\"19\"/></a>"
      ]
     },
     "execution_count": 24,
     "metadata": {},
     "output_type": "execute_result"
    }
   ],
   "source": [
    "# a 태그 중에서 특정 속성 href가 '/wiki/Wikipedia:Good_articles' 인 경우를 찾기 \n",
    "soup.find('a', href='/wiki/Wikipedia:Good_articles')"
   ]
  },
  {
   "cell_type": "markdown",
   "metadata": {},
   "source": [
    "# 실습: 위키피디아 Python Content table 저장하기."
   ]
  },
  {
   "cell_type": "code",
   "execution_count": 26,
   "metadata": {},
   "outputs": [
    {
     "data": {
      "text/plain": [
       "<div aria-labelledby=\"mw-toc-heading\" class=\"toc\" id=\"toc\" role=\"navigation\"><input class=\"toctogglecheckbox\" id=\"toctogglecheckbox\" role=\"button\" style=\"display:none\" type=\"checkbox\"/><div class=\"toctitle\" dir=\"ltr\" lang=\"en\"><h2 id=\"mw-toc-heading\">Contents</h2><span class=\"toctogglespan\"><label class=\"toctogglelabel\" for=\"toctogglecheckbox\"></label></span></div>\n",
       "<ul>\n",
       "<li class=\"toclevel-1 tocsection-1\"><a href=\"#History\"><span class=\"tocnumber\">1</span> <span class=\"toctext\">History</span></a></li>\n",
       "<li class=\"toclevel-1 tocsection-2\"><a href=\"#Design_philosophy_and_features\"><span class=\"tocnumber\">2</span> <span class=\"toctext\">Design philosophy and features</span></a></li>\n",
       "<li class=\"toclevel-1 tocsection-3\"><a href=\"#Syntax_and_semantics\"><span class=\"tocnumber\">3</span> <span class=\"toctext\">Syntax and semantics</span></a>\n",
       "<ul>\n",
       "<li class=\"toclevel-2 tocsection-4\"><a href=\"#Indentation\"><span class=\"tocnumber\">3.1</span> <span class=\"toctext\">Indentation</span></a></li>\n",
       "<li class=\"toclevel-2 tocsection-5\"><a href=\"#Statements_and_control_flow\"><span class=\"tocnumber\">3.2</span> <span class=\"toctext\">Statements and control flow</span></a></li>\n",
       "<li class=\"toclevel-2 tocsection-6\"><a href=\"#Expressions\"><span class=\"tocnumber\">3.3</span> <span class=\"toctext\">Expressions</span></a></li>\n",
       "<li class=\"toclevel-2 tocsection-7\"><a href=\"#Methods\"><span class=\"tocnumber\">3.4</span> <span class=\"toctext\">Methods</span></a></li>\n",
       "<li class=\"toclevel-2 tocsection-8\"><a href=\"#Typing\"><span class=\"tocnumber\">3.5</span> <span class=\"toctext\">Typing</span></a></li>\n",
       "<li class=\"toclevel-2 tocsection-9\"><a href=\"#Arithmetic_operations\"><span class=\"tocnumber\">3.6</span> <span class=\"toctext\">Arithmetic operations</span></a></li>\n",
       "</ul>\n",
       "</li>\n",
       "<li class=\"toclevel-1 tocsection-10\"><a href=\"#Programming_examples\"><span class=\"tocnumber\">4</span> <span class=\"toctext\">Programming examples</span></a></li>\n",
       "<li class=\"toclevel-1 tocsection-11\"><a href=\"#Libraries\"><span class=\"tocnumber\">5</span> <span class=\"toctext\">Libraries</span></a></li>\n",
       "<li class=\"toclevel-1 tocsection-12\"><a href=\"#Development_environments\"><span class=\"tocnumber\">6</span> <span class=\"toctext\">Development environments</span></a></li>\n",
       "<li class=\"toclevel-1 tocsection-13\"><a href=\"#Implementations\"><span class=\"tocnumber\">7</span> <span class=\"toctext\">Implementations</span></a>\n",
       "<ul>\n",
       "<li class=\"toclevel-2 tocsection-14\"><a href=\"#Reference_implementation\"><span class=\"tocnumber\">7.1</span> <span class=\"toctext\">Reference implementation</span></a></li>\n",
       "<li class=\"toclevel-2 tocsection-15\"><a href=\"#Other_implementations\"><span class=\"tocnumber\">7.2</span> <span class=\"toctext\">Other implementations</span></a></li>\n",
       "<li class=\"toclevel-2 tocsection-16\"><a href=\"#Unsupported_implementations\"><span class=\"tocnumber\">7.3</span> <span class=\"toctext\">Unsupported implementations</span></a></li>\n",
       "<li class=\"toclevel-2 tocsection-17\"><a href=\"#Cross-compilers_to_other_languages\"><span class=\"tocnumber\">7.4</span> <span class=\"toctext\">Cross-compilers to other languages</span></a></li>\n",
       "<li class=\"toclevel-2 tocsection-18\"><a href=\"#Performance\"><span class=\"tocnumber\">7.5</span> <span class=\"toctext\">Performance</span></a></li>\n",
       "</ul>\n",
       "</li>\n",
       "<li class=\"toclevel-1 tocsection-19\"><a href=\"#Development\"><span class=\"tocnumber\">8</span> <span class=\"toctext\">Development</span></a></li>\n",
       "<li class=\"toclevel-1 tocsection-20\"><a href=\"#API_documentation_generators\"><span class=\"tocnumber\">9</span> <span class=\"toctext\">API documentation generators</span></a></li>\n",
       "<li class=\"toclevel-1 tocsection-21\"><a href=\"#Naming\"><span class=\"tocnumber\">10</span> <span class=\"toctext\">Naming</span></a></li>\n",
       "<li class=\"toclevel-1 tocsection-22\"><a href=\"#Popularity\"><span class=\"tocnumber\">11</span> <span class=\"toctext\">Popularity</span></a></li>\n",
       "<li class=\"toclevel-1 tocsection-23\"><a href=\"#Uses\"><span class=\"tocnumber\">12</span> <span class=\"toctext\">Uses</span></a></li>\n",
       "<li class=\"toclevel-1 tocsection-24\"><a href=\"#Languages_influenced_by_Python\"><span class=\"tocnumber\">13</span> <span class=\"toctext\">Languages influenced by Python</span></a></li>\n",
       "<li class=\"toclevel-1 tocsection-25\"><a href=\"#See_also\"><span class=\"tocnumber\">14</span> <span class=\"toctext\">See also</span></a></li>\n",
       "<li class=\"toclevel-1 tocsection-26\"><a href=\"#References\"><span class=\"tocnumber\">15</span> <span class=\"toctext\">References</span></a>\n",
       "<ul>\n",
       "<li class=\"toclevel-2 tocsection-27\"><a href=\"#Sources\"><span class=\"tocnumber\">15.1</span> <span class=\"toctext\">Sources</span></a></li>\n",
       "</ul>\n",
       "</li>\n",
       "<li class=\"toclevel-1 tocsection-28\"><a href=\"#Further_reading\"><span class=\"tocnumber\">16</span> <span class=\"toctext\">Further reading</span></a></li>\n",
       "<li class=\"toclevel-1 tocsection-29\"><a href=\"#External_links\"><span class=\"tocnumber\">17</span> <span class=\"toctext\">External links</span></a></li>\n",
       "</ul>\n",
       "</div>"
      ]
     },
     "execution_count": 26,
     "metadata": {},
     "output_type": "execute_result"
    }
   ],
   "source": [
    "# content table을 포함하고 있는 태그 찾기\n",
    "# div태그의 class가 toc인 정보에 해당 content 정보가 들어있다.\n",
    "soup.find('div','toc')"
   ]
  },
  {
   "cell_type": "code",
   "execution_count": 42,
   "metadata": {},
   "outputs": [
    {
     "data": {
      "text/plain": [
       "'Design philosophy and features'"
      ]
     },
     "execution_count": 42,
     "metadata": {},
     "output_type": "execute_result"
    }
   ],
   "source": [
    "# 해당 태그 안에 li 태그의 text 정보가 content 정보를 포함한다.\n",
    "soup.find('div','toc').find_all('li')[1].find(\"span\",\"toctext\").text"
   ]
  },
  {
   "cell_type": "code",
   "execution_count": 44,
   "metadata": {},
   "outputs": [
    {
     "data": {
      "text/plain": [
       "'2'"
      ]
     },
     "execution_count": 44,
     "metadata": {},
     "output_type": "execute_result"
    }
   ],
   "source": [
    "# 해당 태그 안에 li 태그의 text 정보가 content 정보를 포함한다.\n",
    "soup.find('div','toc').find_all('li')[1].find(\"span\").text"
   ]
  },
  {
   "cell_type": "code",
   "execution_count": 48,
   "metadata": {},
   "outputs": [
    {
     "name": "stdout",
     "output_type": "stream",
     "text": [
      "1\n",
      "History\n",
      "2\n",
      "Design philosophy and features\n",
      "3\n",
      "Syntax and semantics\n",
      "3.1\n",
      "Indentation\n",
      "3.2\n",
      "Statements and control flow\n",
      "3.3\n",
      "Expressions\n",
      "3.4\n",
      "Methods\n",
      "3.5\n",
      "Typing\n",
      "3.6\n",
      "Arithmetic operations\n",
      "4\n",
      "Programming examples\n",
      "5\n",
      "Libraries\n",
      "6\n",
      "Development environments\n",
      "7\n",
      "Implementations\n",
      "7.1\n",
      "Reference implementation\n",
      "7.2\n",
      "Other implementations\n",
      "7.3\n",
      "Unsupported implementations\n",
      "7.4\n",
      "Cross-compilers to other languages\n",
      "7.5\n",
      "Performance\n",
      "8\n",
      "Development\n",
      "9\n",
      "API documentation generators\n",
      "10\n",
      "Naming\n",
      "11\n",
      "Popularity\n",
      "12\n",
      "Uses\n",
      "13\n",
      "Languages influenced by Python\n",
      "14\n",
      "See also\n",
      "15\n",
      "References\n",
      "15.1\n",
      "Sources\n",
      "16\n",
      "Further reading\n",
      "17\n",
      "External links\n"
     ]
    }
   ],
   "source": [
    "index_list = []\n",
    "content_list = []\n",
    "\n",
    "for i in range(len(soup.find('div','toc').find_all('li'))):\n",
    "    print(soup.find('div','toc').find_all('li')[i].find(\"span\").text)\n",
    "    index_list.append(soup.find('div','toc').find_all('li')[i].find(\"span\").text)\n",
    "    print(soup.find('div','toc').find_all('li')[i].find(\"span\",\"toctext\").text)\n",
    "    content_list.append(soup.find('div','toc').find_all('li')[i].find(\"span\",\"toctext\").text)"
   ]
  },
  {
   "cell_type": "code",
   "execution_count": 50,
   "metadata": {},
   "outputs": [
    {
     "data": {
      "text/html": [
       "<div>\n",
       "<style scoped>\n",
       "    .dataframe tbody tr th:only-of-type {\n",
       "        vertical-align: middle;\n",
       "    }\n",
       "\n",
       "    .dataframe tbody tr th {\n",
       "        vertical-align: top;\n",
       "    }\n",
       "\n",
       "    .dataframe thead th {\n",
       "        text-align: right;\n",
       "    }\n",
       "</style>\n",
       "<table border=\"1\" class=\"dataframe\">\n",
       "  <thead>\n",
       "    <tr style=\"text-align: right;\">\n",
       "      <th></th>\n",
       "      <th>번호</th>\n",
       "      <th>정보</th>\n",
       "    </tr>\n",
       "  </thead>\n",
       "  <tbody>\n",
       "    <tr>\n",
       "      <th>0</th>\n",
       "      <td>1</td>\n",
       "      <td>History</td>\n",
       "    </tr>\n",
       "    <tr>\n",
       "      <th>1</th>\n",
       "      <td>2</td>\n",
       "      <td>Design philosophy and features</td>\n",
       "    </tr>\n",
       "    <tr>\n",
       "      <th>2</th>\n",
       "      <td>3</td>\n",
       "      <td>Syntax and semantics</td>\n",
       "    </tr>\n",
       "    <tr>\n",
       "      <th>3</th>\n",
       "      <td>3.1</td>\n",
       "      <td>Indentation</td>\n",
       "    </tr>\n",
       "    <tr>\n",
       "      <th>4</th>\n",
       "      <td>3.2</td>\n",
       "      <td>Statements and control flow</td>\n",
       "    </tr>\n",
       "    <tr>\n",
       "      <th>5</th>\n",
       "      <td>3.3</td>\n",
       "      <td>Expressions</td>\n",
       "    </tr>\n",
       "    <tr>\n",
       "      <th>6</th>\n",
       "      <td>3.4</td>\n",
       "      <td>Methods</td>\n",
       "    </tr>\n",
       "    <tr>\n",
       "      <th>7</th>\n",
       "      <td>3.5</td>\n",
       "      <td>Typing</td>\n",
       "    </tr>\n",
       "    <tr>\n",
       "      <th>8</th>\n",
       "      <td>3.6</td>\n",
       "      <td>Arithmetic operations</td>\n",
       "    </tr>\n",
       "    <tr>\n",
       "      <th>9</th>\n",
       "      <td>4</td>\n",
       "      <td>Programming examples</td>\n",
       "    </tr>\n",
       "    <tr>\n",
       "      <th>10</th>\n",
       "      <td>5</td>\n",
       "      <td>Libraries</td>\n",
       "    </tr>\n",
       "    <tr>\n",
       "      <th>11</th>\n",
       "      <td>6</td>\n",
       "      <td>Development environments</td>\n",
       "    </tr>\n",
       "    <tr>\n",
       "      <th>12</th>\n",
       "      <td>7</td>\n",
       "      <td>Implementations</td>\n",
       "    </tr>\n",
       "    <tr>\n",
       "      <th>13</th>\n",
       "      <td>7.1</td>\n",
       "      <td>Reference implementation</td>\n",
       "    </tr>\n",
       "    <tr>\n",
       "      <th>14</th>\n",
       "      <td>7.2</td>\n",
       "      <td>Other implementations</td>\n",
       "    </tr>\n",
       "    <tr>\n",
       "      <th>15</th>\n",
       "      <td>7.3</td>\n",
       "      <td>Unsupported implementations</td>\n",
       "    </tr>\n",
       "    <tr>\n",
       "      <th>16</th>\n",
       "      <td>7.4</td>\n",
       "      <td>Cross-compilers to other languages</td>\n",
       "    </tr>\n",
       "    <tr>\n",
       "      <th>17</th>\n",
       "      <td>7.5</td>\n",
       "      <td>Performance</td>\n",
       "    </tr>\n",
       "    <tr>\n",
       "      <th>18</th>\n",
       "      <td>8</td>\n",
       "      <td>Development</td>\n",
       "    </tr>\n",
       "    <tr>\n",
       "      <th>19</th>\n",
       "      <td>9</td>\n",
       "      <td>API documentation generators</td>\n",
       "    </tr>\n",
       "    <tr>\n",
       "      <th>20</th>\n",
       "      <td>10</td>\n",
       "      <td>Naming</td>\n",
       "    </tr>\n",
       "    <tr>\n",
       "      <th>21</th>\n",
       "      <td>11</td>\n",
       "      <td>Popularity</td>\n",
       "    </tr>\n",
       "    <tr>\n",
       "      <th>22</th>\n",
       "      <td>12</td>\n",
       "      <td>Uses</td>\n",
       "    </tr>\n",
       "    <tr>\n",
       "      <th>23</th>\n",
       "      <td>13</td>\n",
       "      <td>Languages influenced by Python</td>\n",
       "    </tr>\n",
       "    <tr>\n",
       "      <th>24</th>\n",
       "      <td>14</td>\n",
       "      <td>See also</td>\n",
       "    </tr>\n",
       "    <tr>\n",
       "      <th>25</th>\n",
       "      <td>15</td>\n",
       "      <td>References</td>\n",
       "    </tr>\n",
       "    <tr>\n",
       "      <th>26</th>\n",
       "      <td>15.1</td>\n",
       "      <td>Sources</td>\n",
       "    </tr>\n",
       "    <tr>\n",
       "      <th>27</th>\n",
       "      <td>16</td>\n",
       "      <td>Further reading</td>\n",
       "    </tr>\n",
       "    <tr>\n",
       "      <th>28</th>\n",
       "      <td>17</td>\n",
       "      <td>External links</td>\n",
       "    </tr>\n",
       "  </tbody>\n",
       "</table>\n",
       "</div>"
      ],
      "text/plain": [
       "      번호                                  정보\n",
       "0      1                             History\n",
       "1      2      Design philosophy and features\n",
       "2      3                Syntax and semantics\n",
       "3    3.1                         Indentation\n",
       "4    3.2         Statements and control flow\n",
       "5    3.3                         Expressions\n",
       "6    3.4                             Methods\n",
       "7    3.5                              Typing\n",
       "8    3.6               Arithmetic operations\n",
       "9      4                Programming examples\n",
       "10     5                           Libraries\n",
       "11     6            Development environments\n",
       "12     7                     Implementations\n",
       "13   7.1            Reference implementation\n",
       "14   7.2               Other implementations\n",
       "15   7.3         Unsupported implementations\n",
       "16   7.4  Cross-compilers to other languages\n",
       "17   7.5                         Performance\n",
       "18     8                         Development\n",
       "19     9        API documentation generators\n",
       "20    10                              Naming\n",
       "21    11                          Popularity\n",
       "22    12                                Uses\n",
       "23    13      Languages influenced by Python\n",
       "24    14                            See also\n",
       "25    15                          References\n",
       "26  15.1                             Sources\n",
       "27    16                     Further reading\n",
       "28    17                      External links"
      ]
     },
     "execution_count": 50,
     "metadata": {},
     "output_type": "execute_result"
    }
   ],
   "source": [
    "import pandas as pd\n",
    "pd.DataFrame({\"번호\":index_list,\n",
    "             \"정보\":content_list})"
   ]
  },
  {
   "cell_type": "code",
   "execution_count": 51,
   "metadata": {},
   "outputs": [],
   "source": [
    "from bs4 import BeautifulSoup\n",
    "from selenium import webdriver\n",
    "import urllib.request\n",
    "import pandas as pd"
   ]
  },
  {
   "cell_type": "code",
   "execution_count": 59,
   "metadata": {},
   "outputs": [],
   "source": [
    "# 웹드라이브로 크롬브라우즈 띄운다.\n",
    "driver_path = \"driver/chromedriver.exe\"\n",
    "driver = webdriver.Chrome(executable_path=driver_path)"
   ]
  },
  {
   "cell_type": "code",
   "execution_count": 60,
   "metadata": {},
   "outputs": [],
   "source": [
    "url_page = \"https://www.starbucks.co.kr/store/store_map.do\"\n",
    "driver.get(url_page)\n",
    "soup = BeautifulSoup(driver.page_source, \"html.parser\")"
   ]
  },
  {
   "cell_type": "markdown",
   "metadata": {},
   "source": [
    "# 셀레니움 활용하기"
   ]
  },
  {
   "cell_type": "code",
   "execution_count": 63,
   "metadata": {},
   "outputs": [],
   "source": [
    "driver.find_element_by_xpath('//*[@id=\"quickSearchText\"]').send_keys(\"서울\")"
   ]
  },
  {
   "cell_type": "code",
   "execution_count": 64,
   "metadata": {},
   "outputs": [],
   "source": [
    "driver.find_element_by_xpath('//*[@id=\"container\"]/div/form/fieldset/div/section/article[1]/article/header[2]/h3/a').click()"
   ]
  },
  {
   "cell_type": "code",
   "execution_count": 65,
   "metadata": {},
   "outputs": [],
   "source": [
    "driver.find_element_by_xpath('//*[@id=\"container\"]/div/form/fieldset/div/section/article[1]/article/article[2]/div[1]/div[2]/ul/li[1]/a').click()"
   ]
  },
  {
   "cell_type": "code",
   "execution_count": 66,
   "metadata": {},
   "outputs": [],
   "source": [
    "driver.find_element_by_xpath('//*[@id=\"mCSB_2_container\"]/ul/li[1]/a').click()"
   ]
  },
  {
   "cell_type": "code",
   "execution_count": 67,
   "metadata": {},
   "outputs": [],
   "source": [
    "soup = BeautifulSoup(driver.page_source, \"html.parser\")"
   ]
  },
  {
   "cell_type": "code",
   "execution_count": 73,
   "metadata": {},
   "outputs": [
    {
     "data": {
      "text/plain": [
       "<li class=\"quickResultLstCon\" data-code=\"3752\" data-hlytag=\"null\" data-index=\"0\" data-lat=\"37.579183\" data-long=\"126.892315\" data-name=\"상암YTN\" data-storecd=\"1490\" style=\"background:#fff\"> <strong data-my_siren_order_store_yn=\"N\" data-name=\"상암YTN\" data-store=\"1490\" data-yn=\"N\">상암YTN  </strong> <p class=\"result_details\">서울특별시 마포구 상암산로 76 (상암동)<br/>1522-3232</p> <i class=\"pin_general\">리저브 매장 2번</i></li>"
      ]
     },
     "execution_count": 73,
     "metadata": {},
     "output_type": "execute_result"
    }
   ],
   "source": [
    "soup.find_all(\"li\",\"quickResultLstCon\")[0]"
   ]
  },
  {
   "cell_type": "code",
   "execution_count": 75,
   "metadata": {},
   "outputs": [
    {
     "data": {
      "text/plain": [
       "'상암YTN  '"
      ]
     },
     "execution_count": 75,
     "metadata": {},
     "output_type": "execute_result"
    }
   ],
   "source": [
    "soup.find_all(\"li\",\"quickResultLstCon\")[0].find(\"strong\").text"
   ]
  },
  {
   "cell_type": "code",
   "execution_count": 76,
   "metadata": {},
   "outputs": [
    {
     "data": {
      "text/plain": [
       "'서울특별시 마포구 상암산로 76 (상암동)1522-3232'"
      ]
     },
     "execution_count": 76,
     "metadata": {},
     "output_type": "execute_result"
    }
   ],
   "source": [
    "soup.find_all(\"li\",\"quickResultLstCon\")[0].find(\"p\").text"
   ]
  },
  {
   "cell_type": "code",
   "execution_count": 81,
   "metadata": {},
   "outputs": [],
   "source": [
    "name_list = []\n",
    "address_list = []\n",
    "for i in range(len(soup.find_all(\"li\",\"quickResultLstCon\"))):\n",
    "    name_list.append(soup.find_all(\"li\",\"quickResultLstCon\")[i].find(\"strong\").text)\n",
    "    address_list.append(soup.find_all(\"li\",\"quickResultLstCon\")[i].find(\"p\").text)"
   ]
  },
  {
   "cell_type": "code",
   "execution_count": 98,
   "metadata": {},
   "outputs": [
    {
     "data": {
      "text/html": [
       "<div>\n",
       "<style scoped>\n",
       "    .dataframe tbody tr th:only-of-type {\n",
       "        vertical-align: middle;\n",
       "    }\n",
       "\n",
       "    .dataframe tbody tr th {\n",
       "        vertical-align: top;\n",
       "    }\n",
       "\n",
       "    .dataframe thead th {\n",
       "        text-align: right;\n",
       "    }\n",
       "</style>\n",
       "<table border=\"1\" class=\"dataframe\">\n",
       "  <thead>\n",
       "    <tr style=\"text-align: right;\">\n",
       "      <th></th>\n",
       "      <th>매장명</th>\n",
       "      <th>주소</th>\n",
       "    </tr>\n",
       "  </thead>\n",
       "  <tbody>\n",
       "    <tr>\n",
       "      <th>0</th>\n",
       "      <td>상암YTN</td>\n",
       "      <td>서울특별시 마포구 상암산로 76 (상암동)1522-3232</td>\n",
       "    </tr>\n",
       "    <tr>\n",
       "      <th>1</th>\n",
       "      <td>상암DMC</td>\n",
       "      <td>서울특별시 마포구 월드컵북로 375, DMC이안오피스텔1단지 102호,202호 (상...</td>\n",
       "    </tr>\n",
       "    <tr>\n",
       "      <th>2</th>\n",
       "      <td>상암디지털큐브</td>\n",
       "      <td>서울특별시 마포구 상암산로 341522-3232</td>\n",
       "    </tr>\n",
       "    <tr>\n",
       "      <th>3</th>\n",
       "      <td>상암MBC</td>\n",
       "      <td>서울특별시 마포구 성암로 267 (상암동)1522-3232</td>\n",
       "    </tr>\n",
       "    <tr>\n",
       "      <th>4</th>\n",
       "      <td>북가좌DT</td>\n",
       "      <td>서울특별시 서대문구 응암로 85 (북가좌동)1522-3232</td>\n",
       "    </tr>\n",
       "    <tr>\n",
       "      <th>...</th>\n",
       "      <td>...</td>\n",
       "      <td>...</td>\n",
       "    </tr>\n",
       "    <tr>\n",
       "      <th>575</th>\n",
       "      <td>사가정역</td>\n",
       "      <td>서울특별시 중랑구 면목로 3101522-3232</td>\n",
       "    </tr>\n",
       "    <tr>\n",
       "      <th>576</th>\n",
       "      <td>상봉역</td>\n",
       "      <td>서울특별시 중랑구 망우로 307 (상봉동)1522-3232</td>\n",
       "    </tr>\n",
       "    <tr>\n",
       "      <th>577</th>\n",
       "      <td>묵동이마트</td>\n",
       "      <td>서울특별시 중랑구 동일로 932 (묵동, 묵동자이아파트) (묵동이마트 B1층)152...</td>\n",
       "    </tr>\n",
       "    <tr>\n",
       "      <th>578</th>\n",
       "      <td>묵동</td>\n",
       "      <td>서울특별시 중랑구 동일로 952 (묵동, 로프트원 태릉입구역) 1층1522-3232</td>\n",
       "    </tr>\n",
       "    <tr>\n",
       "      <th>579</th>\n",
       "      <td>중화역</td>\n",
       "      <td>서울특별시 중랑구 봉화산로 35 1,2층1522-3232</td>\n",
       "    </tr>\n",
       "  </tbody>\n",
       "</table>\n",
       "<p>580 rows × 2 columns</p>\n",
       "</div>"
      ],
      "text/plain": [
       "           매장명                                                 주소\n",
       "0      상암YTN                     서울특별시 마포구 상암산로 76 (상암동)1522-3232\n",
       "1      상암DMC    서울특별시 마포구 월드컵북로 375, DMC이안오피스텔1단지 102호,202호 (상...\n",
       "2    상암디지털큐브                           서울특별시 마포구 상암산로 341522-3232\n",
       "3      상암MBC                     서울특별시 마포구 성암로 267 (상암동)1522-3232\n",
       "4      북가좌DT                    서울특별시 서대문구 응암로 85 (북가좌동)1522-3232\n",
       "..         ...                                                ...\n",
       "575     사가정역                           서울특별시 중랑구 면목로 3101522-3232\n",
       "576      상봉역                     서울특별시 중랑구 망우로 307 (상봉동)1522-3232\n",
       "577    묵동이마트    서울특별시 중랑구 동일로 932 (묵동, 묵동자이아파트) (묵동이마트 B1층)152...\n",
       "578       묵동       서울특별시 중랑구 동일로 952 (묵동, 로프트원 태릉입구역) 1층1522-3232\n",
       "579      중화역                      서울특별시 중랑구 봉화산로 35 1,2층1522-3232\n",
       "\n",
       "[580 rows x 2 columns]"
      ]
     },
     "execution_count": 98,
     "metadata": {},
     "output_type": "execute_result"
    }
   ],
   "source": [
    "df = pd.DataFrame({\"매장명\":name_list,\"주소\":address_list})\n",
    "df"
   ]
  },
  {
   "cell_type": "code",
   "execution_count": 100,
   "metadata": {},
   "outputs": [],
   "source": [
    "for i in range(len(df['주소'])):\n",
    "    df['주소'].loc[i] = df['주소'].loc[i][:-9]"
   ]
  },
  {
   "cell_type": "code",
   "execution_count": 101,
   "metadata": {},
   "outputs": [
    {
     "data": {
      "text/html": [
       "<div>\n",
       "<style scoped>\n",
       "    .dataframe tbody tr th:only-of-type {\n",
       "        vertical-align: middle;\n",
       "    }\n",
       "\n",
       "    .dataframe tbody tr th {\n",
       "        vertical-align: top;\n",
       "    }\n",
       "\n",
       "    .dataframe thead th {\n",
       "        text-align: right;\n",
       "    }\n",
       "</style>\n",
       "<table border=\"1\" class=\"dataframe\">\n",
       "  <thead>\n",
       "    <tr style=\"text-align: right;\">\n",
       "      <th></th>\n",
       "      <th>매장명</th>\n",
       "      <th>주소</th>\n",
       "    </tr>\n",
       "  </thead>\n",
       "  <tbody>\n",
       "    <tr>\n",
       "      <th>0</th>\n",
       "      <td>상암YTN</td>\n",
       "      <td>서울특별시 마포구 상암산로 76 (상암동)</td>\n",
       "    </tr>\n",
       "    <tr>\n",
       "      <th>1</th>\n",
       "      <td>상암DMC</td>\n",
       "      <td>서울특별시 마포구 월드컵북로 375, DMC이안오피스텔1단지 102호,202호 (상암동)</td>\n",
       "    </tr>\n",
       "    <tr>\n",
       "      <th>2</th>\n",
       "      <td>상암디지털큐브</td>\n",
       "      <td>서울특별시 마포구 상암산로 34</td>\n",
       "    </tr>\n",
       "    <tr>\n",
       "      <th>3</th>\n",
       "      <td>상암MBC</td>\n",
       "      <td>서울특별시 마포구 성암로 267 (상암동)</td>\n",
       "    </tr>\n",
       "    <tr>\n",
       "      <th>4</th>\n",
       "      <td>북가좌DT</td>\n",
       "      <td>서울특별시 서대문구 응암로 85 (북가좌동)</td>\n",
       "    </tr>\n",
       "    <tr>\n",
       "      <th>...</th>\n",
       "      <td>...</td>\n",
       "      <td>...</td>\n",
       "    </tr>\n",
       "    <tr>\n",
       "      <th>575</th>\n",
       "      <td>사가정역</td>\n",
       "      <td>서울특별시 중랑구 면목로 310</td>\n",
       "    </tr>\n",
       "    <tr>\n",
       "      <th>576</th>\n",
       "      <td>상봉역</td>\n",
       "      <td>서울특별시 중랑구 망우로 307 (상봉동)</td>\n",
       "    </tr>\n",
       "    <tr>\n",
       "      <th>577</th>\n",
       "      <td>묵동이마트</td>\n",
       "      <td>서울특별시 중랑구 동일로 932 (묵동, 묵동자이아파트) (묵동이마트 B1층)</td>\n",
       "    </tr>\n",
       "    <tr>\n",
       "      <th>578</th>\n",
       "      <td>묵동</td>\n",
       "      <td>서울특별시 중랑구 동일로 952 (묵동, 로프트원 태릉입구역) 1층</td>\n",
       "    </tr>\n",
       "    <tr>\n",
       "      <th>579</th>\n",
       "      <td>중화역</td>\n",
       "      <td>서울특별시 중랑구 봉화산로 35 1,2층</td>\n",
       "    </tr>\n",
       "  </tbody>\n",
       "</table>\n",
       "<p>580 rows × 2 columns</p>\n",
       "</div>"
      ],
      "text/plain": [
       "           매장명                                                 주소\n",
       "0      상암YTN                              서울특별시 마포구 상암산로 76 (상암동)\n",
       "1      상암DMC    서울특별시 마포구 월드컵북로 375, DMC이안오피스텔1단지 102호,202호 (상암동)\n",
       "2    상암디지털큐브                                    서울특별시 마포구 상암산로 34\n",
       "3      상암MBC                              서울특별시 마포구 성암로 267 (상암동)\n",
       "4      북가좌DT                             서울특별시 서대문구 응암로 85 (북가좌동)\n",
       "..         ...                                                ...\n",
       "575     사가정역                                    서울특별시 중랑구 면목로 310\n",
       "576      상봉역                              서울특별시 중랑구 망우로 307 (상봉동)\n",
       "577    묵동이마트          서울특별시 중랑구 동일로 932 (묵동, 묵동자이아파트) (묵동이마트 B1층)\n",
       "578       묵동                서울특별시 중랑구 동일로 952 (묵동, 로프트원 태릉입구역) 1층\n",
       "579      중화역                               서울특별시 중랑구 봉화산로 35 1,2층\n",
       "\n",
       "[580 rows x 2 columns]"
      ]
     },
     "execution_count": 101,
     "metadata": {},
     "output_type": "execute_result"
    }
   ],
   "source": [
    "df"
   ]
  },
  {
   "cell_type": "code",
   "execution_count": null,
   "metadata": {},
   "outputs": [],
   "source": []
  }
 ],
 "metadata": {
  "kernelspec": {
   "display_name": "Python 3 (ipykernel)",
   "language": "python",
   "name": "python3"
  },
  "language_info": {
   "codemirror_mode": {
    "name": "ipython",
    "version": 3
   },
   "file_extension": ".py",
   "mimetype": "text/x-python",
   "name": "python",
   "nbconvert_exporter": "python",
   "pygments_lexer": "ipython3",
   "version": "3.8.5"
  }
 },
 "nbformat": 4,
 "nbformat_minor": 5
}
