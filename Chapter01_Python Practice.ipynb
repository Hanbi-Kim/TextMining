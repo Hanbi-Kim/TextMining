{
 "cells": [
  {
   "cell_type": "markdown",
   "metadata": {},
   "source": [
    "# 파이썬 기초 문법을 활용하기"
   ]
  },
  {
   "cell_type": "markdown",
   "metadata": {},
   "source": [
    "## 이중 For문을 활용하여 구구단 출력하기"
   ]
  },
  {
   "cell_type": "code",
   "execution_count": 1,
   "metadata": {},
   "outputs": [
    {
     "name": "stdout",
     "output_type": "stream",
     "text": [
      "1\n",
      "2\n",
      "3\n",
      "4\n",
      "5\n",
      "6\n",
      "7\n",
      "8\n",
      "9\n"
     ]
    }
   ],
   "source": [
    "# for문을 활용하여 1부터 9까지 i라는 변수에 지정하여 이를 출력해볼수있다\n",
    "for i in range(1,10):\n",
    "    print(i)"
   ]
  },
  {
   "cell_type": "code",
   "execution_count": 8,
   "metadata": {},
   "outputs": [
    {
     "name": "stdout",
     "output_type": "stream",
     "text": [
      "=== 구구단 2단 ===\n",
      " 2 X 1 = 2\n",
      " 2 X 2 = 4\n",
      " 2 X 3 = 6\n",
      " 2 X 4 = 8\n",
      " 2 X 5 = 10\n",
      " 2 X 6 = 12\n",
      " 2 X 7 = 14\n",
      " 2 X 8 = 16\n",
      " 2 X 9 = 18\n"
     ]
    }
   ],
   "source": [
    "# 2단에만 진행해보자\n",
    "print(\"=== 구구단 2단 ===\")\n",
    "for i in range(1,10):\n",
    "#     print(\" 2 X \" + str(i) + \" = \" + str(2*i))\n",
    "    print(\" 2 X {} = {}\".format(i,2*i))"
   ]
  },
  {
   "cell_type": "code",
   "execution_count": 7,
   "metadata": {},
   "outputs": [
    {
     "name": "stdout",
     "output_type": "stream",
     "text": [
      "=== 구구단 2단 ===\n",
      " 2 X 1 = 2\n",
      " 2 X 2 = 4\n",
      " 2 X 3 = 6\n",
      " 2 X 4 = 8\n",
      " 2 X 5 = 10\n",
      " 2 X 6 = 12\n",
      " 2 X 7 = 14\n",
      " 2 X 8 = 16\n",
      " 2 X 9 = 18\n",
      "=== 구구단 3단 ===\n",
      " 3 X 1 = 3\n",
      " 3 X 2 = 6\n",
      " 3 X 3 = 9\n",
      " 3 X 4 = 12\n",
      " 3 X 5 = 15\n",
      " 3 X 6 = 18\n",
      " 3 X 7 = 21\n",
      " 3 X 8 = 24\n",
      " 3 X 9 = 27\n",
      "=== 구구단 4단 ===\n",
      " 4 X 1 = 4\n",
      " 4 X 2 = 8\n",
      " 4 X 3 = 12\n",
      " 4 X 4 = 16\n",
      " 4 X 5 = 20\n",
      " 4 X 6 = 24\n",
      " 4 X 7 = 28\n",
      " 4 X 8 = 32\n",
      " 4 X 9 = 36\n",
      "=== 구구단 5단 ===\n",
      " 5 X 1 = 5\n",
      " 5 X 2 = 10\n",
      " 5 X 3 = 15\n",
      " 5 X 4 = 20\n",
      " 5 X 5 = 25\n",
      " 5 X 6 = 30\n",
      " 5 X 7 = 35\n",
      " 5 X 8 = 40\n",
      " 5 X 9 = 45\n",
      "=== 구구단 6단 ===\n",
      " 6 X 1 = 6\n",
      " 6 X 2 = 12\n",
      " 6 X 3 = 18\n",
      " 6 X 4 = 24\n",
      " 6 X 5 = 30\n",
      " 6 X 6 = 36\n",
      " 6 X 7 = 42\n",
      " 6 X 8 = 48\n",
      " 6 X 9 = 54\n",
      "=== 구구단 7단 ===\n",
      " 7 X 1 = 7\n",
      " 7 X 2 = 14\n",
      " 7 X 3 = 21\n",
      " 7 X 4 = 28\n",
      " 7 X 5 = 35\n",
      " 7 X 6 = 42\n",
      " 7 X 7 = 49\n",
      " 7 X 8 = 56\n",
      " 7 X 9 = 63\n",
      "=== 구구단 8단 ===\n",
      " 8 X 1 = 8\n",
      " 8 X 2 = 16\n",
      " 8 X 3 = 24\n",
      " 8 X 4 = 32\n",
      " 8 X 5 = 40\n",
      " 8 X 6 = 48\n",
      " 8 X 7 = 56\n",
      " 8 X 8 = 64\n",
      " 8 X 9 = 72\n",
      "=== 구구단 9단 ===\n",
      " 9 X 1 = 9\n",
      " 9 X 2 = 18\n",
      " 9 X 3 = 27\n",
      " 9 X 4 = 36\n",
      " 9 X 5 = 45\n",
      " 9 X 6 = 54\n",
      " 9 X 7 = 63\n",
      " 9 X 8 = 72\n",
      " 9 X 9 = 81\n"
     ]
    }
   ],
   "source": [
    "# 이중 For문을 활용하여 9단까지 진행\n",
    "for j in range(2,10):\n",
    "    print(\"=== 구구단 {}단 ===\".format(j))\n",
    "    for i in range(1,10):\n",
    "        print(\" {} X {} = {}\".format(j,i,j*i))"
   ]
  },
  {
   "cell_type": "markdown",
   "metadata": {},
   "source": [
    "## While문을 활용한 업다운 게임"
   ]
  },
  {
   "cell_type": "markdown",
   "metadata": {},
   "source": [
    "### random 패키지를 통해 임의의 숫자 가져오기"
   ]
  },
  {
   "cell_type": "code",
   "execution_count": 10,
   "metadata": {},
   "outputs": [],
   "source": [
    "# random이란 패키지를 불러오기\n",
    "import random"
   ]
  },
  {
   "cell_type": "code",
   "execution_count": 13,
   "metadata": {},
   "outputs": [
    {
     "data": {
      "text/plain": [
       "76"
      ]
     },
     "execution_count": 13,
     "metadata": {},
     "output_type": "execute_result"
    }
   ],
   "source": [
    "# random이라는 패키지 안에 .sample()이라는 함수를 사용\n",
    "# sample()의 경우, range(1,100) 안에서, 1 하나만 랜덤하게 추출\n",
    "# List 형식으로 반환되니, 첫번째 값을 사용하기위해 리스트 인덱싱 [0] 사용\n",
    "random.sample(range(1,100),1)[0]"
   ]
  },
  {
   "cell_type": "markdown",
   "metadata": {},
   "source": [
    "### 입력 받은 값이 작은지, 큰지, 같은지 판단하는 로직"
   ]
  },
  {
   "cell_type": "code",
   "execution_count": 14,
   "metadata": {},
   "outputs": [
    {
     "name": "stdout",
     "output_type": "stream",
     "text": [
      "숫자를 입력해주세요.40\n",
      "땡! 숫자가 큽니다. 좀 더 낮추세요.\n"
     ]
    }
   ],
   "source": [
    "# 위에서 Random 패키지를 통해 얻은 임의의 수를 random_num이란 변수에 저장\n",
    "random_num = random.sample(range(1,100),1)[0]\n",
    "\n",
    "# input으로 입력받은 숫자는 문자열임으로 int()를 통해 casting을 진행하여 이를 num이란 변수에 지정\n",
    "num = int(input(\"숫자를 입력해주세요.\"))\n",
    "\n",
    "# 만약에 num이 random_num 보다 크다면, \n",
    "if num > random_num:\n",
    "    print(\"땡! 숫자가 큽니다. 좀 더 낮추세요.\")\n",
    "# 만약에 num이 random_num 보다 작다면,\n",
    "elif num < random_num:\n",
    "    print(\"땡! 숫자가 작습니다. 좀 더 키우세요.\")\n",
    "# else의 경우, 위의 두 가지 사항이 아니라면 num과 random_num이 같은 경우라고 생각할수있다\n",
    "else:\n",
    "    print(\"정답입니다!!\")"
   ]
  },
  {
   "cell_type": "markdown",
   "metadata": {},
   "source": [
    "### While문을 통해 답을 맞출 때 까지 반복실행"
   ]
  },
  {
   "cell_type": "code",
   "execution_count": 18,
   "metadata": {},
   "outputs": [
    {
     "name": "stdout",
     "output_type": "stream",
     "text": [
      "숫자를 입력해주세요.50\n",
      "땡! 숫자가 작습니다. 좀 더 키우세요.\n",
      "숫자를 입력해주세요.75\n",
      "땡! 숫자가 작습니다. 좀 더 키우세요.\n",
      "숫자를 입력해주세요.88\n",
      "땡! 숫자가 큽니다. 좀 더 낮추세요.\n",
      "숫자를 입력해주세요.80\n",
      "땡! 숫자가 큽니다. 좀 더 낮추세요.\n",
      "숫자를 입력해주세요.78\n",
      "정답입니다!!\n"
     ]
    }
   ],
   "source": [
    "# 위에서 Random 패키지를 통해 얻은 임의의 수를 random_num이란 변수에 저장\n",
    "random_num = random.sample(range(1,100),1)[0]\n",
    "\n",
    "# 처음에는 ans라는 변수를 False로 지정\n",
    "ans = False\n",
    "\n",
    "# ans라는 변수가 True가 될때 까지 반복적 실행\n",
    "while ans != True:\n",
    "    # input으로 입력받은 숫자는 문자열임으로 int()를 통해 casting을 진행하여 이를 num이란 변수에 지정\n",
    "    num = int(input(\"숫자를 입력해주세요.\"))\n",
    "    # 만약에 num이 random_num 보다 크다면, \n",
    "    if num > random_num:\n",
    "        print(\"땡! 숫자가 큽니다. 좀 더 낮추세요.\")\n",
    "    # 만약에 num이 random_num 보다 작다면,\n",
    "    elif num < random_num:\n",
    "        print(\"땡! 숫자가 작습니다. 좀 더 키우세요.\")\n",
    "    # else의 경우, 위의 두 가지 사항이 아니라면 num과 random_num이 같은 경우라고 생각할수있다\n",
    "    else:\n",
    "        print(\"정답입니다!!\")\n",
    "        # 정답을 맞춘 경우 게임을 종료해야함으로 ans를 True로 변환하여 while문을 끝냄\n",
    "        ans = True"
   ]
  },
  {
   "cell_type": "code",
   "execution_count": null,
   "metadata": {},
   "outputs": [],
   "source": []
  }
 ],
 "metadata": {
  "kernelspec": {
   "display_name": "Python 3 (ipykernel)",
   "language": "python",
   "name": "python3"
  },
  "language_info": {
   "codemirror_mode": {
    "name": "ipython",
    "version": 3
   },
   "file_extension": ".py",
   "mimetype": "text/x-python",
   "name": "python",
   "nbconvert_exporter": "python",
   "pygments_lexer": "ipython3",
   "version": "3.8.5"
  }
 },
 "nbformat": 4,
 "nbformat_minor": 4
}
