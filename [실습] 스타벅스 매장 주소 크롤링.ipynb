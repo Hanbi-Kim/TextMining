{
 "cells": [
  {
   "cell_type": "code",
   "execution_count": 1,
   "id": "d60671bf",
   "metadata": {},
   "outputs": [],
   "source": [
    "from selenium import webdriver\n",
    "from selenium.webdriver.chrome.service import Service\n",
    "from webdriver_manager.chrome import ChromeDriverManager\n",
    "from selenium.webdriver.common.by import By\n",
    "\n",
    "###################\n",
    "from bs4 import BeautifulSoup\n",
    "import urllib.request\n",
    "import pandas as pd\n",
    "####################\n",
    "\n",
    "import warnings\n",
    "warnings.filterwarnings(\"ignore\")"
   ]
  },
  {
   "cell_type": "code",
   "execution_count": null,
   "id": "14e77abc",
   "metadata": {},
   "outputs": [],
   "source": [
    "# driver를 설치하여 열기\n",
    "driver = webdriver.Chrome(ChromeDriverManager().install())"
   ]
  },
  {
   "cell_type": "code",
   "execution_count": 2,
   "id": "2eaf06fa",
   "metadata": {},
   "outputs": [],
   "source": [
    "# 설치된 driver를 열기\n",
    "s = Service(\"driver/chromedriver.exe\")\n",
    "driver = webdriver.Chrome(service=s)"
   ]
  },
  {
   "cell_type": "code",
   "execution_count": 25,
   "id": "e86a2430",
   "metadata": {},
   "outputs": [],
   "source": [
    "# Url 주소를 가져와 이동\n",
    "url = \"https://www.starbucks.co.kr/store/store_map.do\"\n",
    "driver.get(url)"
   ]
  },
  {
   "cell_type": "markdown",
   "id": "e9d02c92",
   "metadata": {},
   "source": [
    "## 지역 검색 클릭"
   ]
  },
  {
   "cell_type": "code",
   "execution_count": 29,
   "id": "b489f49c",
   "metadata": {},
   "outputs": [],
   "source": [
    "driver.find_element_by_xpath('//*[@id=\"container\"]/div/form/fieldset/div/section/article[1]/article/header[2]').click()"
   ]
  },
  {
   "cell_type": "markdown",
   "id": "f62abff3",
   "metadata": {},
   "source": [
    "## 서울 클릭"
   ]
  },
  {
   "cell_type": "code",
   "execution_count": 30,
   "id": "463ee915",
   "metadata": {},
   "outputs": [],
   "source": [
    "driver.find_element_by_xpath('//*[@id=\"container\"]/div/form/fieldset/div/section/article[1]/article/article[2]/div[1]/div[2]/ul/li[1]/a').click()"
   ]
  },
  {
   "cell_type": "markdown",
   "id": "a1f881b5",
   "metadata": {},
   "source": [
    "## 전체 클릭"
   ]
  },
  {
   "cell_type": "code",
   "execution_count": 31,
   "id": "2fa3cc1f",
   "metadata": {},
   "outputs": [],
   "source": [
    "driver.find_element_by_xpath('//*[@id=\"mCSB_2_container\"]/ul/li[1]/a').click()"
   ]
  },
  {
   "cell_type": "markdown",
   "id": "bca5c9cb",
   "metadata": {},
   "source": [
    "## 주소 정보 크롤링"
   ]
  },
  {
   "cell_type": "code",
   "execution_count": 32,
   "id": "bfee91c3",
   "metadata": {},
   "outputs": [],
   "source": [
    "soup = BeautifulSoup(driver.page_source, \"html.parser\")"
   ]
  },
  {
   "cell_type": "code",
   "execution_count": 33,
   "id": "b71bf6c9",
   "metadata": {},
   "outputs": [
    {
     "data": {
      "text/plain": [
       "<li class=\"quickResultLstCon\" data-code=\"3762\" data-hlytag=\"null\" data-index=\"0\" data-lat=\"37.501087\" data-long=\"127.043069\" data-name=\"역삼아레나빌딩\" data-storecd=\"1509\" style=\"background:#fff\"> <strong data-my_siren_order_store_yn=\"N\" data-name=\"역삼아레나빌딩\" data-store=\"1509\" data-yn=\"N\">역삼아레나빌딩  </strong> <p class=\"result_details\">서울특별시 강남구 언주로 425 (역삼동)<br/>1522-3232</p> <i class=\"pin_general\">리저브 매장 2번</i></li>"
      ]
     },
     "execution_count": 33,
     "metadata": {},
     "output_type": "execute_result"
    }
   ],
   "source": [
    "soup.find('div',id='mCSB_3').find_all('li')[0]"
   ]
  },
  {
   "cell_type": "code",
   "execution_count": 34,
   "id": "a068f066",
   "metadata": {},
   "outputs": [
    {
     "data": {
      "text/plain": [
       "574"
      ]
     },
     "execution_count": 34,
     "metadata": {},
     "output_type": "execute_result"
    }
   ],
   "source": [
    "len(soup.find('div',id='mCSB_3').find_all('li'))\n"
   ]
  },
  {
   "cell_type": "code",
   "execution_count": 35,
   "id": "ed7fef5d",
   "metadata": {},
   "outputs": [
    {
     "data": {
      "text/plain": [
       "'역삼아레나빌딩  '"
      ]
     },
     "execution_count": 35,
     "metadata": {},
     "output_type": "execute_result"
    }
   ],
   "source": [
    "soup.find('div',id='mCSB_3').find_all('li')[0].find('strong').text"
   ]
  },
  {
   "cell_type": "code",
   "execution_count": 36,
   "id": "082d1d61",
   "metadata": {},
   "outputs": [
    {
     "data": {
      "text/plain": [
       "'서울특별시 강남구 언주로 425 (역삼동)1522-3232'"
      ]
     },
     "execution_count": 36,
     "metadata": {},
     "output_type": "execute_result"
    }
   ],
   "source": [
    "soup.find('div',id='mCSB_3').find_all('li')[0].find('p').text"
   ]
  },
  {
   "cell_type": "code",
   "execution_count": 37,
   "id": "323a9f29",
   "metadata": {},
   "outputs": [],
   "source": [
    "shop_name = []\n",
    "shop_address = []\n",
    "for i in range(len(soup.find('div',id='mCSB_3').find_all('li'))):\n",
    "    shop_name.append(soup.find('div',id='mCSB_3').find_all('li')[i].find('strong').text)\n",
    "    shop_address.append(soup.find('div',id='mCSB_3').find_all('li')[i].find('p').text)\n",
    "    "
   ]
  },
  {
   "cell_type": "code",
   "execution_count": 38,
   "id": "09e8997d",
   "metadata": {},
   "outputs": [
    {
     "data": {
      "text/html": [
       "<div>\n",
       "<style scoped>\n",
       "    .dataframe tbody tr th:only-of-type {\n",
       "        vertical-align: middle;\n",
       "    }\n",
       "\n",
       "    .dataframe tbody tr th {\n",
       "        vertical-align: top;\n",
       "    }\n",
       "\n",
       "    .dataframe thead th {\n",
       "        text-align: right;\n",
       "    }\n",
       "</style>\n",
       "<table border=\"1\" class=\"dataframe\">\n",
       "  <thead>\n",
       "    <tr style=\"text-align: right;\">\n",
       "      <th></th>\n",
       "      <th>매장명</th>\n",
       "      <th>매장주소</th>\n",
       "    </tr>\n",
       "  </thead>\n",
       "  <tbody>\n",
       "    <tr>\n",
       "      <th>0</th>\n",
       "      <td>역삼아레나빌딩</td>\n",
       "      <td>서울특별시 강남구 언주로 425 (역삼동)1522-3232</td>\n",
       "    </tr>\n",
       "    <tr>\n",
       "      <th>1</th>\n",
       "      <td>논현역사거리</td>\n",
       "      <td>서울특별시 강남구 강남대로 538 (논현동)1522-3232</td>\n",
       "    </tr>\n",
       "    <tr>\n",
       "      <th>2</th>\n",
       "      <td>신사역성일빌딩</td>\n",
       "      <td>서울특별시 강남구 강남대로 584 (논현동)1522-3232</td>\n",
       "    </tr>\n",
       "    <tr>\n",
       "      <th>3</th>\n",
       "      <td>국기원사거리</td>\n",
       "      <td>서울특별시 강남구 테헤란로 125 (역삼동)1522-3232</td>\n",
       "    </tr>\n",
       "    <tr>\n",
       "      <th>4</th>\n",
       "      <td>대치재경빌딩R</td>\n",
       "      <td>서울특별시 강남구 남부순환로 2947 (대치동)1522-3232</td>\n",
       "    </tr>\n",
       "    <tr>\n",
       "      <th>...</th>\n",
       "      <td>...</td>\n",
       "      <td>...</td>\n",
       "    </tr>\n",
       "    <tr>\n",
       "      <th>569</th>\n",
       "      <td>사가정역</td>\n",
       "      <td>서울특별시 중랑구 면목로 3101522-3232</td>\n",
       "    </tr>\n",
       "    <tr>\n",
       "      <th>570</th>\n",
       "      <td>상봉역</td>\n",
       "      <td>서울특별시 중랑구 망우로 307 (상봉동)1522-3232</td>\n",
       "    </tr>\n",
       "    <tr>\n",
       "      <th>571</th>\n",
       "      <td>묵동</td>\n",
       "      <td>서울특별시 중랑구 동일로 952 (묵동, 로프트원 태릉입구역) 1층1522-3232</td>\n",
       "    </tr>\n",
       "    <tr>\n",
       "      <th>572</th>\n",
       "      <td>중화역</td>\n",
       "      <td>서울특별시 중랑구 봉화산로 35 1,2층1522-3232</td>\n",
       "    </tr>\n",
       "    <tr>\n",
       "      <th>573</th>\n",
       "      <td>묵동이마트</td>\n",
       "      <td>서울특별시 중랑구 동일로 932 (묵동, 묵동자이아파트) (묵동이마트 B1층)152...</td>\n",
       "    </tr>\n",
       "  </tbody>\n",
       "</table>\n",
       "<p>574 rows × 2 columns</p>\n",
       "</div>"
      ],
      "text/plain": [
       "           매장명                                               매장주소\n",
       "0    역삼아레나빌딩                     서울특별시 강남구 언주로 425 (역삼동)1522-3232\n",
       "1     논현역사거리                    서울특별시 강남구 강남대로 538 (논현동)1522-3232\n",
       "2    신사역성일빌딩                    서울특별시 강남구 강남대로 584 (논현동)1522-3232\n",
       "3     국기원사거리                    서울특별시 강남구 테헤란로 125 (역삼동)1522-3232\n",
       "4    대치재경빌딩R                  서울특별시 강남구 남부순환로 2947 (대치동)1522-3232\n",
       "..         ...                                                ...\n",
       "569     사가정역                           서울특별시 중랑구 면목로 3101522-3232\n",
       "570      상봉역                     서울특별시 중랑구 망우로 307 (상봉동)1522-3232\n",
       "571       묵동       서울특별시 중랑구 동일로 952 (묵동, 로프트원 태릉입구역) 1층1522-3232\n",
       "572      중화역                      서울특별시 중랑구 봉화산로 35 1,2층1522-3232\n",
       "573    묵동이마트    서울특별시 중랑구 동일로 932 (묵동, 묵동자이아파트) (묵동이마트 B1층)152...\n",
       "\n",
       "[574 rows x 2 columns]"
      ]
     },
     "execution_count": 38,
     "metadata": {},
     "output_type": "execute_result"
    }
   ],
   "source": [
    "df = pd.DataFrame({\"매장명\":shop_name,\"매장주소\":shop_address})\n",
    "df"
   ]
  },
  {
   "cell_type": "code",
   "execution_count": 39,
   "id": "5d0c08d6",
   "metadata": {},
   "outputs": [],
   "source": [
    "df.to_csv(\"dataset/스타벅스매장.csv\")"
   ]
  },
  {
   "cell_type": "code",
   "execution_count": null,
   "id": "c0331e62",
   "metadata": {},
   "outputs": [],
   "source": []
  }
 ],
 "metadata": {
  "kernelspec": {
   "display_name": "Python 3 (ipykernel)",
   "language": "python",
   "name": "python3"
  },
  "language_info": {
   "codemirror_mode": {
    "name": "ipython",
    "version": 3
   },
   "file_extension": ".py",
   "mimetype": "text/x-python",
   "name": "python",
   "nbconvert_exporter": "python",
   "pygments_lexer": "ipython3",
   "version": "3.9.7"
  }
 },
 "nbformat": 4,
 "nbformat_minor": 5
}
