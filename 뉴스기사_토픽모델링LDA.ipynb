{
 "cells": [
  {
   "cell_type": "code",
   "execution_count": 22,
   "id": "1f573391",
   "metadata": {},
   "outputs": [],
   "source": [
    "import numpy as np\n",
    "import pandas as pd\n",
    "from tqdm import tqdm\n",
    "from gensim import corpora"
   ]
  },
  {
   "cell_type": "code",
   "execution_count": 2,
   "id": "14cd8b11",
   "metadata": {},
   "outputs": [],
   "source": [
    "train      = pd.read_csv(\"dataset/dacon_news/train_data.csv\")\n",
    "test       = pd.read_csv(\"dataset/dacon_news/test_data.csv\")\n",
    "submission = pd.read_csv(\"dataset/dacon_news/sample_submission.csv\")\n",
    "topic_dict = pd.read_csv(\"dataset/dacon_news/topic_dict.csv\")"
   ]
  },
  {
   "cell_type": "code",
   "execution_count": 3,
   "id": "87de9757",
   "metadata": {
    "scrolled": true
   },
   "outputs": [
    {
     "data": {
      "text/html": [
       "<div>\n",
       "<style scoped>\n",
       "    .dataframe tbody tr th:only-of-type {\n",
       "        vertical-align: middle;\n",
       "    }\n",
       "\n",
       "    .dataframe tbody tr th {\n",
       "        vertical-align: top;\n",
       "    }\n",
       "\n",
       "    .dataframe thead th {\n",
       "        text-align: right;\n",
       "    }\n",
       "</style>\n",
       "<table border=\"1\" class=\"dataframe\">\n",
       "  <thead>\n",
       "    <tr style=\"text-align: right;\">\n",
       "      <th></th>\n",
       "      <th>index</th>\n",
       "      <th>title</th>\n",
       "      <th>topic_idx</th>\n",
       "    </tr>\n",
       "  </thead>\n",
       "  <tbody>\n",
       "    <tr>\n",
       "      <th>0</th>\n",
       "      <td>0</td>\n",
       "      <td>인천→핀란드 항공기 결항…휴가철 여행객 분통</td>\n",
       "      <td>4</td>\n",
       "    </tr>\n",
       "    <tr>\n",
       "      <th>1</th>\n",
       "      <td>1</td>\n",
       "      <td>실리콘밸리 넘어서겠다…구글 15조원 들여 美전역 거점화</td>\n",
       "      <td>4</td>\n",
       "    </tr>\n",
       "    <tr>\n",
       "      <th>2</th>\n",
       "      <td>2</td>\n",
       "      <td>이란 외무 긴장완화 해결책은 미국이 경제전쟁 멈추는 것</td>\n",
       "      <td>4</td>\n",
       "    </tr>\n",
       "    <tr>\n",
       "      <th>3</th>\n",
       "      <td>3</td>\n",
       "      <td>NYT 클린턴 측근韓기업 특수관계 조명…공과 사 맞물려종합</td>\n",
       "      <td>4</td>\n",
       "    </tr>\n",
       "    <tr>\n",
       "      <th>4</th>\n",
       "      <td>4</td>\n",
       "      <td>시진핑 트럼프에 중미 무역협상 조속 타결 희망</td>\n",
       "      <td>4</td>\n",
       "    </tr>\n",
       "    <tr>\n",
       "      <th>...</th>\n",
       "      <td>...</td>\n",
       "      <td>...</td>\n",
       "      <td>...</td>\n",
       "    </tr>\n",
       "    <tr>\n",
       "      <th>45649</th>\n",
       "      <td>45649</td>\n",
       "      <td>KB금융 미국 IB 스티펠과 제휴…선진국 시장 공략</td>\n",
       "      <td>1</td>\n",
       "    </tr>\n",
       "    <tr>\n",
       "      <th>45650</th>\n",
       "      <td>45650</td>\n",
       "      <td>1보 서울시교육청 신종코로나 확산에 개학 연기·휴업 검토</td>\n",
       "      <td>2</td>\n",
       "    </tr>\n",
       "    <tr>\n",
       "      <th>45651</th>\n",
       "      <td>45651</td>\n",
       "      <td>게시판 키움증권 2020 키움 영웅전 실전투자대회</td>\n",
       "      <td>1</td>\n",
       "    </tr>\n",
       "    <tr>\n",
       "      <th>45652</th>\n",
       "      <td>45652</td>\n",
       "      <td>답변하는 배기동 국립중앙박물관장</td>\n",
       "      <td>2</td>\n",
       "    </tr>\n",
       "    <tr>\n",
       "      <th>45653</th>\n",
       "      <td>45653</td>\n",
       "      <td>2020 한국인터넷기자상 시상식 내달 1일 개최…특별상 김성후</td>\n",
       "      <td>2</td>\n",
       "    </tr>\n",
       "  </tbody>\n",
       "</table>\n",
       "<p>45654 rows × 3 columns</p>\n",
       "</div>"
      ],
      "text/plain": [
       "       index                               title  topic_idx\n",
       "0          0            인천→핀란드 항공기 결항…휴가철 여행객 분통          4\n",
       "1          1      실리콘밸리 넘어서겠다…구글 15조원 들여 美전역 거점화          4\n",
       "2          2      이란 외무 긴장완화 해결책은 미국이 경제전쟁 멈추는 것          4\n",
       "3          3    NYT 클린턴 측근韓기업 특수관계 조명…공과 사 맞물려종합          4\n",
       "4          4           시진핑 트럼프에 중미 무역협상 조속 타결 희망          4\n",
       "...      ...                                 ...        ...\n",
       "45649  45649        KB금융 미국 IB 스티펠과 제휴…선진국 시장 공략          1\n",
       "45650  45650     1보 서울시교육청 신종코로나 확산에 개학 연기·휴업 검토          2\n",
       "45651  45651         게시판 키움증권 2020 키움 영웅전 실전투자대회          1\n",
       "45652  45652                   답변하는 배기동 국립중앙박물관장          2\n",
       "45653  45653  2020 한국인터넷기자상 시상식 내달 1일 개최…특별상 김성후          2\n",
       "\n",
       "[45654 rows x 3 columns]"
      ]
     },
     "execution_count": 3,
     "metadata": {},
     "output_type": "execute_result"
    }
   ],
   "source": [
    "train"
   ]
  },
  {
   "cell_type": "code",
   "execution_count": 4,
   "id": "88ad71b3",
   "metadata": {},
   "outputs": [
    {
     "data": {
      "text/html": [
       "<div>\n",
       "<style scoped>\n",
       "    .dataframe tbody tr th:only-of-type {\n",
       "        vertical-align: middle;\n",
       "    }\n",
       "\n",
       "    .dataframe tbody tr th {\n",
       "        vertical-align: top;\n",
       "    }\n",
       "\n",
       "    .dataframe thead th {\n",
       "        text-align: right;\n",
       "    }\n",
       "</style>\n",
       "<table border=\"1\" class=\"dataframe\">\n",
       "  <thead>\n",
       "    <tr style=\"text-align: right;\">\n",
       "      <th></th>\n",
       "      <th>topic</th>\n",
       "      <th>topic_idx</th>\n",
       "    </tr>\n",
       "  </thead>\n",
       "  <tbody>\n",
       "    <tr>\n",
       "      <th>0</th>\n",
       "      <td>IT과학</td>\n",
       "      <td>0</td>\n",
       "    </tr>\n",
       "    <tr>\n",
       "      <th>1</th>\n",
       "      <td>경제</td>\n",
       "      <td>1</td>\n",
       "    </tr>\n",
       "    <tr>\n",
       "      <th>2</th>\n",
       "      <td>사회</td>\n",
       "      <td>2</td>\n",
       "    </tr>\n",
       "    <tr>\n",
       "      <th>3</th>\n",
       "      <td>생활문화</td>\n",
       "      <td>3</td>\n",
       "    </tr>\n",
       "    <tr>\n",
       "      <th>4</th>\n",
       "      <td>세계</td>\n",
       "      <td>4</td>\n",
       "    </tr>\n",
       "    <tr>\n",
       "      <th>5</th>\n",
       "      <td>스포츠</td>\n",
       "      <td>5</td>\n",
       "    </tr>\n",
       "    <tr>\n",
       "      <th>6</th>\n",
       "      <td>정치</td>\n",
       "      <td>6</td>\n",
       "    </tr>\n",
       "  </tbody>\n",
       "</table>\n",
       "</div>"
      ],
      "text/plain": [
       "  topic  topic_idx\n",
       "0  IT과학          0\n",
       "1    경제          1\n",
       "2    사회          2\n",
       "3  생활문화          3\n",
       "4    세계          4\n",
       "5   스포츠          5\n",
       "6    정치          6"
      ]
     },
     "execution_count": 4,
     "metadata": {},
     "output_type": "execute_result"
    }
   ],
   "source": [
    "topic_dict"
   ]
  },
  {
   "cell_type": "markdown",
   "id": "0d7c6fe2",
   "metadata": {},
   "source": [
    "## Pandas - Merge"
   ]
  },
  {
   "cell_type": "markdown",
   "id": "1e44e3e6",
   "metadata": {},
   "source": [
    "<img src=\"https://devskrol.com/wp-content/uploads/2020/10/mERGE.png\"><br/>"
   ]
  },
  {
   "cell_type": "code",
   "execution_count": 5,
   "id": "cbef6665",
   "metadata": {},
   "outputs": [
    {
     "data": {
      "text/html": [
       "<div>\n",
       "<style scoped>\n",
       "    .dataframe tbody tr th:only-of-type {\n",
       "        vertical-align: middle;\n",
       "    }\n",
       "\n",
       "    .dataframe tbody tr th {\n",
       "        vertical-align: top;\n",
       "    }\n",
       "\n",
       "    .dataframe thead th {\n",
       "        text-align: right;\n",
       "    }\n",
       "</style>\n",
       "<table border=\"1\" class=\"dataframe\">\n",
       "  <thead>\n",
       "    <tr style=\"text-align: right;\">\n",
       "      <th></th>\n",
       "      <th>ID</th>\n",
       "      <th>Name</th>\n",
       "      <th>Department</th>\n",
       "    </tr>\n",
       "  </thead>\n",
       "  <tbody>\n",
       "    <tr>\n",
       "      <th>0</th>\n",
       "      <td>SP01</td>\n",
       "      <td>Bob</td>\n",
       "      <td>Accounting</td>\n",
       "    </tr>\n",
       "    <tr>\n",
       "      <th>1</th>\n",
       "      <td>SP02</td>\n",
       "      <td>Bob</td>\n",
       "      <td>Engineering</td>\n",
       "    </tr>\n",
       "    <tr>\n",
       "      <th>2</th>\n",
       "      <td>SP03</td>\n",
       "      <td>Lisa</td>\n",
       "      <td>Engineering</td>\n",
       "    </tr>\n",
       "    <tr>\n",
       "      <th>3</th>\n",
       "      <td>SP04</td>\n",
       "      <td>Harry</td>\n",
       "      <td>HR</td>\n",
       "    </tr>\n",
       "  </tbody>\n",
       "</table>\n",
       "</div>"
      ],
      "text/plain": [
       "     ID   Name   Department\n",
       "0  SP01    Bob   Accounting\n",
       "1  SP02    Bob  Engineering\n",
       "2  SP03   Lisa  Engineering\n",
       "3  SP04  Harry           HR"
      ]
     },
     "metadata": {},
     "output_type": "display_data"
    },
    {
     "data": {
      "text/html": [
       "<div>\n",
       "<style scoped>\n",
       "    .dataframe tbody tr th:only-of-type {\n",
       "        vertical-align: middle;\n",
       "    }\n",
       "\n",
       "    .dataframe tbody tr th {\n",
       "        vertical-align: top;\n",
       "    }\n",
       "\n",
       "    .dataframe thead th {\n",
       "        text-align: right;\n",
       "    }\n",
       "</style>\n",
       "<table border=\"1\" class=\"dataframe\">\n",
       "  <thead>\n",
       "    <tr style=\"text-align: right;\">\n",
       "      <th></th>\n",
       "      <th>ID</th>\n",
       "      <th>Name</th>\n",
       "      <th>hire_date</th>\n",
       "    </tr>\n",
       "  </thead>\n",
       "  <tbody>\n",
       "    <tr>\n",
       "      <th>0</th>\n",
       "      <td>SP01</td>\n",
       "      <td>Bob</td>\n",
       "      <td>2004</td>\n",
       "    </tr>\n",
       "    <tr>\n",
       "      <th>1</th>\n",
       "      <td>SP02</td>\n",
       "      <td>Bob</td>\n",
       "      <td>2008</td>\n",
       "    </tr>\n",
       "    <tr>\n",
       "      <th>2</th>\n",
       "      <td>SP03</td>\n",
       "      <td>Lisa</td>\n",
       "      <td>2012</td>\n",
       "    </tr>\n",
       "    <tr>\n",
       "      <th>3</th>\n",
       "      <td>SP05</td>\n",
       "      <td>Clair</td>\n",
       "      <td>2009</td>\n",
       "    </tr>\n",
       "  </tbody>\n",
       "</table>\n",
       "</div>"
      ],
      "text/plain": [
       "     ID   Name  hire_date\n",
       "0  SP01    Bob       2004\n",
       "1  SP02    Bob       2008\n",
       "2  SP03   Lisa       2012\n",
       "3  SP05  Clair       2009"
      ]
     },
     "metadata": {},
     "output_type": "display_data"
    }
   ],
   "source": [
    "df1 = pd.DataFrame({'ID' : ['SP01','SP02','SP03','SP04'],\n",
    "                    'Name': ['Bob', 'Bob', 'Lisa','Harry'],\n",
    "                    'Department': ['Accounting', 'Engineering', 'Engineering', \"HR\"]})\n",
    "df2 = pd.DataFrame({'ID' : ['SP01','SP02','SP03','SP05'],\n",
    "                    'Name': ['Bob','Bob', 'Lisa',\"Clair\"],\n",
    "                    'hire_date': [2004, 2008, 2012, 2009]})\n",
    "display(df1, df2)"
   ]
  },
  {
   "cell_type": "code",
   "execution_count": 6,
   "id": "13b3ca20",
   "metadata": {},
   "outputs": [
    {
     "data": {
      "text/html": [
       "<div>\n",
       "<style scoped>\n",
       "    .dataframe tbody tr th:only-of-type {\n",
       "        vertical-align: middle;\n",
       "    }\n",
       "\n",
       "    .dataframe tbody tr th {\n",
       "        vertical-align: top;\n",
       "    }\n",
       "\n",
       "    .dataframe thead th {\n",
       "        text-align: right;\n",
       "    }\n",
       "</style>\n",
       "<table border=\"1\" class=\"dataframe\">\n",
       "  <thead>\n",
       "    <tr style=\"text-align: right;\">\n",
       "      <th></th>\n",
       "      <th>key_0</th>\n",
       "      <th>ID_x</th>\n",
       "      <th>Name_x</th>\n",
       "      <th>Department</th>\n",
       "      <th>ID_y</th>\n",
       "      <th>Name_y</th>\n",
       "      <th>hire_date</th>\n",
       "    </tr>\n",
       "  </thead>\n",
       "  <tbody>\n",
       "    <tr>\n",
       "      <th>0</th>\n",
       "      <td>SP01</td>\n",
       "      <td>SP01</td>\n",
       "      <td>Bob</td>\n",
       "      <td>Accounting</td>\n",
       "      <td>SP01</td>\n",
       "      <td>Bob</td>\n",
       "      <td>2004.0</td>\n",
       "    </tr>\n",
       "    <tr>\n",
       "      <th>1</th>\n",
       "      <td>SP02</td>\n",
       "      <td>SP02</td>\n",
       "      <td>Bob</td>\n",
       "      <td>Engineering</td>\n",
       "      <td>SP02</td>\n",
       "      <td>Bob</td>\n",
       "      <td>2008.0</td>\n",
       "    </tr>\n",
       "    <tr>\n",
       "      <th>2</th>\n",
       "      <td>SP03</td>\n",
       "      <td>SP03</td>\n",
       "      <td>Lisa</td>\n",
       "      <td>Engineering</td>\n",
       "      <td>SP03</td>\n",
       "      <td>Lisa</td>\n",
       "      <td>2012.0</td>\n",
       "    </tr>\n",
       "    <tr>\n",
       "      <th>3</th>\n",
       "      <td>SP04</td>\n",
       "      <td>SP04</td>\n",
       "      <td>Harry</td>\n",
       "      <td>HR</td>\n",
       "      <td>NaN</td>\n",
       "      <td>NaN</td>\n",
       "      <td>NaN</td>\n",
       "    </tr>\n",
       "  </tbody>\n",
       "</table>\n",
       "</div>"
      ],
      "text/plain": [
       "  key_0  ID_x Name_x   Department  ID_y Name_y  hire_date\n",
       "0  SP01  SP01    Bob   Accounting  SP01    Bob     2004.0\n",
       "1  SP02  SP02    Bob  Engineering  SP02    Bob     2008.0\n",
       "2  SP03  SP03   Lisa  Engineering  SP03   Lisa     2012.0\n",
       "3  SP04  SP04  Harry           HR   NaN    NaN        NaN"
      ]
     },
     "execution_count": 6,
     "metadata": {},
     "output_type": "execute_result"
    }
   ],
   "source": [
    "pd.merge(df1,df2, how='left', left_on=df1.ID, right_on=df2.ID)"
   ]
  },
  {
   "cell_type": "code",
   "execution_count": 7,
   "id": "29078276",
   "metadata": {},
   "outputs": [
    {
     "data": {
      "text/html": [
       "<div>\n",
       "<style scoped>\n",
       "    .dataframe tbody tr th:only-of-type {\n",
       "        vertical-align: middle;\n",
       "    }\n",
       "\n",
       "    .dataframe tbody tr th {\n",
       "        vertical-align: top;\n",
       "    }\n",
       "\n",
       "    .dataframe thead th {\n",
       "        text-align: right;\n",
       "    }\n",
       "</style>\n",
       "<table border=\"1\" class=\"dataframe\">\n",
       "  <thead>\n",
       "    <tr style=\"text-align: right;\">\n",
       "      <th></th>\n",
       "      <th>key_0</th>\n",
       "      <th>ID_x</th>\n",
       "      <th>Name_x</th>\n",
       "      <th>Department</th>\n",
       "      <th>ID_y</th>\n",
       "      <th>Name_y</th>\n",
       "      <th>hire_date</th>\n",
       "    </tr>\n",
       "  </thead>\n",
       "  <tbody>\n",
       "    <tr>\n",
       "      <th>0</th>\n",
       "      <td>SP01</td>\n",
       "      <td>SP01</td>\n",
       "      <td>Bob</td>\n",
       "      <td>Accounting</td>\n",
       "      <td>SP01</td>\n",
       "      <td>Bob</td>\n",
       "      <td>2004</td>\n",
       "    </tr>\n",
       "    <tr>\n",
       "      <th>1</th>\n",
       "      <td>SP02</td>\n",
       "      <td>SP02</td>\n",
       "      <td>Bob</td>\n",
       "      <td>Engineering</td>\n",
       "      <td>SP02</td>\n",
       "      <td>Bob</td>\n",
       "      <td>2008</td>\n",
       "    </tr>\n",
       "    <tr>\n",
       "      <th>2</th>\n",
       "      <td>SP03</td>\n",
       "      <td>SP03</td>\n",
       "      <td>Lisa</td>\n",
       "      <td>Engineering</td>\n",
       "      <td>SP03</td>\n",
       "      <td>Lisa</td>\n",
       "      <td>2012</td>\n",
       "    </tr>\n",
       "    <tr>\n",
       "      <th>3</th>\n",
       "      <td>SP05</td>\n",
       "      <td>NaN</td>\n",
       "      <td>NaN</td>\n",
       "      <td>NaN</td>\n",
       "      <td>SP05</td>\n",
       "      <td>Clair</td>\n",
       "      <td>2009</td>\n",
       "    </tr>\n",
       "  </tbody>\n",
       "</table>\n",
       "</div>"
      ],
      "text/plain": [
       "  key_0  ID_x Name_x   Department  ID_y Name_y  hire_date\n",
       "0  SP01  SP01    Bob   Accounting  SP01    Bob       2004\n",
       "1  SP02  SP02    Bob  Engineering  SP02    Bob       2008\n",
       "2  SP03  SP03   Lisa  Engineering  SP03   Lisa       2012\n",
       "3  SP05   NaN    NaN          NaN  SP05  Clair       2009"
      ]
     },
     "execution_count": 7,
     "metadata": {},
     "output_type": "execute_result"
    }
   ],
   "source": [
    "pd.merge(df1,df2, how='right', left_on=df1.ID, right_on=df2.ID)"
   ]
  },
  {
   "cell_type": "code",
   "execution_count": 8,
   "id": "c69b221d",
   "metadata": {},
   "outputs": [
    {
     "data": {
      "text/html": [
       "<div>\n",
       "<style scoped>\n",
       "    .dataframe tbody tr th:only-of-type {\n",
       "        vertical-align: middle;\n",
       "    }\n",
       "\n",
       "    .dataframe tbody tr th {\n",
       "        vertical-align: top;\n",
       "    }\n",
       "\n",
       "    .dataframe thead th {\n",
       "        text-align: right;\n",
       "    }\n",
       "</style>\n",
       "<table border=\"1\" class=\"dataframe\">\n",
       "  <thead>\n",
       "    <tr style=\"text-align: right;\">\n",
       "      <th></th>\n",
       "      <th>key_0</th>\n",
       "      <th>ID_x</th>\n",
       "      <th>Name_x</th>\n",
       "      <th>Department</th>\n",
       "      <th>ID_y</th>\n",
       "      <th>Name_y</th>\n",
       "      <th>hire_date</th>\n",
       "    </tr>\n",
       "  </thead>\n",
       "  <tbody>\n",
       "    <tr>\n",
       "      <th>0</th>\n",
       "      <td>SP01</td>\n",
       "      <td>SP01</td>\n",
       "      <td>Bob</td>\n",
       "      <td>Accounting</td>\n",
       "      <td>SP01</td>\n",
       "      <td>Bob</td>\n",
       "      <td>2004</td>\n",
       "    </tr>\n",
       "    <tr>\n",
       "      <th>1</th>\n",
       "      <td>SP02</td>\n",
       "      <td>SP02</td>\n",
       "      <td>Bob</td>\n",
       "      <td>Engineering</td>\n",
       "      <td>SP02</td>\n",
       "      <td>Bob</td>\n",
       "      <td>2008</td>\n",
       "    </tr>\n",
       "    <tr>\n",
       "      <th>2</th>\n",
       "      <td>SP03</td>\n",
       "      <td>SP03</td>\n",
       "      <td>Lisa</td>\n",
       "      <td>Engineering</td>\n",
       "      <td>SP03</td>\n",
       "      <td>Lisa</td>\n",
       "      <td>2012</td>\n",
       "    </tr>\n",
       "  </tbody>\n",
       "</table>\n",
       "</div>"
      ],
      "text/plain": [
       "  key_0  ID_x Name_x   Department  ID_y Name_y  hire_date\n",
       "0  SP01  SP01    Bob   Accounting  SP01    Bob       2004\n",
       "1  SP02  SP02    Bob  Engineering  SP02    Bob       2008\n",
       "2  SP03  SP03   Lisa  Engineering  SP03   Lisa       2012"
      ]
     },
     "execution_count": 8,
     "metadata": {},
     "output_type": "execute_result"
    }
   ],
   "source": [
    "pd.merge(df1,df2, how='inner', left_on=df1.ID, right_on=df2.ID)"
   ]
  },
  {
   "cell_type": "code",
   "execution_count": 9,
   "id": "2f018e78",
   "metadata": {},
   "outputs": [
    {
     "data": {
      "text/html": [
       "<div>\n",
       "<style scoped>\n",
       "    .dataframe tbody tr th:only-of-type {\n",
       "        vertical-align: middle;\n",
       "    }\n",
       "\n",
       "    .dataframe tbody tr th {\n",
       "        vertical-align: top;\n",
       "    }\n",
       "\n",
       "    .dataframe thead th {\n",
       "        text-align: right;\n",
       "    }\n",
       "</style>\n",
       "<table border=\"1\" class=\"dataframe\">\n",
       "  <thead>\n",
       "    <tr style=\"text-align: right;\">\n",
       "      <th></th>\n",
       "      <th>key_0</th>\n",
       "      <th>ID_x</th>\n",
       "      <th>Name_x</th>\n",
       "      <th>Department</th>\n",
       "      <th>ID_y</th>\n",
       "      <th>Name_y</th>\n",
       "      <th>hire_date</th>\n",
       "    </tr>\n",
       "  </thead>\n",
       "  <tbody>\n",
       "    <tr>\n",
       "      <th>0</th>\n",
       "      <td>SP01</td>\n",
       "      <td>SP01</td>\n",
       "      <td>Bob</td>\n",
       "      <td>Accounting</td>\n",
       "      <td>SP01</td>\n",
       "      <td>Bob</td>\n",
       "      <td>2004.0</td>\n",
       "    </tr>\n",
       "    <tr>\n",
       "      <th>1</th>\n",
       "      <td>SP02</td>\n",
       "      <td>SP02</td>\n",
       "      <td>Bob</td>\n",
       "      <td>Engineering</td>\n",
       "      <td>SP02</td>\n",
       "      <td>Bob</td>\n",
       "      <td>2008.0</td>\n",
       "    </tr>\n",
       "    <tr>\n",
       "      <th>2</th>\n",
       "      <td>SP03</td>\n",
       "      <td>SP03</td>\n",
       "      <td>Lisa</td>\n",
       "      <td>Engineering</td>\n",
       "      <td>SP03</td>\n",
       "      <td>Lisa</td>\n",
       "      <td>2012.0</td>\n",
       "    </tr>\n",
       "    <tr>\n",
       "      <th>3</th>\n",
       "      <td>SP04</td>\n",
       "      <td>SP04</td>\n",
       "      <td>Harry</td>\n",
       "      <td>HR</td>\n",
       "      <td>NaN</td>\n",
       "      <td>NaN</td>\n",
       "      <td>NaN</td>\n",
       "    </tr>\n",
       "    <tr>\n",
       "      <th>4</th>\n",
       "      <td>SP05</td>\n",
       "      <td>NaN</td>\n",
       "      <td>NaN</td>\n",
       "      <td>NaN</td>\n",
       "      <td>SP05</td>\n",
       "      <td>Clair</td>\n",
       "      <td>2009.0</td>\n",
       "    </tr>\n",
       "  </tbody>\n",
       "</table>\n",
       "</div>"
      ],
      "text/plain": [
       "  key_0  ID_x Name_x   Department  ID_y Name_y  hire_date\n",
       "0  SP01  SP01    Bob   Accounting  SP01    Bob     2004.0\n",
       "1  SP02  SP02    Bob  Engineering  SP02    Bob     2008.0\n",
       "2  SP03  SP03   Lisa  Engineering  SP03   Lisa     2012.0\n",
       "3  SP04  SP04  Harry           HR   NaN    NaN        NaN\n",
       "4  SP05   NaN    NaN          NaN  SP05  Clair     2009.0"
      ]
     },
     "execution_count": 9,
     "metadata": {},
     "output_type": "execute_result"
    }
   ],
   "source": [
    "pd.merge(df1,df2, how='outer', left_on=df1.ID, right_on=df2.ID)"
   ]
  },
  {
   "cell_type": "code",
   "execution_count": 11,
   "id": "43514441",
   "metadata": {},
   "outputs": [
    {
     "data": {
      "text/html": [
       "<div>\n",
       "<style scoped>\n",
       "    .dataframe tbody tr th:only-of-type {\n",
       "        vertical-align: middle;\n",
       "    }\n",
       "\n",
       "    .dataframe tbody tr th {\n",
       "        vertical-align: top;\n",
       "    }\n",
       "\n",
       "    .dataframe thead th {\n",
       "        text-align: right;\n",
       "    }\n",
       "</style>\n",
       "<table border=\"1\" class=\"dataframe\">\n",
       "  <thead>\n",
       "    <tr style=\"text-align: right;\">\n",
       "      <th></th>\n",
       "      <th>index</th>\n",
       "      <th>title</th>\n",
       "      <th>topic</th>\n",
       "    </tr>\n",
       "  </thead>\n",
       "  <tbody>\n",
       "    <tr>\n",
       "      <th>0</th>\n",
       "      <td>0</td>\n",
       "      <td>인천→핀란드 항공기 결항…휴가철 여행객 분통</td>\n",
       "      <td>세계</td>\n",
       "    </tr>\n",
       "    <tr>\n",
       "      <th>1</th>\n",
       "      <td>1</td>\n",
       "      <td>실리콘밸리 넘어서겠다…구글 15조원 들여 美전역 거점화</td>\n",
       "      <td>세계</td>\n",
       "    </tr>\n",
       "    <tr>\n",
       "      <th>2</th>\n",
       "      <td>2</td>\n",
       "      <td>이란 외무 긴장완화 해결책은 미국이 경제전쟁 멈추는 것</td>\n",
       "      <td>세계</td>\n",
       "    </tr>\n",
       "    <tr>\n",
       "      <th>3</th>\n",
       "      <td>3</td>\n",
       "      <td>NYT 클린턴 측근韓기업 특수관계 조명…공과 사 맞물려종합</td>\n",
       "      <td>세계</td>\n",
       "    </tr>\n",
       "    <tr>\n",
       "      <th>4</th>\n",
       "      <td>4</td>\n",
       "      <td>시진핑 트럼프에 중미 무역협상 조속 타결 희망</td>\n",
       "      <td>세계</td>\n",
       "    </tr>\n",
       "    <tr>\n",
       "      <th>...</th>\n",
       "      <td>...</td>\n",
       "      <td>...</td>\n",
       "      <td>...</td>\n",
       "    </tr>\n",
       "    <tr>\n",
       "      <th>45649</th>\n",
       "      <td>45649</td>\n",
       "      <td>KB금융 미국 IB 스티펠과 제휴…선진국 시장 공략</td>\n",
       "      <td>경제</td>\n",
       "    </tr>\n",
       "    <tr>\n",
       "      <th>45650</th>\n",
       "      <td>45650</td>\n",
       "      <td>1보 서울시교육청 신종코로나 확산에 개학 연기·휴업 검토</td>\n",
       "      <td>사회</td>\n",
       "    </tr>\n",
       "    <tr>\n",
       "      <th>45651</th>\n",
       "      <td>45651</td>\n",
       "      <td>게시판 키움증권 2020 키움 영웅전 실전투자대회</td>\n",
       "      <td>경제</td>\n",
       "    </tr>\n",
       "    <tr>\n",
       "      <th>45652</th>\n",
       "      <td>45652</td>\n",
       "      <td>답변하는 배기동 국립중앙박물관장</td>\n",
       "      <td>사회</td>\n",
       "    </tr>\n",
       "    <tr>\n",
       "      <th>45653</th>\n",
       "      <td>45653</td>\n",
       "      <td>2020 한국인터넷기자상 시상식 내달 1일 개최…특별상 김성후</td>\n",
       "      <td>사회</td>\n",
       "    </tr>\n",
       "  </tbody>\n",
       "</table>\n",
       "<p>45654 rows × 3 columns</p>\n",
       "</div>"
      ],
      "text/plain": [
       "       index                               title topic\n",
       "0          0            인천→핀란드 항공기 결항…휴가철 여행객 분통    세계\n",
       "1          1      실리콘밸리 넘어서겠다…구글 15조원 들여 美전역 거점화    세계\n",
       "2          2      이란 외무 긴장완화 해결책은 미국이 경제전쟁 멈추는 것    세계\n",
       "3          3    NYT 클린턴 측근韓기업 특수관계 조명…공과 사 맞물려종합    세계\n",
       "4          4           시진핑 트럼프에 중미 무역협상 조속 타결 희망    세계\n",
       "...      ...                                 ...   ...\n",
       "45649  45649        KB금융 미국 IB 스티펠과 제휴…선진국 시장 공략    경제\n",
       "45650  45650     1보 서울시교육청 신종코로나 확산에 개학 연기·휴업 검토    사회\n",
       "45651  45651         게시판 키움증권 2020 키움 영웅전 실전투자대회    경제\n",
       "45652  45652                   답변하는 배기동 국립중앙박물관장    사회\n",
       "45653  45653  2020 한국인터넷기자상 시상식 내달 1일 개최…특별상 김성후    사회\n",
       "\n",
       "[45654 rows x 3 columns]"
      ]
     },
     "execution_count": 11,
     "metadata": {},
     "output_type": "execute_result"
    }
   ],
   "source": [
    "pd.merge(train,topic_dict, how='left', left_on=train.topic_idx, right_on=topic_dict.topic_idx)[['index','title','topic']]"
   ]
  },
  {
   "cell_type": "markdown",
   "id": "f1f1f9ae",
   "metadata": {},
   "source": [
    "# Topic Modeling\n"
   ]
  },
  {
   "cell_type": "code",
   "execution_count": 12,
   "id": "20a6e374",
   "metadata": {},
   "outputs": [],
   "source": [
    "from konlpy.tag import Okt\n",
    "okt = Okt()"
   ]
  },
  {
   "cell_type": "code",
   "execution_count": 13,
   "id": "f38ad007",
   "metadata": {},
   "outputs": [
    {
     "name": "stdout",
     "output_type": "stream",
     "text": [
      "인천→핀란드 항공기 결항…휴가철 여행객 분통\n"
     ]
    }
   ],
   "source": [
    "print(train['title'].loc[0])"
   ]
  },
  {
   "cell_type": "code",
   "execution_count": 14,
   "id": "1405e7b5",
   "metadata": {},
   "outputs": [
    {
     "data": {
      "text/plain": [
       "['인천', '핀란드', '항공기', '결항', '휴가', '철', '여행객', '분통']"
      ]
     },
     "execution_count": 14,
     "metadata": {},
     "output_type": "execute_result"
    }
   ],
   "source": [
    "okt.nouns(train['title'].loc[0])"
   ]
  },
  {
   "cell_type": "code",
   "execution_count": 15,
   "id": "f3a41d1c",
   "metadata": {},
   "outputs": [
    {
     "name": "stderr",
     "output_type": "stream",
     "text": [
      "100%|███████████████████████████████████████████████████████████████████████████| 45654/45654 [00:51<00:00, 891.80it/s]\n"
     ]
    }
   ],
   "source": [
    "nouns_list = []\n",
    "for i in tqdm(range(len(train))):\n",
    "    nouns_list.append(okt.nouns(train['title'].loc[i]))"
   ]
  },
  {
   "cell_type": "code",
   "execution_count": 18,
   "id": "49750652",
   "metadata": {},
   "outputs": [],
   "source": [
    "total_word = []\n",
    "for i in range(len(nouns_list)):\n",
    "    for word in nouns_list[i]:\n",
    "        total_word.append(word)"
   ]
  },
  {
   "cell_type": "code",
   "execution_count": 20,
   "id": "c5c9ac74",
   "metadata": {},
   "outputs": [
    {
     "data": {
      "text/plain": [
       "[('종합', 4033),\n",
       " ('대통령', 1723),\n",
       " ('한국', 1456),\n",
       " ('명', 1416),\n",
       " ('위', 1204),\n",
       " ('첫', 999),\n",
       " ('삼성', 904),\n",
       " ('전', 892),\n",
       " ('등', 892),\n",
       " ('보', 849),\n",
       " ('이란', 803),\n",
       " ('감독', 778),\n",
       " ('출시', 778),\n",
       " ('경기', 758),\n",
       " ('게시판', 735),\n",
       " ('트럼프', 702),\n",
       " ('신간', 686),\n",
       " ('것', 685),\n",
       " ('중', 618),\n",
       " ('정부', 603)]"
      ]
     },
     "execution_count": 20,
     "metadata": {},
     "output_type": "execute_result"
    }
   ],
   "source": [
    "import collections\n",
    "collections.Counter(total_word).most_common(20)"
   ]
  },
  {
   "cell_type": "code",
   "execution_count": 23,
   "id": "5eb8e9d1",
   "metadata": {},
   "outputs": [
    {
     "data": {
      "text/plain": [
       "<gensim.corpora.dictionary.Dictionary at 0x1b8816377c0>"
      ]
     },
     "execution_count": 23,
     "metadata": {},
     "output_type": "execute_result"
    }
   ],
   "source": [
    "dictionary = corpora.Dictionary(nouns_list)\n",
    "dictionary"
   ]
  },
  {
   "cell_type": "code",
   "execution_count": 72,
   "id": "f574b3b1",
   "metadata": {
    "scrolled": true
   },
   "outputs": [
    {
     "name": "stdout",
     "output_type": "stream",
     "text": [
      "(0, '결항')\n"
     ]
    }
   ],
   "source": [
    "for i in dictionary.items():\n",
    "    print(i)\n",
    "    break"
   ]
  },
  {
   "cell_type": "code",
   "execution_count": 27,
   "id": "711e5e90",
   "metadata": {},
   "outputs": [],
   "source": [
    "corpus = [dictionary.doc2bow(text) for text in nouns_list]"
   ]
  },
  {
   "cell_type": "code",
   "execution_count": 40,
   "id": "db08e9fe",
   "metadata": {},
   "outputs": [
    {
     "data": {
      "text/plain": [
       "['이란', '최고', '지도자', '모욕', '혐의', '미국인', '징역', '선고']"
      ]
     },
     "execution_count": 40,
     "metadata": {},
     "output_type": "execute_result"
    }
   ],
   "source": [
    "nouns_list[11]"
   ]
  },
  {
   "cell_type": "code",
   "execution_count": 41,
   "id": "4a4cf973",
   "metadata": {},
   "outputs": [
    {
     "data": {
      "text/plain": [
       "[(18, 1), (84, 1), (85, 1), (86, 1), (87, 1), (88, 1), (89, 1), (90, 1)]"
      ]
     },
     "execution_count": 41,
     "metadata": {},
     "output_type": "execute_result"
    }
   ],
   "source": [
    "corpus[11]"
   ]
  },
  {
   "cell_type": "code",
   "execution_count": 51,
   "id": "27368dab",
   "metadata": {},
   "outputs": [],
   "source": [
    "import gensim\n",
    "NUM_TOPICS = 7 # 20개의 토픽, k=20\n",
    "ldamodel = gensim.models.ldamodel.LdaModel(corpus, num_topics = NUM_TOPICS, id2word=dictionary, random_state=100)"
   ]
  },
  {
   "cell_type": "code",
   "execution_count": 45,
   "id": "29d9d7a0",
   "metadata": {},
   "outputs": [
    {
     "name": "stdout",
     "output_type": "stream",
     "text": [
      "(0, '0.011*\"영업\" + 0.010*\"종합\" + 0.009*\"대통령\" + 0.008*\"작년\"')\n",
      "(1, '0.024*\"명\" + 0.015*\"종합\" + 0.007*\"도\" + 0.006*\"사망\"')\n",
      "(2, '0.012*\"교육청\" + 0.010*\"코로나\" + 0.009*\"서울\" + 0.009*\"명\"')\n",
      "(3, '0.010*\"종합\" + 0.009*\"부산\" + 0.009*\"신간\" + 0.009*\"학생\"')\n",
      "(4, '0.014*\"종합\" + 0.008*\"노동자\" + 0.008*\"대통령\" + 0.008*\"경기\"')\n",
      "(5, '0.010*\"증권\" + 0.010*\"사업\" + 0.009*\"투자\" + 0.009*\"주\"')\n",
      "(6, '0.009*\"종합\" + 0.008*\"교수\" + 0.008*\"대전\" + 0.008*\"대구\"')\n"
     ]
    }
   ],
   "source": [
    "topics = ldamodel.print_topics(num_words=4)\n",
    "for topic in topics:\n",
    "    print(topic)"
   ]
  },
  {
   "cell_type": "code",
   "execution_count": 52,
   "id": "98570184",
   "metadata": {},
   "outputs": [
    {
     "data": {
      "text/plain": [
       "[(0, 1), (1, 1), (2, 1), (3, 1), (4, 1), (5, 1), (6, 1), (7, 1)]"
      ]
     },
     "execution_count": 52,
     "metadata": {},
     "output_type": "execute_result"
    }
   ],
   "source": [
    "corpus[0]"
   ]
  },
  {
   "cell_type": "code",
   "execution_count": 53,
   "id": "16b09f37",
   "metadata": {},
   "outputs": [
    {
     "data": {
      "text/plain": [
       "['실리콘밸리', '구글', '전역', '거점']"
      ]
     },
     "execution_count": 53,
     "metadata": {},
     "output_type": "execute_result"
    }
   ],
   "source": [
    "nouns_list[1]"
   ]
  },
  {
   "cell_type": "code",
   "execution_count": 54,
   "id": "1ccfb160",
   "metadata": {},
   "outputs": [
    {
     "data": {
      "text/plain": [
       "[(0, 0.14461014),\n",
       " (1, 0.47380725),\n",
       " (2, 0.31798923),\n",
       " (3, 0.015898317),\n",
       " (4, 0.015896983),\n",
       " (5, 0.015901517),\n",
       " (6, 0.015896618)]"
      ]
     },
     "execution_count": 54,
     "metadata": {},
     "output_type": "execute_result"
    }
   ],
   "source": [
    "ldamodel[corpus[0]]"
   ]
  },
  {
   "cell_type": "code",
   "execution_count": 55,
   "id": "c33b03f2",
   "metadata": {},
   "outputs": [
    {
     "data": {
      "text/plain": [
       "[(0, 0.028582988),\n",
       " (1, 0.62722576),\n",
       " (2, 0.028583093),\n",
       " (3, 0.028582985),\n",
       " (4, 0.22975972),\n",
       " (5, 0.028582985),\n",
       " (6, 0.028682495)]"
      ]
     },
     "execution_count": 55,
     "metadata": {},
     "output_type": "execute_result"
    }
   ],
   "source": [
    "ldamodel[corpus[1]]"
   ]
  },
  {
   "cell_type": "code",
   "execution_count": 56,
   "id": "9db14b5d",
   "metadata": {},
   "outputs": [
    {
     "data": {
      "text/plain": [
       "[(8, 1), (9, 1), (10, 1), (11, 1)]"
      ]
     },
     "execution_count": 56,
     "metadata": {},
     "output_type": "execute_result"
    }
   ],
   "source": [
    "corpus[1]"
   ]
  },
  {
   "cell_type": "code",
   "execution_count": 61,
   "id": "dc667fda",
   "metadata": {},
   "outputs": [
    {
     "data": {
      "text/plain": [
       "[(0, 0.028584873),\n",
       " (1, 0.0285884),\n",
       " (2, 0.028572422),\n",
       " (3, 0.028571866),\n",
       " (4, 0.028593555),\n",
       " (5, 0.02857193),\n",
       " (6, 0.828517)]"
      ]
     },
     "execution_count": 61,
     "metadata": {},
     "output_type": "execute_result"
    }
   ],
   "source": [
    "sentence = '서울 노조 최 수능'\n",
    "my_corpus = dictionary.doc2bow(okt.nouns(sentence))\n",
    "ldamodel[my_corpus]"
   ]
  },
  {
   "cell_type": "code",
   "execution_count": 62,
   "id": "627ee42b",
   "metadata": {},
   "outputs": [],
   "source": [
    "import pyLDAvis.gensim_models"
   ]
  },
  {
   "cell_type": "code",
   "execution_count": 63,
   "id": "f0f99631",
   "metadata": {},
   "outputs": [
    {
     "name": "stderr",
     "output_type": "stream",
     "text": [
      "C:\\Programming Tools\\anaconda3\\lib\\site-packages\\pyLDAvis\\_prepare.py:246: FutureWarning: In a future version of pandas all arguments of DataFrame.drop except for the argument 'labels' will be keyword-only\n",
      "  default_term_info = default_term_info.sort_values(\n"
     ]
    },
    {
     "data": {
      "text/html": [
       "\n",
       "<link rel=\"stylesheet\" type=\"text/css\" href=\"https://cdn.jsdelivr.net/gh/bmabey/pyLDAvis@3.3.1/pyLDAvis/js/ldavis.v1.0.0.css\">\n",
       "\n",
       "\n",
       "<div id=\"ldavis_el2918418920013485122854053263\"></div>\n",
       "<script type=\"text/javascript\">\n",
       "\n",
       "var ldavis_el2918418920013485122854053263_data = {\"mdsDat\": {\"x\": [-0.18500829868698246, -0.20888444173380133, -0.0788330510524011, 0.10937912841500833, 0.16940809707786625, 0.19735666736867946, -0.0034181013883691947], \"y\": [0.07391161206234725, -0.06904442101250798, -0.148270887840481, -0.1085832191817771, -0.12090933730267167, 0.105579330263357, 0.2673169230117334], \"topics\": [1, 2, 3, 4, 5, 6, 7], \"cluster\": [1, 1, 1, 1, 1, 1, 1], \"Freq\": [16.925365167395064, 16.535822759326063, 14.834874377618531, 14.565389135281759, 13.452037307842737, 12.01453306443091, 11.671978188104934]}, \"tinfo\": {\"Term\": [\"\\ubd80\\uc0b0\", \"\\uc601\\uc5c5\", \"\\uad50\\uc721\\uccad\", \"\\uc791\\ub144\", \"\\uba85\", \"\\uc11c\\uc6b8\", \"\\uae30\\uc790\", \"\\ucd9c\\uc2dc\", \"\\uc2e0\\uac04\", \"\\ud559\\uad50\", \"\\uad50\\uc721\", \"\\ub300\\ud1b5\\ub839\", \"\\ub178\\ucd1d\", \"\\ub3c4\", \"\\uc0bc\\uc131\", \"\\ub178\\uc870\", \"\\uc18c\\uc2dd\", \"\\ub300\\uad6c\", \"\\uc5ec\\ud589\", \"\\uac1c\\ubc1c\", \"\\ucf54\\ub85c\\ub098\", \"\\ud55c\\uad6d\", \"\\ub85c\", \"\\ud68c\", \"\\uc218\\uc5c5\", \"\\ucda9\\ubd81\", \"\\uc77c\\uc790\\ub9ac\", \"\\uc218\\ub2a5\", \"\\uac8c\\uc2dc\\ud310\", \"\\ud604\\ub300\", \"\\ubd80\\uc0b0\", \"\\ub300\\ud559\", \"\\uc2dc\\uc778\", \"\\uc6d0\\uae08\", \"\\uc8fc\\ubbfc\", \"\\ubbf8\\uc220\\uad00\", \"\\ubc15\", \"\\uc218\\ub3c4\\uad8c\", \"\\ubc95\\uc6d0\", \"\\ud130\\ud0a4\", \"\\uc9c0\\uc815\", \"\\uc0c1\", \"\\ub9ac\", \"\\ubc1c\\uac04\", \"\\ud589\\uc9c4\", \"\\uacf5\\uc2dc\", \"\\ubc18\\ud658\", \"\\ud64d\", \"\\ubcc4\\uc138\", \"\\ud638\\ub0a8\\uad8c\", \"\\uc778\\uc815\", \"\\uc791\\ud488\", \"\\ud574\\uc81c\", \"\\uac1c\\uad50\", \"\\uc2dc\\uac04\", \"\\ubb38\\ud559\\uc0c1\", \"\\uc720\\uac00\", \"\\uc544\\ud2b8\", \"\\ucd1d\\ud30c\\uc5c5\", \"\\uc815\\uc0c1\\ud68c\\ub2f4\", \"\\uc804\\uad50\\uc870\", \"\\uac70\\ub9ac\", \"\\ud3c9\\uc591\", \"\\uc0ac\\uc2e4\", \"\\uc8fc\\ub9d0\", \"\\uc2dc\\ub9ac\\uc544\", \"\\uc815\\uc0c1\", \"\\uc5ec\\ud589\", \"\\uc120\\uc5b8\", \"\\ucc28\\uad00\", \"\\ud5a5\", \"\\ud3c9\\ud654\", \"\\uad50\\uc721\\uac10\", \"\\uc774\\uc2a4\\ub77c\\uc5d8\", \"\\uc81c\\uc8fc\", \"\\uc774\\ub780\", \"\\uac74\", \"\\ud569\\uc758\", \"\\uba85\", \"\\uc885\\ud569\", \"\\ud2b8\\ub7fc\\ud504\", \"\\ubcf4\", \"\\ucd1d\\uc7a5\", \"\\ub300\\ud1b5\\ub839\", \"\\ud2b9\\ubcc4\", \"\\uc815\\ubd80\", \"\\ub4f1\", \"\\uacbd\\ucc30\", \"\\uac83\", \"\\uc11c\\uc6b8\", \"\\uc804\\uad6d\", \"\\ucd1d\\ub9ac\", \"\\uc9c0\\uc5ed\", \"\\uad50\\uc721\\uccad\", \"\\uc18c\\uc2dd\", \"\\uc218\\uc5c5\", \"\\ubc29\\uc5ed\", \"\\ubc29\\ud1b5\\uc704\", \"\\uac80\", \"\\uc7ac\\ub2e8\", \"\\uc9c0\\uae09\", \"\\uc81c\\uc791\", \"\\ubc1c\\uc0dd\", \"\\ucda9\\ub0a8\", \"\\uaca9\", \"\\uc804\\ub2ec\", \"\\uc2dc\\uc2a4\\ud15c\", \"\\ub3d9\\uc815\", \"\\ub178\\ub3d9\", \"\\uc704\\ud5d8\", \"\\uc6d0\\uc7a5\", \"\\uadfc\\ub85c\\uc790\", \"\\uc124\\uba85\", \"\\uc774\\uc0ac\\uc7a5\", \"\\uc5ec\\ud30c\", \"\\ud3b8\", \"\\uc0ac\\uace0\", \"\\uc18c\\uc1a1\", \"\\ucd94\\uc774\", \"\\uc7a5\\uad00\", \"\\ud2b9\\uc218\", \"\\ub18d\\uc131\", \"\\ubc1c\\uc804\", \"\\ubc18\\ubc1c\", \"\\ucd08\\ub4f1\", \"\\uc8fc\\uac00\", \"\\uae30\\uc790\\ud68c\\uacac\", \"\\uacf5\\uae09\", \"\\ubd80\", \"\\ud68c\", \"\\uc2e0\\uac04\", \"\\ubc29\\ubb38\", \"\\ud655\\uc9c4\", \"\\ud611\\ub825\", \"\\ub300\\ucc45\", \"\\ub300\\ud1b5\\ub839\", \"\\uc0ac\\ud68c\", \"\\uace0\\uc6a9\", \"\\ubbfc\\uc8fc\", \"\\ucf54\\ub85c\\ub098\", \"\\ub300\\uc804\", \"\\uc704\\uc6d0\\uc7a5\", \"\\uc0ac\\uc5c5\", \"\\ud55c\\uad6d\", \"\\uad6d\\uac00\", \"\\ub178\\ub3d9\\uc790\", \"\\uc9c0\\uc6d0\", \"\\uc885\\ud569\", \"\\uba85\", \"\\ub300\\uc751\", \"\\ubb38\", \"\\ub4f1\", \"\\uc911\", \"\\ud559\\uc0dd\", \"\\uad50\\uc218\", \"\\uad50\\uc0ac\", \"\\uac10\\uc18c\", \"\\uacf5\\uc5f0\", \"\\uae34\\uae09\", \"\\ubcd1\\uc6d0\", \"\\uc99d\\uc2dc\", \"\\uc138\\uc885\", \"\\uc720\\uc740\\ud61c\", \"\\uc0dd\", \"\\uc2e0\\uc885\", \"\\uc9d1\\ub2e8\", \"\\uc7ac\\ub09c\", \"\\uc2e0\\ubb38\", \"\\ud559\\uc6d0\", \"\\uae30\", \"\\uace0\\uac1d\", \"\\uce74\\uba54\\ub77c\", \"\\uccad\\uc18c\\ub144\", \"\\ucd9c\\ubc94\", \"\\ub9c8\\uc2a4\\ud06c\", \"\\ubcf4\\uc548\", \"\\uc0c1\\ubc18\\uae30\", \"\\ubc14\\uc774\\uc624\", \"\\ubd84\\uc11d\", \"\\uc18c\\ub4dd\", \"\\uc758\\ub8cc\", \"\\ud658\\uc790\", \"\\uccad\\uc8fc\", \"\\uc555\\uc218\\uc218\\uc0c9\", \"\\uad50\\uc721\", \"\\uc784\", \"\\uc790\\uc0b0\", \"\\uad00\\ub9ac\", \"\\ud559\\uad50\", \"\\uc124\\uce58\", \"\\uc124\\ub9bd\", \"\\ubd80\\ub3d9\\uc0b0\", \"\\uc9c1\\uc6d0\", \"\\uacf5\\ubb34\\uc6d0\", \"\\ud6a8\\uacfc\", \"\\uc804\\ubd81\", \"\\ubaa8\\uc9d1\", \"\\ud574\\uc678\", \"\\uc218\\uc0c1\", \"\\uc2e0\\uccad\", \"\\ud655\\uc0b0\", \"\\uc628\\ub77c\\uc778\", \"\\uc548\\uc804\", \"\\uc0c1\\ud488\", \"\\ud380\\ub4dc\", \"\\uac8c\\uc2dc\\ud310\", \"\\uc8fc\\uc2dd\", \"\\ub300\\uc0c1\", \"\\ucf54\\ub85c\\ub098\", \"\\uc0ac\", \"\\ub4f1\\uad50\", \"\\uae08\\uc735\", \"\\ud559\\uc0dd\", \"\\uba85\", \"\\uc9c0\\uc6d0\", \"\\ud55c\\uad6d\", \"\\uc885\\ud569\", \"\\uc0ac\\uc5c5\", \"\\ud22c\\uc790\", \"\\ud655\\ub300\", \"\\uc9c0\\uc5ed\", \"\\uacf3\", \"\\uc601\\uc5c5\", \"\\ub178\\ucd1d\", \"\\uc775\", \"\\uc2e0\\uc784\", \"\\uc678\\uad6d\\uc778\", \"\\uc774\\uc775\", \"\\ub178\", \"\\ubba4\\uc9c0\\uceec\", \"\\uc791\\ub144\", \"\\ucc44\\ub110\", \"\\ucd5c\\uc800\\uc784\\uae08\", \"\\ud658\\uc728\", \"\\uad50\\uc2e4\", \"\\ucde8\\ub4dd\", \"\\uc7a5\\uc560\\uc778\", \"\\ub9e4\\ucd9c\", \"\\ub178\\uc0ac\", \"\\uc2e0\\uace0\", \"\\uae30\\ub2a5\", \"\\ubc1c\\ud589\", \"\\uc5ec\\uc790\", \"\\ub9e4\\uc218\", \"\\uc2a4\", \"\\ud14c\\ud06c\", \"\\uc911\\uacf5\\uc5c5\", \"\\ub300\\ud559\\uc0dd\", \"\\ube44\\ub300\", \"\\uc608\\ube44\", \"\\uc138\\uae30\", \"\\uace0\\uad50\", \"\\uc2dc\\uc791\", \"\\ub2ec\\ub7ec\", \"\\ud504\\ub85c\\ub18d\\uad6c\", \"\\uc120\\ubc1c\", \"\\uc5f0\\uadf9\", \"\\ubca0\\ud2b8\\ub0a8\", \"\\uc99d\\uac00\", \"\\ubaa9\\ud45c\", \"\\uc2e4\\uc801\", \"\\ud604\\ub300\", \"\\uc774\\ub2dd\", \"\\ub958\\ud604\\uc9c4\", \"\\uac1c\\uc120\", \"\\uc99d\\uad8c\", \"\\ucf54\\uc2a4\\ud53c\", \"\\ud22c\\uc790\", \"\\uc120\", \"\\ud68c\\ubcf5\", \"\\uacf5\\uc0ac\", \"\\ub300\\ube44\", \"\\uc885\\ud569\", \"\\uc704\", \"\\uc0bc\\uc131\", \"\\uc740\\ud589\", \"\\ud6c4\\ubcf4\", \"\\ud55c\\uad6d\", \"\\uac10\\ub3c5\", \"\\uc62c\\ud574\", \"\\uc804\", \"\\uccab\", \"\\ubcf4\", \"\\uc77c\\uc790\\ub9ac\", \"\\uc11c\\uc6b8\\ub300\", \"\\uc2e0\\uaddc\", \"\\ucde8\\uc5c5\", \"\\ud30c\\uc5c5\", \"\\ucd9c\\ubc1c\", \"\\uc7a5\", \"\\ub300\\ud45c\\uc774\\uc0ac\", \"\\ube44\\uc815\\uaddc\\uc9c1\", \"\\uc0c1\\uc7a5\", \"\\ub85c\\ubd07\", \"\\uc740\", \"\\uc5f0\", \"\\uc12c\", \"\\ud658\\uacbd\", \"\\uc720\\ucc29\", \"\\uc9c1\\uc5c5\", \"\\ubd84\", \"\\uc704\\uc6d0\\ud68c\", \"\\ud3d0\\uc9c0\", \"\\ubd84\\uc57c\", \"\\uc801\\uc6a9\", \"\\ub514\\uc9c0\\ud138\", \"\\uad50\\ud1b5\", \"\\uc2ec\\uc0ac\", \"\\uc9c0\\uc218\", \"\\uc601\\ud654\", \"\\uac15\\uc138\", \"\\ubc88\", \"\\ub3cc\\uc785\", \"\\ub85c\", \"\\uc2a4\\ub9c8\\ud2b8\", \"\\uc774\\uc57c\\uae30\", \"\\uacbd\\uc7c1\", \"\\uc5c5\\ubb34\", \"\\uad00\", \"\\ud2b9\\uc9d5\", \"\\uac24\\ub7ed\\uc2dc\", \"\\ud558\\ub77d\", \"\\uac15\\uc6d0\", \"\\ucd9c\\uc2dc\", \"\\uc885\", \"\\uac1c\\ubc1c\", \"\\uc8fc\", \"\\uc0bc\\uc131\", \"\\uc804\\uc790\", \"\\uae30\\uc220\", \"\\ub0b4\\ub144\", \"\\uc11c\\uc6b8\\uc2dc\", \"\\ucd08\", \"\\uacf5\\uac1c\", \"\\uc885\\ud569\", \"\\uac10\\ub3c5\", \"\\ub354\", \"\\uc704\", \"\\ub178\\uc870\", \"\\uccab\", \"\\uc218\\ub2a5\", \"\\uc120\\uc784\", \"\\uc218\\uc0ac\", \"\\uadf9\\ubcf5\", \"\\uad6c\\ucd95\", \"\\uad50\\uc721\\ubd80\", \"\\ubbf8\\ub514\\uc5b4\", \"\\uc0ac\\ub791\", \"\\ucd94\\uc11d\", \"\\uad8c\", \"\\uc218\\ud5d8\\uc0dd\", \"\\uc778\\uc7ac\", \"\\ud56d\", \"\\uaca8\\uc6b8\", \"\\uc774\\uc6a9\", \"\\uc591\\uc131\", \"\\uc544\\ud30c\\ud2b8\", \"\\uccad\\uc57d\", \"\\uc18c\\ubc29\", \"\\uc9c1\\uc811\", \"\\uc5f0\\ud734\", \"\\ub178\\ub825\", \"\\uc5b8\\ub860\\uc778\", \"\\ucd94\\ucc9c\", \"\\uc548\\ud0c0\", \"\\uc7ac\\ud574\", \"\\uadfc\\ub85c\", \"\\uc2e4\", \"\\uc7a5\\ud559\\uae08\", \"\\ud604\\ud669\", \"\\uc815\\uce58\", \"\\uc720\\ud50c\\ub7ec\\uc2a4\", \"\\uc870\\uc131\", \"\\uac80\\uc0ac\", \"\\uac8c\\uc784\", \"\\ub450\\uc0b0\", \"\\uc544\\uc2dc\\uc548\", \"\\ubb34\", \"\\ubaa8\\ubc14\\uc77c\", \"\\ud648\\ub7f0\", \"\\ucd5c\", \"\\ub0a0\", \"\\uc0ac\\uc7a5\", \"\\uc5f0\\uc7a5\", \"\\ub178\\uc870\", \"\\uc11c\\uc6b8\", \"\\ucd95\\uc81c\", \"\\ub124\\uc774\\ubc84\", \"\\uac1c\", \"\\uce74\\uce74\\uc624\", \"\\uacbd\\uae30\", \"\\uc55e\", \"\\uc785\", \"\\uc758\\ud639\", \"\\ub9d0\", \"\\uadf8\\ub798\\ud53d\", \"\\uccab\", \"\\ub0b4\\ub144\", \"\\uc6b4\\uc601\", \"\\ub4f1\", \"\\uac1c\\ubc1c\", \"\\uc704\", \"\\uc804\", \"\\uc885\\ud569\", \"\\uacbd\\ubd81\", \"\\uc870\\uc120\", \"\\uc18c\\uc124\", \"\\uace0\\ubc1c\", \"\\ucda9\\ubd81\", \"\\uc778\\uacf5\", \"\\uc904\", \"\\uc791\\uac00\", \"\\uc774\\ud2c0\", \"\\uc704\\uc6d0\", \"\\ucf54\\uce58\", \"\\ud3d0\\uc1c4\", \"\\ub3d9\\uae30\", \"\\ucc98\\ubc8c\", \"\\uace8\", \"\\uc804\\uc6d0\", \"\\uacf5\\ud56d\", \"\\uc778\\uad8c\", \"\\ubcf8\\ubd80\", \"\\uc808\\ubc18\", \"\\ub0ae\", \"\\uc5f0\\uad6c\\uc6d0\", \"\\uc77c\\uc81c\", \"\\ud574\\uace0\", \"\\ubc18\", \"\\ud654\\ud559\", \"\\ud604\\uc2e4\", \"\\ucf54\", \"\\ud569\\ub958\", \"\\uc6d0\\ub0b4\\ub300\\ud45c\", \"\\uae30\\uc790\", \"\\ub3c4\", \"\\uc9d1\", \"\\ub300\\uad6c\", \"\\uc9c0\\ub2a5\", \"\\ub0a0\\uc528\", \"\\ubb38\\ud559\", \"\\uc190\\ud765\\ubbfc\", \"\\ucc44\", \"\\ucd5c\\uc800\", \"\\uc6d4\\ub4dc\\ucef5\", \"\\ub300\\ud45c\\ud300\", \"\\ubcf5\\uadc0\", \"\\ud611\\ud68c\", \"\\uac00\\uc744\", \"\\uc804\", \"\\ube44\", \"\\ubc95\", \"\\ub178\\ub3d9\\uc790\", \"\\ud55c\\uad6d\", \"\\uba85\", \"\\uac15\", \"\\ucd95\\uad6c\", \"\\ub0b4\", \"\\uac04\", \"\\uc11c\\uc6b8\", \"\\uc885\\ud569\"], \"Freq\": [659.0, 523.0, 530.0, 484.0, 1791.0, 835.0, 407.0, 626.0, 817.0, 475.0, 446.0, 1107.0, 401.0, 362.0, 691.0, 503.0, 388.0, 340.0, 466.0, 789.0, 1401.0, 1383.0, 337.0, 548.0, 351.0, 292.0, 302.0, 282.0, 718.0, 408.0, 658.6180941556942, 300.52328074847213, 185.61611806339326, 178.0719206331894, 156.41375101975405, 120.0823825308264, 113.01963967454282, 110.83998547269778, 123.5022289513208, 244.22312004859083, 115.43544594673057, 105.56372357617236, 101.21718901973841, 96.92713902427008, 95.20068070547292, 95.44860230722892, 92.84757524982713, 88.4296948836157, 88.25408402254502, 86.31154682195051, 84.6642719149986, 82.84229200048132, 106.10364508612064, 100.1151132040266, 133.99566221353925, 78.59108867924826, 78.49905921443269, 78.54994455047051, 79.48751605678554, 161.8754962677269, 194.25815742879493, 161.16847104267097, 178.81331577820072, 130.84196605555638, 305.6132847231615, 172.64323247400475, 163.86569580384395, 430.20127756294255, 178.88168802538465, 131.94869585775567, 107.35651268968859, 148.7361830712818, 117.13252966816327, 135.04573022256534, 223.1128736510674, 314.483323477358, 161.30203848561442, 228.58617181331095, 746.3807526516046, 1143.162757563916, 267.1552610266057, 363.4780776080241, 167.2043698732749, 403.7030670290387, 163.96711201150447, 249.72548429287457, 335.5490911549392, 167.7724450476022, 196.0385534160935, 220.28162195604247, 183.0267948958464, 169.992324396408, 167.44883216490553, 530.0309384560719, 387.3613582449671, 350.51893305891605, 195.63668128764255, 149.56117837345954, 150.8947783178691, 158.93421515514666, 144.64774598005266, 124.52211634242205, 132.42500588459802, 116.58698183501168, 113.9457805717017, 113.12485505266356, 111.47887399119607, 110.0640972826781, 152.52875409395102, 102.82474986816852, 120.17265018662698, 133.13851231698618, 98.00828965441741, 98.60636065040563, 96.1190668892158, 94.1343854311912, 106.97439728355525, 92.47907333861471, 87.17028740169755, 275.1117859757265, 84.30191561263223, 84.29668895259523, 120.92785446387475, 145.73036363340952, 113.9985602184557, 108.7663208020313, 200.61137141929902, 141.2723753412389, 159.50647991801966, 449.26045577918643, 606.4774149039685, 259.60716511878246, 264.78416226580964, 208.53206367099978, 195.58882688617496, 603.81018936283, 187.3459543314819, 255.50751407351652, 366.76854857006623, 585.5449172182213, 221.82096545704448, 230.8506074677609, 269.8747367494521, 483.21171067748315, 166.7998447036846, 226.37694560855908, 301.07667868517046, 553.658058359863, 406.6614192937843, 179.6136783643051, 191.02150840957395, 266.1871132551764, 214.76782181452785, 178.5982569610926, 295.7643462905622, 283.8551956984172, 196.7970433226394, 220.27764283211272, 166.1738140492775, 146.26453517515034, 140.64556731562215, 120.63552336154511, 118.61800094943442, 117.8012940504367, 140.1011113920286, 110.2815633158826, 106.59696970497099, 99.64672219204529, 98.32651208380156, 171.96949189313713, 93.89228473262558, 93.6277663293039, 92.84142013185324, 107.88987416804844, 91.44048404229305, 91.69187318259968, 88.79423562973452, 87.2683759258685, 86.05177883148897, 87.4414267466252, 81.83039858164598, 80.8596213345851, 79.51054640927455, 78.90738852663516, 440.5954674227255, 142.92286732793252, 102.99124372657926, 185.81450111157523, 458.8980052698203, 149.26090685711338, 112.6283414088984, 106.49254546144635, 216.37573172663295, 167.17908294041166, 121.44136783785554, 159.47157267637235, 184.55049023257388, 216.01577589347178, 134.52070283167959, 151.04755675990415, 166.77509056951288, 280.47189623543386, 192.19150267806455, 148.3536299062388, 157.48888135904392, 407.6961348446374, 198.45770523178268, 177.9446758746259, 528.0178101354239, 212.32844366328095, 205.2483303638628, 234.80406195171247, 216.09406818580695, 342.71866424089967, 250.18375659245, 285.87081948791837, 326.29166635513315, 198.0104817994049, 196.71882007112643, 182.9427826340312, 182.22371096437854, 172.33055237945294, 522.9136766200244, 400.9981659717068, 251.0344374729281, 204.28749810435988, 210.07677177852523, 281.39833767839525, 152.35869863903622, 150.73963709317928, 481.84301057964177, 142.43643900532908, 137.57735634155108, 136.16430972360257, 121.63140549931217, 120.59071095122964, 117.98141072063206, 110.61771300980455, 108.6056696568532, 107.65014903481956, 104.44812233436797, 106.54233440520679, 110.85301177062433, 102.1734283072178, 99.26199167864627, 98.72914341651996, 101.92747574453252, 96.69789384599557, 94.886962186584, 95.33878280610217, 93.42043755046963, 90.28454802511955, 238.0608182667423, 191.0110985270227, 198.79282521221486, 168.53519187880184, 137.5042032481479, 104.91887802485815, 309.76813539767926, 186.43492344809553, 198.23062533052695, 327.86036975593004, 115.20874466291322, 191.938397306999, 177.37985843113614, 322.3544894709424, 262.9326892594245, 299.13426280734103, 272.6040140116524, 150.2127879496008, 151.14677501240254, 165.3850897524477, 573.9351517716476, 288.1957796062944, 250.09335540739937, 172.41959289407333, 179.18733297138456, 290.51349556080817, 221.22478351551862, 202.51593919097306, 232.37467068316917, 213.53452361707429, 202.03698131580168, 302.0364134957878, 192.5219129141008, 189.71617909987856, 202.10185916454472, 183.57665779728936, 155.1123652328611, 172.62764099308862, 147.90364166890453, 170.03772804110176, 142.4882534082384, 163.41060643329493, 131.12450870753455, 232.80384803883945, 112.59327637632774, 107.74152239028119, 111.91322780273502, 95.19035601372886, 94.57800448878163, 98.90887309174691, 92.37862253813621, 88.78045345011155, 105.10623112994675, 88.33609244353552, 87.00650487869278, 86.43473715009367, 87.96818277410891, 88.52191499891892, 101.80656345493843, 124.52108315359237, 83.96577737133407, 330.84801863130326, 167.73410849551672, 125.43381424641973, 137.199849284751, 203.60866107497853, 171.70556086271714, 217.0301644154053, 199.59673447046373, 216.47285326216044, 268.7404423339681, 471.2876537534891, 114.89859669548389, 476.30583312885375, 308.94391232217555, 388.6160763791061, 222.73927522837883, 266.81577183473115, 219.3495604618461, 166.5259958135856, 166.02689702692416, 204.12022872309674, 389.27989978151453, 204.32962212202054, 183.6339832574093, 178.8159317169739, 173.2701160352121, 174.38331929136032, 281.43729698262337, 225.02188523651046, 149.00798507834318, 139.1994636280323, 124.59809691618595, 113.43227408873533, 109.04786987437781, 123.58057286359006, 104.64376491223956, 104.06180072235709, 101.3152984128962, 100.01886992341198, 100.11530480422329, 105.84504456783479, 149.2696490311282, 94.28968931063625, 264.1642330239633, 89.74321522652717, 85.0195462425586, 86.38445207106498, 83.73660260739733, 83.5073228071847, 83.15150717283449, 81.85698911537251, 109.92836469548459, 78.69512160755056, 80.22408229127555, 171.69952816869585, 77.64493848655468, 76.15000679077735, 139.11930935572286, 93.55950355336842, 107.97251098700082, 226.43480348344937, 267.04885490904303, 182.60282035956598, 151.79007733850162, 91.00486453402571, 114.27076736289423, 120.127397089506, 284.510650913141, 134.54698386463943, 246.2023697890638, 142.27798038460026, 321.88859823828193, 435.9585745360466, 248.22789369168606, 151.1496073328351, 271.2344344053769, 129.57657093602063, 217.1498429182235, 122.62482565916756, 140.38890792427011, 146.0621268575646, 129.60396000779338, 166.58916910506127, 176.69542905624576, 147.69840722503747, 136.9248380280689, 161.89094148412082, 155.2105707462342, 156.8569997013765, 147.60284834720224, 147.61538264510435, 171.35522668433117, 162.3865285960297, 163.19188950270274, 137.322128394247, 290.5168269613994, 180.4810749886724, 131.87402790133223, 204.84283500916442, 118.52614593246555, 117.63974737261982, 131.04807939290356, 107.819189730936, 106.92146527408224, 104.887058945802, 132.59405980776478, 96.09662377683583, 94.95666454752214, 130.6371059566259, 92.0509608554069, 91.73512133260692, 90.06815028016332, 87.45212156859927, 92.51945101725781, 83.57180225792813, 80.72903832280726, 80.32324347413041, 77.98187002838021, 77.92128417484076, 77.6952098549463, 84.70274422631455, 401.81928681101215, 354.06608198804133, 245.08462526581897, 329.0067155182622, 133.1652888019477, 175.65901322654065, 99.40874700739096, 114.33684057943815, 120.79691132804325, 120.73195264616255, 186.25054667750615, 154.93575420410187, 152.67202335846443, 186.64627406217585, 116.43752739692376, 292.0167885637171, 212.84572650991626, 181.04278878081257, 186.65652259567955, 293.46644905989837, 284.2401071849821, 138.61567982399356, 145.0816262777611, 156.16563254539312, 151.4644708860955, 178.74728023853382, 221.66808423112093], \"Total\": [659.0, 523.0, 530.0, 484.0, 1791.0, 835.0, 407.0, 626.0, 817.0, 475.0, 446.0, 1107.0, 401.0, 362.0, 691.0, 503.0, 388.0, 340.0, 466.0, 789.0, 1401.0, 1383.0, 337.0, 548.0, 351.0, 292.0, 302.0, 282.0, 718.0, 408.0, 659.4879715476249, 301.3934874611173, 186.4994557126522, 178.94154430154586, 157.29182783061418, 120.99311553445062, 113.88848410492669, 111.70782474203811, 124.47417728877785, 246.15513094532454, 116.34937925610089, 106.43767758900358, 102.12091952435556, 97.7966254115313, 96.06911775964012, 96.32722258908147, 93.71825954454317, 89.29845278475145, 89.12338351298172, 87.17870325053102, 85.53258612575131, 83.71150132569812, 107.23515308659545, 101.18445880436651, 135.4665148435317, 79.45884220662832, 79.36783983429638, 79.42030845832885, 80.3711266455642, 163.6813909727789, 196.46340978816707, 163.33211898220424, 181.4753906287663, 132.48900684661194, 318.17556280060126, 177.90724483055186, 169.54005106876062, 466.2917066249545, 186.62784635230926, 135.69413847841992, 109.61906566299024, 157.22633821051673, 121.43307605048494, 146.4233558152592, 277.97285725561454, 460.4370811381285, 188.69600395836434, 305.56874108563244, 1791.6157179846882, 3355.6110007083, 428.4765800846083, 786.9312520652296, 217.6499671099137, 1107.3339786993622, 210.99088189469, 473.6518244372495, 1142.5896451603082, 250.95425899449256, 495.0698366006878, 835.547154857676, 414.38747429444675, 303.1491497167122, 404.58334382147666, 530.9299750669381, 388.251054242002, 351.4113143365483, 196.5292472919783, 150.44872266711997, 151.83780430713315, 159.9590944160162, 145.60570789396294, 125.4105622271653, 133.39684890667107, 117.4782900256982, 114.84170076469209, 114.02208131034766, 112.36733182580832, 110.95475932574864, 153.84685795450972, 103.7133851395615, 121.22375681593661, 134.30795259365743, 98.89519928830818, 99.50479800588676, 97.01727847729951, 95.02203385833914, 107.99777848879951, 93.36717951185886, 88.06143055637735, 277.933434641069, 85.19167341490466, 85.20189920178176, 122.23052666118683, 147.51945700121843, 115.57120532624222, 110.21026214929697, 206.84032117971216, 144.33279699938822, 164.21657713690848, 548.0525713831914, 817.6053361798732, 310.1060628590791, 322.844714086245, 246.37941956308904, 236.61702687511712, 1107.3339786993622, 231.65744485327207, 367.05681595156335, 629.6705725203973, 1401.2224450998656, 315.0896867019653, 343.94596201292063, 468.64757989927045, 1383.6939036976528, 210.96598395033996, 413.7640045152997, 805.3910443202051, 3355.6110007083, 1791.6157179846882, 256.22968967887067, 313.55101649096946, 1142.5896451603082, 626.1087045299455, 401.20819250170956, 296.6678981050994, 284.7718281623409, 197.7073987616252, 221.30672076973053, 167.0745537765624, 147.21154693622108, 141.60171096538645, 121.53631908665548, 119.5313076524872, 118.73460980437376, 141.23366609854986, 111.18223676564946, 107.49799548143888, 100.54704260478066, 99.23024297498499, 173.60903861896094, 94.79125103290345, 94.52810229456666, 93.7415205214509, 108.95247062496826, 92.34140347697902, 92.61166446110884, 89.6939529643823, 88.16964801396179, 86.95142917183098, 88.3815076576362, 82.73072874398574, 81.76046915565401, 80.41217171585996, 79.8098377380176, 446.511422147657, 144.8630688429609, 104.25011351637562, 189.26050250573505, 475.7952213096791, 151.8099696410661, 114.3385343523833, 108.31199077810979, 229.3685505448203, 177.66483548316404, 125.66521568398846, 170.27552849520728, 204.3500196858762, 252.16336432140173, 143.65897408797457, 166.96554060173776, 192.0901392860108, 381.06743201515224, 231.97019137505563, 166.0529567473021, 181.6165524669467, 718.5266468417848, 267.6664411291287, 228.0363891935648, 1401.2224450998656, 313.90355435703253, 309.196761423276, 483.61646147663885, 401.20819250170956, 1791.6157179846882, 805.3910443202051, 1383.6939036976528, 3355.6110007083, 468.64757989927045, 538.7444546172838, 360.32086418980384, 404.58334382147666, 324.26354325854123, 523.908137778462, 401.88835894261246, 251.93403118143596, 205.27874479075973, 211.11587932331688, 283.00401390199244, 153.24043621498723, 151.61989451241462, 484.66357127093266, 143.3210490921615, 138.45787312192144, 137.14274021054504, 122.5158805037056, 121.47138024777585, 118.86375479824608, 111.49613979886509, 109.49338852482661, 108.53028596626065, 105.3275825283647, 107.46189099208046, 111.82202063074911, 103.07341486095048, 100.14105118037938, 99.61133077689674, 102.84500616181207, 97.58598827996944, 95.77589321703933, 96.24562530873155, 94.309888590659, 91.16853716203569, 240.69326138909432, 192.8970638933324, 201.33326903252737, 170.63382117290158, 139.32106679789393, 105.98405040601679, 324.0687210744706, 200.2203537121498, 217.98285937692685, 408.9979248896987, 118.61027367593242, 240.21097944516634, 216.36395383993892, 507.24899400291247, 420.6094441379328, 538.7444546172838, 468.5114817566809, 184.41377037033303, 188.40136478029, 229.5808460563131, 3355.6110007083, 932.1761619603008, 691.7346997836217, 258.8203486774271, 292.9255239440494, 1383.6939036976528, 616.5175824837281, 498.37840622342793, 935.9605187500133, 897.4953081292692, 786.9312520652296, 302.91830976785644, 193.4040528064229, 190.59734224770466, 203.04720574153805, 184.45987584397463, 155.99154467920033, 173.61123786951853, 148.78521511092413, 171.06806992069968, 143.36710325250937, 164.507184979836, 132.05166895713623, 234.47099753656147, 113.49931205204008, 108.62153056445248, 112.82914694926876, 96.07531880385817, 95.45814035258923, 99.8429801266729, 93.26100538169254, 89.66053538546097, 106.15351362295395, 89.22097831733915, 87.888304670659, 87.31452701483532, 88.86613168948121, 89.42641395228081, 102.85179850137573, 125.81365290067612, 84.84709923585447, 337.4265734627532, 170.0157431920044, 127.60976854689847, 140.48968709963475, 216.22656599485146, 180.78112504539058, 233.3334651902167, 216.1022581913246, 238.42902408048522, 313.735248449772, 626.0330866482984, 120.00539749880453, 789.9488975206388, 467.84230452999736, 691.7346997836217, 321.5283502211746, 474.5482166291492, 368.6940153721381, 230.36064407504796, 240.7451949492965, 429.40028527668153, 3355.6110007083, 616.5175824837281, 457.58953958072107, 932.1761619603008, 503.3239071484694, 897.4953081292692, 282.3199093369856, 225.92773209782425, 149.88490402584077, 140.0979515308735, 125.47577364918764, 114.34630752309776, 109.93003094691394, 124.59976137907962, 105.52100540228678, 104.95891981754282, 102.19327847412994, 100.89881859304232, 100.99699007989327, 106.80617271635899, 150.64205400568446, 95.17288139284965, 266.67057750520905, 90.64745511366256, 85.9005286940192, 87.2797698070458, 84.61348692642375, 84.38582563415954, 84.0295896827269, 82.7568396199733, 111.14728698645625, 79.58281849315306, 81.1307217076168, 173.66624860672965, 78.53871566100918, 77.02979793367038, 140.89080603923762, 94.87322373837597, 109.86783736810702, 235.12395569923223, 279.50700194838265, 190.48604384809738, 158.08188194643844, 92.33003761753785, 117.38248190380106, 124.09829717728296, 348.01716733838276, 145.50579046937963, 340.65254140498456, 164.76112537606366, 503.3239071484694, 835.547154857676, 381.0756729449878, 203.24821419678128, 587.5208287436712, 163.49971044036997, 551.0994051886947, 148.73709735821268, 213.3188654143508, 256.4391940879904, 180.03326995300372, 433.4847886098199, 897.4953081292692, 368.6940153721381, 247.64302820846905, 1142.5896451603082, 789.9488975206388, 932.1761619603008, 935.9605187500133, 3355.6110007083, 172.23068446436935, 163.2511606130124, 164.0941993553357, 138.1886965581965, 292.38144844039124, 181.64345376051324, 132.77039070220223, 206.2961761040208, 119.39102652164878, 118.5051380500703, 132.06959512858288, 108.6855027154615, 107.81114839657006, 105.76288014727528, 133.78535469175083, 96.96591554225985, 95.8211745219647, 131.85882297298716, 92.91932410934947, 92.6269469902559, 90.95778462532087, 88.31686483626736, 93.48001659384548, 84.44008399916973, 81.59496593307648, 81.18922335824833, 78.84712747991088, 78.78622869792653, 78.55903702060199, 85.65291919089279, 407.3727558590754, 362.886476664825, 250.45747475768286, 340.9897896330527, 135.58597749684066, 180.0670937001983, 100.83818655188789, 116.91160263604918, 123.88268504609073, 125.02233208415998, 215.30112931285635, 176.26346525413283, 180.55416494218025, 262.92129621345214, 137.94097390428513, 935.9605187500133, 509.278929568119, 367.71190500922717, 413.7640045152997, 1383.6939036976528, 1791.6157179846882, 202.19283544144025, 239.47605099182272, 333.9894171312069, 318.07201729650444, 835.547154857676, 3355.6110007083], \"Category\": [\"Default\", \"Default\", \"Default\", \"Default\", \"Default\", \"Default\", \"Default\", \"Default\", \"Default\", \"Default\", \"Default\", \"Default\", \"Default\", \"Default\", \"Default\", \"Default\", \"Default\", \"Default\", \"Default\", \"Default\", \"Default\", \"Default\", \"Default\", \"Default\", \"Default\", \"Default\", \"Default\", \"Default\", \"Default\", \"Default\", \"Topic1\", \"Topic1\", \"Topic1\", \"Topic1\", \"Topic1\", \"Topic1\", \"Topic1\", \"Topic1\", \"Topic1\", \"Topic1\", \"Topic1\", \"Topic1\", \"Topic1\", \"Topic1\", \"Topic1\", \"Topic1\", \"Topic1\", \"Topic1\", \"Topic1\", \"Topic1\", \"Topic1\", \"Topic1\", \"Topic1\", \"Topic1\", \"Topic1\", \"Topic1\", \"Topic1\", \"Topic1\", \"Topic1\", \"Topic1\", \"Topic1\", \"Topic1\", \"Topic1\", \"Topic1\", \"Topic1\", \"Topic1\", \"Topic1\", \"Topic1\", \"Topic1\", \"Topic1\", \"Topic1\", \"Topic1\", \"Topic1\", \"Topic1\", \"Topic1\", \"Topic1\", \"Topic1\", \"Topic1\", \"Topic1\", \"Topic1\", \"Topic1\", \"Topic1\", \"Topic1\", \"Topic1\", \"Topic1\", \"Topic1\", \"Topic1\", \"Topic1\", \"Topic1\", \"Topic1\", \"Topic1\", \"Topic1\", \"Topic1\", \"Topic2\", \"Topic2\", \"Topic2\", \"Topic2\", \"Topic2\", \"Topic2\", \"Topic2\", \"Topic2\", \"Topic2\", \"Topic2\", \"Topic2\", \"Topic2\", \"Topic2\", \"Topic2\", \"Topic2\", \"Topic2\", \"Topic2\", \"Topic2\", \"Topic2\", \"Topic2\", \"Topic2\", \"Topic2\", \"Topic2\", \"Topic2\", \"Topic2\", \"Topic2\", \"Topic2\", \"Topic2\", \"Topic2\", \"Topic2\", \"Topic2\", \"Topic2\", \"Topic2\", \"Topic2\", \"Topic2\", \"Topic2\", \"Topic2\", \"Topic2\", \"Topic2\", \"Topic2\", \"Topic2\", \"Topic2\", \"Topic2\", \"Topic2\", \"Topic2\", \"Topic2\", \"Topic2\", \"Topic2\", \"Topic2\", \"Topic2\", \"Topic2\", \"Topic2\", \"Topic2\", \"Topic2\", \"Topic2\", \"Topic2\", \"Topic2\", \"Topic2\", \"Topic2\", \"Topic2\", \"Topic2\", \"Topic3\", \"Topic3\", \"Topic3\", \"Topic3\", \"Topic3\", \"Topic3\", \"Topic3\", \"Topic3\", \"Topic3\", \"Topic3\", \"Topic3\", \"Topic3\", \"Topic3\", \"Topic3\", \"Topic3\", \"Topic3\", \"Topic3\", \"Topic3\", \"Topic3\", \"Topic3\", \"Topic3\", \"Topic3\", \"Topic3\", \"Topic3\", \"Topic3\", \"Topic3\", \"Topic3\", \"Topic3\", \"Topic3\", \"Topic3\", \"Topic3\", \"Topic3\", \"Topic3\", \"Topic3\", \"Topic3\", \"Topic3\", \"Topic3\", \"Topic3\", \"Topic3\", \"Topic3\", \"Topic3\", \"Topic3\", \"Topic3\", \"Topic3\", \"Topic3\", \"Topic3\", \"Topic3\", \"Topic3\", \"Topic3\", \"Topic3\", \"Topic3\", \"Topic3\", \"Topic3\", \"Topic3\", \"Topic3\", \"Topic3\", \"Topic3\", \"Topic3\", \"Topic3\", \"Topic3\", \"Topic3\", \"Topic3\", \"Topic3\", \"Topic3\", \"Topic3\", \"Topic3\", \"Topic3\", \"Topic3\", \"Topic4\", \"Topic4\", \"Topic4\", \"Topic4\", \"Topic4\", \"Topic4\", \"Topic4\", \"Topic4\", \"Topic4\", \"Topic4\", \"Topic4\", \"Topic4\", \"Topic4\", \"Topic4\", \"Topic4\", \"Topic4\", \"Topic4\", \"Topic4\", \"Topic4\", \"Topic4\", \"Topic4\", \"Topic4\", \"Topic4\", \"Topic4\", \"Topic4\", \"Topic4\", \"Topic4\", \"Topic4\", \"Topic4\", \"Topic4\", \"Topic4\", \"Topic4\", \"Topic4\", \"Topic4\", \"Topic4\", \"Topic4\", \"Topic4\", \"Topic4\", \"Topic4\", \"Topic4\", \"Topic4\", \"Topic4\", \"Topic4\", \"Topic4\", \"Topic4\", \"Topic4\", \"Topic4\", \"Topic4\", \"Topic4\", \"Topic4\", \"Topic4\", \"Topic4\", \"Topic4\", \"Topic4\", \"Topic4\", \"Topic4\", \"Topic4\", \"Topic4\", \"Topic4\", \"Topic4\", \"Topic4\", \"Topic5\", \"Topic5\", \"Topic5\", \"Topic5\", \"Topic5\", \"Topic5\", \"Topic5\", \"Topic5\", \"Topic5\", \"Topic5\", \"Topic5\", \"Topic5\", \"Topic5\", \"Topic5\", \"Topic5\", \"Topic5\", \"Topic5\", \"Topic5\", \"Topic5\", \"Topic5\", \"Topic5\", \"Topic5\", \"Topic5\", \"Topic5\", \"Topic5\", \"Topic5\", \"Topic5\", \"Topic5\", \"Topic5\", \"Topic5\", \"Topic5\", \"Topic5\", \"Topic5\", \"Topic5\", \"Topic5\", \"Topic5\", \"Topic5\", \"Topic5\", \"Topic5\", \"Topic5\", \"Topic5\", \"Topic5\", \"Topic5\", \"Topic5\", \"Topic5\", \"Topic5\", \"Topic5\", \"Topic5\", \"Topic5\", \"Topic5\", \"Topic5\", \"Topic5\", \"Topic5\", \"Topic5\", \"Topic5\", \"Topic5\", \"Topic5\", \"Topic6\", \"Topic6\", \"Topic6\", \"Topic6\", \"Topic6\", \"Topic6\", \"Topic6\", \"Topic6\", \"Topic6\", \"Topic6\", \"Topic6\", \"Topic6\", \"Topic6\", \"Topic6\", \"Topic6\", \"Topic6\", \"Topic6\", \"Topic6\", \"Topic6\", \"Topic6\", \"Topic6\", \"Topic6\", \"Topic6\", \"Topic6\", \"Topic6\", \"Topic6\", \"Topic6\", \"Topic6\", \"Topic6\", \"Topic6\", \"Topic6\", \"Topic6\", \"Topic6\", \"Topic6\", \"Topic6\", \"Topic6\", \"Topic6\", \"Topic6\", \"Topic6\", \"Topic6\", \"Topic6\", \"Topic6\", \"Topic6\", \"Topic6\", \"Topic6\", \"Topic6\", \"Topic6\", \"Topic6\", \"Topic6\", \"Topic6\", \"Topic6\", \"Topic6\", \"Topic6\", \"Topic6\", \"Topic6\", \"Topic6\", \"Topic6\", \"Topic6\", \"Topic6\", \"Topic6\", \"Topic6\", \"Topic6\", \"Topic6\", \"Topic6\", \"Topic7\", \"Topic7\", \"Topic7\", \"Topic7\", \"Topic7\", \"Topic7\", \"Topic7\", \"Topic7\", \"Topic7\", \"Topic7\", \"Topic7\", \"Topic7\", \"Topic7\", \"Topic7\", \"Topic7\", \"Topic7\", \"Topic7\", \"Topic7\", \"Topic7\", \"Topic7\", \"Topic7\", \"Topic7\", \"Topic7\", \"Topic7\", \"Topic7\", \"Topic7\", \"Topic7\", \"Topic7\", \"Topic7\", \"Topic7\", \"Topic7\", \"Topic7\", \"Topic7\", \"Topic7\", \"Topic7\", \"Topic7\", \"Topic7\", \"Topic7\", \"Topic7\", \"Topic7\", \"Topic7\", \"Topic7\", \"Topic7\", \"Topic7\", \"Topic7\", \"Topic7\", \"Topic7\", \"Topic7\", \"Topic7\", \"Topic7\", \"Topic7\", \"Topic7\", \"Topic7\", \"Topic7\", \"Topic7\", \"Topic7\", \"Topic7\"], \"logprob\": [30.0, 29.0, 28.0, 27.0, 26.0, 25.0, 24.0, 23.0, 22.0, 21.0, 20.0, 19.0, 18.0, 17.0, 16.0, 15.0, 14.0, 13.0, 12.0, 11.0, 10.0, 9.0, 8.0, 7.0, 6.0, 5.0, 4.0, 3.0, 2.0, 1.0, -4.4498, -5.2344, -5.7163, -5.7578, -5.8875, -6.1518, -6.2124, -6.2319, -6.1237, -5.4419, -6.1913, -6.2807, -6.3227, -6.366, -6.384, -6.3814, -6.409, -6.4578, -6.4598, -6.482, -6.5013, -6.523, -6.2756, -6.3336, -6.0422, -6.5757, -6.5769, -6.5762, -6.5644, -5.8531, -5.6708, -5.8575, -5.7536, -6.066, -5.2176, -5.7887, -5.8409, -4.8757, -5.7532, -6.0576, -6.2638, -5.9378, -6.1767, -6.0344, -5.5323, -5.189, -5.8567, -5.5081, -4.3247, -3.8984, -5.3521, -5.0443, -5.8208, -4.9393, -5.8403, -5.4196, -5.1242, -5.8174, -5.6617, -5.5451, -5.7303, -5.8042, -5.8193, -4.6438, -4.9573, -5.0573, -5.6404, -5.909, -5.9001, -5.8482, -5.9424, -6.0922, -6.0307, -6.158, -6.181, -6.1882, -6.2029, -6.2156, -5.8893, -6.2837, -6.1278, -6.0253, -6.3316, -6.3256, -6.3511, -6.372, -6.2441, -6.3897, -6.4488, -5.2995, -6.4823, -6.4823, -6.1215, -5.9349, -6.1805, -6.2275, -5.6153, -5.966, -5.8446, -4.8091, -4.509, -5.3575, -5.3378, -5.5766, -5.6407, -4.5134, -5.6837, -5.3734, -5.012, -4.5441, -5.5148, -5.4749, -5.3187, -4.7362, -5.7999, -5.4945, -5.2093, -4.6001, -4.9087, -5.7259, -5.6643, -5.3325, -5.5471, -5.7315, -5.1186, -5.1597, -5.526, -5.4132, -5.6951, -5.8227, -5.8619, -6.0154, -6.0322, -6.0391, -5.8658, -6.1051, -6.1391, -6.2065, -6.2198, -5.6608, -6.266, -6.2688, -6.2772, -6.127, -6.2924, -6.2897, -6.3218, -6.3391, -6.3532, -6.3372, -6.4035, -6.4154, -6.4322, -6.4399, -4.72, -5.8458, -6.1735, -5.5834, -4.6793, -5.8024, -6.084, -6.1401, -5.4311, -5.6891, -6.0087, -5.7363, -5.5902, -5.4328, -5.9064, -5.7905, -5.6915, -5.1717, -5.5496, -5.8085, -5.7488, -4.7976, -5.5176, -5.6267, -4.539, -5.45, -5.4839, -5.3494, -5.4324, -4.9712, -5.2859, -5.1526, -5.0203, -5.5198, -5.5264, -5.599, -5.6029, -5.6587, -4.5304, -4.7958, -5.2642, -5.4703, -5.4423, -5.15, -5.7636, -5.7743, -4.6122, -5.8309, -5.8656, -5.8759, -5.9888, -5.9974, -6.0193, -6.0837, -6.1021, -6.1109, -6.1411, -6.1213, -6.0816, -6.1631, -6.192, -6.1974, -6.1655, -6.2182, -6.2371, -6.2324, -6.2527, -6.2868, -5.3173, -5.5375, -5.4975, -5.6627, -5.8662, -6.1366, -5.054, -5.5617, -5.5004, -4.9972, -6.0431, -5.5326, -5.6115, -5.0142, -5.2179, -5.0889, -5.1818, -5.7778, -5.7716, -5.6815, -4.4373, -5.1262, -5.268, -5.6399, -5.6014, -5.1182, -5.3906, -5.479, -5.3415, -5.426, -5.4814, -4.9997, -5.4501, -5.4648, -5.4015, -5.4977, -5.6661, -5.5592, -5.7137, -5.5743, -5.751, -5.614, -5.8341, -5.2601, -5.9865, -6.0306, -5.9926, -6.1544, -6.1609, -6.1161, -6.1844, -6.2241, -6.0553, -6.2291, -6.2443, -6.2509, -6.2333, -6.227, -6.0872, -5.8858, -6.2799, -4.9086, -5.5879, -5.8785, -5.7888, -5.3941, -5.5645, -5.3303, -5.414, -5.3328, -5.1165, -4.5548, -5.9662, -4.5442, -4.9771, -4.7477, -5.3043, -5.1237, -5.3196, -5.5951, -5.5981, -5.3916, -4.746, -5.3906, -5.4973, -5.5239, -5.5554, -5.549, -4.9574, -5.1811, -5.5933, -5.6614, -5.7722, -5.8661, -5.9055, -5.7804, -5.9467, -5.9523, -5.979, -5.9919, -5.991, -5.9353, -5.5915, -6.0509, -5.0207, -6.1003, -6.1544, -6.1385, -6.1696, -6.1723, -6.1766, -6.1923, -5.8974, -6.2317, -6.2125, -5.4515, -6.2451, -6.2646, -5.6619, -6.0587, -5.9154, -5.1748, -5.0098, -5.39, -5.5748, -6.0864, -5.8587, -5.8087, -4.9465, -5.6954, -5.0911, -5.6395, -4.8231, -4.5197, -5.0829, -5.579, -4.9943, -5.733, -5.2167, -5.7881, -5.6529, -5.6132, -5.7328, -5.4817, -5.4228, -5.6021, -5.6778, -5.5104, -5.5525, -5.5419, -5.6027, -5.6027, -5.4246, -5.4784, -5.4734, -5.646, -4.8967, -5.3727, -5.6865, -5.2461, -5.7932, -5.8007, -5.6928, -5.8879, -5.8963, -5.9155, -5.6811, -6.003, -6.0149, -5.6959, -6.046, -6.0494, -6.0678, -6.0973, -6.0409, -6.1426, -6.1772, -6.1823, -6.2119, -6.2126, -6.2156, -6.1292, -4.5723, -4.6989, -5.0667, -4.7723, -5.6768, -5.3998, -5.9691, -5.8292, -5.7742, -5.7748, -5.3413, -5.5253, -5.5401, -5.3391, -5.811, -4.8915, -5.2078, -5.3696, -5.3391, -4.8866, -4.9185, -5.6366, -5.5911, -5.5174, -5.548, -5.3824, -5.1672], \"loglift\": [30.0, 29.0, 28.0, 27.0, 26.0, 25.0, 24.0, 23.0, 22.0, 21.0, 20.0, 19.0, 18.0, 17.0, 16.0, 15.0, 14.0, 13.0, 12.0, 11.0, 10.0, 9.0, 8.0, 7.0, 6.0, 5.0, 4.0, 3.0, 2.0, 1.0, 1.775, 1.7735, 1.7716, 1.7715, 1.7708, 1.7688, 1.7687, 1.7686, 1.7685, 1.7685, 1.7685, 1.7681, 1.7675, 1.7674, 1.7673, 1.7672, 1.767, 1.7666, 1.7666, 1.7664, 1.7662, 1.7659, 1.7657, 1.7657, 1.7654, 1.7654, 1.7654, 1.7653, 1.7653, 1.7653, 1.7651, 1.763, 1.7616, 1.7638, 1.7361, 1.7463, 1.7423, 1.6958, 1.734, 1.7484, 1.7555, 1.7208, 1.7403, 1.6955, 1.5565, 1.3951, 1.6195, 1.4861, 0.9007, 0.6995, 1.304, 1.0039, 1.5127, 0.7673, 1.5242, 1.1362, 0.5511, 1.3737, 0.85, 0.4432, 0.9592, 1.1979, 0.8942, 1.7979, 1.7973, 1.7971, 1.7951, 1.7937, 1.7934, 1.7932, 1.793, 1.7925, 1.7923, 1.792, 1.7918, 1.7917, 1.7917, 1.7916, 1.791, 1.791, 1.7909, 1.7909, 1.7906, 1.7906, 1.7903, 1.7903, 1.7901, 1.7901, 1.7895, 1.7894, 1.7891, 1.789, 1.7889, 1.7874, 1.7859, 1.7865, 1.7691, 1.7782, 1.7705, 1.6009, 1.5009, 1.6219, 1.6014, 1.6329, 1.6092, 1.1932, 1.5873, 1.4374, 1.2592, 0.9271, 1.4487, 1.4009, 1.2477, 0.7476, 1.5647, 1.1965, 0.8157, -0.0022, 0.3167, 1.4444, 1.3041, 0.3428, 0.7297, 0.9903, 1.9051, 1.905, 1.9036, 1.9035, 1.9028, 1.9017, 1.9014, 1.9008, 1.9005, 1.9003, 1.9001, 1.9001, 1.8998, 1.8992, 1.899, 1.8987, 1.8987, 1.8986, 1.8985, 1.8984, 1.8984, 1.8982, 1.8981, 1.8979, 1.8978, 1.8975, 1.8972, 1.8971, 1.8969, 1.8968, 1.8949, 1.8947, 1.896, 1.8898, 1.872, 1.8913, 1.8931, 1.8912, 1.8499, 1.8474, 1.874, 1.8426, 1.8063, 1.7535, 1.8425, 1.808, 1.7669, 1.6017, 1.7201, 1.7955, 1.7656, 1.3415, 1.609, 1.6602, 0.9322, 1.5172, 1.4984, 1.1856, 1.2894, 0.2542, 0.7391, 0.3312, -0.4224, 1.0467, 0.9007, 1.2304, 1.1106, 1.276, 1.9246, 1.9243, 1.9229, 1.9217, 1.9216, 1.9208, 1.9208, 1.9207, 1.9207, 1.9203, 1.9201, 1.9194, 1.9193, 1.9192, 1.9191, 1.9186, 1.9184, 1.9184, 1.9181, 1.9179, 1.9178, 1.9178, 1.9177, 1.9176, 1.9176, 1.9174, 1.9172, 1.9171, 1.917, 1.9168, 1.9155, 1.9167, 1.9138, 1.9141, 1.9134, 1.9164, 1.8814, 1.8552, 1.8315, 1.7054, 1.8974, 1.7022, 1.7279, 1.4732, 1.4567, 1.3382, 1.385, 1.7214, 1.7062, 1.5985, 0.1606, 0.7526, 0.9092, 1.5203, 1.435, 0.3657, 0.9016, 1.026, 0.5333, 0.4907, 0.5668, 2.0031, 2.0015, 2.0014, 2.0014, 2.0012, 2.0004, 2.0004, 2.0001, 2.0, 1.9999, 1.9994, 1.999, 1.9989, 1.998, 1.9979, 1.9979, 1.9968, 1.9968, 1.9966, 1.9965, 1.9962, 1.9961, 1.9961, 1.996, 1.9959, 1.9959, 1.9959, 1.9958, 1.9957, 1.9956, 1.9864, 1.9925, 1.9888, 1.9823, 1.9459, 1.9545, 1.9336, 1.9266, 1.9094, 1.8512, 1.7221, 1.9626, 1.5001, 1.5911, 1.4294, 1.639, 1.4302, 1.4867, 1.6815, 1.6345, 1.2624, -0.1481, 0.9017, 1.093, 0.3549, 0.9397, 0.3677, 2.1159, 2.115, 2.1132, 2.1126, 2.112, 2.111, 2.111, 2.1108, 2.1107, 2.1105, 2.1104, 2.1103, 2.1103, 2.11, 2.1099, 2.1097, 2.1096, 2.109, 2.1087, 2.1087, 2.1086, 2.1086, 2.1085, 2.1081, 2.108, 2.1078, 2.1078, 2.1077, 2.1076, 2.1076, 2.1064, 2.1051, 2.1017, 2.0814, 2.0735, 2.0768, 2.0784, 2.1046, 2.0922, 2.0865, 1.9176, 2.0408, 1.7943, 1.9723, 1.672, 1.4685, 1.6904, 1.8229, 1.3461, 1.8865, 1.1877, 1.926, 1.7007, 1.5562, 1.7904, 1.1627, 0.4939, 1.2043, 1.5265, 0.1649, 0.4919, 0.3369, 0.272, -1.0047, 2.1429, 2.1427, 2.1425, 2.1417, 2.1416, 2.1416, 2.1412, 2.1409, 2.1407, 2.1406, 2.1402, 2.14, 2.1397, 2.1397, 2.139, 2.139, 2.1389, 2.1387, 2.1386, 2.1383, 2.1382, 2.1381, 2.1377, 2.1376, 2.1373, 2.1373, 2.1369, 2.1369, 2.1369, 2.1368, 2.1343, 2.1234, 2.1263, 2.1122, 2.13, 2.1232, 2.1337, 2.1257, 2.1228, 2.1131, 2.003, 2.019, 1.9802, 1.8053, 1.9785, 0.9832, 1.2756, 1.4394, 1.352, 0.5972, 0.3069, 1.7705, 1.6468, 1.3878, 1.4061, 0.6059, -0.5692]}, \"token.table\": {\"Topic\": [3, 5, 7, 2, 3, 5, 7, 1, 2, 3, 4, 5, 6, 7, 3, 4, 6, 7, 5, 2, 5, 1, 3, 4, 5, 6, 7, 1, 1, 2, 3, 4, 5, 6, 7, 4, 5, 7, 3, 5, 7, 1, 4, 1, 3, 5, 7, 2, 3, 6, 1, 2, 3, 4, 5, 6, 7, 1, 2, 3, 4, 5, 2, 4, 6, 6, 2, 1, 2, 3, 4, 5, 6, 7, 7, 2, 3, 5, 1, 6, 3, 4, 7, 1, 2, 7, 1, 3, 4, 5, 6, 7, 1, 2, 3, 4, 5, 7, 2, 4, 3, 7, 1, 4, 7, 1, 3, 7, 4, 5, 1, 3, 3, 3, 4, 1, 3, 1, 4, 6, 2, 5, 6, 2, 4, 5, 6, 7, 6, 1, 2, 3, 6, 7, 6, 6, 2, 2, 3, 4, 5, 3, 6, 4, 1, 2, 3, 5, 6, 7, 4, 7, 2, 5, 3, 1, 4, 6, 1, 7, 7, 1, 2, 3, 4, 7, 5, 6, 7, 1, 2, 4, 5, 6, 4, 1, 2, 2, 7, 6, 4, 1, 2, 3, 5, 6, 7, 4, 2, 4, 7, 1, 4, 7, 2, 3, 4, 5, 7, 1, 3, 5, 6, 7, 1, 2, 3, 5, 7, 1, 2, 1, 2, 5, 7, 1, 2, 3, 4, 5, 6, 7, 5, 2, 3, 4, 7, 1, 4, 1, 2, 3, 4, 5, 7, 1, 7, 5, 7, 2, 1, 6, 1, 2, 3, 4, 5, 6, 7, 1, 2, 3, 4, 5, 7, 5, 1, 2, 3, 5, 5, 3, 4, 5, 7, 1, 3, 4, 6, 7, 4, 4, 1, 2, 3, 4, 5, 6, 7, 2, 4, 6, 3, 5, 1, 2, 3, 4, 5, 6, 1, 2, 5, 1, 7, 1, 4, 6, 1, 1, 2, 3, 4, 5, 6, 7, 3, 1, 7, 2, 6, 1, 1, 2, 2, 6, 4, 1, 2, 3, 4, 6, 2, 2, 5, 1, 3, 5, 6, 7, 1, 4, 1, 3, 1, 2, 3, 4, 5, 6, 7, 3, 1, 4, 5, 7, 7, 2, 3, 3, 4, 1, 5, 3, 5, 1, 3, 4, 5, 6, 7, 4, 5, 2, 3, 4, 5, 2, 6, 1, 4, 2, 3, 5, 6, 7, 2, 4, 7, 3, 4, 5, 6, 7, 1, 3, 5, 3, 5, 3, 1, 6, 7, 5, 1, 5, 1, 2, 3, 4, 5, 6, 7, 3, 4, 6, 1, 2, 3, 4, 6, 6, 1, 3, 2, 3, 5, 5, 4, 3, 3, 6, 7, 2, 2, 5, 7, 6, 1, 6, 3, 4, 7, 2, 6, 4, 2, 5, 1, 6, 1, 7, 2, 1, 1, 4, 7, 1, 2, 3, 4, 4, 5, 3, 4, 3, 1, 3, 6, 7, 4, 5, 5, 2, 4, 6, 1, 1, 6, 1, 3, 6, 3, 4, 6, 6, 6, 3, 5, 7, 4, 2, 1, 3, 4, 6, 1, 5, 7, 2, 4, 6, 7, 6, 4, 5, 4, 1, 3, 5, 1, 2, 3, 4, 5, 6, 7, 4, 1, 3, 5, 6, 1, 7, 2, 1, 2, 3, 4, 7, 1, 2, 3, 4, 5, 6, 7, 7, 1, 2, 4, 5, 6, 7, 5, 2, 1, 3, 5, 4, 6, 5, 1, 2, 4, 5, 3, 1, 2, 4, 6, 1, 4, 1, 2, 4, 6, 7, 2, 1, 3, 4, 7, 2, 5, 4, 6, 1, 4, 7, 4, 7, 7, 6, 1, 5, 7, 3, 6, 6, 7, 3, 5, 7, 1, 3, 4, 6, 1, 5, 1, 2, 5, 4, 6, 3, 2, 6, 5, 1, 2, 3, 4, 5, 6, 7, 1, 6, 1, 2, 3, 4, 5, 7, 2, 3, 6, 7, 4, 5, 7, 7, 1, 2, 3, 4, 6, 7, 1, 3, 1, 5, 6, 7, 2, 1, 4, 5, 6, 7, 2, 6, 2, 5, 1, 2, 3, 4, 5, 6, 7, 3, 4, 5, 6, 1, 2, 1, 3, 5, 6, 7, 1, 1, 3, 4, 5, 7, 1, 2, 3, 4, 5, 6, 7, 4, 1, 3, 4, 3, 4, 5, 3, 2, 6, 7, 5, 1, 3, 5, 7, 1, 2, 3, 4, 5, 6, 7, 1, 5, 1, 3, 5, 7, 6, 1, 7, 3, 1, 4, 6, 7, 4, 7, 1, 2, 3, 4, 5, 6, 7, 3, 6, 3, 2, 4, 5, 2, 4, 1, 3, 4, 5, 6, 7, 1, 5, 6, 1, 1, 2, 3, 5, 6, 7, 4, 5, 7, 4, 6, 2, 6, 1, 2, 3, 4, 7, 1, 2, 4, 6, 7, 5, 3, 1, 2, 3, 5, 6, 2, 1, 7, 4, 5, 3, 4, 5, 6, 7, 1, 2, 3, 4, 5, 6, 7, 3, 4, 5, 7, 1, 7, 4, 2, 3, 4, 5, 1, 2, 3, 4, 5, 6, 7, 1, 2, 4, 2, 3, 5, 5, 1, 3, 6, 2, 1, 2, 5, 1, 2, 4, 7, 5, 1, 3, 4, 1, 3, 5, 7, 1, 3, 2, 3, 4, 3, 1, 2, 3, 4, 5, 6, 7, 7, 1, 2, 7, 6, 7, 3, 5, 6, 1, 1, 1, 5, 1, 3, 4, 5, 7, 6, 1, 2, 3, 5, 3, 7, 1, 6, 7, 1, 7, 2, 3, 4, 5, 3, 5, 1, 2, 3, 6, 5, 4, 3, 1, 2, 3, 4, 1, 2, 3, 4, 5, 1, 3, 1, 2, 4, 5, 6, 7], \"Freq\": [0.14498955193601618, 0.007249477596800808, 0.8409394012288938, 0.3301139185158805, 0.006287884162207247, 0.1854925827851138, 0.4747352542466472, 0.04866041269924657, 0.016220137566415525, 0.0016220137566415524, 0.3584650402177831, 0.33089080635487667, 0.1362491555578904, 0.10705290793834246, 0.9964219914578002, 0.25718023037992566, 0.05440351027267658, 0.6874625389001858, 0.9917181953666631, 0.1402456377388665, 0.8574108307217067, 0.14297365453344338, 0.2433956261700286, 0.06808269263497303, 0.07148682726672169, 0.4612602426019423, 0.013616538526994607, 0.9882940639465534, 0.012659046719840169, 0.011393142047856152, 0.045572568191424606, 0.11519732515054554, 0.6025706238643921, 0.19621522415752263, 0.01645676073579222, 0.8180660265200207, 0.16638631047864827, 0.00924368391548046, 0.023137194594113335, 0.9254877837645334, 0.05090182810704934, 0.985721614360135, 0.006122494499131273, 0.8532242157895646, 0.10069105652174987, 0.005299529290618414, 0.037096705034328895, 0.99448224168575, 0.034024606196373736, 0.961195125047558, 0.39590374025975894, 0.23229045984628713, 0.050497926053540684, 0.09897593506493974, 0.17977261675060482, 0.018179253379274646, 0.02423900450569953, 0.0013917368331368147, 0.24216220896580576, 0.5678286279198204, 0.03340168399528355, 0.15448278847818642, 0.010733183709487244, 0.032199551128461734, 0.9552533501443647, 0.9924520025776047, 0.9926707741257096, 0.02540376539729061, 0.003629109342470087, 0.03810564809593591, 0.10161506158916243, 0.23044844324685052, 0.39375836365800443, 0.20867378719203, 0.9928544413081982, 0.007117960190848769, 0.007117960190848769, 0.9751605461462813, 0.6694447054739443, 0.32675277290990135, 0.9916526997557107, 0.9871826707062457, 0.9913980188843021, 0.30240550011921724, 0.6974397119866632, 0.9941297409304604, 0.1850346770317035, 0.5304327408242168, 0.15419556419308628, 0.049342580541787605, 0.006167822567723451, 0.0740138708126814, 0.1467162509205282, 0.17000454471743745, 0.025617123176600164, 0.06054956387196402, 0.4750811934569485, 0.12342795712361897, 0.976908941912888, 0.013856864424296284, 0.939972164698992, 0.056285758365209104, 0.015923451528594507, 0.8014803936059235, 0.18046578399073773, 0.98622172887987, 0.9940954311500997, 0.9914301350817144, 0.04425240742357012, 0.9514267596067575, 0.015851167889132562, 0.9827724091262188, 0.9972896611040439, 0.9977486674177911, 0.9957892764465747, 0.011197921826838616, 0.987656705127166, 0.9634936691495658, 0.02470496587562989, 0.9882260516123286, 0.998248403536039, 0.9898928000262639, 0.9962082429512024, 0.7915968104095432, 0.028440603966809936, 0.05214110727248488, 0.018960402644539957, 0.10902231520610475, 0.9908638558856191, 0.046137720458749525, 0.23760926036256005, 0.24683680445430997, 0.38524996583055854, 0.08304789682574915, 0.9921629722713573, 0.9860629650048996, 0.9902615402260313, 0.3060276309621631, 0.4859222518655968, 0.161284832534113, 0.047558348054930755, 0.990731826915461, 0.0057600687611364014, 0.9873956802530127, 0.014750871997208185, 0.052681685704314946, 0.14750871997208184, 0.5626404033220836, 0.21915581252995017, 0.004214534856345196, 0.012273771203614009, 0.9868112047705663, 0.9717641069864815, 0.02417323649220103, 0.9935684174982179, 0.006872578725383722, 0.061853208528453496, 0.9277981279268025, 0.01666045660177552, 0.9774134539708305, 0.9894700093096348, 0.22755212022225121, 0.10179963273100712, 0.1257524874912441, 0.07784677797077015, 0.46708066782462093, 0.5939884860321214, 0.40141687640526924, 0.0027122761919274947, 0.00492009242960343, 0.07380138644405146, 0.0639612015848446, 0.10824203345127546, 0.742933956870118, 0.9919052944142827, 0.0064999702515581145, 0.9944954484883914, 0.5462050771302491, 0.45194844877591406, 0.9954278383690618, 0.9954938966500727, 0.005960376523730407, 0.001986792174576802, 0.005960376523730407, 0.3437150462017868, 0.6397470802137303, 0.001986792174576802, 0.9977895380076452, 0.9858935163060706, 0.9901654081454478, 0.005184112084531141, 0.032259030429730357, 0.0029326391299754873, 0.9648382737619353, 0.03049034847742914, 0.14374021425073738, 0.7187010712536869, 0.043557640682041626, 0.06098069695485828, 0.004385265016414407, 0.7805771729217644, 0.05262318019697289, 0.12278742045960339, 0.03946738514772966, 0.21074841119183924, 0.7024947039727975, 0.03512473519863987, 0.04293023190944873, 0.00780549671080886, 0.2951540590662561, 0.7045613022871919, 0.04226238547607924, 0.828342755331153, 0.1267871564282377, 0.004226238547607924, 0.36484024492278744, 0.5454542275578307, 0.027092097395256493, 0.008127629218576947, 0.03521972661383344, 0.018964468176679544, 0.0009030699131752165, 0.9947224923502062, 0.06240657974209482, 0.011346650862199058, 0.045386603448796234, 0.879365441820427, 0.9986944394040099, 0.9939951596504996, 0.041521928183518506, 0.2666144862310136, 0.010926823206189082, 0.11800969062684208, 0.4021070939877582, 0.1617169834515984, 0.019289779173737167, 0.9755116896432796, 0.9900161673942471, 0.9924762104046387, 0.991395057485136, 0.03674809901339613, 0.9607003027787846, 0.2940688298928688, 0.23280449033185446, 0.07089159292060229, 0.08839568993803497, 0.0945221238941364, 0.14178318584120458, 0.07789323172757537, 0.022639305689289953, 0.2846084143796451, 0.6630082380434915, 0.009702559581124266, 0.009702559581124266, 0.009702559581124266, 0.9863151207219854, 0.0029636077257868517, 0.008890823177360554, 0.0029636077257868517, 0.9809541572354479, 0.990838181444654, 0.029141049323259224, 0.7992973528665387, 0.008326014092359777, 0.16235727480101567, 0.9890236052556477, 0.9854734341641944, 0.26661738695592224, 0.722088756338956, 0.005554528894915046, 0.9895859192945285, 0.9955501616490032, 0.41638393351401465, 0.22716925059008572, 0.1914473045513499, 0.00446524325484198, 0.001116310813710495, 0.001116310813710495, 0.15851613554689029, 0.008519158768678396, 0.017038317537356792, 0.9711840996293372, 0.9053094307716694, 0.09297772532249578, 0.004994497219986271, 0.024972486099931353, 0.004994497219986271, 0.9289764829174464, 0.034961480539903896, 0.985594746283465, 0.3699557453143862, 0.6091512703021359, 0.019135641999019976, 0.009916878061719547, 0.9817709281102351, 0.9942254103648386, 0.9959115225979539, 0.9915397918211898, 0.9917919665919517, 0.025410112363924556, 0.5828444523475195, 0.004764396068235854, 0.24616046352551912, 0.1032285814784435, 0.004764396068235854, 0.03176264045490569, 0.9867341195036122, 0.9921986484242944, 0.99270830098067, 0.9896999553000939, 0.0067787668171239305, 0.9923359700870054, 0.9918542648258151, 0.9895286214170744, 0.989932738614489, 0.008181262302599083, 0.9957018158919752, 0.012898812629205874, 0.8384228208983818, 0.0032247031573014685, 0.1418869389212646, 0.0032247031573014685, 0.9973070303821395, 0.9970174378408463, 0.9935328727692339, 0.17948834155463048, 0.24747634971926322, 0.01087808130634124, 0.07070752849121806, 0.49223317911194114, 0.9961905569564218, 0.9907151085257926, 0.9873951877868496, 0.9917700278175463, 0.46128553040350023, 0.10293148199086369, 0.01651986748001516, 0.2566933254586971, 0.07624554221545458, 0.015249108443090917, 0.06989174703083337, 0.9933953842135543, 0.005538504195238226, 0.027692520976191133, 0.11630858810000275, 0.8473911418714486, 0.9901062118330995, 0.9743230725519684, 0.02435807681379921, 0.978654341393778, 0.009232588126356397, 0.9992600751360488, 0.995200615150295, 0.9890579237064546, 0.9926329306129921, 0.3141696832729442, 0.14530347851373668, 0.023562726245470816, 0.09425090498188327, 0.005890681561367704, 0.41823839085710696, 0.991898867335217, 0.99375646243513, 0.286712267990551, 0.6753666757110757, 0.022299843065931742, 0.009557075599685032, 0.9907611202493115, 0.9951864965675582, 0.9887612800333251, 0.007547796030788741, 0.5761258813243694, 0.4224923129712042, 0.26126327909643393, 0.7221434455923904, 0.014677712308788424, 0.8072263773713064, 0.17698546241830782, 0.008633437191136966, 0.04047794625419044, 0.36141023441241465, 0.5623543247457172, 0.013010768438846926, 0.02313025500239454, 0.9958879449559805, 0.9922631020102562, 0.9904643169772251, 0.8912819313734056, 0.102376978603702, 0.9938130103296411, 0.2633005195708841, 0.521813756967752, 0.2142308772872193, 0.9979108358870468, 0.27348421538305634, 0.724950221729689, 0.10672097044991365, 0.023478613498981005, 0.029881871725975822, 0.5826964986565285, 0.22411403794481866, 0.029881871725975822, 0.006403258226994819, 0.005860502877601913, 0.9904249863147234, 0.005860502877601913, 0.959128037421009, 0.01071651438459228, 0.00535825719229614, 0.01607477157688842, 0.00535825719229614, 0.9958936776410319, 0.008745957831837082, 0.9882932349975903, 0.9909480005627127, 0.9814902166984825, 0.013174365324811844, 0.9956007482070803, 0.9861108033289656, 0.9955871702328496, 0.984368815442844, 0.9895166105760895, 0.9933318827866288, 0.9853569582051559, 0.9967777183646173, 0.01710694195362359, 0.9750956913565446, 0.9953247741539543, 0.9936636064333662, 0.9940961097343852, 0.9397254912688437, 0.05568743651963519, 0.006960929564954399, 0.998829535875005, 0.9883233174241296, 0.9886055601880586, 0.005881808244491023, 0.9881437850744919, 0.9891743369553311, 0.007381898036980083, 0.9724168353277249, 0.022483626250352023, 0.98783158945228, 0.9973219454676493, 0.004154665544971129, 0.9888103997031288, 0.004154665544971129, 0.013453923932781182, 0.7411889002968541, 0.17612409512004457, 0.0684927036577951, 0.9951139356029569, 0.9968659466041854, 0.9945593366984357, 0.9937706907158695, 0.9912650706263687, 0.08983889697203713, 0.9043782295185071, 0.9904054551756749, 0.0057581712510213654, 0.908328299600964, 0.08716281662837533, 0.9849449219989249, 0.006325835621939405, 0.02530334248775762, 0.9615270145347895, 0.9947077961986338, 0.0074998900092790805, 0.9899854812248385, 0.1681250498989491, 0.8276925533486725, 0.9896777778606863, 0.9898529083510236, 0.168081806382109, 0.8269624873999762, 0.9876763067831446, 0.9877472960820783, 0.03237345035654257, 0.9434548389620978, 0.023123893111816122, 0.9926488483564115, 0.9895144607922851, 0.9221695215477113, 0.006433740848007288, 0.0021445802826690957, 0.06862656904541106, 0.004264919800343615, 0.9937263134800624, 0.9850893163077208, 0.0071776653953608445, 0.9905178245597965, 0.8618537878755569, 0.13352664319198768, 0.9927495373526303, 0.9982666087564267, 0.9952316778294571, 0.987057850112814, 0.0026242074656231376, 0.7347780903744786, 0.25979653909669065, 0.12239695628516678, 0.03009761220127052, 0.22673534524957126, 0.4073210184571944, 0.1705531358071996, 0.03210411968135522, 0.010032537400423506, 0.9947143752194597, 0.09287562087408456, 0.23017001694881825, 0.12114211418358856, 0.5532156547717211, 0.9947382576515647, 0.9923771519165898, 0.9899049753276106, 0.004644657476677186, 0.04180191729009468, 0.07431451962683498, 0.01393397243003156, 0.8639062906619567, 0.008582068847562636, 0.02467344793674258, 0.15876827367990878, 0.30895447851225494, 0.192023790464214, 0.16842310113341674, 0.13945861877289284, 0.995737416466644, 0.02907433464686043, 0.6716171303424759, 0.2616690118217439, 0.002907433464686043, 0.031981768111546474, 0.002907433464686043, 0.9915569414534363, 0.9931215711588092, 0.9827658175256861, 0.9955550753779766, 0.992651305343631, 0.01054038179157501, 0.9907958884080509, 0.9920359283192581, 0.10045577997580211, 0.007727367690446316, 0.6645536213783831, 0.22409366302294317, 0.9911673841741802, 0.2729691935312405, 0.12088635713526365, 0.03509603916830235, 0.5693357465080159, 0.016861945749020106, 0.9695618805686561, 0.6819607126859571, 0.30188706708072627, 0.0021718494034584624, 0.0021718494034584624, 0.01085924701729231, 0.9949268978380631, 0.9219840594988689, 0.006829511551843474, 0.06146560396659126, 0.006829511551843474, 0.007836390672807194, 0.9795488341008993, 0.00663825255570576, 0.9890996308001583, 0.0035335187872858635, 0.9929187792273276, 0.9967248248629651, 0.9962925565194355, 0.9909523094474958, 0.9934867993386904, 0.9910918818914268, 0.9937732956540295, 0.9969684573753228, 0.9948650352092783, 0.9871391041357783, 0.006903070658292156, 0.6562945088239798, 0.33752289025233245, 0.9880085164974017, 0.004847399592592398, 0.9937169164814417, 0.002063286905136487, 0.002063286905136487, 0.9945042882757869, 0.002063286905136487, 0.9915005547095629, 0.9964792724421565, 0.007195967633699255, 0.9894455496336475, 0.0035979838168496273, 0.9927332364713518, 0.9931407630431035, 0.9953673975109157, 0.9940041269956067, 0.9926765788873989, 0.9891335332803857, 0.16240001255928813, 0.026710528381461863, 0.02564210724620339, 0.24787370337996611, 0.0673105315212839, 0.15812632801825424, 0.3119789714954746, 0.9874612285777632, 0.005090006332875068, 0.44161566493191756, 0.007239601064457665, 0.22684083335300684, 0.02895840425783066, 0.016892402483734553, 0.2775180408042105, 0.9910361107374831, 0.9337806871318878, 0.05872834510263445, 0.9900386075162784, 0.29546383681143795, 0.6935624800942175, 0.009330436951940146, 0.9932314838108411, 0.5278138647455386, 0.3483571507320555, 0.061226408310482476, 0.006333766376946463, 0.004222510917964308, 0.05278138647455386, 0.967323054146576, 0.029491556528859028, 0.9897276595538065, 0.006109429997245719, 0.9865796350209606, 0.007097695215978134, 0.9967262547916689, 0.8022366003704335, 0.025182314809834235, 0.0107924206327861, 0.1618863094917915, 0.9923359772248219, 0.009101844761443215, 0.9829992342358672, 0.033331834095544306, 0.9582902302468987, 0.34062351081777253, 0.16509660979269114, 0.09715071262169189, 0.17105677621119986, 0.11592523683999433, 0.04410523149696442, 0.06615784724544663, 0.20733482000403514, 0.12611086989936157, 0.6604789626932666, 0.0042749447423512405, 0.009073565206163326, 0.9890186074718026, 0.9617331931672213, 0.003142918931919024, 0.003142918931919024, 0.003142918931919024, 0.028286270387271214, 0.9917870632668511, 0.20921561837848868, 0.7397266506953707, 0.003735993185330155, 0.04109592503863171, 0.9941975714756298, 0.22520051067786465, 0.3433908496151837, 0.12298183916450765, 0.10701017174054561, 0.10381583825575322, 0.04631783552948989, 0.05270650249907471, 0.9917836928272183, 0.009257295767556054, 0.0339434178143722, 0.9565872293141255, 0.30162701515209217, 0.6347967246991744, 0.06111397039029319, 0.9957506801204292, 0.995840081390188, 0.007375393963754854, 0.9809273971793956, 0.9902535232150346, 0.4127703291554413, 0.4498455084209001, 0.04696189373624781, 0.08898043023710112, 0.08070613704782827, 0.3737314961753278, 0.3104082194147241, 0.008691430143612275, 0.18748656452649334, 0.02359102467551903, 0.01365796165424786, 0.988402351050531, 0.9888075437349995, 0.00435979561114501, 0.9417158520073222, 0.00435979561114501, 0.043597956111450106, 0.9853371541896243, 0.019963468867669015, 0.9782099745157817, 0.9893666758284294, 0.9727759907698046, 0.022108545244768286, 0.01614430619788308, 0.9767305249719263, 0.9907825884576661, 0.9927868818794178, 0.10919277138536833, 0.03119793468153381, 0.1325912223965187, 0.23844135792315124, 0.1938728798066744, 0.19721551566541015, 0.09805065185624912, 0.9920897323051079, 0.9928574374994784, 0.9948742621040458, 0.016615077201613277, 0.28661008172782904, 0.689525703866951, 0.9864048720284009, 0.008652674316038604, 0.5607800653865008, 0.023090943868855917, 0.14844178201407376, 0.0197922376018765, 0.0032987062669794166, 0.24080555748949742, 0.7672870445032719, 0.013783599601855183, 0.21594306042906453, 0.9829400594119968, 0.011493685873578572, 0.002873421468394643, 0.011493685873578572, 0.11493685873578573, 0.8189251184924733, 0.040227900557525, 0.023995713005741416, 0.007998571001913805, 0.9678270912315704, 0.9966930510226872, 0.9950625432320276, 0.9879467032312425, 0.9908546577727136, 0.004175782905465343, 0.008351565810930685, 0.004175782905465343, 0.3758204614918808, 0.6054885212924747, 0.3122739352012609, 0.018369055011838876, 0.013120753579884912, 0.6507893775622916, 0.002624150715976982, 0.9936435998422898, 0.99125792541, 0.0015973596624962315, 0.004792078987488694, 0.22043563342447994, 0.752356401035725, 0.019168315949954776, 0.9959286943520068, 0.003420189636976483, 0.9952751843601566, 0.9961194130929085, 0.9948425503433371, 0.9944132773032828, 0.05504596904642466, 0.14678925079046576, 0.7951084417816895, 0.990020734449151, 0.05852033007803827, 0.4182062612893955, 0.3768138326976123, 0.04852905421105613, 0.028546502477091843, 0.056379342392256386, 0.012845926114691328, 0.0023775024882039127, 0.625283154397629, 0.3708903881598104, 0.9919012765387709, 0.9912448262319454, 0.004062478796032563, 0.993862838974956, 0.038979519547756816, 0.36566501670990914, 0.5549941116561565, 0.038979519547756816, 0.6231379086046601, 0.17970643806201808, 0.002333849844961274, 0.1073570928682186, 0.06534779565891567, 0.016336948914728918, 0.004667699689922548, 0.7772847742389922, 0.028437247838011912, 0.19432119355974806, 0.9860118557702123, 0.06428567795781796, 0.9299994744564333, 0.9975069058142292, 0.06056716665184989, 0.8644586513036757, 0.06607327271110897, 0.9892442434997465, 0.9863596346579573, 0.005510389020435515, 0.005510389020435515, 0.9476783705316463, 0.006360257520346619, 0.03816154512207971, 0.9936927860815427, 0.9864787498640876, 0.004966889003518043, 0.004966889003518043, 0.9884109117000907, 0.00419412025803719, 0.06710592412859503, 0.905929975736033, 0.02097060129018595, 0.033627912352625626, 0.9647007356159476, 0.44615240502407555, 0.5383738518726275, 0.014954829218684096, 0.9876021368274275, 0.0028908127652443783, 0.3490656414032587, 0.20669311271497304, 0.21030662867152852, 0.013008657443599702, 0.006504328721799851, 0.21175203505415072, 0.9928838610832846, 0.7494222059049723, 0.2454439538990084, 0.0032725860519867787, 0.9901285169082307, 0.9947882098367636, 0.8565875561712893, 0.13483322643436962, 0.003965683130422636, 0.9884818266114842, 0.9888713690250076, 0.976107571733532, 0.018245001340813683, 0.002445000180061272, 0.004890000360122544, 0.8019600590600973, 0.19071001404477922, 0.9892560768288392, 0.9866311744117889, 0.004058780566060776, 0.8482851383067022, 0.012176341698182328, 0.1379985392460664, 0.289059886340662, 0.7112394571803131, 0.9864794587831422, 0.966975395549318, 0.02417438488873295, 0.9854594033350019, 0.9853524481568093, 0.21369842174734355, 0.507880664672258, 0.08880973371318174, 0.18872068414051119, 0.8693835124526976, 0.13014723240309845, 0.003097464373329833, 0.8208280589324057, 0.003097464373329833, 0.17345800490647065, 0.9942780168791334, 0.991667512193568, 0.9906988161454132, 0.12407568826541507, 0.8192644710466377, 0.027369637117370973, 0.027369637117370973, 0.09218400538019053, 0.021690354207103652, 0.005422588551775913, 0.813388282766387, 0.06507106262131096, 0.02387295468894216, 0.962875839120667, 0.04437988136016129, 0.10582894785884617, 0.611076827959144, 0.0921735997480273, 0.09900127380343673, 0.04096604433245658], \"Term\": [\"\\uac00\\uc744\", \"\\uac00\\uc744\", \"\\uac00\\uc744\", \"\\uac04\", \"\\uac04\", \"\\uac04\", \"\\uac04\", \"\\uac10\\ub3c5\", \"\\uac10\\ub3c5\", \"\\uac10\\ub3c5\", \"\\uac10\\ub3c5\", \"\\uac10\\ub3c5\", \"\\uac10\\ub3c5\", \"\\uac10\\ub3c5\", \"\\uac10\\uc18c\", \"\\uac15\", \"\\uac15\", \"\\uac15\", \"\\uac15\\uc138\", \"\\uac15\\uc6d0\", \"\\uac15\\uc6d0\", \"\\uac1c\", \"\\uac1c\", \"\\uac1c\", \"\\uac1c\", \"\\uac1c\", \"\\uac1c\", \"\\uac1c\\uad50\", \"\\uac1c\\ubc1c\", \"\\uac1c\\ubc1c\", \"\\uac1c\\ubc1c\", \"\\uac1c\\ubc1c\", \"\\uac1c\\ubc1c\", \"\\uac1c\\ubc1c\", \"\\uac1c\\ubc1c\", \"\\uac1c\\uc120\", \"\\uac1c\\uc120\", \"\\uac1c\\uc120\", \"\\uac24\\ub7ed\\uc2dc\", \"\\uac24\\ub7ed\\uc2dc\", \"\\uac24\\ub7ed\\uc2dc\", \"\\uac70\\ub9ac\", \"\\uac70\\ub9ac\", \"\\uac74\", \"\\uac74\", \"\\uac74\", \"\\uac74\", \"\\uac80\", \"\\uac80\\uc0ac\", \"\\uac80\\uc0ac\", \"\\uac83\", \"\\uac83\", \"\\uac83\", \"\\uac83\", \"\\uac83\", \"\\uac83\", \"\\uac83\", \"\\uac8c\\uc2dc\\ud310\", \"\\uac8c\\uc2dc\\ud310\", \"\\uac8c\\uc2dc\\ud310\", \"\\uac8c\\uc2dc\\ud310\", \"\\uac8c\\uc2dc\\ud310\", \"\\uac8c\\uc784\", \"\\uac8c\\uc784\", \"\\uac8c\\uc784\", \"\\uaca8\\uc6b8\", \"\\uaca9\", \"\\uacbd\\uae30\", \"\\uacbd\\uae30\", \"\\uacbd\\uae30\", \"\\uacbd\\uae30\", \"\\uacbd\\uae30\", \"\\uacbd\\uae30\", \"\\uacbd\\uae30\", \"\\uacbd\\ubd81\", \"\\uacbd\\uc7c1\", \"\\uacbd\\uc7c1\", \"\\uacbd\\uc7c1\", \"\\uacbd\\ucc30\", \"\\uacbd\\ucc30\", \"\\uace0\\uac1d\", \"\\uace0\\uad50\", \"\\uace0\\ubc1c\", \"\\uace0\\uc6a9\", \"\\uace0\\uc6a9\", \"\\uace8\", \"\\uacf3\", \"\\uacf3\", \"\\uacf3\", \"\\uacf3\", \"\\uacf3\", \"\\uacf3\", \"\\uacf5\\uac1c\", \"\\uacf5\\uac1c\", \"\\uacf5\\uac1c\", \"\\uacf5\\uac1c\", \"\\uacf5\\uac1c\", \"\\uacf5\\uac1c\", \"\\uacf5\\uae09\", \"\\uacf5\\uae09\", \"\\uacf5\\ubb34\\uc6d0\", \"\\uacf5\\ubb34\\uc6d0\", \"\\uacf5\\uc0ac\", \"\\uacf5\\uc0ac\", \"\\uacf5\\uc0ac\", \"\\uacf5\\uc2dc\", \"\\uacf5\\uc5f0\", \"\\uacf5\\ud56d\", \"\\uad00\", \"\\uad00\", \"\\uad00\\ub9ac\", \"\\uad00\\ub9ac\", \"\\uad50\\uc0ac\", \"\\uad50\\uc218\", \"\\uad50\\uc2e4\", \"\\uad50\\uc721\", \"\\uad50\\uc721\", \"\\uad50\\uc721\\uac10\", \"\\uad50\\uc721\\uac10\", \"\\uad50\\uc721\\ubd80\", \"\\uad50\\uc721\\uccad\", \"\\uad50\\ud1b5\", \"\\uad6c\\ucd95\", \"\\uad6d\\uac00\", \"\\uad6d\\uac00\", \"\\uad6d\\uac00\", \"\\uad6d\\uac00\", \"\\uad6d\\uac00\", \"\\uad8c\", \"\\uadf8\\ub798\\ud53d\", \"\\uadf8\\ub798\\ud53d\", \"\\uadf8\\ub798\\ud53d\", \"\\uadf8\\ub798\\ud53d\", \"\\uadf8\\ub798\\ud53d\", \"\\uadf9\\ubcf5\", \"\\uadfc\\ub85c\", \"\\uadfc\\ub85c\\uc790\", \"\\uae08\\uc735\", \"\\uae08\\uc735\", \"\\uae08\\uc735\", \"\\uae08\\uc735\", \"\\uae30\", \"\\uae30\", \"\\uae30\\ub2a5\", \"\\uae30\\uc220\", \"\\uae30\\uc220\", \"\\uae30\\uc220\", \"\\uae30\\uc220\", \"\\uae30\\uc220\", \"\\uae30\\uc220\", \"\\uae30\\uc790\", \"\\uae30\\uc790\", \"\\uae30\\uc790\\ud68c\\uacac\", \"\\uae30\\uc790\\ud68c\\uacac\", \"\\uae34\\uae09\", \"\\ub0a0\", \"\\ub0a0\", \"\\ub0a0\", \"\\ub0a0\\uc528\", \"\\ub0a0\\uc528\", \"\\ub0ae\", \"\\ub0b4\", \"\\ub0b4\", \"\\ub0b4\", \"\\ub0b4\", \"\\ub0b4\", \"\\ub0b4\\ub144\", \"\\ub0b4\\ub144\", \"\\ub0b4\\ub144\", \"\\ub124\\uc774\\ubc84\", \"\\ub124\\uc774\\ubc84\", \"\\ub124\\uc774\\ubc84\", \"\\ub124\\uc774\\ubc84\", \"\\ub124\\uc774\\ubc84\", \"\\ub178\", \"\\ub178\\ub3d9\", \"\\ub178\\ub3d9\", \"\\ub178\\ub3d9\\uc790\", \"\\ub178\\ub3d9\\uc790\", \"\\ub178\\ub825\", \"\\ub178\\uc0ac\", \"\\ub178\\uc870\", \"\\ub178\\uc870\", \"\\ub178\\uc870\", \"\\ub178\\uc870\", \"\\ub178\\uc870\", \"\\ub178\\uc870\", \"\\ub178\\ucd1d\", \"\\ub18d\\uc131\", \"\\ub2ec\\ub7ec\", \"\\ub2ec\\ub7ec\", \"\\ub300\\uad6c\", \"\\ub300\\uad6c\", \"\\ub300\\uad6c\", \"\\ub300\\ube44\", \"\\ub300\\ube44\", \"\\ub300\\ube44\", \"\\ub300\\ube44\", \"\\ub300\\ube44\", \"\\ub300\\uc0c1\", \"\\ub300\\uc0c1\", \"\\ub300\\uc0c1\", \"\\ub300\\uc0c1\", \"\\ub300\\uc0c1\", \"\\ub300\\uc751\", \"\\ub300\\uc751\", \"\\ub300\\uc751\", \"\\ub300\\uc751\", \"\\ub300\\uc751\", \"\\ub300\\uc804\", \"\\ub300\\uc804\", \"\\ub300\\ucc45\", \"\\ub300\\ucc45\", \"\\ub300\\ucc45\", \"\\ub300\\ucc45\", \"\\ub300\\ud1b5\\ub839\", \"\\ub300\\ud1b5\\ub839\", \"\\ub300\\ud1b5\\ub839\", \"\\ub300\\ud1b5\\ub839\", \"\\ub300\\ud1b5\\ub839\", \"\\ub300\\ud1b5\\ub839\", \"\\ub300\\ud1b5\\ub839\", \"\\ub300\\ud45c\\uc774\\uc0ac\", \"\\ub300\\ud45c\\ud300\", \"\\ub300\\ud45c\\ud300\", \"\\ub300\\ud45c\\ud300\", \"\\ub300\\ud45c\\ud300\", \"\\ub300\\ud559\", \"\\ub300\\ud559\\uc0dd\", \"\\ub354\", \"\\ub354\", \"\\ub354\", \"\\ub354\", \"\\ub354\", \"\\ub354\", \"\\ub3c4\", \"\\ub3c4\", \"\\ub3cc\\uc785\", \"\\ub3d9\\uae30\", \"\\ub3d9\\uc815\", \"\\ub450\\uc0b0\", \"\\ub450\\uc0b0\", \"\\ub4f1\", \"\\ub4f1\", \"\\ub4f1\", \"\\ub4f1\", \"\\ub4f1\", \"\\ub4f1\", \"\\ub4f1\", \"\\ub4f1\\uad50\", \"\\ub4f1\\uad50\", \"\\ub4f1\\uad50\", \"\\ub4f1\\uad50\", \"\\ub4f1\\uad50\", \"\\ub4f1\\uad50\", \"\\ub514\\uc9c0\\ud138\", \"\\ub85c\", \"\\ub85c\", \"\\ub85c\", \"\\ub85c\", \"\\ub85c\\ubd07\", \"\\ub958\\ud604\\uc9c4\", \"\\ub958\\ud604\\uc9c4\", \"\\ub958\\ud604\\uc9c4\", \"\\ub958\\ud604\\uc9c4\", \"\\ub9ac\", \"\\ub9c8\\uc2a4\\ud06c\", \"\\ub9d0\", \"\\ub9d0\", \"\\ub9d0\", \"\\ub9e4\\uc218\", \"\\ub9e4\\ucd9c\", \"\\uba85\", \"\\uba85\", \"\\uba85\", \"\\uba85\", \"\\uba85\", \"\\uba85\", \"\\uba85\", \"\\ubaa8\\ubc14\\uc77c\", \"\\ubaa8\\ubc14\\uc77c\", \"\\ubaa8\\ubc14\\uc77c\", \"\\ubaa8\\uc9d1\", \"\\ubaa8\\uc9d1\", \"\\ubaa9\\ud45c\", \"\\ubaa9\\ud45c\", \"\\ubaa9\\ud45c\", \"\\ubaa9\\ud45c\", \"\\ubaa9\\ud45c\", \"\\ubb34\", \"\\ubb38\", \"\\ubb38\", \"\\ubb38\", \"\\ubb38\\ud559\", \"\\ubb38\\ud559\", \"\\ubb38\\ud559\\uc0c1\", \"\\ubba4\\uc9c0\\uceec\", \"\\ubbf8\\ub514\\uc5b4\", \"\\ubbf8\\uc220\\uad00\", \"\\ubbfc\\uc8fc\", \"\\ubbfc\\uc8fc\", \"\\ubbfc\\uc8fc\", \"\\ubbfc\\uc8fc\", \"\\ubbfc\\uc8fc\", \"\\ubbfc\\uc8fc\", \"\\ubbfc\\uc8fc\", \"\\ubc14\\uc774\\uc624\", \"\\ubc15\", \"\\ubc18\", \"\\ubc18\\ubc1c\", \"\\ubc18\\ubc1c\", \"\\ubc18\\ud658\", \"\\ubc1c\\uac04\", \"\\ubc1c\\uc0dd\", \"\\ubc1c\\uc804\", \"\\ubc1c\\uc804\", \"\\ubc1c\\ud589\", \"\\ubc29\\ubb38\", \"\\ubc29\\ubb38\", \"\\ubc29\\ubb38\", \"\\ubc29\\ubb38\", \"\\ubc29\\ubb38\", \"\\ubc29\\uc5ed\", \"\\ubc29\\ud1b5\\uc704\", \"\\ubc88\", \"\\ubc95\", \"\\ubc95\", \"\\ubc95\", \"\\ubc95\", \"\\ubc95\", \"\\ubc95\\uc6d0\", \"\\ubca0\\ud2b8\\ub0a8\", \"\\ubcc4\\uc138\", \"\\ubcd1\\uc6d0\", \"\\ubcf4\", \"\\ubcf4\", \"\\ubcf4\", \"\\ubcf4\", \"\\ubcf4\", \"\\ubcf4\", \"\\ubcf4\", \"\\ubcf4\\uc548\", \"\\ubcf5\\uadc0\", \"\\ubcf5\\uadc0\", \"\\ubcf5\\uadc0\", \"\\ubcf5\\uadc0\", \"\\ubcf8\\ubd80\", \"\\ubd80\", \"\\ubd80\", \"\\ubd80\\ub3d9\\uc0b0\", \"\\ubd80\\ub3d9\\uc0b0\", \"\\ubd80\\uc0b0\", \"\\ubd84\", \"\\ubd84\\uc11d\", \"\\ubd84\\uc57c\", \"\\ube44\", \"\\ube44\", \"\\ube44\", \"\\ube44\", \"\\ube44\", \"\\ube44\", \"\\ube44\\ub300\", \"\\ube44\\uc815\\uaddc\\uc9c1\", \"\\uc0ac\", \"\\uc0ac\", \"\\uc0ac\", \"\\uc0ac\", \"\\uc0ac\\uace0\", \"\\uc0ac\\ub791\", \"\\uc0ac\\uc2e4\", \"\\uc0ac\\uc2e4\", \"\\uc0ac\\uc5c5\", \"\\uc0ac\\uc5c5\", \"\\uc0ac\\uc7a5\", \"\\uc0ac\\uc7a5\", \"\\uc0ac\\uc7a5\", \"\\uc0ac\\ud68c\", \"\\uc0ac\\ud68c\", \"\\uc0ac\\ud68c\", \"\\uc0bc\\uc131\", \"\\uc0bc\\uc131\", \"\\uc0bc\\uc131\", \"\\uc0bc\\uc131\", \"\\uc0bc\\uc131\", \"\\uc0c1\", \"\\uc0c1\\ubc18\\uae30\", \"\\uc0c1\\uc7a5\", \"\\uc0c1\\ud488\", \"\\uc0c1\\ud488\", \"\\uc0dd\", \"\\uc11c\\uc6b8\", \"\\uc11c\\uc6b8\", \"\\uc11c\\uc6b8\", \"\\uc11c\\uc6b8\\ub300\", \"\\uc11c\\uc6b8\\uc2dc\", \"\\uc11c\\uc6b8\\uc2dc\", \"\\uc120\", \"\\uc120\", \"\\uc120\", \"\\uc120\", \"\\uc120\", \"\\uc120\", \"\\uc120\", \"\\uc120\\ubc1c\", \"\\uc120\\ubc1c\", \"\\uc120\\ubc1c\", \"\\uc120\\uc5b8\", \"\\uc120\\uc5b8\", \"\\uc120\\uc5b8\", \"\\uc120\\uc5b8\", \"\\uc120\\uc5b8\", \"\\uc120\\uc784\", \"\\uc124\\ub9bd\", \"\\uc124\\ub9bd\", \"\\uc124\\uba85\", \"\\uc124\\uce58\", \"\\uc124\\uce58\", \"\\uc12c\", \"\\uc138\\uae30\", \"\\uc138\\uc885\", \"\\uc18c\\ub4dd\", \"\\uc18c\\ubc29\", \"\\uc18c\\uc124\", \"\\uc18c\\uc1a1\", \"\\uc18c\\uc2dd\", \"\\uc190\\ud765\\ubbfc\", \"\\uc190\\ud765\\ubbfc\", \"\\uc218\\ub2a5\", \"\\uc218\\ub3c4\\uad8c\", \"\\uc218\\uc0ac\", \"\\uc218\\uc0c1\", \"\\uc218\\uc0c1\", \"\\uc218\\uc0c1\", \"\\uc218\\uc5c5\", \"\\uc218\\ud5d8\\uc0dd\", \"\\uc2a4\", \"\\uc2a4\\ub9c8\\ud2b8\", \"\\uc2a4\\ub9c8\\ud2b8\", \"\\uc2dc\\uac04\", \"\\uc2dc\\uac04\", \"\\uc2dc\\ub9ac\\uc544\", \"\\uc2dc\\ub9ac\\uc544\", \"\\uc2dc\\uc2a4\\ud15c\", \"\\uc2dc\\uc778\", \"\\uc2dc\\uc791\", \"\\uc2dc\\uc791\", \"\\uc2dc\\uc791\", \"\\uc2e0\\uac04\", \"\\uc2e0\\uac04\", \"\\uc2e0\\uac04\", \"\\uc2e0\\uac04\", \"\\uc2e0\\uace0\", \"\\uc2e0\\uaddc\", \"\\uc2e0\\ubb38\", \"\\uc2e0\\uc784\", \"\\uc2e0\\uc885\", \"\\uc2e0\\uccad\", \"\\uc2e0\\uccad\", \"\\uc2e4\", \"\\uc2e4\", \"\\uc2e4\\uc801\", \"\\uc2e4\\uc801\", \"\\uc2ec\\uc0ac\", \"\\uc544\\uc2dc\\uc548\", \"\\uc544\\uc2dc\\uc548\", \"\\uc544\\uc2dc\\uc548\", \"\\uc544\\ud2b8\", \"\\uc544\\ud30c\\ud2b8\", \"\\uc544\\ud30c\\ud2b8\", \"\\uc548\\uc804\", \"\\uc548\\uc804\", \"\\uc548\\ud0c0\", \"\\uc555\\uc218\\uc218\\uc0c9\", \"\\uc55e\", \"\\uc55e\", \"\\uc591\\uc131\", \"\\uc5b8\\ub860\\uc778\", \"\\uc5c5\\ubb34\", \"\\uc5c5\\ubb34\", \"\\uc5c5\\ubb34\", \"\\uc5ec\\uc790\", \"\\uc5ec\\ud30c\", \"\\uc5ec\\ud589\", \"\\uc5ec\\ud589\", \"\\uc5ec\\ud589\", \"\\uc5ec\\ud589\", \"\\uc5f0\", \"\\uc5f0\", \"\\uc5f0\\uad6c\\uc6d0\", \"\\uc5f0\\uadf9\", \"\\uc5f0\\uadf9\", \"\\uc5f0\\uc7a5\", \"\\uc5f0\\uc7a5\", \"\\uc5f0\\ud734\", \"\\uc601\\uc5c5\", \"\\uc601\\ud654\", \"\\uc608\\ube44\", \"\\uc628\\ub77c\\uc778\", \"\\uc628\\ub77c\\uc778\", \"\\uc628\\ub77c\\uc778\", \"\\uc62c\\ud574\", \"\\uc62c\\ud574\", \"\\uc62c\\ud574\", \"\\uc62c\\ud574\", \"\\uc62c\\ud574\", \"\\uc62c\\ud574\", \"\\uc62c\\ud574\", \"\\uc678\\uad6d\\uc778\", \"\\uc6b4\\uc601\", \"\\uc6b4\\uc601\", \"\\uc6b4\\uc601\", \"\\uc6b4\\uc601\", \"\\uc6d0\\uae08\", \"\\uc6d0\\ub0b4\\ub300\\ud45c\", \"\\uc6d0\\uc7a5\", \"\\uc6d4\\ub4dc\\ucef5\", \"\\uc6d4\\ub4dc\\ucef5\", \"\\uc6d4\\ub4dc\\ucef5\", \"\\uc6d4\\ub4dc\\ucef5\", \"\\uc6d4\\ub4dc\\ucef5\", \"\\uc704\", \"\\uc704\", \"\\uc704\", \"\\uc704\", \"\\uc704\", \"\\uc704\", \"\\uc704\", \"\\uc704\\uc6d0\", \"\\uc704\\uc6d0\\uc7a5\", \"\\uc704\\uc6d0\\uc7a5\", \"\\uc704\\uc6d0\\uc7a5\", \"\\uc704\\uc6d0\\uc7a5\", \"\\uc704\\uc6d0\\uc7a5\", \"\\uc704\\uc6d0\\uc7a5\", \"\\uc704\\uc6d0\\ud68c\", \"\\uc704\\ud5d8\", \"\\uc720\\uac00\", \"\\uc720\\uc740\\ud61c\", \"\\uc720\\ucc29\", \"\\uc720\\ud50c\\ub7ec\\uc2a4\", \"\\uc720\\ud50c\\ub7ec\\uc2a4\", \"\\uc740\", \"\\uc740\\ud589\", \"\\uc740\\ud589\", \"\\uc740\\ud589\", \"\\uc740\\ud589\", \"\\uc758\\ub8cc\", \"\\uc758\\ud639\", \"\\uc758\\ud639\", \"\\uc758\\ud639\", \"\\uc758\\ud639\", \"\\uc774\\ub2dd\", \"\\uc774\\ub2dd\", \"\\uc774\\ub780\", \"\\uc774\\ub780\", \"\\uc774\\ub780\", \"\\uc774\\ub780\", \"\\uc774\\ub780\", \"\\uc774\\uc0ac\\uc7a5\", \"\\uc774\\uc2a4\\ub77c\\uc5d8\", \"\\uc774\\uc2a4\\ub77c\\uc5d8\", \"\\uc774\\uc2a4\\ub77c\\uc5d8\", \"\\uc774\\uc2a4\\ub77c\\uc5d8\", \"\\uc774\\uc57c\\uae30\", \"\\uc774\\uc57c\\uae30\", \"\\uc774\\uc6a9\", \"\\uc774\\uc6a9\", \"\\uc774\\uc775\", \"\\uc774\\uc775\", \"\\uc774\\ud2c0\", \"\\uc775\", \"\\uc778\\uacf5\", \"\\uc778\\uad8c\", \"\\uc778\\uc7ac\", \"\\uc778\\uc815\", \"\\uc77c\\uc790\\ub9ac\", \"\\uc77c\\uc81c\", \"\\uc784\", \"\\uc784\", \"\\uc785\", \"\\uc785\", \"\\uc790\\uc0b0\", \"\\uc791\\uac00\", \"\\uc791\\uac00\", \"\\uc791\\ub144\", \"\\uc791\\ub144\", \"\\uc791\\ub144\", \"\\uc791\\ub144\", \"\\uc791\\ud488\", \"\\uc7a5\", \"\\uc7a5\\uad00\", \"\\uc7a5\\uad00\", \"\\uc7a5\\uad00\", \"\\uc7a5\\uc560\\uc778\", \"\\uc7a5\\ud559\\uae08\", \"\\uc7ac\\ub09c\", \"\\uc7ac\\ub2e8\", \"\\uc7ac\\ud574\", \"\\uc801\\uc6a9\", \"\\uc804\", \"\\uc804\", \"\\uc804\", \"\\uc804\", \"\\uc804\", \"\\uc804\", \"\\uc804\", \"\\uc804\\uad50\\uc870\", \"\\uc804\\uad50\\uc870\", \"\\uc804\\uad6d\", \"\\uc804\\uad6d\", \"\\uc804\\uad6d\", \"\\uc804\\uad6d\", \"\\uc804\\uad6d\", \"\\uc804\\uad6d\", \"\\uc804\\ub2ec\", \"\\uc804\\ubd81\", \"\\uc804\\ubd81\", \"\\uc804\\uc6d0\", \"\\uc804\\uc790\", \"\\uc804\\uc790\", \"\\uc804\\uc790\", \"\\uc808\\ubc18\", \"\\uc815\\ubd80\", \"\\uc815\\ubd80\", \"\\uc815\\ubd80\", \"\\uc815\\ubd80\", \"\\uc815\\ubd80\", \"\\uc815\\ubd80\", \"\\uc815\\uc0c1\", \"\\uc815\\uc0c1\", \"\\uc815\\uc0c1\\ud68c\\ub2f4\", \"\\uc815\\uc0c1\\ud68c\\ub2f4\", \"\\uc815\\uce58\", \"\\uc815\\uce58\", \"\\uc81c\\uc791\", \"\\uc81c\\uc8fc\", \"\\uc81c\\uc8fc\", \"\\uc81c\\uc8fc\", \"\\uc81c\\uc8fc\", \"\\uc870\\uc120\", \"\\uc870\\uc131\", \"\\uc870\\uc131\", \"\\uc885\", \"\\uc885\", \"\\uc885\\ud569\", \"\\uc885\\ud569\", \"\\uc885\\ud569\", \"\\uc885\\ud569\", \"\\uc885\\ud569\", \"\\uc885\\ud569\", \"\\uc885\\ud569\", \"\\uc8fc\", \"\\uc8fc\", \"\\uc8fc\", \"\\uc8fc\", \"\\uc8fc\\uac00\", \"\\uc8fc\\uac00\", \"\\uc8fc\\ub9d0\", \"\\uc8fc\\ub9d0\", \"\\uc8fc\\ub9d0\", \"\\uc8fc\\ub9d0\", \"\\uc8fc\\ub9d0\", \"\\uc8fc\\ubbfc\", \"\\uc8fc\\uc2dd\", \"\\uc8fc\\uc2dd\", \"\\uc8fc\\uc2dd\", \"\\uc8fc\\uc2dd\", \"\\uc904\", \"\\uc911\", \"\\uc911\", \"\\uc911\", \"\\uc911\", \"\\uc911\", \"\\uc911\", \"\\uc911\", \"\\uc911\\uacf5\\uc5c5\", \"\\uc99d\\uac00\", \"\\uc99d\\uac00\", \"\\uc99d\\uac00\", \"\\uc99d\\uad8c\", \"\\uc99d\\uad8c\", \"\\uc99d\\uad8c\", \"\\uc99d\\uc2dc\", \"\\uc9c0\\uae09\", \"\\uc9c0\\ub2a5\", \"\\uc9c0\\ub2a5\", \"\\uc9c0\\uc218\", \"\\uc9c0\\uc5ed\", \"\\uc9c0\\uc5ed\", \"\\uc9c0\\uc5ed\", \"\\uc9c0\\uc5ed\", \"\\uc9c0\\uc6d0\", \"\\uc9c0\\uc6d0\", \"\\uc9c0\\uc6d0\", \"\\uc9c0\\uc6d0\", \"\\uc9c0\\uc6d0\", \"\\uc9c0\\uc6d0\", \"\\uc9c0\\uc6d0\", \"\\uc9c0\\uc815\", \"\\uc9c1\\uc5c5\", \"\\uc9c1\\uc6d0\", \"\\uc9c1\\uc6d0\", \"\\uc9c1\\uc6d0\", \"\\uc9c1\\uc6d0\", \"\\uc9c1\\uc811\", \"\\uc9d1\", \"\\uc9d1\", \"\\uc9d1\\ub2e8\", \"\\ucc28\\uad00\", \"\\ucc28\\uad00\", \"\\ucc44\", \"\\ucc44\", \"\\ucc44\\ub110\", \"\\ucc98\\ubc8c\", \"\\uccab\", \"\\uccab\", \"\\uccab\", \"\\uccab\", \"\\uccab\", \"\\uccab\", \"\\uccab\", \"\\uccad\\uc18c\\ub144\", \"\\uccad\\uc57d\", \"\\uccad\\uc8fc\", \"\\ucd08\", \"\\ucd08\", \"\\ucd08\", \"\\ucd08\\ub4f1\", \"\\ucd08\\ub4f1\", \"\\ucd1d\\ub9ac\", \"\\ucd1d\\ub9ac\", \"\\ucd1d\\ub9ac\", \"\\ucd1d\\ub9ac\", \"\\ucd1d\\ub9ac\", \"\\ucd1d\\ub9ac\", \"\\ucd1d\\uc7a5\", \"\\ucd1d\\uc7a5\", \"\\ucd1d\\uc7a5\", \"\\ucd1d\\ud30c\\uc5c5\", \"\\ucd5c\", \"\\ucd5c\", \"\\ucd5c\", \"\\ucd5c\", \"\\ucd5c\", \"\\ucd5c\", \"\\ucd5c\\uc800\", \"\\ucd5c\\uc800\", \"\\ucd5c\\uc800\", \"\\ucd5c\\uc800\\uc784\\uae08\", \"\\ucd94\\uc11d\", \"\\ucd94\\uc774\", \"\\ucd94\\ucc9c\", \"\\ucd95\\uad6c\", \"\\ucd95\\uad6c\", \"\\ucd95\\uad6c\", \"\\ucd95\\uad6c\", \"\\ucd95\\uad6c\", \"\\ucd95\\uc81c\", \"\\ucd95\\uc81c\", \"\\ucd95\\uc81c\", \"\\ucd95\\uc81c\", \"\\ucd95\\uc81c\", \"\\ucd9c\\ubc1c\", \"\\ucd9c\\ubc94\", \"\\ucd9c\\uc2dc\", \"\\ucd9c\\uc2dc\", \"\\ucd9c\\uc2dc\", \"\\ucd9c\\uc2dc\", \"\\ucd9c\\uc2dc\", \"\\ucda9\\ub0a8\", \"\\ucda9\\ubd81\", \"\\ucda9\\ubd81\", \"\\ucde8\\ub4dd\", \"\\ucde8\\uc5c5\", \"\\uce74\\uba54\\ub77c\", \"\\uce74\\uce74\\uc624\", \"\\uce74\\uce74\\uc624\", \"\\uce74\\uce74\\uc624\", \"\\ucf54\", \"\\ucf54\\ub85c\\ub098\", \"\\ucf54\\ub85c\\ub098\", \"\\ucf54\\ub85c\\ub098\", \"\\ucf54\\ub85c\\ub098\", \"\\ucf54\\ub85c\\ub098\", \"\\ucf54\\ub85c\\ub098\", \"\\ucf54\\ub85c\\ub098\", \"\\ucf54\\uc2a4\\ud53c\", \"\\ucf54\\uc2a4\\ud53c\", \"\\ucf54\\uc2a4\\ud53c\", \"\\ucf54\\uce58\", \"\\ud130\\ud0a4\", \"\\ud130\\ud0a4\", \"\\ud14c\\ud06c\", \"\\ud22c\\uc790\", \"\\ud22c\\uc790\", \"\\ud22c\\uc790\", \"\\ud22c\\uc790\", \"\\ud2b8\\ub7fc\\ud504\", \"\\ud2b8\\ub7fc\\ud504\", \"\\ud2b8\\ub7fc\\ud504\", \"\\ud2b8\\ub7fc\\ud504\", \"\\ud2b8\\ub7fc\\ud504\", \"\\ud2b8\\ub7fc\\ud504\", \"\\ud2b8\\ub7fc\\ud504\", \"\\ud2b9\\ubcc4\", \"\\ud2b9\\ubcc4\", \"\\ud2b9\\ubcc4\", \"\\ud2b9\\uc218\", \"\\ud2b9\\uc9d5\", \"\\ud2b9\\uc9d5\", \"\\ud30c\\uc5c5\", \"\\ud380\\ub4dc\", \"\\ud380\\ub4dc\", \"\\ud380\\ub4dc\", \"\\ud3b8\", \"\\ud3c9\\uc591\", \"\\ud3c9\\uc591\", \"\\ud3c9\\uc591\", \"\\ud3c9\\ud654\", \"\\ud3c9\\ud654\", \"\\ud3c9\\ud654\", \"\\ud3d0\\uc1c4\", \"\\ud3d0\\uc9c0\", \"\\ud504\\ub85c\\ub18d\\uad6c\", \"\\ud504\\ub85c\\ub18d\\uad6c\", \"\\ud504\\ub85c\\ub18d\\uad6c\", \"\\ud558\\ub77d\", \"\\ud558\\ub77d\", \"\\ud558\\ub77d\", \"\\ud558\\ub77d\", \"\\ud559\\uad50\", \"\\ud559\\uad50\", \"\\ud559\\uc0dd\", \"\\ud559\\uc0dd\", \"\\ud559\\uc0dd\", \"\\ud559\\uc6d0\", \"\\ud55c\\uad6d\", \"\\ud55c\\uad6d\", \"\\ud55c\\uad6d\", \"\\ud55c\\uad6d\", \"\\ud55c\\uad6d\", \"\\ud55c\\uad6d\", \"\\ud55c\\uad6d\", \"\\ud569\\ub958\", \"\\ud569\\uc758\", \"\\ud569\\uc758\", \"\\ud569\\uc758\", \"\\ud56d\", \"\\ud574\\uace0\", \"\\ud574\\uc678\", \"\\ud574\\uc678\", \"\\ud574\\uc678\", \"\\ud574\\uc81c\", \"\\ud589\\uc9c4\", \"\\ud5a5\", \"\\ud5a5\", \"\\ud604\\ub300\", \"\\ud604\\ub300\", \"\\ud604\\ub300\", \"\\ud604\\ub300\", \"\\ud604\\uc2e4\", \"\\ud604\\ud669\", \"\\ud611\\ub825\", \"\\ud611\\ub825\", \"\\ud611\\ub825\", \"\\ud611\\ub825\", \"\\ud611\\ud68c\", \"\\ud611\\ud68c\", \"\\ud638\\ub0a8\\uad8c\", \"\\ud648\\ub7f0\", \"\\ud648\\ub7f0\", \"\\ud64d\", \"\\ud654\\ud559\", \"\\ud655\\ub300\", \"\\ud655\\ub300\", \"\\ud655\\ub300\", \"\\ud655\\ub300\", \"\\ud655\\uc0b0\", \"\\ud655\\uc0b0\", \"\\ud655\\uc9c4\", \"\\ud655\\uc9c4\", \"\\ud655\\uc9c4\", \"\\ud655\\uc9c4\", \"\\ud658\\uacbd\", \"\\ud658\\uc728\", \"\\ud658\\uc790\", \"\\ud68c\", \"\\ud68c\", \"\\ud68c\", \"\\ud68c\", \"\\ud68c\\ubcf5\", \"\\ud68c\\ubcf5\", \"\\ud68c\\ubcf5\", \"\\ud68c\\ubcf5\", \"\\ud68c\\ubcf5\", \"\\ud6a8\\uacfc\", \"\\ud6a8\\uacfc\", \"\\ud6c4\\ubcf4\", \"\\ud6c4\\ubcf4\", \"\\ud6c4\\ubcf4\", \"\\ud6c4\\ubcf4\", \"\\ud6c4\\ubcf4\", \"\\ud6c4\\ubcf4\"]}, \"R\": 30, \"lambda.step\": 0.01, \"plot.opts\": {\"xlab\": \"PC1\", \"ylab\": \"PC2\"}, \"topic.order\": [1, 6, 3, 4, 5, 7, 2]};\n",
       "\n",
       "function LDAvis_load_lib(url, callback){\n",
       "  var s = document.createElement('script');\n",
       "  s.src = url;\n",
       "  s.async = true;\n",
       "  s.onreadystatechange = s.onload = callback;\n",
       "  s.onerror = function(){console.warn(\"failed to load library \" + url);};\n",
       "  document.getElementsByTagName(\"head\")[0].appendChild(s);\n",
       "}\n",
       "\n",
       "if(typeof(LDAvis) !== \"undefined\"){\n",
       "   // already loaded: just create the visualization\n",
       "   !function(LDAvis){\n",
       "       new LDAvis(\"#\" + \"ldavis_el2918418920013485122854053263\", ldavis_el2918418920013485122854053263_data);\n",
       "   }(LDAvis);\n",
       "}else if(typeof define === \"function\" && define.amd){\n",
       "   // require.js is available: use it to load d3/LDAvis\n",
       "   require.config({paths: {d3: \"https://d3js.org/d3.v5\"}});\n",
       "   require([\"d3\"], function(d3){\n",
       "      window.d3 = d3;\n",
       "      LDAvis_load_lib(\"https://cdn.jsdelivr.net/gh/bmabey/pyLDAvis@3.3.1/pyLDAvis/js/ldavis.v3.0.0.js\", function(){\n",
       "        new LDAvis(\"#\" + \"ldavis_el2918418920013485122854053263\", ldavis_el2918418920013485122854053263_data);\n",
       "      });\n",
       "    });\n",
       "}else{\n",
       "    // require.js not available: dynamically load d3 & LDAvis\n",
       "    LDAvis_load_lib(\"https://d3js.org/d3.v5.js\", function(){\n",
       "         LDAvis_load_lib(\"https://cdn.jsdelivr.net/gh/bmabey/pyLDAvis@3.3.1/pyLDAvis/js/ldavis.v3.0.0.js\", function(){\n",
       "                 new LDAvis(\"#\" + \"ldavis_el2918418920013485122854053263\", ldavis_el2918418920013485122854053263_data);\n",
       "            })\n",
       "         });\n",
       "}\n",
       "</script>"
      ],
      "text/plain": [
       "<IPython.core.display.HTML object>"
      ]
     },
     "execution_count": 63,
     "metadata": {},
     "output_type": "execute_result"
    }
   ],
   "source": [
    "pyLDAvis.enable_notebook()\n",
    "vis = pyLDAvis.gensim_models.prepare(ldamodel, corpus, dictionary)\n",
    "pyLDAvis.display(vis)"
   ]
  },
  {
   "cell_type": "code",
   "execution_count": 64,
   "id": "a214a460",
   "metadata": {},
   "outputs": [],
   "source": [
    "pyLDAvis.save_html(vis,'dataset/lda.html')"
   ]
  },
  {
   "cell_type": "code",
   "execution_count": 68,
   "id": "d2fb0329",
   "metadata": {},
   "outputs": [
    {
     "name": "stdout",
     "output_type": "stream",
     "text": [
      "\n",
      "Coherence Score:  0.39529890371647447\n"
     ]
    }
   ],
   "source": [
    "from gensim.models import CoherenceModel\n",
    "# Compute Coherence Score\n",
    "coherence_model_lda = CoherenceModel(model=ldamodel,texts=nouns_list, dictionary=dictionary, coherence='c_v')\n",
    "coherence_lda = coherence_model_lda.get_coherence()\n",
    "print('\\nCoherence Score: ', coherence_lda)"
   ]
  }
 ],
 "metadata": {
  "kernelspec": {
   "display_name": "Python 3 (ipykernel)",
   "language": "python",
   "name": "python3"
  },
  "language_info": {
   "codemirror_mode": {
    "name": "ipython",
    "version": 3
   },
   "file_extension": ".py",
   "mimetype": "text/x-python",
   "name": "python",
   "nbconvert_exporter": "python",
   "pygments_lexer": "ipython3",
   "version": "3.9.7"
  }
 },
 "nbformat": 4,
 "nbformat_minor": 5
}
