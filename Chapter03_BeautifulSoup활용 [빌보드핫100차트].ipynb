{
 "cells": [
  {
   "cell_type": "markdown",
   "id": "cd6ef74a",
   "metadata": {},
   "source": [
    "# BeautifulSoup 활용 웹 크롤링\n"
   ]
  },
  {
   "cell_type": "code",
   "execution_count": 6,
   "id": "9d4cd8a7",
   "metadata": {},
   "outputs": [],
   "source": [
    "# 라이브러리 불러오기\n",
    "from bs4 import BeautifulSoup \n",
    "import requests"
   ]
  },
  {
   "cell_type": "code",
   "execution_count": null,
   "id": "75b85009",
   "metadata": {},
   "outputs": [],
   "source": [
    "# requests 설치\n",
    "! pip install requests"
   ]
  },
  {
   "cell_type": "code",
   "execution_count": null,
   "id": "83634a0c",
   "metadata": {},
   "outputs": [],
   "source": [
    "# bs4 설치\n",
    "! pip install bs4"
   ]
  },
  {
   "cell_type": "code",
   "execution_count": 8,
   "id": "e3f77453",
   "metadata": {},
   "outputs": [],
   "source": [
    "# url안에 html 가져오기\n",
    "r = requests.get('https://www.naver.com/')"
   ]
  },
  {
   "cell_type": "code",
   "execution_count": 11,
   "id": "e322700d",
   "metadata": {},
   "outputs": [],
   "source": [
    "# text를 html 포멧에 맞게 변경\n",
    "soup = BeautifulSoup(r.text, 'html.parser')"
   ]
  },
  {
   "cell_type": "markdown",
   "id": "03895b34",
   "metadata": {},
   "source": [
    "# 1. 특정 태그 찾기"
   ]
  },
  {
   "cell_type": "code",
   "execution_count": 12,
   "id": "ae339a33",
   "metadata": {},
   "outputs": [
    {
     "data": {
      "text/plain": [
       "<a href=\"#newsstand\"><span>뉴스스탠드 바로가기</span></a>"
      ]
     },
     "execution_count": 12,
     "metadata": {},
     "output_type": "execute_result"
    }
   ],
   "source": [
    "soup.find(\"a\")"
   ]
  },
  {
   "cell_type": "code",
   "execution_count": 13,
   "id": "c6c5f685",
   "metadata": {},
   "outputs": [
    {
     "data": {
      "text/plain": [
       "<div id=\"u_skip\"> <a href=\"#newsstand\"><span>뉴스스탠드 바로가기</span></a> <a href=\"#themecast\"><span>주제별캐스트 바로가기</span></a> <a href=\"#timesquare\"><span>타임스퀘어 바로가기</span></a> <a href=\"#shopcast\"><span>쇼핑캐스트 바로가기</span></a> <a href=\"#account\"><span>로그인 바로가기</span></a> </div>"
      ]
     },
     "execution_count": 13,
     "metadata": {},
     "output_type": "execute_result"
    }
   ],
   "source": [
    "soup.find(\"div\")"
   ]
  },
  {
   "cell_type": "code",
   "execution_count": 15,
   "id": "fcb8e0de",
   "metadata": {},
   "outputs": [
    {
     "data": {
      "text/plain": [
       "<span>뉴스스탠드 바로가기</span>"
      ]
     },
     "execution_count": 15,
     "metadata": {},
     "output_type": "execute_result"
    }
   ],
   "source": [
    "soup.find(\"span\")"
   ]
  },
  {
   "cell_type": "code",
   "execution_count": 17,
   "id": "33f1cdcf",
   "metadata": {},
   "outputs": [
    {
     "data": {
      "text/plain": [
       "<a href=\"#newsstand\"><span>뉴스스탠드 바로가기</span></a>"
      ]
     },
     "execution_count": 17,
     "metadata": {},
     "output_type": "execute_result"
    }
   ],
   "source": [
    "soup.find_all(\"a\")[0]"
   ]
  },
  {
   "cell_type": "code",
   "execution_count": 18,
   "id": "f54d30a7",
   "metadata": {},
   "outputs": [
    {
     "data": {
      "text/plain": [
       "<a href=\"#newsstand\"><span>뉴스스탠드 바로가기</span></a>"
      ]
     },
     "execution_count": 18,
     "metadata": {},
     "output_type": "execute_result"
    }
   ],
   "source": [
    "soup.select_one(\"a\")"
   ]
  },
  {
   "cell_type": "code",
   "execution_count": 20,
   "id": "0aae6b0e",
   "metadata": {},
   "outputs": [
    {
     "data": {
      "text/plain": [
       "<a href=\"#newsstand\"><span>뉴스스탠드 바로가기</span></a>"
      ]
     },
     "execution_count": 20,
     "metadata": {},
     "output_type": "execute_result"
    }
   ],
   "source": [
    "soup.select(\"a\")[0]"
   ]
  },
  {
   "cell_type": "markdown",
   "id": "95b955ea",
   "metadata": {},
   "source": [
    "# 2. 특정 속성을 갖는 태그 정보 찾기"
   ]
  },
  {
   "cell_type": "code",
   "execution_count": 21,
   "id": "cfae8a51",
   "metadata": {},
   "outputs": [
    {
     "data": {
      "text/plain": [
       "<div class=\"group_nav\">\n",
       "<ul class=\"list_nav type_fix\">\n",
       "<li class=\"nav_item\">\n",
       "<a class=\"nav\" data-clk=\"svc.mail\" href=\"https://mail.naver.com/\"><i class=\"ico_mail\"></i>메일</a>\n",
       "</li>\n",
       "<li class=\"nav_item\"><a class=\"nav\" data-clk=\"svc.cafe\" href=\"https://section.cafe.naver.com/\">카페</a></li>\n",
       "<li class=\"nav_item\"><a class=\"nav\" data-clk=\"svc.blog\" href=\"https://section.blog.naver.com/\">블로그</a></li>\n",
       "<li class=\"nav_item\"><a class=\"nav\" data-clk=\"svc.kin\" href=\"https://kin.naver.com/\">지식iN</a></li>\n",
       "<li class=\"nav_item\"><a class=\"nav shop\" data-clk=\"svc.shopping\" href=\"https://shopping.naver.com/\"><span class=\"blind\">쇼핑</span></a></li>\n",
       "<li class=\"nav_item\"><a class=\"nav shoplive\" data-clk=\"svc.shoppinglive\" href=\"https://shoppinglive.naver.com/home\"><span class=\"blind\">쇼핑LIVE</span></a></li>\n",
       "<li class=\"nav_item\"><a class=\"nav\" data-clk=\"svc.pay\" href=\"https://order.pay.naver.com/home\">Pay</a></li>\n",
       "<li class=\"nav_item\">\n",
       "<a class=\"nav\" data-clk=\"svc.tvcast\" href=\"https://tv.naver.com/\"><i class=\"ico_tv\"></i>TV</a>\n",
       "</li>\n",
       "</ul>\n",
       "<ul class=\"list_nav NM_FAVORITE_LIST\">\n",
       "<li class=\"nav_item\"><a class=\"nav\" data-clk=\"svc.dic\" href=\"https://dict.naver.com/\">사전</a></li>\n",
       "<li class=\"nav_item\"><a class=\"nav\" data-clk=\"svc.news\" href=\"https://news.naver.com/\">뉴스</a></li>\n",
       "<li class=\"nav_item\"><a class=\"nav\" data-clk=\"svc.stock\" href=\"https://finance.naver.com/\">증권</a></li>\n",
       "<li class=\"nav_item\"><a class=\"nav\" data-clk=\"svc.land\" href=\"https://land.naver.com/\">부동산</a></li>\n",
       "<li class=\"nav_item\"><a class=\"nav\" data-clk=\"svc.map\" href=\"https://map.naver.com/\">지도</a></li>\n",
       "<li class=\"nav_item\"><a class=\"nav\" data-clk=\"svc.vibe\" href=\"https://vibe.naver.com/\">VIBE</a></li>\n",
       "<li class=\"nav_item\"><a class=\"nav\" data-clk=\"svc.book\" href=\"https://book.naver.com/\">책</a></li>\n",
       "<li class=\"nav_item\"><a class=\"nav\" data-clk=\"svc.webtoon\" href=\"https://comic.naver.com/\">웹툰</a></li>\n",
       "</ul>\n",
       "<ul class=\"list_nav type_empty\" style=\"display: none;\"></ul>\n",
       "<a class=\"btn_more\" data-clk=\"svc.more\" href=\"#\" role=\"button\">더보기</a>\n",
       "<div class=\"ly_btn_area\">\n",
       "<a class=\"btn NM_FAVORITE_ALL\" data-clk=\"map.svcmore\" href=\"more.html\">서비스 전체보기</a>\n",
       "<a class=\"btn btn_set\" data-clk=\"map.edit\" href=\"#\" role=\"button\">메뉴설정</a>\n",
       "<a class=\"btn btn_reset\" data-clk=\"edt.reset\" href=\"#\" role=\"button\">초기화</a>\n",
       "<a class=\"btn btn_save\" data-clk=\"edt.save\" href=\"#\" role=\"button\">저장</a>\n",
       "</div>\n",
       "</div>"
      ]
     },
     "execution_count": 21,
     "metadata": {},
     "output_type": "execute_result"
    }
   ],
   "source": [
    "soup.find(\"div\",\"group_nav\")"
   ]
  },
  {
   "cell_type": "code",
   "execution_count": 22,
   "id": "3cf79bea",
   "metadata": {},
   "outputs": [
    {
     "data": {
      "text/plain": [
       "<a class=\"btn_keyboard\" href=\"#\" id=\"ke_kbd_btn\" onclick=\"return false;\" role=\"button\"><span class=\"blind\">한글 입력기</span><span class=\"ico_keyboard\"></span></a>"
      ]
     },
     "execution_count": 22,
     "metadata": {},
     "output_type": "execute_result"
    }
   ],
   "source": [
    "soup.find(\"a\", href=\"#\")"
   ]
  },
  {
   "cell_type": "markdown",
   "id": "55a925ed",
   "metadata": {},
   "source": [
    "# 3. 찾은 태그의 텍스트값 가져오기"
   ]
  },
  {
   "cell_type": "code",
   "execution_count": 27,
   "id": "c5ad02ef",
   "metadata": {},
   "outputs": [
    {
     "data": {
      "text/plain": [
       "<div id=\"u_skip\"> <a href=\"#newsstand\"><span>뉴스스탠드 바로가기</span></a> <a href=\"#themecast\"><span>주제별캐스트 바로가기</span></a> <a href=\"#timesquare\"><span>타임스퀘어 바로가기</span></a> <a href=\"#shopcast\"><span>쇼핑캐스트 바로가기</span></a> <a href=\"#account\"><span>로그인 바로가기</span></a> </div>"
      ]
     },
     "execution_count": 27,
     "metadata": {},
     "output_type": "execute_result"
    }
   ],
   "source": [
    "soup.find(\"div\")"
   ]
  },
  {
   "cell_type": "code",
   "execution_count": 26,
   "id": "ae806bea",
   "metadata": {},
   "outputs": [
    {
     "data": {
      "text/plain": [
       "' 뉴스스탠드 바로가기 주제별캐스트 바로가기 타임스퀘어 바로가기 쇼핑캐스트 바로가기 로그인 바로가기 '"
      ]
     },
     "execution_count": 26,
     "metadata": {},
     "output_type": "execute_result"
    }
   ],
   "source": [
    "soup.find(\"div\").text"
   ]
  },
  {
   "cell_type": "markdown",
   "id": "a2ce7f75",
   "metadata": {},
   "source": [
    "# 4. 찾은 태그의 속성값 가져오기"
   ]
  },
  {
   "cell_type": "code",
   "execution_count": 30,
   "id": "f0a5be76",
   "metadata": {},
   "outputs": [
    {
     "data": {
      "text/plain": [
       "<a href=\"#newsstand\"><span>뉴스스탠드 바로가기</span></a>"
      ]
     },
     "execution_count": 30,
     "metadata": {},
     "output_type": "execute_result"
    }
   ],
   "source": [
    "soup.find(\"a\")"
   ]
  },
  {
   "cell_type": "code",
   "execution_count": 29,
   "id": "19c6db48",
   "metadata": {},
   "outputs": [
    {
     "data": {
      "text/plain": [
       "'#newsstand'"
      ]
     },
     "execution_count": 29,
     "metadata": {},
     "output_type": "execute_result"
    }
   ],
   "source": [
    "soup.find(\"a\")['href']"
   ]
  },
  {
   "cell_type": "markdown",
   "id": "7bfcd455",
   "metadata": {},
   "source": [
    "# 실습: 빌보드 핫100 차트"
   ]
  },
  {
   "cell_type": "code",
   "execution_count": 77,
   "id": "b599f7fd",
   "metadata": {},
   "outputs": [],
   "source": [
    "r = requests.get('https://www.billboard.com/charts/hot-100/')\n",
    "soup = BeautifulSoup(r.text, 'html.parser')"
   ]
  },
  {
   "cell_type": "code",
   "execution_count": 78,
   "id": "eb4a0cbb",
   "metadata": {},
   "outputs": [],
   "source": [
    "# 빌보드 차트를 포함하는 div 태크만 chart_list에 저장\n",
    "chart_list = soup.find(\"div\",'chart-results-list')"
   ]
  },
  {
   "cell_type": "code",
   "execution_count": 90,
   "id": "4b228eaa",
   "metadata": {},
   "outputs": [
    {
     "data": {
      "text/plain": [
       "<ul class=\"o-chart-results-list-row // lrv-a-unstyle-list lrv-u-flex u-height-200 u-height-100@mobile-max u-height-100@tablet-only lrv-u-background-color-white a-chart-has-chart-detail\" data-ajax=\"\" data-detail-target=\"1\">\n",
       "<li class=\"o-chart-results-list__item // lrv-u-background-color-black lrv-u-color-white u-width-100 u-width-55@mobile-max u-width-55@tablet-only lrv-u-height-100p lrv-u-flex lrv-u-flex-direction-column@mobile-max lrv-u-flex-shrink-0 lrv-u-align-items-center lrv-u-justify-content-center lrv-u-border-b-1 u-border-b-0@mobile-max lrv-u-border-color-grey\">\n",
       "<span class=\"c-label a-font-primary-bold-l u-font-size-32@tablet u-letter-spacing-0080@tablet\">\n",
       "1\n",
       "</span>\n",
       "<div class=\"c-svg u-height-10@mobile-max u-width-10@mobile-max u-hidden@tablet\">\n",
       "<svg height=\"10.157\" width=\"10.157\" xmlns=\"http://www.w3.org/2000/svg\"><path d=\"M7.727 5.732H0V4.426h7.727L4.322.923 5.219 0l4.938 5.079-4.938 5.079-.9-.923z\" data-name=\"Arrow\" fill=\"#8289a1\"></path></svg></div>\n",
       "</li>\n",
       "<li class=\"o-chart-results-list__item // u-width-200 u-width-100@tablet-only u-width-67@mobile-max lrv-u-border-b-1 u-border-b-0@mobile-max lrv-u-border-color-grey u-flex-order-n1@mobile-max\">\n",
       "<div class=\"c-lazy-image lrv-u-width-200 u-width-67@mobile-max u-width-100@tablet-only\">\n",
       "<div class=\"lrv-a-crop-1x1 a-crop-67x100@mobile-max\" style=\"\">\n",
       "<img alt=\"\" class=\"c-lazy-image__img lrv-u-background-color-grey-lightest lrv-u-width-100p lrv-u-display-block lrv-u-height-auto\" data-lazy-sizes=\"\" data-lazy-src=\"https://charts-static.billboard.com/img/2021/12/carolina-gaitan-000-we-dont-talk-about-bruno-d0v-180x180.jpg\" data-lazy-srcset=\"\" height=\"\" src=\"https://www.billboard.com/wp-content/themes/vip/pmc-billboard-2021/assets/public/lazyload-fallback.gif\" width=\"\"/>\n",
       "</div>\n",
       "</div>\n",
       "</li>\n",
       "<li class=\"o-chart-results-list__item // lrv-u-flex u-flex-grow-1@mobile-max lrv-u-flex-shrink-0 lrv-u-align-items-center lrv-u-justify-content-center u-width-60 lrv-u-border-b-1 u-border-b-0@mobile-max lrv-u-border-color-grey-light u-hidden@mobile-max\">\n",
       "<div class=\"c-svg u-height-26 u-width-26\">\n",
       "<svg style=\"width:100%;height:auto\" viewbox=\"0 0 26.191 26.191\" xmlns=\"http://www.w3.org/2000/svg\"><g data-name=\"Group 3\" transform=\"translate(-626 -1915)\"><circle cx=\"13.095\" cy=\"13.095\" data-name=\"Ellipse 494\" fill=\"#8289a1\" r=\"13.095\" transform=\"translate(626 1915)\"></circle><path d=\"M642.771 1928.989h-10.77v-1.82h10.77l-4.746-4.882 1.251-1.287 6.882 7.079-6.882 7.079-1.251-1.288z\" fill=\"#fff\"></path></g></svg></div>\n",
       "</li>\n",
       "<li class=\"lrv-u-width-100p\">\n",
       "<ul class=\"lrv-a-unstyle-list lrv-u-flex lrv-u-height-100p lrv-u-flex-direction-column@mobile-max\">\n",
       "<li class=\"o-chart-results-list__item // lrv-u-flex-grow-1 lrv-u-flex lrv-u-flex-direction-column lrv-u-justify-content-center lrv-u-border-b-1 u-border-b-0@mobile-max lrv-u-border-color-grey-light lrv-u-padding-l-1@mobile-max\">\n",
       "<h3 class=\"c-title a-no-trucate a-font-primary-bold-s u-letter-spacing-0021 u-font-size-23@tablet lrv-u-font-size-16 u-line-height-125 u-line-height-normal@mobile-max a-truncate-ellipsis u-max-width-245 u-max-width-230@tablet-only u-letter-spacing-0028@tablet\" id=\"title-of-a-story\">\n",
       "We Don't Talk About Bruno\n",
       "</h3>\n",
       "<span class=\"c-label a-no-trucate a-font-primary-s lrv-u-font-size-14@mobile-max u-line-height-normal@mobile-max u-letter-spacing-0021 lrv-u-display-block a-truncate-ellipsis-2line u-max-width-330 u-max-width-230@tablet-only u-font-size-20@tablet\">\n",
       "Carolina Gaitan, Mauro Castillo, Adassa, Rhenzy Feliz, Diane Guerrero, Stephanie Beatriz &amp; Encanto Cast\n",
       "</span>\n",
       "</li>\n",
       "<li class=\"o-chart-results-list__item // u-width-66 u-width-30@mobile-max u-width-55@tablet-only lrv-u-flex lrv-u-flex-shrink-0 lrv-u-align-items-center lrv-u-justify-content-center lrv-u-border-b-1 u-border-b-0@mobile-max lrv-u-border-color-grey-light lrv-u-order-100@mobile-max u-hidden@mobile-max\">\n",
       "<div class=\"a-chart-plus-minus-icon\"></div>\n",
       "</li>\n",
       "<li class=\"o-chart-results-list__item // a-chart-bg-color a-chart-color u-width-72 u-width-55@mobile-max u-width-55@tablet-only lrv-u-flex lrv-u-flex-shrink-0 lrv-u-align-items-center lrv-u-justify-content-center lrv-u-background-color-grey-lightest lrv-u-border-b-1 u-border-b-0@mobile-max lrv-u-border-color-grey-light u-hidden@mobile-max\">\n",
       "</li>\n",
       "<li class=\"o-chart-results-list__item // a-chart-color u-width-72 u-width-55@mobile-max u-width-55@tablet-only lrv-u-flex lrv-u-flex-shrink-0 lrv-u-align-items-center lrv-u-justify-content-center lrv-u-border-b-1 u-border-b-0@mobile-max lrv-u-border-color-grey-light u-background-color-white-064@mobile-max u-hidden@mobile-max\">\n",
       "<span class=\"c-label a-font-primary-bold-l a-font-primary-m@mobile-max u-font-weight-normal@mobile-max lrv-u-padding-tb-050@mobile-max u-font-size-32@tablet\">\n",
       "1\n",
       "</span>\n",
       "</li>\n",
       "<li class=\"o-chart-results-list__item // a-chart-bg-color a-chart-color u-width-72 u-width-55@mobile-max u-width-55@tablet-only lrv-u-flex lrv-u-flex-shrink-0 lrv-u-align-items-center lrv-u-justify-content-center lrv-u-background-color-grey-lightest lrv-u-border-b-1 u-border-b-0@mobile-max lrv-u-border-color-grey-light u-hidden@mobile-max\">\n",
       "<span class=\"c-label a-font-primary-bold-l a-font-primary-m@mobile-max u-font-weight-normal@mobile-max lrv-u-padding-tb-050@mobile-max u-font-size-32@tablet\">\n",
       "1\n",
       "</span>\n",
       "</li>\n",
       "<li class=\"o-chart-results-list__item // a-chart-color u-width-72 u-width-55@mobile-max u-width-55@tablet-only lrv-u-flex lrv-u-flex-shrink-0 lrv-u-align-items-center lrv-u-justify-content-center lrv-u-border-b-1 u-border-b-0@mobile-max lrv-u-border-color-grey-light u-background-color-white-064@mobile-max u-hidden@mobile-max\">\n",
       "<span class=\"c-label a-font-primary-bold-l a-font-primary-m@mobile-max u-font-weight-normal@mobile-max lrv-u-padding-tb-050@mobile-max u-font-size-32@tablet\">\n",
       "9\n",
       "</span>\n",
       "</li>\n",
       "<li class=\"lrv-u-width-100p u-hidden@tablet\">\n",
       "<ul class=\"lrv-a-unstyle-list lrv-u-flex lrv-u-height-100p lrv-u-flex-direction-row u-background-color-grey-lightest@mobile-max\">\n",
       "<li class=\"o-chart-results-list__item // u-width-66 u-width-30@mobile-max u-width-55@tablet-only lrv-u-flex lrv-u-flex-shrink-0 lrv-u-align-items-center lrv-u-justify-content-center lrv-u-border-b-1 u-border-b-0@mobile-max lrv-u-border-color-grey-light lrv-u-order-100@mobile-max\">\n",
       "<div class=\"a-chart-plus-minus-icon\"></div>\n",
       "</li>\n",
       "<li class=\"o-chart-results-list__item // a-chart-bg-color a-chart-color u-width-72 u-width-55@mobile-max u-width-55@tablet-only lrv-u-flex lrv-u-flex-shrink-0 lrv-u-align-items-center lrv-u-justify-content-center lrv-u-background-color-grey-lightest lrv-u-border-b-1 u-border-b-0@mobile-max lrv-u-border-color-grey-light lrv-u-flex-grow-1\">\n",
       "</li>\n",
       "<li class=\"o-chart-results-list__item // a-chart-color u-width-72 u-width-55@mobile-max u-width-55@tablet-only lrv-u-flex lrv-u-flex-shrink-0 lrv-u-align-items-center lrv-u-justify-content-center lrv-u-border-b-1 u-border-b-0@mobile-max lrv-u-border-color-grey-light u-background-color-white-064@mobile-max lrv-u-flex-grow-1\">\n",
       "<span class=\"c-label a-font-primary-bold-l a-font-primary-m@mobile-max u-font-weight-normal@mobile-max lrv-u-padding-tb-050@mobile-max u-font-size-32@tablet\">\n",
       "1\n",
       "</span>\n",
       "</li>\n",
       "<li class=\"o-chart-results-list__item // a-chart-bg-color a-chart-color u-width-72 u-width-55@mobile-max u-width-55@tablet-only lrv-u-flex lrv-u-flex-shrink-0 lrv-u-align-items-center lrv-u-justify-content-center lrv-u-background-color-grey-lightest lrv-u-border-b-1 u-border-b-0@mobile-max lrv-u-border-color-grey-light lrv-u-flex-grow-1\">\n",
       "<span class=\"c-label a-font-primary-bold-l a-font-primary-m@mobile-max u-font-weight-normal@mobile-max lrv-u-padding-tb-050@mobile-max u-font-size-32@tablet\">\n",
       "1\n",
       "</span>\n",
       "</li>\n",
       "<li class=\"o-chart-results-list__item // a-chart-color u-width-72 u-width-55@mobile-max u-width-55@tablet-only lrv-u-flex lrv-u-flex-shrink-0 lrv-u-align-items-center lrv-u-justify-content-center lrv-u-border-b-1 u-border-b-0@mobile-max lrv-u-border-color-grey-light u-background-color-white-064@mobile-max lrv-u-flex-grow-1\">\n",
       "<span class=\"c-label a-font-primary-bold-l a-font-primary-m@mobile-max u-font-weight-normal@mobile-max lrv-u-padding-tb-050@mobile-max u-font-size-32@tablet\">\n",
       "9\n",
       "</span>\n",
       "</li>\n",
       "</ul>\n",
       "</li>\n",
       "</ul>\n",
       "</li>\n",
       "</ul>"
      ]
     },
     "execution_count": 90,
     "metadata": {},
     "output_type": "execute_result"
    }
   ],
   "source": [
    "# chart_list 안에 ul 태그가 각각의 빌보드 노래/가수 정보 포함하고 있음\n",
    "# 모든 리스트를 찾고 첫번째 리스트 확인\n",
    "chart_list.find_all(\"ul\",'o-chart-results-list-row')[0]"
   ]
  },
  {
   "cell_type": "code",
   "execution_count": 91,
   "id": "694b5308",
   "metadata": {},
   "outputs": [
    {
     "data": {
      "text/plain": [
       "<h3 class=\"c-title a-no-trucate a-font-primary-bold-s u-letter-spacing-0021 u-font-size-23@tablet lrv-u-font-size-16 u-line-height-125 u-line-height-normal@mobile-max a-truncate-ellipsis u-max-width-245 u-max-width-230@tablet-only u-letter-spacing-0028@tablet\" id=\"title-of-a-story\">\n",
       "We Don't Talk About Bruno\n",
       "</h3>"
      ]
     },
     "execution_count": 91,
     "metadata": {},
     "output_type": "execute_result"
    }
   ],
   "source": [
    "# h3 태그가 노래 제목을 포함\n",
    "chart_list.find_all(\"ul\",'o-chart-results-list-row')[0].find('h3')"
   ]
  },
  {
   "cell_type": "code",
   "execution_count": 92,
   "id": "aa76b8db",
   "metadata": {},
   "outputs": [
    {
     "data": {
      "text/plain": [
       "\"\\nWe Don't Talk About Bruno\\n\""
      ]
     },
     "execution_count": 92,
     "metadata": {},
     "output_type": "execute_result"
    }
   ],
   "source": [
    "# 노래 제목은 h3의 text로 저장되있음\n",
    "chart_list.find_all(\"ul\",'o-chart-results-list-row')[0].find('h3').text"
   ]
  },
  {
   "cell_type": "code",
   "execution_count": 93,
   "id": "f56e9c3c",
   "metadata": {},
   "outputs": [
    {
     "data": {
      "text/plain": [
       "\"We Don't Talk About Bruno\""
      ]
     },
     "execution_count": 93,
     "metadata": {},
     "output_type": "execute_result"
    }
   ],
   "source": [
    "# \\n은 필요없는 문자임으로 replace()를 통해 제거\n",
    "chart_list.find_all(\"ul\",'o-chart-results-list-row')[0].find('h3').text.replace(\"\\n\",'')"
   ]
  },
  {
   "cell_type": "code",
   "execution_count": 94,
   "id": "671dc944",
   "metadata": {},
   "outputs": [
    {
     "data": {
      "text/plain": [
       "[<span class=\"c-label a-font-primary-bold-l u-font-size-32@tablet u-letter-spacing-0080@tablet\">\n",
       " 1\n",
       " </span>,\n",
       " <span class=\"c-label a-no-trucate a-font-primary-s lrv-u-font-size-14@mobile-max u-line-height-normal@mobile-max u-letter-spacing-0021 lrv-u-display-block a-truncate-ellipsis-2line u-max-width-330 u-max-width-230@tablet-only u-font-size-20@tablet\">\n",
       " Carolina Gaitan, Mauro Castillo, Adassa, Rhenzy Feliz, Diane Guerrero, Stephanie Beatriz &amp; Encanto Cast\n",
       " </span>,\n",
       " <span class=\"c-label a-font-primary-bold-l a-font-primary-m@mobile-max u-font-weight-normal@mobile-max lrv-u-padding-tb-050@mobile-max u-font-size-32@tablet\">\n",
       " 1\n",
       " </span>,\n",
       " <span class=\"c-label a-font-primary-bold-l a-font-primary-m@mobile-max u-font-weight-normal@mobile-max lrv-u-padding-tb-050@mobile-max u-font-size-32@tablet\">\n",
       " 1\n",
       " </span>,\n",
       " <span class=\"c-label a-font-primary-bold-l a-font-primary-m@mobile-max u-font-weight-normal@mobile-max lrv-u-padding-tb-050@mobile-max u-font-size-32@tablet\">\n",
       " 9\n",
       " </span>,\n",
       " <span class=\"c-label a-font-primary-bold-l a-font-primary-m@mobile-max u-font-weight-normal@mobile-max lrv-u-padding-tb-050@mobile-max u-font-size-32@tablet\">\n",
       " 1\n",
       " </span>,\n",
       " <span class=\"c-label a-font-primary-bold-l a-font-primary-m@mobile-max u-font-weight-normal@mobile-max lrv-u-padding-tb-050@mobile-max u-font-size-32@tablet\">\n",
       " 1\n",
       " </span>,\n",
       " <span class=\"c-label a-font-primary-bold-l a-font-primary-m@mobile-max u-font-weight-normal@mobile-max lrv-u-padding-tb-050@mobile-max u-font-size-32@tablet\">\n",
       " 9\n",
       " </span>]"
      ]
     },
     "execution_count": 94,
     "metadata": {},
     "output_type": "execute_result"
    }
   ],
   "source": [
    "# 가수 정보는 span 태그안에 저장됨\n",
    "chart_list.find_all(\"ul\",'o-chart-results-list-row')[0].find_all(\"span\")"
   ]
  },
  {
   "cell_type": "code",
   "execution_count": 95,
   "id": "243406b7",
   "metadata": {},
   "outputs": [
    {
     "data": {
      "text/plain": [
       "<span class=\"c-label a-no-trucate a-font-primary-s lrv-u-font-size-14@mobile-max u-line-height-normal@mobile-max u-letter-spacing-0021 lrv-u-display-block a-truncate-ellipsis-2line u-max-width-330 u-max-width-230@tablet-only u-font-size-20@tablet\">\n",
       "Carolina Gaitan, Mauro Castillo, Adassa, Rhenzy Feliz, Diane Guerrero, Stephanie Beatriz &amp; Encanto Cast\n",
       "</span>"
      ]
     },
     "execution_count": 95,
     "metadata": {},
     "output_type": "execute_result"
    }
   ],
   "source": [
    "# 첫번째 태그는 랭킹을 포함함으로 두번째(1) span 사용\n",
    "chart_list.find_all(\"ul\",'o-chart-results-list-row')[0].find_all(\"span\")[1]"
   ]
  },
  {
   "cell_type": "code",
   "execution_count": 96,
   "id": "4cc76b29",
   "metadata": {},
   "outputs": [
    {
     "data": {
      "text/plain": [
       "'\\nCarolina Gaitan, Mauro Castillo, Adassa, Rhenzy Feliz, Diane Guerrero, Stephanie Beatriz & Encanto Cast\\n'"
      ]
     },
     "execution_count": 96,
     "metadata": {},
     "output_type": "execute_result"
    }
   ],
   "source": [
    "# 가수가 포함된 text 추출\n",
    "chart_list.find_all(\"ul\",'o-chart-results-list-row')[0].find_all(\"span\")[1].text"
   ]
  },
  {
   "cell_type": "code",
   "execution_count": 97,
   "id": "25fab032",
   "metadata": {},
   "outputs": [
    {
     "data": {
      "text/plain": [
       "'Carolina Gaitan, Mauro Castillo, Adassa, Rhenzy Feliz, Diane Guerrero, Stephanie Beatriz & Encanto Cast'"
      ]
     },
     "execution_count": 97,
     "metadata": {},
     "output_type": "execute_result"
    }
   ],
   "source": [
    "# \\n 제거\n",
    "chart_list.find_all(\"ul\",'o-chart-results-list-row')[0].find_all(\"span\")[1].text.replace(\"\\n\",'')"
   ]
  },
  {
   "cell_type": "markdown",
   "id": "db83143f",
   "metadata": {},
   "source": [
    "#### 1-100 번의 가수/제목이 잘 들어갔는지 번호를 바꿔가며 확인하기."
   ]
  },
  {
   "cell_type": "code",
   "execution_count": 98,
   "id": "713ffac4",
   "metadata": {},
   "outputs": [
    {
     "data": {
      "text/plain": [
       "\"We Don't Talk About Bruno\""
      ]
     },
     "execution_count": 98,
     "metadata": {},
     "output_type": "execute_result"
    }
   ],
   "source": [
    "chart_list.find_all(\"ul\",'o-chart-results-list-row')[0].find('h3').text.replace(\"\\n\",'')"
   ]
  },
  {
   "cell_type": "code",
   "execution_count": 101,
   "id": "92d7c037",
   "metadata": {},
   "outputs": [
    {
     "data": {
      "text/plain": [
       "'Carolina Gaitan, Mauro Castillo, Adassa, Rhenzy Feliz, Diane Guerrero, Stephanie Beatriz & Encanto Cast'"
      ]
     },
     "execution_count": 101,
     "metadata": {},
     "output_type": "execute_result"
    }
   ],
   "source": [
    "chart_list.find_all(\"ul\",'o-chart-results-list-row')[0].find_all(\"span\")[1].text.replace(\"\\n\",'')"
   ]
  },
  {
   "cell_type": "code",
   "execution_count": 99,
   "id": "2aafb52e",
   "metadata": {},
   "outputs": [
    {
     "data": {
      "text/plain": [
       "'Heat Waves'"
      ]
     },
     "execution_count": 99,
     "metadata": {},
     "output_type": "execute_result"
    }
   ],
   "source": [
    "chart_list.find_all(\"ul\",'o-chart-results-list-row')[1].find('h3').text.replace(\"\\n\",'')"
   ]
  },
  {
   "cell_type": "code",
   "execution_count": 102,
   "id": "ab518048",
   "metadata": {},
   "outputs": [
    {
     "data": {
      "text/plain": [
       "'Glass Animals'"
      ]
     },
     "execution_count": 102,
     "metadata": {},
     "output_type": "execute_result"
    }
   ],
   "source": [
    "chart_list.find_all(\"ul\",'o-chart-results-list-row')[1].find_all(\"span\")[1].text.replace(\"\\n\",'')"
   ]
  },
  {
   "cell_type": "code",
   "execution_count": 100,
   "id": "697f9176",
   "metadata": {},
   "outputs": [
    {
     "data": {
      "text/plain": [
       "'abcdefu'"
      ]
     },
     "execution_count": 100,
     "metadata": {},
     "output_type": "execute_result"
    }
   ],
   "source": [
    "chart_list.find_all(\"ul\",'o-chart-results-list-row')[2].find('h3').text.replace(\"\\n\",'')"
   ]
  },
  {
   "cell_type": "code",
   "execution_count": 103,
   "id": "81230c35",
   "metadata": {},
   "outputs": [
    {
     "data": {
      "text/plain": [
       "'GAYLE'"
      ]
     },
     "execution_count": 103,
     "metadata": {},
     "output_type": "execute_result"
    }
   ],
   "source": [
    "chart_list.find_all(\"ul\",'o-chart-results-list-row')[2].find_all(\"span\")[1].text.replace(\"\\n\",'')"
   ]
  },
  {
   "cell_type": "code",
   "execution_count": 127,
   "id": "2771d4f5",
   "metadata": {},
   "outputs": [
    {
     "data": {
      "text/plain": [
       "'HARDY'"
      ]
     },
     "execution_count": 127,
     "metadata": {},
     "output_type": "execute_result"
    }
   ],
   "source": [
    "# 예: 100번의 경우 \"NEW\"라는 단어가 포함될시 가수정보가 4번째(3) span에 들어있음\n",
    "chart_list.find_all(\"ul\",'o-chart-results-list-row')[-1].find_all(\"span\")[3].text.replace(\"\\n\",'')"
   ]
  },
  {
   "cell_type": "code",
   "execution_count": 134,
   "id": "e74b76b5",
   "metadata": {},
   "outputs": [],
   "source": [
    "song_list = []\n",
    "singer_list = []\n",
    "\n",
    "for i in range(100):\n",
    "    song_list.append(chart_list.find_all(\"ul\",'o-chart-results-list-row')[i].find('h3').text.replace(\"\\n\",''))\n",
    "    singer = chart_list.find_all(\"ul\",'o-chart-results-list-row')[i].find_all(\"span\")[1].text.replace(\"\\n\",'')\n",
    "    # \"NEW\" / \"RE_ENTRY\" 가있는 Span태그는 가수 정보가 4번째 span에 담겨있음으로 이를 변환\n",
    "    if singer == \"NEW\" or singer == \"RE-ENTRY\":\n",
    "        singer_list.append(chart_list.find_all(\"ul\",'o-chart-results-list-row')[i].find_all(\"span\")[3].text.replace(\"\\n\",''))\n",
    "    else:\n",
    "        singer_list.append(singer)"
   ]
  },
  {
   "cell_type": "code",
   "execution_count": 137,
   "id": "d4899369",
   "metadata": {},
   "outputs": [
    {
     "data": {
      "text/html": [
       "<div>\n",
       "<style scoped>\n",
       "    .dataframe tbody tr th:only-of-type {\n",
       "        vertical-align: middle;\n",
       "    }\n",
       "\n",
       "    .dataframe tbody tr th {\n",
       "        vertical-align: top;\n",
       "    }\n",
       "\n",
       "    .dataframe thead th {\n",
       "        text-align: right;\n",
       "    }\n",
       "</style>\n",
       "<table border=\"1\" class=\"dataframe\">\n",
       "  <thead>\n",
       "    <tr style=\"text-align: right;\">\n",
       "      <th></th>\n",
       "      <th>노래</th>\n",
       "      <th>가수</th>\n",
       "    </tr>\n",
       "    <tr>\n",
       "      <th>랭킹</th>\n",
       "      <th></th>\n",
       "      <th></th>\n",
       "    </tr>\n",
       "  </thead>\n",
       "  <tbody>\n",
       "    <tr>\n",
       "      <th>1</th>\n",
       "      <td>We Don't Talk About Bruno</td>\n",
       "      <td>Carolina Gaitan, Mauro Castillo, Adassa, Rhenz...</td>\n",
       "    </tr>\n",
       "    <tr>\n",
       "      <th>2</th>\n",
       "      <td>Heat Waves</td>\n",
       "      <td>Glass Animals</td>\n",
       "    </tr>\n",
       "    <tr>\n",
       "      <th>3</th>\n",
       "      <td>abcdefu</td>\n",
       "      <td>GAYLE</td>\n",
       "    </tr>\n",
       "    <tr>\n",
       "      <th>4</th>\n",
       "      <td>Easy On Me</td>\n",
       "      <td>Adele</td>\n",
       "    </tr>\n",
       "    <tr>\n",
       "      <th>5</th>\n",
       "      <td>Super Gremlin</td>\n",
       "      <td>Kodak Black</td>\n",
       "    </tr>\n",
       "    <tr>\n",
       "      <th>...</th>\n",
       "      <td>...</td>\n",
       "      <td>...</td>\n",
       "    </tr>\n",
       "    <tr>\n",
       "      <th>96</th>\n",
       "      <td>Closer</td>\n",
       "      <td>Saweetie Featuring H.E.R.</td>\n",
       "    </tr>\n",
       "    <tr>\n",
       "      <th>97</th>\n",
       "      <td>Cold December</td>\n",
       "      <td>Rod Wave</td>\n",
       "    </tr>\n",
       "    <tr>\n",
       "      <th>98</th>\n",
       "      <td>Get Into It (Yuh)</td>\n",
       "      <td>Doja Cat</td>\n",
       "    </tr>\n",
       "    <tr>\n",
       "      <th>99</th>\n",
       "      <td>All Too Well (Taylor's Version)</td>\n",
       "      <td>Taylor Swift</td>\n",
       "    </tr>\n",
       "    <tr>\n",
       "      <th>100</th>\n",
       "      <td>Give Heaven Some Hell</td>\n",
       "      <td>HARDY</td>\n",
       "    </tr>\n",
       "  </tbody>\n",
       "</table>\n",
       "<p>100 rows × 2 columns</p>\n",
       "</div>"
      ],
      "text/plain": [
       "                                  노래  \\\n",
       "랭킹                                     \n",
       "1          We Don't Talk About Bruno   \n",
       "2                         Heat Waves   \n",
       "3                            abcdefu   \n",
       "4                         Easy On Me   \n",
       "5                      Super Gremlin   \n",
       "..                               ...   \n",
       "96                            Closer   \n",
       "97                     Cold December   \n",
       "98                 Get Into It (Yuh)   \n",
       "99   All Too Well (Taylor's Version)   \n",
       "100            Give Heaven Some Hell   \n",
       "\n",
       "                                                    가수  \n",
       "랭킹                                                      \n",
       "1    Carolina Gaitan, Mauro Castillo, Adassa, Rhenz...  \n",
       "2                                        Glass Animals  \n",
       "3                                                GAYLE  \n",
       "4                                                Adele  \n",
       "5                                          Kodak Black  \n",
       "..                                                 ...  \n",
       "96                           Saweetie Featuring H.E.R.  \n",
       "97                                            Rod Wave  \n",
       "98                                            Doja Cat  \n",
       "99                                        Taylor Swift  \n",
       "100                                              HARDY  \n",
       "\n",
       "[100 rows x 2 columns]"
      ]
     },
     "execution_count": 137,
     "metadata": {},
     "output_type": "execute_result"
    }
   ],
   "source": [
    "import pandas as pd\n",
    "# 데이터프레임 만들기\n",
    "df = pd.DataFrame( {\"랭킹\":range(1,101),\"노래\":song_list, \"가수\":singer_list} )\n",
    "# 랭킹을 인덱스로 설정\n",
    "df.set_index(\"랭킹\",inplace=True)\n",
    "df"
   ]
  },
  {
   "cell_type": "code",
   "execution_count": 138,
   "id": "6d832b45",
   "metadata": {},
   "outputs": [],
   "source": [
    "# 데이터프레임 CSV파일로 저장하기\n",
    "df.to_csv('dataset/빌보드차트.csv', encoding='utf-8-sig')"
   ]
  }
 ],
 "metadata": {
  "kernelspec": {
   "display_name": "Python 3 (ipykernel)",
   "language": "python",
   "name": "python3"
  },
  "language_info": {
   "codemirror_mode": {
    "name": "ipython",
    "version": 3
   },
   "file_extension": ".py",
   "mimetype": "text/x-python",
   "name": "python",
   "nbconvert_exporter": "python",
   "pygments_lexer": "ipython3",
   "version": "3.9.7"
  }
 },
 "nbformat": 4,
 "nbformat_minor": 5
}
