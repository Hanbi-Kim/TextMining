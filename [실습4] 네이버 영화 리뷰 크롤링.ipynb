{
 "cells": [
  {
   "cell_type": "code",
   "execution_count": 1,
   "metadata": {},
   "outputs": [],
   "source": [
    "from bs4 import BeautifulSoup\n",
    "from selenium import webdriver\n",
    "import urllib.request\n",
    "import pandas as pd"
   ]
  },
  {
   "cell_type": "code",
   "execution_count": 2,
   "metadata": {},
   "outputs": [],
   "source": [
    "# 웹드라이브로 크롬브라우즈 띄운다.\n",
    "driver_path = \"driver/chromedriver.exe\"\n",
    "driver = webdriver.Chrome(executable_path=driver_path)"
   ]
  },
  {
   "cell_type": "markdown",
   "metadata": {},
   "source": [
    "# 1. 원하는 url을 입력하여 드라이버를 통해 이동시키기"
   ]
  },
  {
   "cell_type": "code",
   "execution_count": 61,
   "metadata": {},
   "outputs": [],
   "source": [
    "url_page = \"https://movie.naver.com/movie/point/af/list.naver?st=mcode&sword=191547&target=after\"\n",
    "driver.get(url_page)\n",
    "soup = BeautifulSoup(driver.page_source, \"html.parser\")"
   ]
  },
  {
   "cell_type": "code",
   "execution_count": 26,
   "metadata": {},
   "outputs": [
    {
     "data": {
      "text/plain": [
       "'배우들이 연기는 너무 잘했요'"
      ]
     },
     "execution_count": 26,
     "metadata": {},
     "output_type": "execute_result"
    }
   ],
   "source": [
    "soup.find_all(\"td\",\"title\")[1].text.split(\"\\n\\n\")[2].replace('\\n','').replace('\\t','')[:-3]"
   ]
  },
  {
   "cell_type": "code",
   "execution_count": 27,
   "metadata": {},
   "outputs": [
    {
     "name": "stdout",
     "output_type": "stream",
     "text": [
      "에마매키 때문에 끝까지 본영화\n",
      "배우들이 연기는 너무 잘했요\n",
      "재밌게봤습니다 재밌게봤습니다\n",
      "원작을 모르고 가는게 더 나을듯\n",
      "추리의 긴장감은 떨어지지만 에마 매키라는 매력적인 배우를 알게 됐다.\n",
      "뻔한 결말 뻔한 범인 초반 부분 많이 지루함\n",
      "추리하는 부분이 젤 지루했음\n",
      "쌈디가 생각나네사이몬\n",
      "나일강이 너무 웅장하고 멋있어요 ~그리고 역시 아가사 크리스티 원작을 비탕으로명배우들이 훌륭한 연기를 펼친 수작입니다\n",
      "초중반이상 너무 너무 지루하고 몰입감있는 부분은 몇십분 안됨  보다가 나오고싶은거 꾹꾹 참고 봤다\n"
     ]
    }
   ],
   "source": [
    "for i in range(len(soup.find_all(\"td\",\"title\"))):\n",
    "    print(soup.find_all(\"td\",\"title\")[i].text.split(\"\\n\\n\")[2].replace('\\n','').replace('\\t','')[:-3])"
   ]
  },
  {
   "cell_type": "code",
   "execution_count": 30,
   "metadata": {},
   "outputs": [
    {
     "data": {
      "text/plain": [
       "'9'"
      ]
     },
     "execution_count": 30,
     "metadata": {},
     "output_type": "execute_result"
    }
   ],
   "source": [
    "soup.find_all(\"td\",\"title\")[1].text.split(\"\\n\\n\")[1].split(\" 중\")[1]"
   ]
  },
  {
   "cell_type": "code",
   "execution_count": 32,
   "metadata": {},
   "outputs": [
    {
     "name": "stdout",
     "output_type": "stream",
     "text": [
      "4\n",
      "9\n",
      "9\n",
      "6\n",
      "6\n",
      "4\n",
      "4\n",
      "10\n",
      "10\n",
      "2\n"
     ]
    }
   ],
   "source": [
    "for i in range(len(soup.find_all(\"td\",\"title\"))):\n",
    "    print(soup.find_all(\"td\",\"title\")[i].text.split(\"\\n\\n\")[1].split(\" 중\")[1])"
   ]
  },
  {
   "cell_type": "code",
   "execution_count": 62,
   "metadata": {},
   "outputs": [],
   "source": [
    "review_list = [] \n",
    "point_list = []\n",
    "for i in range(len(soup.find_all(\"td\",\"title\"))):\n",
    "    review_list.append(soup.find_all(\"td\",\"title\")[i].text.split(\"\\n\\n\")[2].replace('\\n','').replace('\\t','')[:-3])\n",
    "    point_list.append(soup.find_all(\"td\",\"title\")[i].text.split(\"\\n\\n\")[1].split(\" 중\")[1])"
   ]
  },
  {
   "cell_type": "code",
   "execution_count": 63,
   "metadata": {},
   "outputs": [],
   "source": [
    "for i in range(10):\n",
    "    driver.find_element_by_class_name('pg_next').click()\n",
    "    soup = BeautifulSoup(driver.page_source, \"html.parser\")\n",
    "    for i in range(len(soup.find_all(\"td\",\"title\"))):\n",
    "        review_list.append(soup.find_all(\"td\",\"title\")[i].text.split(\"\\n\\n\")[2].replace('\\n','').replace('\\t','')[:-3])\n",
    "        point_list.append(soup.find_all(\"td\",\"title\")[i].text.split(\"\\n\\n\")[1].split(\" 중\")[1])"
   ]
  },
  {
   "cell_type": "code",
   "execution_count": 64,
   "metadata": {},
   "outputs": [],
   "source": [
    "df_review = pd.DataFrame({\"리뷰\":review_list,\"평점\":point_list})"
   ]
  },
  {
   "cell_type": "code",
   "execution_count": 65,
   "metadata": {},
   "outputs": [
    {
     "data": {
      "text/html": [
       "<div>\n",
       "<style scoped>\n",
       "    .dataframe tbody tr th:only-of-type {\n",
       "        vertical-align: middle;\n",
       "    }\n",
       "\n",
       "    .dataframe tbody tr th {\n",
       "        vertical-align: top;\n",
       "    }\n",
       "\n",
       "    .dataframe thead th {\n",
       "        text-align: right;\n",
       "    }\n",
       "</style>\n",
       "<table border=\"1\" class=\"dataframe\">\n",
       "  <thead>\n",
       "    <tr style=\"text-align: right;\">\n",
       "      <th></th>\n",
       "      <th>리뷰</th>\n",
       "      <th>평점</th>\n",
       "    </tr>\n",
       "  </thead>\n",
       "  <tbody>\n",
       "    <tr>\n",
       "      <th>0</th>\n",
       "      <td>보는 눈은 즐거웠어여~이집트 여행을 하는 느낌~근데 탐정님이 혼자만 아는 추리가 조...</td>\n",
       "      <td>6</td>\n",
       "    </tr>\n",
       "    <tr>\n",
       "      <th>1</th>\n",
       "      <td>에마매키 때문에 끝까지 본영화</td>\n",
       "      <td>4</td>\n",
       "    </tr>\n",
       "    <tr>\n",
       "      <th>2</th>\n",
       "      <td>배우들이 연기는 너무 잘했요</td>\n",
       "      <td>9</td>\n",
       "    </tr>\n",
       "    <tr>\n",
       "      <th>3</th>\n",
       "      <td>재밌게봤습니다 재밌게봤습니다</td>\n",
       "      <td>9</td>\n",
       "    </tr>\n",
       "    <tr>\n",
       "      <th>4</th>\n",
       "      <td>원작을 모르고 가는게 더 나을듯</td>\n",
       "      <td>6</td>\n",
       "    </tr>\n",
       "    <tr>\n",
       "      <th>...</th>\n",
       "      <td>...</td>\n",
       "      <td>...</td>\n",
       "    </tr>\n",
       "    <tr>\n",
       "      <th>105</th>\n",
       "      <td>추리보다 로맨스.</td>\n",
       "      <td>6</td>\n",
       "    </tr>\n",
       "    <tr>\n",
       "      <th>106</th>\n",
       "      <td>이집트 배경이 이뻐서 보기는 좋았음ㅋㅋ</td>\n",
       "      <td>4</td>\n",
       "    </tr>\n",
       "    <tr>\n",
       "      <th>107</th>\n",
       "      <td>기존 작품의 리메이크라 긴장감은 덜 했지만 이런 추리물 좋습니다.</td>\n",
       "      <td>7</td>\n",
       "    </tr>\n",
       "    <tr>\n",
       "      <th>108</th>\n",
       "      <td>지루하다. 차라리 나의 촛불을 봐라.</td>\n",
       "      <td>5</td>\n",
       "    </tr>\n",
       "    <tr>\n",
       "      <th>109</th>\n",
       "      <td>pc 쿼터제가 도입된 영화치고 제대로 된 영화를 못 봤다. 오리엔탈 특급 열차를 꽤...</td>\n",
       "      <td>4</td>\n",
       "    </tr>\n",
       "  </tbody>\n",
       "</table>\n",
       "<p>110 rows × 2 columns</p>\n",
       "</div>"
      ],
      "text/plain": [
       "                                                    리뷰 평점\n",
       "0    보는 눈은 즐거웠어여~이집트 여행을 하는 느낌~근데 탐정님이 혼자만 아는 추리가 조...  6\n",
       "1                                     에마매키 때문에 끝까지 본영화  4\n",
       "2                                      배우들이 연기는 너무 잘했요  9\n",
       "3                                      재밌게봤습니다 재밌게봤습니다  9\n",
       "4                                    원작을 모르고 가는게 더 나을듯  6\n",
       "..                                                 ... ..\n",
       "105                                          추리보다 로맨스.  6\n",
       "106                              이집트 배경이 이뻐서 보기는 좋았음ㅋㅋ  4\n",
       "107               기존 작품의 리메이크라 긴장감은 덜 했지만 이런 추리물 좋습니다.  7\n",
       "108                               지루하다. 차라리 나의 촛불을 봐라.  5\n",
       "109  pc 쿼터제가 도입된 영화치고 제대로 된 영화를 못 봤다. 오리엔탈 특급 열차를 꽤...  4\n",
       "\n",
       "[110 rows x 2 columns]"
      ]
     },
     "execution_count": 65,
     "metadata": {},
     "output_type": "execute_result"
    }
   ],
   "source": [
    "df_review"
   ]
  },
  {
   "cell_type": "code",
   "execution_count": null,
   "metadata": {},
   "outputs": [],
   "source": []
  }
 ],
 "metadata": {
  "kernelspec": {
   "display_name": "Python 3 (ipykernel)",
   "language": "python",
   "name": "python3"
  },
  "language_info": {
   "codemirror_mode": {
    "name": "ipython",
    "version": 3
   },
   "file_extension": ".py",
   "mimetype": "text/x-python",
   "name": "python",
   "nbconvert_exporter": "python",
   "pygments_lexer": "ipython3",
   "version": "3.8.5"
  }
 },
 "nbformat": 4,
 "nbformat_minor": 4
}
