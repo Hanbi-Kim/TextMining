{
 "cells": [
  {
   "cell_type": "markdown",
   "id": "141a4db9",
   "metadata": {},
   "source": [
    "# Datetime 라이브러리\n",
    "- https://docs.python.org/3/library/datetime.html"
   ]
  },
  {
   "cell_type": "markdown",
   "id": "22aa24ef",
   "metadata": {},
   "source": [
    "- timedelta : 시간 차이를 계산하는 클래스\n",
    "- time : 시간를 다룸\n",
    "- date : 날짜를 다룸\n",
    "- datetime : 시간/날짜 "
   ]
  },
  {
   "cell_type": "code",
   "execution_count": 2,
   "id": "13e4647d",
   "metadata": {},
   "outputs": [],
   "source": [
    "from datetime import datetime"
   ]
  },
  {
   "cell_type": "markdown",
   "id": "6dbc09ab",
   "metadata": {},
   "source": [
    "## 현재 날짜"
   ]
  },
  {
   "cell_type": "code",
   "execution_count": 3,
   "id": "11a3e926",
   "metadata": {},
   "outputs": [
    {
     "data": {
      "text/plain": [
       "datetime.datetime(2022, 5, 2, 19, 7, 58, 353114)"
      ]
     },
     "execution_count": 3,
     "metadata": {},
     "output_type": "execute_result"
    }
   ],
   "source": [
    "datetime.today()"
   ]
  },
  {
   "cell_type": "code",
   "execution_count": 4,
   "id": "0104fa0b",
   "metadata": {},
   "outputs": [
    {
     "data": {
      "text/plain": [
       "datetime.datetime(2022, 5, 2, 19, 8, 17, 540818)"
      ]
     },
     "execution_count": 4,
     "metadata": {},
     "output_type": "execute_result"
    }
   ],
   "source": [
    "datetime.now()"
   ]
  },
  {
   "cell_type": "markdown",
   "id": "91f4ac6d",
   "metadata": {},
   "source": [
    "## 연도/월/일 시간/분/초 추출"
   ]
  },
  {
   "cell_type": "code",
   "execution_count": 6,
   "id": "f5af7163",
   "metadata": {},
   "outputs": [
    {
     "data": {
      "text/plain": [
       "2022"
      ]
     },
     "execution_count": 6,
     "metadata": {},
     "output_type": "execute_result"
    }
   ],
   "source": [
    "datetime.now().year"
   ]
  },
  {
   "cell_type": "code",
   "execution_count": 7,
   "id": "d9201edd",
   "metadata": {},
   "outputs": [
    {
     "data": {
      "text/plain": [
       "5"
      ]
     },
     "execution_count": 7,
     "metadata": {},
     "output_type": "execute_result"
    }
   ],
   "source": [
    "datetime.now().month"
   ]
  },
  {
   "cell_type": "code",
   "execution_count": 8,
   "id": "d9e6b810",
   "metadata": {},
   "outputs": [
    {
     "data": {
      "text/plain": [
       "2"
      ]
     },
     "execution_count": 8,
     "metadata": {},
     "output_type": "execute_result"
    }
   ],
   "source": [
    "datetime.now().day"
   ]
  },
  {
   "cell_type": "code",
   "execution_count": 9,
   "id": "23ea2d2f",
   "metadata": {},
   "outputs": [
    {
     "data": {
      "text/plain": [
       "19"
      ]
     },
     "execution_count": 9,
     "metadata": {},
     "output_type": "execute_result"
    }
   ],
   "source": [
    "datetime.now().hour"
   ]
  },
  {
   "cell_type": "code",
   "execution_count": 10,
   "id": "deea747f",
   "metadata": {},
   "outputs": [
    {
     "data": {
      "text/plain": [
       "9"
      ]
     },
     "execution_count": 10,
     "metadata": {},
     "output_type": "execute_result"
    }
   ],
   "source": [
    "datetime.now().minute"
   ]
  },
  {
   "cell_type": "code",
   "execution_count": 11,
   "id": "a6c60a3f",
   "metadata": {},
   "outputs": [
    {
     "data": {
      "text/plain": [
       "12"
      ]
     },
     "execution_count": 11,
     "metadata": {},
     "output_type": "execute_result"
    }
   ],
   "source": [
    "datetime.now().second"
   ]
  },
  {
   "cell_type": "code",
   "execution_count": 12,
   "id": "ddd9105a",
   "metadata": {},
   "outputs": [
    {
     "data": {
      "text/plain": [
       "814125"
      ]
     },
     "execution_count": 12,
     "metadata": {},
     "output_type": "execute_result"
    }
   ],
   "source": [
    "datetime.now().microsecond"
   ]
  },
  {
   "cell_type": "markdown",
   "id": "8d6381c1",
   "metadata": {},
   "source": [
    "## 날짜 차이 계산"
   ]
  },
  {
   "cell_type": "code",
   "execution_count": 14,
   "id": "10e3f8f7",
   "metadata": {},
   "outputs": [],
   "source": [
    "day1 = datetime(2022,5,1)\n",
    "day2 = datetime(2022,4,13)"
   ]
  },
  {
   "cell_type": "code",
   "execution_count": 15,
   "id": "05bc61bc",
   "metadata": {},
   "outputs": [
    {
     "data": {
      "text/plain": [
       "datetime.timedelta(days=18)"
      ]
     },
     "execution_count": 15,
     "metadata": {},
     "output_type": "execute_result"
    }
   ],
   "source": [
    "day1 - day2"
   ]
  },
  {
   "cell_type": "code",
   "execution_count": 16,
   "id": "2715d786",
   "metadata": {},
   "outputs": [
    {
     "data": {
      "text/plain": [
       "18"
      ]
     },
     "execution_count": 16,
     "metadata": {},
     "output_type": "execute_result"
    }
   ],
   "source": [
    "(day1 - day2).days"
   ]
  },
  {
   "cell_type": "code",
   "execution_count": 17,
   "id": "6c3bc789",
   "metadata": {},
   "outputs": [],
   "source": [
    "from datetime import timedelta"
   ]
  },
  {
   "cell_type": "code",
   "execution_count": 19,
   "id": "5e134e05",
   "metadata": {},
   "outputs": [
    {
     "data": {
      "text/plain": [
       "datetime.datetime(2022, 8, 9, 0, 0)"
      ]
     },
     "execution_count": 19,
     "metadata": {},
     "output_type": "execute_result"
    }
   ],
   "source": [
    "day1 + timedelta(days=100)"
   ]
  },
  {
   "cell_type": "code",
   "execution_count": 20,
   "id": "7eb14a6f",
   "metadata": {},
   "outputs": [
    {
     "data": {
      "text/plain": [
       "datetime.datetime(2022, 6, 5, 0, 0)"
      ]
     },
     "execution_count": 20,
     "metadata": {},
     "output_type": "execute_result"
    }
   ],
   "source": [
    "day1 + timedelta(weeks=5)"
   ]
  },
  {
   "cell_type": "markdown",
   "id": "96ba87eb",
   "metadata": {},
   "source": [
    "## strftime\n",
    "- string from time \n",
    "- https://www.w3schools.com/python/python_datetime.asp"
   ]
  },
  {
   "cell_type": "code",
   "execution_count": 25,
   "id": "d77346e3",
   "metadata": {},
   "outputs": [
    {
     "data": {
      "text/plain": [
       "'2022-5-2'"
      ]
     },
     "execution_count": 25,
     "metadata": {},
     "output_type": "execute_result"
    }
   ],
   "source": [
    "str(datetime.now().year) +'-'+ str(datetime.now().month) +'-'+ str(datetime.now().day)"
   ]
  },
  {
   "cell_type": "code",
   "execution_count": 27,
   "id": "885a6112",
   "metadata": {},
   "outputs": [
    {
     "data": {
      "text/plain": [
       "'2022'"
      ]
     },
     "execution_count": 27,
     "metadata": {},
     "output_type": "execute_result"
    }
   ],
   "source": [
    "datetime.now().strftime(\"%Y\")"
   ]
  },
  {
   "cell_type": "code",
   "execution_count": 28,
   "id": "59f60311",
   "metadata": {},
   "outputs": [
    {
     "data": {
      "text/plain": [
       "'22'"
      ]
     },
     "execution_count": 28,
     "metadata": {},
     "output_type": "execute_result"
    }
   ],
   "source": [
    "datetime.now().strftime(\"%y\")"
   ]
  },
  {
   "cell_type": "code",
   "execution_count": 29,
   "id": "f4301968",
   "metadata": {},
   "outputs": [
    {
     "data": {
      "text/plain": [
       "'05'"
      ]
     },
     "execution_count": 29,
     "metadata": {},
     "output_type": "execute_result"
    }
   ],
   "source": [
    "datetime.now().strftime(\"%m\")"
   ]
  },
  {
   "cell_type": "code",
   "execution_count": 32,
   "id": "2ea5db4c",
   "metadata": {},
   "outputs": [
    {
     "data": {
      "text/plain": [
       "'April'"
      ]
     },
     "execution_count": 32,
     "metadata": {},
     "output_type": "execute_result"
    }
   ],
   "source": [
    "day2 = datetime(2022,4,13)\n",
    "day2.strftime(\"%B\")"
   ]
  },
  {
   "cell_type": "code",
   "execution_count": 33,
   "id": "e27e544f",
   "metadata": {},
   "outputs": [
    {
     "data": {
      "text/plain": [
       "'Apr'"
      ]
     },
     "execution_count": 33,
     "metadata": {},
     "output_type": "execute_result"
    }
   ],
   "source": [
    "day2.strftime(\"%b\")"
   ]
  },
  {
   "cell_type": "code",
   "execution_count": 34,
   "id": "9ac8334a",
   "metadata": {},
   "outputs": [
    {
     "data": {
      "text/plain": [
       "'02'"
      ]
     },
     "execution_count": 34,
     "metadata": {},
     "output_type": "execute_result"
    }
   ],
   "source": [
    "datetime.now().strftime(\"%d\")"
   ]
  },
  {
   "cell_type": "code",
   "execution_count": 35,
   "id": "38ac0e51",
   "metadata": {},
   "outputs": [
    {
     "data": {
      "text/plain": [
       "'Monday'"
      ]
     },
     "execution_count": 35,
     "metadata": {},
     "output_type": "execute_result"
    }
   ],
   "source": [
    "datetime.now().strftime(\"%A\")"
   ]
  },
  {
   "cell_type": "code",
   "execution_count": 36,
   "id": "9b40210c",
   "metadata": {},
   "outputs": [
    {
     "data": {
      "text/plain": [
       "'Mon'"
      ]
     },
     "execution_count": 36,
     "metadata": {},
     "output_type": "execute_result"
    }
   ],
   "source": [
    "datetime.now().strftime(\"%a\")"
   ]
  },
  {
   "cell_type": "code",
   "execution_count": 37,
   "id": "3197f8a4",
   "metadata": {},
   "outputs": [
    {
     "data": {
      "text/plain": [
       "'19'"
      ]
     },
     "execution_count": 37,
     "metadata": {},
     "output_type": "execute_result"
    }
   ],
   "source": [
    "datetime.now().strftime(\"%H\")"
   ]
  },
  {
   "cell_type": "code",
   "execution_count": 38,
   "id": "0fcb249a",
   "metadata": {},
   "outputs": [
    {
     "data": {
      "text/plain": [
       "'18'"
      ]
     },
     "execution_count": 38,
     "metadata": {},
     "output_type": "execute_result"
    }
   ],
   "source": [
    "datetime.now().strftime(\"%M\")"
   ]
  },
  {
   "cell_type": "code",
   "execution_count": 39,
   "id": "64264cae",
   "metadata": {},
   "outputs": [
    {
     "data": {
      "text/plain": [
       "'07'"
      ]
     },
     "execution_count": 39,
     "metadata": {},
     "output_type": "execute_result"
    }
   ],
   "source": [
    "datetime.now().strftime(\"%S\")"
   ]
  },
  {
   "cell_type": "code",
   "execution_count": 45,
   "id": "502a4d76",
   "metadata": {},
   "outputs": [
    {
     "data": {
      "text/plain": [
       "'22-May-02'"
      ]
     },
     "execution_count": 45,
     "metadata": {},
     "output_type": "execute_result"
    }
   ],
   "source": [
    "datetime.now().strftime(\"%y-%B-%d\")"
   ]
  },
  {
   "cell_type": "code",
   "execution_count": 47,
   "id": "2ab3415a",
   "metadata": {},
   "outputs": [
    {
     "data": {
      "text/plain": [
       "'02-05-2022'"
      ]
     },
     "execution_count": 47,
     "metadata": {},
     "output_type": "execute_result"
    }
   ],
   "source": [
    "datetime.now().strftime(\"%d-%m-%Y\")"
   ]
  },
  {
   "cell_type": "markdown",
   "id": "c465ef0a",
   "metadata": {},
   "source": [
    "## strptime\n",
    "- string previous time"
   ]
  },
  {
   "cell_type": "code",
   "execution_count": 57,
   "id": "1c72abb8",
   "metadata": {},
   "outputs": [],
   "source": [
    "day1 = '2022-05-02'"
   ]
  },
  {
   "cell_type": "code",
   "execution_count": 68,
   "id": "0166dd29",
   "metadata": {},
   "outputs": [
    {
     "data": {
      "text/plain": [
       "datetime.datetime(2022, 5, 2, 0, 0)"
      ]
     },
     "execution_count": 68,
     "metadata": {},
     "output_type": "execute_result"
    }
   ],
   "source": [
    "day1 = '2022.05.02.'\n",
    "datetime.strptime(day1,'%Y.%m.%d.')"
   ]
  },
  {
   "cell_type": "code",
   "execution_count": 59,
   "id": "1b634cf9",
   "metadata": {},
   "outputs": [
    {
     "data": {
      "text/plain": [
       "datetime.datetime(2022, 8, 10, 0, 0)"
      ]
     },
     "execution_count": 59,
     "metadata": {},
     "output_type": "execute_result"
    }
   ],
   "source": [
    "datetime.strptime(day1,'%Y-%m-%d') + timedelta(days=100)"
   ]
  },
  {
   "cell_type": "code",
   "execution_count": 61,
   "id": "82e16cb9",
   "metadata": {},
   "outputs": [
    {
     "data": {
      "text/plain": [
       "'Monday'"
      ]
     },
     "execution_count": 61,
     "metadata": {},
     "output_type": "execute_result"
    }
   ],
   "source": [
    "datetime.strptime(day1,'%Y-%m-%d').strftime(\"%A\")"
   ]
  },
  {
   "cell_type": "code",
   "execution_count": 63,
   "id": "105d616e",
   "metadata": {},
   "outputs": [
    {
     "data": {
      "text/plain": [
       "'Wednesday'"
      ]
     },
     "execution_count": 63,
     "metadata": {},
     "output_type": "execute_result"
    }
   ],
   "source": [
    "(datetime.strptime(day1,'%Y-%m-%d') + timedelta(days=100)).strftime(\"%A\")"
   ]
  }
 ],
 "metadata": {
  "kernelspec": {
   "display_name": "Python 3 (ipykernel)",
   "language": "python",
   "name": "python3"
  },
  "language_info": {
   "codemirror_mode": {
    "name": "ipython",
    "version": 3
   },
   "file_extension": ".py",
   "mimetype": "text/x-python",
   "name": "python",
   "nbconvert_exporter": "python",
   "pygments_lexer": "ipython3",
   "version": "3.9.7"
  }
 },
 "nbformat": 4,
 "nbformat_minor": 5
}
